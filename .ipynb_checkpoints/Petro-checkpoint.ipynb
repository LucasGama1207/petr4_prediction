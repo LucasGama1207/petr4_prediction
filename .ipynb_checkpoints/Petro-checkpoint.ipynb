{
 "cells": [
  {
   "cell_type": "markdown",
   "id": "41c47c21",
   "metadata": {},
   "source": [
    "# Goals"
   ]
  },
  {
   "cell_type": "markdown",
   "id": "3ee9d377",
   "metadata": {},
   "source": [
    "- The main goal of this project is to make a prediction of stock prices of PETR4.\n",
    "- Additionally, I would like to work with 2-month predictions in order to figure out a way to find out nice opportunities for options on this stock. PETR4 options are amidst the most traded in the world.\n",
    "- An extension to this project would be to build a bot to trade this stock."
   ]
  },
  {
   "cell_type": "markdown",
   "id": "5e4d2af5",
   "metadata": {},
   "source": [
    "## How"
   ]
  },
  {
   "cell_type": "markdown",
   "id": "1dc40f71",
   "metadata": {},
   "source": [
    "- First I'm going to make use of time series with the daily stock prices, probably LSTM or bidirectional LSTM, which are the most relevant. \n",
    "- Maybe I could try to put another variable like international price of oil or other oil stocks."
   ]
  },
  {
   "cell_type": "markdown",
   "id": "76e0900e",
   "metadata": {},
   "source": [
    "# Getting Data"
   ]
  },
  {
   "cell_type": "code",
   "execution_count": 1,
   "id": "4037ff09",
   "metadata": {},
   "outputs": [],
   "source": [
    "#!pip install yfinance"
   ]
  },
  {
   "cell_type": "code",
   "execution_count": 2,
   "id": "b5393592",
   "metadata": {},
   "outputs": [
    {
     "name": "stderr",
     "output_type": "stream",
     "text": [
      "2023-01-20 10:41:28.199591: W tensorflow/stream_executor/platform/default/dso_loader.cc:64] Could not load dynamic library 'libcudart.so.11.0'; dlerror: libcudart.so.11.0: cannot open shared object file: No such file or directory\n",
      "2023-01-20 10:41:28.199687: I tensorflow/stream_executor/cuda/cudart_stub.cc:29] Ignore above cudart dlerror if you do not have a GPU set up on your machine.\n"
     ]
    }
   ],
   "source": [
    "import yfinance as yf\n",
    "import pandas as pd\n",
    "from tensorflow.keras.models import Sequential\n",
    "from tensorflow.keras.layers import Dense, SimpleRNN, Flatten, LSTM\n",
    "from tensorflow.keras.callbacks import EarlyStopping\n",
    "import math\n",
    "from sklearn.preprocessing import MinMaxScaler \n",
    "import numpy as np\n",
    "import matplotlib.pyplot as plt"
   ]
  },
  {
   "cell_type": "code",
   "execution_count": 3,
   "id": "ff8c76dc",
   "metadata": {},
   "outputs": [
    {
     "data": {
      "text/plain": [
       "yfinance.Ticker object <PETR4.SA>"
      ]
     },
     "execution_count": 3,
     "metadata": {},
     "output_type": "execute_result"
    }
   ],
   "source": [
    "papel = yf.Ticker('PETR4.SA')\n",
    "papel"
   ]
  },
  {
   "cell_type": "code",
   "execution_count": 4,
   "id": "6eb2ad8e",
   "metadata": {},
   "outputs": [],
   "source": [
    "dados= papel.history(start= '2007-07-01', end='2022-12-29')"
   ]
  },
  {
   "cell_type": "code",
   "execution_count": 5,
   "id": "471ea214",
   "metadata": {},
   "outputs": [
    {
     "name": "stdout",
     "output_type": "stream",
     "text": [
      "<class 'pandas.core.frame.DataFrame'>\n",
      "DatetimeIndex: 3843 entries, 2007-07-02 00:00:00-03:00 to 2022-12-28 00:00:00-03:00\n",
      "Data columns (total 7 columns):\n",
      " #   Column        Non-Null Count  Dtype  \n",
      "---  ------        --------------  -----  \n",
      " 0   Open          3843 non-null   float64\n",
      " 1   High          3843 non-null   float64\n",
      " 2   Low           3843 non-null   float64\n",
      " 3   Close         3843 non-null   float64\n",
      " 4   Volume        3843 non-null   int64  \n",
      " 5   Dividends     3843 non-null   float64\n",
      " 6   Stock Splits  3843 non-null   float64\n",
      "dtypes: float64(6), int64(1)\n",
      "memory usage: 240.2 KB\n"
     ]
    }
   ],
   "source": [
    "dados.info()"
   ]
  },
  {
   "cell_type": "markdown",
   "id": "598977a9",
   "metadata": {},
   "source": [
    "# Exploratory Analysis"
   ]
  },
  {
   "cell_type": "code",
   "execution_count": 5,
   "id": "ca0c399e",
   "metadata": {},
   "outputs": [],
   "source": [
    "# Close price through the years"
   ]
  },
  {
   "cell_type": "code",
   "execution_count": 6,
   "id": "09138cb1",
   "metadata": {},
   "outputs": [
    {
     "data": {
      "text/plain": [
       "<AxesSubplot:xlabel='Date'>"
      ]
     },
     "execution_count": 6,
     "metadata": {},
     "output_type": "execute_result"
    },
    {
     "data": {
      "image/png": "[encoded data removed]",
      "text/plain": [
       "<Figure size 432x288 with 1 Axes>"
      ]
     },
     "metadata": {
      "needs_background": "light"
     },
     "output_type": "display_data"
    }
   ],
   "source": [
    "dados['Close'].plot()"
   ]
  },
  {
   "cell_type": "code",
   "execution_count": 7,
   "id": "81eb4bf7",
   "metadata": {},
   "outputs": [],
   "source": [
    "# dividend distribution"
   ]
  },
  {
   "cell_type": "code",
   "execution_count": 8,
   "id": "221818d9",
   "metadata": {},
   "outputs": [
    {
     "data": {
      "text/html": [
       "<div>\n",
       "<style scoped>\n",
       "    .dataframe tbody tr th:only-of-type {\n",
       "        vertical-align: middle;\n",
       "    }\n",
       "\n",
       "    .dataframe tbody tr th {\n",
       "        vertical-align: top;\n",
       "    }\n",
       "\n",
       "    .dataframe thead th {\n",
       "        text-align: right;\n",
       "    }\n",
       "</style>\n",
       "<table border=\"1\" class=\"dataframe\">\n",
       "  <thead>\n",
       "    <tr style=\"text-align: right;\">\n",
       "      <th></th>\n",
       "      <th>Dividends</th>\n",
       "    </tr>\n",
       "    <tr>\n",
       "      <th>Date</th>\n",
       "      <th></th>\n",
       "    </tr>\n",
       "  </thead>\n",
       "  <tbody>\n",
       "    <tr>\n",
       "      <th>2007-01-02 00:00:00-02:00</th>\n",
       "      <td>0.2250</td>\n",
       "    </tr>\n",
       "    <tr>\n",
       "      <th>2007-04-03 00:00:00-03:00</th>\n",
       "      <td>0.1750</td>\n",
       "    </tr>\n",
       "    <tr>\n",
       "      <th>2007-08-20 00:00:00-03:00</th>\n",
       "      <td>0.2517</td>\n",
       "    </tr>\n",
       "    <tr>\n",
       "      <th>2007-10-08 00:00:00-03:00</th>\n",
       "      <td>0.2565</td>\n",
       "    </tr>\n",
       "    <tr>\n",
       "      <th>2008-01-14 00:00:00-02:00</th>\n",
       "      <td>0.1553</td>\n",
       "    </tr>\n",
       "  </tbody>\n",
       "</table>\n",
       "</div>"
      ],
      "text/plain": [
       "                           Dividends\n",
       "Date                                \n",
       "2007-01-02 00:00:00-02:00     0.2250\n",
       "2007-04-03 00:00:00-03:00     0.1750\n",
       "2007-08-20 00:00:00-03:00     0.2517\n",
       "2007-10-08 00:00:00-03:00     0.2565\n",
       "2008-01-14 00:00:00-02:00     0.1553"
      ]
     },
     "execution_count": 8,
     "metadata": {},
     "output_type": "execute_result"
    }
   ],
   "source": [
    "div=dados[['Dividends']]\n",
    "div=div[div['Dividends']>0]\n",
    "div.head()"
   ]
  },
  {
   "cell_type": "code",
   "execution_count": 9,
   "id": "9d9e5e5a",
   "metadata": {},
   "outputs": [
    {
     "data": {
      "text/plain": [
       "DatetimeIndex(['2007-01-02 00:00:00-02:00', '2007-04-03 00:00:00-03:00',\n",
       "               '2007-08-20 00:00:00-03:00', '2007-10-08 00:00:00-03:00',\n",
       "               '2008-01-14 00:00:00-02:00', '2008-04-07 00:00:00-03:00',\n",
       "               '2008-12-29 00:00:00-02:00', '2009-04-09 00:00:00-03:00',\n",
       "               '2009-07-06 00:00:00-03:00', '2009-10-01 00:00:00-03:00',\n",
       "               '2009-12-21 00:00:00-02:00', '2010-04-23 00:00:00-03:00',\n",
       "               '2010-05-24 00:00:00-03:00', '2010-08-02 00:00:00-03:00',\n",
       "               '2010-11-03 00:00:00-02:00', '2010-12-22 00:00:00-02:00',\n",
       "               '2011-03-22 00:00:00-03:00', '2011-04-29 00:00:00-03:00',\n",
       "               '2011-05-12 00:00:00-03:00', '2011-08-03 00:00:00-03:00',\n",
       "               '2011-11-14 00:00:00-02:00', '2012-01-03 00:00:00-02:00',\n",
       "               '2012-03-20 00:00:00-03:00', '2012-05-14 00:00:00-03:00',\n",
       "               '2013-04-30 00:00:00-03:00', '2014-04-03 00:00:00-03:00',\n",
       "               '2018-05-22 00:00:00-03:00', '2018-08-14 00:00:00-03:00',\n",
       "               '2018-11-22 00:00:00-02:00', '2018-12-26 00:00:00-02:00',\n",
       "               '2019-04-26 00:00:00-03:00', '2019-05-22 00:00:00-03:00',\n",
       "               '2019-08-13 00:00:00-03:00', '2019-11-12 00:00:00-03:00',\n",
       "               '2019-12-27 00:00:00-03:00', '2020-04-23 00:00:00-03:00',\n",
       "               '2020-04-28 00:00:00-03:00', '2020-07-23 00:00:00-03:00',\n",
       "               '2021-04-15 00:00:00-03:00', '2021-08-17 00:00:00-03:00',\n",
       "               '2021-12-02 00:00:00-03:00', '2022-04-14 00:00:00-03:00',\n",
       "               '2022-05-24 00:00:00-03:00', '2022-08-12 00:00:00-03:00',\n",
       "               '2022-11-22 00:00:00-03:00'],\n",
       "              dtype='datetime64[ns, America/Sao_Paulo]', name='Date', freq=None)"
      ]
     },
     "execution_count": 9,
     "metadata": {},
     "output_type": "execute_result"
    }
   ],
   "source": [
    "div.index"
   ]
  },
  {
   "cell_type": "code",
   "execution_count": 10,
   "id": "b6e62334",
   "metadata": {},
   "outputs": [],
   "source": [
    "#for date in div.index:\n",
    "    #print(date)"
   ]
  },
  {
   "cell_type": "code",
   "execution_count": 11,
   "id": "7a8f6839",
   "metadata": {},
   "outputs": [
    {
     "data": {
      "text/plain": [
       "Timestamp('2007-01-02 00:00:00-0200', tz='America/Sao_Paulo')"
      ]
     },
     "execution_count": 11,
     "metadata": {},
     "output_type": "execute_result"
    }
   ],
   "source": [
    "div.index[0]"
   ]
  },
  {
   "cell_type": "code",
   "execution_count": 12,
   "id": "1f2ed465",
   "metadata": {},
   "outputs": [
    {
     "data": {
      "text/plain": [
       "157"
      ]
     },
     "execution_count": 12,
     "metadata": {},
     "output_type": "execute_result"
    }
   ],
   "source": [
    "dados.index.get_loc(div.index[2])"
   ]
  },
  {
   "cell_type": "code",
   "execution_count": 13,
   "id": "6200f710",
   "metadata": {},
   "outputs": [
    {
     "data": {
      "text/plain": [
       "157"
      ]
     },
     "execution_count": 13,
     "metadata": {},
     "output_type": "execute_result"
    }
   ],
   "source": [
    "dados.index.get_loc('2007-08-20 00:00:00-03:00')"
   ]
  },
  {
   "cell_type": "code",
   "execution_count": 14,
   "id": "11e1d370",
   "metadata": {},
   "outputs": [
    {
     "data": {
      "text/plain": [
       "Open            8.221955e+00\n",
       "High            8.241330e+00\n",
       "Low             8.031730e+00\n",
       "Close           8.149740e+00\n",
       "Volume          2.473800e+07\n",
       "Dividends       2.517000e-01\n",
       "Stock Splits    0.000000e+00\n",
       "Name: 2007-08-20 00:00:00-03:00, dtype: float64"
      ]
     },
     "execution_count": 14,
     "metadata": {},
     "output_type": "execute_result"
    }
   ],
   "source": [
    "dados.iloc[157]"
   ]
  },
  {
   "cell_type": "code",
   "execution_count": 15,
   "id": "b32985b2",
   "metadata": {},
   "outputs": [],
   "source": [
    "locations_div=[]\n",
    "for data in div.index:\n",
    "    locations_div.append(dados.index.get_loc(data))"
   ]
  },
  {
   "cell_type": "code",
   "execution_count": 16,
   "id": "f4e081cb",
   "metadata": {},
   "outputs": [],
   "source": [
    "close_div=[]\n",
    "for loc in locations_div:\n",
    "    close_div.append(dados.iloc[loc]['Close'])"
   ]
  },
  {
   "cell_type": "code",
   "execution_count": 17,
   "id": "074df7a8",
   "metadata": {},
   "outputs": [],
   "source": [
    "div['Price']=close_div"
   ]
  },
  {
   "cell_type": "code",
   "execution_count": 18,
   "id": "0701331b",
   "metadata": {},
   "outputs": [],
   "source": [
    "div['DY']=div['Dividends']/div['Price']"
   ]
  },
  {
   "cell_type": "code",
   "execution_count": 19,
   "id": "68af12c4",
   "metadata": {},
   "outputs": [
    {
     "data": {
      "text/html": [
       "<div>\n",
       "<style scoped>\n",
       "    .dataframe tbody tr th:only-of-type {\n",
       "        vertical-align: middle;\n",
       "    }\n",
       "\n",
       "    .dataframe tbody tr th {\n",
       "        vertical-align: top;\n",
       "    }\n",
       "\n",
       "    .dataframe thead th {\n",
       "        text-align: right;\n",
       "    }\n",
       "</style>\n",
       "<table border=\"1\" class=\"dataframe\">\n",
       "  <thead>\n",
       "    <tr style=\"text-align: right;\">\n",
       "      <th></th>\n",
       "      <th>Dividends</th>\n",
       "      <th>Price</th>\n",
       "      <th>DY</th>\n",
       "    </tr>\n",
       "    <tr>\n",
       "      <th>Date</th>\n",
       "      <th></th>\n",
       "      <th></th>\n",
       "      <th></th>\n",
       "    </tr>\n",
       "  </thead>\n",
       "  <tbody>\n",
       "    <tr>\n",
       "      <th>2007-01-02 00:00:00-02:00</th>\n",
       "      <td>0.225000</td>\n",
       "      <td>8.701064</td>\n",
       "      <td>0.025859</td>\n",
       "    </tr>\n",
       "    <tr>\n",
       "      <th>2007-04-03 00:00:00-03:00</th>\n",
       "      <td>0.175000</td>\n",
       "      <td>7.908744</td>\n",
       "      <td>0.022127</td>\n",
       "    </tr>\n",
       "    <tr>\n",
       "      <th>2007-08-20 00:00:00-03:00</th>\n",
       "      <td>0.251700</td>\n",
       "      <td>8.149740</td>\n",
       "      <td>0.030884</td>\n",
       "    </tr>\n",
       "    <tr>\n",
       "      <th>2007-10-08 00:00:00-03:00</th>\n",
       "      <td>0.256500</td>\n",
       "      <td>10.987377</td>\n",
       "      <td>0.023345</td>\n",
       "    </tr>\n",
       "    <tr>\n",
       "      <th>2008-01-14 00:00:00-02:00</th>\n",
       "      <td>0.155300</td>\n",
       "      <td>14.462688</td>\n",
       "      <td>0.010738</td>\n",
       "    </tr>\n",
       "    <tr>\n",
       "      <th>2008-04-07 00:00:00-03:00</th>\n",
       "      <td>0.102600</td>\n",
       "      <td>14.037206</td>\n",
       "      <td>0.007309</td>\n",
       "    </tr>\n",
       "    <tr>\n",
       "      <th>2008-12-29 00:00:00-02:00</th>\n",
       "      <td>0.042600</td>\n",
       "      <td>8.069036</td>\n",
       "      <td>0.005279</td>\n",
       "    </tr>\n",
       "    <tr>\n",
       "      <th>2009-04-09 00:00:00-03:00</th>\n",
       "      <td>0.351600</td>\n",
       "      <td>11.181715</td>\n",
       "      <td>0.031444</td>\n",
       "    </tr>\n",
       "    <tr>\n",
       "      <th>2009-07-06 00:00:00-03:00</th>\n",
       "      <td>0.300000</td>\n",
       "      <td>10.998055</td>\n",
       "      <td>0.027278</td>\n",
       "    </tr>\n",
       "    <tr>\n",
       "      <th>2009-10-01 00:00:00-03:00</th>\n",
       "      <td>0.200000</td>\n",
       "      <td>12.537810</td>\n",
       "      <td>0.015952</td>\n",
       "    </tr>\n",
       "    <tr>\n",
       "      <th>2009-12-21 00:00:00-02:00</th>\n",
       "      <td>0.200000</td>\n",
       "      <td>13.032520</td>\n",
       "      <td>0.015346</td>\n",
       "    </tr>\n",
       "    <tr>\n",
       "      <th>2010-04-23 00:00:00-03:00</th>\n",
       "      <td>0.133200</td>\n",
       "      <td>12.637945</td>\n",
       "      <td>0.010540</td>\n",
       "    </tr>\n",
       "    <tr>\n",
       "      <th>2010-05-24 00:00:00-03:00</th>\n",
       "      <td>0.170000</td>\n",
       "      <td>10.154363</td>\n",
       "      <td>0.016742</td>\n",
       "    </tr>\n",
       "    <tr>\n",
       "      <th>2010-08-02 00:00:00-03:00</th>\n",
       "      <td>0.170000</td>\n",
       "      <td>10.702162</td>\n",
       "      <td>0.015885</td>\n",
       "    </tr>\n",
       "    <tr>\n",
       "      <th>2010-11-03 00:00:00-02:00</th>\n",
       "      <td>0.140000</td>\n",
       "      <td>10.214262</td>\n",
       "      <td>0.013706</td>\n",
       "    </tr>\n",
       "    <tr>\n",
       "      <th>2010-12-22 00:00:00-02:00</th>\n",
       "      <td>0.200000</td>\n",
       "      <td>9.806134</td>\n",
       "      <td>0.020395</td>\n",
       "    </tr>\n",
       "    <tr>\n",
       "      <th>2011-03-22 00:00:00-03:00</th>\n",
       "      <td>0.173420</td>\n",
       "      <td>10.791514</td>\n",
       "      <td>0.016070</td>\n",
       "    </tr>\n",
       "    <tr>\n",
       "      <th>2011-04-29 00:00:00-03:00</th>\n",
       "      <td>0.126500</td>\n",
       "      <td>9.869990</td>\n",
       "      <td>0.012817</td>\n",
       "    </tr>\n",
       "    <tr>\n",
       "      <th>2011-05-12 00:00:00-03:00</th>\n",
       "      <td>0.213600</td>\n",
       "      <td>9.567517</td>\n",
       "      <td>0.022326</td>\n",
       "    </tr>\n",
       "    <tr>\n",
       "      <th>2011-08-03 00:00:00-03:00</th>\n",
       "      <td>0.207300</td>\n",
       "      <td>9.221042</td>\n",
       "      <td>0.022481</td>\n",
       "    </tr>\n",
       "    <tr>\n",
       "      <th>2011-11-14 00:00:00-02:00</th>\n",
       "      <td>0.200000</td>\n",
       "      <td>8.680129</td>\n",
       "      <td>0.023041</td>\n",
       "    </tr>\n",
       "    <tr>\n",
       "      <th>2012-01-03 00:00:00-02:00</th>\n",
       "      <td>0.177300</td>\n",
       "      <td>8.947166</td>\n",
       "      <td>0.019816</td>\n",
       "    </tr>\n",
       "    <tr>\n",
       "      <th>2012-03-20 00:00:00-03:00</th>\n",
       "      <td>0.124400</td>\n",
       "      <td>9.739527</td>\n",
       "      <td>0.012773</td>\n",
       "    </tr>\n",
       "    <tr>\n",
       "      <th>2012-05-14 00:00:00-03:00</th>\n",
       "      <td>0.200000</td>\n",
       "      <td>7.663025</td>\n",
       "      <td>0.026099</td>\n",
       "    </tr>\n",
       "    <tr>\n",
       "      <th>2013-04-30 00:00:00-03:00</th>\n",
       "      <td>0.386170</td>\n",
       "      <td>8.302523</td>\n",
       "      <td>0.046512</td>\n",
       "    </tr>\n",
       "    <tr>\n",
       "      <th>2014-04-03 00:00:00-03:00</th>\n",
       "      <td>0.967200</td>\n",
       "      <td>6.786125</td>\n",
       "      <td>0.142526</td>\n",
       "    </tr>\n",
       "    <tr>\n",
       "      <th>2018-05-22 00:00:00-03:00</th>\n",
       "      <td>0.050000</td>\n",
       "      <td>10.910424</td>\n",
       "      <td>0.004583</td>\n",
       "    </tr>\n",
       "    <tr>\n",
       "      <th>2018-08-14 00:00:00-03:00</th>\n",
       "      <td>0.050000</td>\n",
       "      <td>8.844011</td>\n",
       "      <td>0.005654</td>\n",
       "    </tr>\n",
       "    <tr>\n",
       "      <th>2018-11-22 00:00:00-02:00</th>\n",
       "      <td>0.100000</td>\n",
       "      <td>11.176881</td>\n",
       "      <td>0.008947</td>\n",
       "    </tr>\n",
       "    <tr>\n",
       "      <th>2018-12-26 00:00:00-02:00</th>\n",
       "      <td>0.716563</td>\n",
       "      <td>9.966169</td>\n",
       "      <td>0.071900</td>\n",
       "    </tr>\n",
       "    <tr>\n",
       "      <th>2019-04-26 00:00:00-03:00</th>\n",
       "      <td>0.019494</td>\n",
       "      <td>12.535457</td>\n",
       "      <td>0.001555</td>\n",
       "    </tr>\n",
       "    <tr>\n",
       "      <th>2019-05-22 00:00:00-03:00</th>\n",
       "      <td>0.100000</td>\n",
       "      <td>12.139669</td>\n",
       "      <td>0.008237</td>\n",
       "    </tr>\n",
       "    <tr>\n",
       "      <th>2019-08-13 00:00:00-03:00</th>\n",
       "      <td>0.200000</td>\n",
       "      <td>12.002375</td>\n",
       "      <td>0.016663</td>\n",
       "    </tr>\n",
       "    <tr>\n",
       "      <th>2019-11-12 00:00:00-03:00</th>\n",
       "      <td>0.200925</td>\n",
       "      <td>14.063768</td>\n",
       "      <td>0.014287</td>\n",
       "    </tr>\n",
       "    <tr>\n",
       "      <th>2019-12-27 00:00:00-03:00</th>\n",
       "      <td>0.421942</td>\n",
       "      <td>14.495887</td>\n",
       "      <td>0.029108</td>\n",
       "    </tr>\n",
       "    <tr>\n",
       "      <th>2020-04-23 00:00:00-03:00</th>\n",
       "      <td>0.000449</td>\n",
       "      <td>8.050848</td>\n",
       "      <td>0.000056</td>\n",
       "    </tr>\n",
       "    <tr>\n",
       "      <th>2020-04-28 00:00:00-03:00</th>\n",
       "      <td>0.000449</td>\n",
       "      <td>8.193564</td>\n",
       "      <td>0.000055</td>\n",
       "    </tr>\n",
       "    <tr>\n",
       "      <th>2020-07-23 00:00:00-03:00</th>\n",
       "      <td>0.000461</td>\n",
       "      <td>10.720721</td>\n",
       "      <td>0.000043</td>\n",
       "    </tr>\n",
       "    <tr>\n",
       "      <th>2021-04-15 00:00:00-03:00</th>\n",
       "      <td>0.792834</td>\n",
       "      <td>11.336847</td>\n",
       "      <td>0.069934</td>\n",
       "    </tr>\n",
       "    <tr>\n",
       "      <th>2021-08-17 00:00:00-03:00</th>\n",
       "      <td>1.609911</td>\n",
       "      <td>14.061769</td>\n",
       "      <td>0.114489</td>\n",
       "    </tr>\n",
       "    <tr>\n",
       "      <th>2021-12-02 00:00:00-03:00</th>\n",
       "      <td>3.250487</td>\n",
       "      <td>16.573692</td>\n",
       "      <td>0.196123</td>\n",
       "    </tr>\n",
       "    <tr>\n",
       "      <th>2022-04-14 00:00:00-03:00</th>\n",
       "      <td>2.970249</td>\n",
       "      <td>19.992018</td>\n",
       "      <td>0.148572</td>\n",
       "    </tr>\n",
       "    <tr>\n",
       "      <th>2022-05-24 00:00:00-03:00</th>\n",
       "      <td>3.715490</td>\n",
       "      <td>22.513762</td>\n",
       "      <td>0.165032</td>\n",
       "    </tr>\n",
       "    <tr>\n",
       "      <th>2022-08-12 00:00:00-03:00</th>\n",
       "      <td>6.732003</td>\n",
       "      <td>27.744591</td>\n",
       "      <td>0.242642</td>\n",
       "    </tr>\n",
       "    <tr>\n",
       "      <th>2022-11-22 00:00:00-03:00</th>\n",
       "      <td>3.348900</td>\n",
       "      <td>23.330000</td>\n",
       "      <td>0.143545</td>\n",
       "    </tr>\n",
       "  </tbody>\n",
       "</table>\n",
       "</div>"
      ],
      "text/plain": [
       "                           Dividends      Price        DY\n",
       "Date                                                     \n",
       "2007-01-02 00:00:00-02:00   0.225000   8.701064  0.025859\n",
       "2007-04-03 00:00:00-03:00   0.175000   7.908744  0.022127\n",
       "2007-08-20 00:00:00-03:00   0.251700   8.149740  0.030884\n",
       "2007-10-08 00:00:00-03:00   0.256500  10.987377  0.023345\n",
       "2008-01-14 00:00:00-02:00   0.155300  14.462688  0.010738\n",
       "2008-04-07 00:00:00-03:00   0.102600  14.037206  0.007309\n",
       "2008-12-29 00:00:00-02:00   0.042600   8.069036  0.005279\n",
       "2009-04-09 00:00:00-03:00   0.351600  11.181715  0.031444\n",
       "2009-07-06 00:00:00-03:00   0.300000  10.998055  0.027278\n",
       "2009-10-01 00:00:00-03:00   0.200000  12.537810  0.015952\n",
       "2009-12-21 00:00:00-02:00   0.200000  13.032520  0.015346\n",
       "2010-04-23 00:00:00-03:00   0.133200  12.637945  0.010540\n",
       "2010-05-24 00:00:00-03:00   0.170000  10.154363  0.016742\n",
       "2010-08-02 00:00:00-03:00   0.170000  10.702162  0.015885\n",
       "2010-11-03 00:00:00-02:00   0.140000  10.214262  0.013706\n",
       "2010-12-22 00:00:00-02:00   0.200000   9.806134  0.020395\n",
       "2011-03-22 00:00:00-03:00   0.173420  10.791514  0.016070\n",
       "2011-04-29 00:00:00-03:00   0.126500   9.869990  0.012817\n",
       "2011-05-12 00:00:00-03:00   0.213600   9.567517  0.022326\n",
       "2011-08-03 00:00:00-03:00   0.207300   9.221042  0.022481\n",
       "2011-11-14 00:00:00-02:00   0.200000   8.680129  0.023041\n",
       "2012-01-03 00:00:00-02:00   0.177300   8.947166  0.019816\n",
       "2012-03-20 00:00:00-03:00   0.124400   9.739527  0.012773\n",
       "2012-05-14 00:00:00-03:00   0.200000   7.663025  0.026099\n",
       "2013-04-30 00:00:00-03:00   0.386170   8.302523  0.046512\n",
       "2014-04-03 00:00:00-03:00   0.967200   6.786125  0.142526\n",
       "2018-05-22 00:00:00-03:00   0.050000  10.910424  0.004583\n",
       "2018-08-14 00:00:00-03:00   0.050000   8.844011  0.005654\n",
       "2018-11-22 00:00:00-02:00   0.100000  11.176881  0.008947\n",
       "2018-12-26 00:00:00-02:00   0.716563   9.966169  0.071900\n",
       "2019-04-26 00:00:00-03:00   0.019494  12.535457  0.001555\n",
       "2019-05-22 00:00:00-03:00   0.100000  12.139669  0.008237\n",
       "2019-08-13 00:00:00-03:00   0.200000  12.002375  0.016663\n",
       "2019-11-12 00:00:00-03:00   0.200925  14.063768  0.014287\n",
       "2019-12-27 00:00:00-03:00   0.421942  14.495887  0.029108\n",
       "2020-04-23 00:00:00-03:00   0.000449   8.050848  0.000056\n",
       "2020-04-28 00:00:00-03:00   0.000449   8.193564  0.000055\n",
       "2020-07-23 00:00:00-03:00   0.000461  10.720721  0.000043\n",
       "2021-04-15 00:00:00-03:00   0.792834  11.336847  0.069934\n",
       "2021-08-17 00:00:00-03:00   1.609911  14.061769  0.114489\n",
       "2021-12-02 00:00:00-03:00   3.250487  16.573692  0.196123\n",
       "2022-04-14 00:00:00-03:00   2.970249  19.992018  0.148572\n",
       "2022-05-24 00:00:00-03:00   3.715490  22.513762  0.165032\n",
       "2022-08-12 00:00:00-03:00   6.732003  27.744591  0.242642\n",
       "2022-11-22 00:00:00-03:00   3.348900  23.330000  0.143545"
      ]
     },
     "execution_count": 19,
     "metadata": {},
     "output_type": "execute_result"
    }
   ],
   "source": [
    "div"
   ]
  },
  {
   "cell_type": "code",
   "execution_count": 20,
   "id": "5306e653",
   "metadata": {},
   "outputs": [
    {
     "data": {
      "text/plain": [
       "<AxesSubplot:xlabel='Date'>"
      ]
     },
     "execution_count": 20,
     "metadata": {},
     "output_type": "execute_result"
    },
    {
     "data": {
      "image/png": "[encoded data removed]",
      "text/plain": [
       "<Figure size 432x288 with 1 Axes>"
      ]
     },
     "metadata": {
      "needs_background": "light"
     },
     "output_type": "display_data"
    }
   ],
   "source": [
    "div['DY'].plot()"
   ]
  },
  {
   "cell_type": "code",
   "execution_count": 21,
   "id": "72e57c4c",
   "metadata": {},
   "outputs": [],
   "source": [
    "#!git add .\n",
    "#!git commit -m 'petro analysis'\n",
    "#!git push origin main"
   ]
  },
  {
   "cell_type": "markdown",
   "id": "0c88dfb6",
   "metadata": {},
   "source": [
    "# Model example"
   ]
  },
  {
   "cell_type": "markdown",
   "id": "c0b7d989",
   "metadata": {},
   "source": [
    "## Previous time series project"
   ]
  },
  {
   "cell_type": "markdown",
   "id": "dd214910",
   "metadata": {},
   "source": [
    "- for information, i copied this from a previous rnn project"
   ]
  },
  {
   "cell_type": "code",
   "execution_count": 22,
   "id": "c4ff323b",
   "metadata": {},
   "outputs": [
    {
     "name": "stderr",
     "output_type": "stream",
     "text": [
      "2023-01-12 10:41:19.484069: W tensorflow/stream_executor/platform/default/dso_loader.cc:64] Could not load dynamic library 'libcudart.so.11.0'; dlerror: libcudart.so.11.0: cannot open shared object file: No such file or directory\n",
      "2023-01-12 10:41:19.484144: I tensorflow/stream_executor/cuda/cudart_stub.cc:29] Ignore above cudart dlerror if you do not have a GPU set up on your machine.\n"
     ]
    },
    {
     "name": "stdout",
     "output_type": "stream",
     "text": [
      "Model: \"sequential\"\n",
      "_________________________________________________________________\n",
      " Layer (type)                Output Shape              Param #   \n",
      "=================================================================\n",
      " simple_rnn (SimpleRNN)      (None, 20)                440       \n",
      "                                                                 \n",
      " dense (Dense)               (None, 10)                210       \n",
      "                                                                 \n",
      " dense_1 (Dense)             (None, 1)                 11        \n",
      "                                                                 \n",
      "=================================================================\n",
      "Total params: 661\n",
      "Trainable params: 661\n",
      "Non-trainable params: 0\n",
      "_________________________________________________________________\n"
     ]
    },
    {
     "name": "stderr",
     "output_type": "stream",
     "text": [
      "2023-01-12 10:41:27.458575: W tensorflow/stream_executor/platform/default/dso_loader.cc:64] Could not load dynamic library 'libcuda.so.1'; dlerror: libcuda.so.1: cannot open shared object file: No such file or directory\n",
      "2023-01-12 10:41:27.458706: W tensorflow/stream_executor/cuda/cuda_driver.cc:269] failed call to cuInit: UNKNOWN ERROR (303)\n",
      "2023-01-12 10:41:27.458916: I tensorflow/stream_executor/cuda/cuda_diagnostics.cc:156] kernel driver does not appear to be running on this host (DESKTOP-23E8V41): /proc/driver/nvidia/version does not exist\n",
      "2023-01-12 10:41:27.459227: I tensorflow/core/platform/cpu_feature_guard.cc:151] This TensorFlow binary is optimized with oneAPI Deep Neural Network Library (oneDNN) to use the following CPU instructions in performance-critical operations:  AVX2 FMA\n",
      "To enable them in other operations, rebuild TensorFlow with the appropriate compiler flags.\n"
     ]
    }
   ],
   "source": [
    "from tensorflow.keras.models import Sequential\n",
    "from tensorflow.keras.layers import Dense, SimpleRNN, Flatten, LSTM\n",
    "from tensorflow.keras.callbacks import EarlyStopping\n",
    "\n",
    "def initialize_model():\n",
    "    model = Sequential()\n",
    "    model.add(SimpleRNN(units=20,activation='tanh',input_shape=(3966, 1)))\n",
    "    model.add(Dense(10,activation='tanh'))\n",
    "    model.add(Dense(1,activation='linear'))\n",
    "    \n",
    "    return model\n",
    "\n",
    "model=initialize_model()\n",
    "model.summary()"
   ]
  },
  {
   "cell_type": "code",
   "execution_count": 23,
   "id": "bdcaca7b",
   "metadata": {},
   "outputs": [
    {
     "data": {
      "text/plain": [
       "\"\\ndef compile_model(model):\\n    model.compile(loss='mse',optimizer='rmsprop',metrics=['mae'])\\n    return model\\nmodel=compile_model(model)\\n\\nmodel = compile_model(initialize_model())\\n\\nmodel.fit(X_train,y_train, batch_size=32, epochs=30,verbose=1,validation_split=0.2,\\n          callbacks=[EarlyStopping(patience=5,restore_best_weights=True)]\\n)\\n\""
      ]
     },
     "execution_count": 23,
     "metadata": {},
     "output_type": "execute_result"
    }
   ],
   "source": [
    "'''\n",
    "def compile_model(model):\n",
    "    model.compile(loss='mse',optimizer='rmsprop',metrics=['mae'])\n",
    "    return model\n",
    "model=compile_model(model)\n",
    "\n",
    "model = compile_model(initialize_model())\n",
    "\n",
    "model.fit(X_train,y_train, batch_size=32, epochs=30,verbose=1,validation_split=0.2,\n",
    "          callbacks=[EarlyStopping(patience=5,restore_best_weights=True)]\n",
    ")\n",
    "'''"
   ]
  },
  {
   "cell_type": "markdown",
   "id": "db57b5d8",
   "metadata": {},
   "source": [
    "## LSTM for stocks"
   ]
  },
  {
   "cell_type": "markdown",
   "id": "7c0fa91d",
   "metadata": {},
   "source": [
    "- Found this on the internet. Very good base example of a LSTM stock prediction."
   ]
  },
  {
   "cell_type": "code",
   "execution_count": 24,
   "id": "9f75c4f6",
   "metadata": {},
   "outputs": [],
   "source": [
    "#https://medium.com/the-handbook-of-coding-in-finance/stock-prices-prediction-using-long-short-term-memory-lstm-model-in-python-734dd1ed6827"
   ]
  },
  {
   "cell_type": "code",
   "execution_count": 25,
   "id": "c7961d95",
   "metadata": {},
   "outputs": [],
   "source": [
    "import math\n",
    "from sklearn.preprocessing import MinMaxScaler \n",
    "import numpy as np\n",
    "\n",
    "close_prices = dados['Close']\n",
    "values = close_prices.values\n",
    "training_data_len = math.ceil(len(values)* 0.8)\n",
    "\n",
    "scaler = MinMaxScaler(feature_range=(0,1))\n",
    "scaled_data = scaler.fit_transform(values.reshape(-1,1))\n",
    "train_data = scaled_data[0: training_data_len, :]\n",
    "\n",
    "\n",
    "#train set\n",
    "\n",
    "x_train = []\n",
    "y_train = []\n",
    "\n",
    "for i in range(60, len(train_data)):\n",
    "    x_train.append(train_data[i-60:i, 0])\n",
    "    y_train.append(train_data[i, 0])\n",
    "    \n",
    "x_train, y_train = np.array(x_train), np.array(y_train)\n",
    "x_train = np.reshape(x_train, (x_train.shape[0], x_train.shape[1], 1))\n",
    "\n",
    "#test set\n",
    "test_data = scaled_data[training_data_len-60: , : ]\n",
    "x_test = []\n",
    "y_test = values[training_data_len:]\n",
    "\n",
    "for i in range(60, len(test_data)):\n",
    "  x_test.append(test_data[i-60:i, 0])\n",
    "\n",
    "x_test = np.array(x_test)\n",
    "x_test = np.reshape(x_test, (x_test.shape[0], x_test.shape[1], 1))"
   ]
  },
  {
   "cell_type": "code",
   "execution_count": 26,
   "id": "62c186ce",
   "metadata": {},
   "outputs": [
    {
     "name": "stdout",
     "output_type": "stream",
     "text": [
      "Model: \"sequential_1\"\n",
      "_________________________________________________________________\n",
      " Layer (type)                Output Shape              Param #   \n",
      "=================================================================\n",
      " lstm (LSTM)                 (None, 60, 100)           40800     \n",
      "                                                                 \n",
      " lstm_1 (LSTM)               (None, 100)               80400     \n",
      "                                                                 \n",
      " dense_2 (Dense)             (None, 25)                2525      \n",
      "                                                                 \n",
      " dense_3 (Dense)             (None, 1)                 26        \n",
      "                                                                 \n",
      "=================================================================\n",
      "Total params: 123,751\n",
      "Trainable params: 123,751\n",
      "Non-trainable params: 0\n",
      "_________________________________________________________________\n"
     ]
    }
   ],
   "source": [
    "#model\n",
    "model = Sequential()\n",
    "model.add(LSTM(100, return_sequences=True, input_shape=(x_train.shape[1], 1)))\n",
    "model.add(LSTM(100, return_sequences=False))\n",
    "model.add(Dense(25))\n",
    "model.add(Dense(1))\n",
    "model.summary()"
   ]
  },
  {
   "cell_type": "code",
   "execution_count": 27,
   "id": "a9c0318e",
   "metadata": {},
   "outputs": [
    {
     "name": "stdout",
     "output_type": "stream",
     "text": [
      "Epoch 1/3\n",
      "98/98 [==============================] - 17s 127ms/step - loss: 0.0024\n",
      "Epoch 2/3\n",
      "98/98 [==============================] - 11s 116ms/step - loss: 2.6413e-04\n",
      "Epoch 3/3\n",
      "98/98 [==============================] - 12s 117ms/step - loss: 2.5152e-04\n"
     ]
    },
    {
     "data": {
      "text/plain": [
       "<keras.callbacks.History at 0x7fc487b41730>"
      ]
     },
     "execution_count": 27,
     "metadata": {},
     "output_type": "execute_result"
    }
   ],
   "source": [
    "model.compile(optimizer='adam', loss='mean_squared_error')\n",
    "model.fit(x_train, y_train, batch_size= 32, epochs=3)"
   ]
  },
  {
   "cell_type": "code",
   "execution_count": 28,
   "id": "f9bdbab9",
   "metadata": {},
   "outputs": [
    {
     "data": {
      "text/plain": [
       "0.4298680535180572"
      ]
     },
     "execution_count": 28,
     "metadata": {},
     "output_type": "execute_result"
    }
   ],
   "source": [
    "predictions = model.predict(x_test)\n",
    "predictions = scaler.inverse_transform(predictions)\n",
    "rmse = np.sqrt(np.mean(predictions - y_test)**2)\n",
    "rmse"
   ]
  },
  {
   "cell_type": "code",
   "execution_count": 29,
   "id": "423939d5",
   "metadata": {},
   "outputs": [
    {
     "name": "stderr",
     "output_type": "stream",
     "text": [
      "/tmp/ipykernel_475/2686380006.py:6: SettingWithCopyWarning: \n",
      "A value is trying to be set on a copy of a slice from a DataFrame.\n",
      "Try using .loc[row_indexer,col_indexer] = value instead\n",
      "\n",
      "See the caveats in the documentation: https://pandas.pydata.org/pandas-docs/stable/user_guide/indexing.html#returning-a-view-versus-a-copy\n",
      "  validation['Predictions'] = predictions\n"
     ]
    },
    {
     "data": {
      "image/png": "[encoded data removed]",
      "text/plain": [
       "<Figure size 1152x576 with 1 Axes>"
      ]
     },
     "metadata": {
      "needs_background": "light"
     },
     "output_type": "display_data"
    }
   ],
   "source": [
    "import matplotlib.pyplot as plt\n",
    "\n",
    "data = dados.filter(['Close'])\n",
    "train = data[:training_data_len]\n",
    "validation = data[training_data_len:]\n",
    "validation['Predictions'] = predictions\n",
    "plt.figure(figsize=(16,8))\n",
    "plt.title('Model')\n",
    "plt.xlabel('Date')\n",
    "plt.ylabel('Close Price USD ($)')\n",
    "plt.plot(train)\n",
    "plt.plot(validation[['Close', 'Predictions']])\n",
    "plt.legend(['Train', 'Val', 'Predictions'], loc='lower right')\n",
    "plt.show()"
   ]
  },
  {
   "cell_type": "code",
   "execution_count": 30,
   "id": "f69472e5",
   "metadata": {},
   "outputs": [
    {
     "name": "stderr",
     "output_type": "stream",
     "text": [
      "/tmp/ipykernel_475/1626216995.py:4: SettingWithCopyWarning: \n",
      "A value is trying to be set on a copy of a slice from a DataFrame.\n",
      "Try using .loc[row_indexer,col_indexer] = value instead\n",
      "\n",
      "See the caveats in the documentation: https://pandas.pydata.org/pandas-docs/stable/user_guide/indexing.html#returning-a-view-versus-a-copy\n",
      "  validation['Predictions'] = predictions\n"
     ]
    },
    {
     "data": {
      "image/png": "[encoded data removed]",
      "text/plain": [
       "<Figure size 1152x576 with 1 Axes>"
      ]
     },
     "metadata": {
      "needs_background": "light"
     },
     "output_type": "display_data"
    }
   ],
   "source": [
    "data = dados.filter(['Close'])\n",
    "#train = data[:training_data_len]\n",
    "validation = data[training_data_len:]\n",
    "validation['Predictions'] = predictions\n",
    "plt.figure(figsize=(16,8))\n",
    "plt.title('Model')\n",
    "plt.xlabel('Date')\n",
    "plt.ylabel('Close Price USD ($)')\n",
    "#plt.plot(train)\n",
    "plt.plot(validation[['Close', 'Predictions']])\n",
    "plt.legend(['Val', 'Predictions'], loc='lower right')\n",
    "plt.show()"
   ]
  },
  {
   "cell_type": "code",
   "execution_count": 31,
   "id": "b0210437",
   "metadata": {},
   "outputs": [],
   "source": [
    "#according to comments there is data leakage in the scaling process."
   ]
  },
  {
   "cell_type": "markdown",
   "id": "aefa5991",
   "metadata": {},
   "source": [
    "# Fixing Data leaking"
   ]
  },
  {
   "cell_type": "code",
   "execution_count": 13,
   "id": "da9eea0b",
   "metadata": {},
   "outputs": [],
   "source": [
    "import math\n",
    "from sklearn.preprocessing import MinMaxScaler \n",
    "import numpy as np\n",
    "\n",
    "close_prices = dados['Close']\n",
    "values = close_prices.values\n",
    "training_data_len = math.ceil(len(values)* 0.8)\n",
    "\n",
    "values=values.reshape(-1,1)\n",
    "train_values=values[0: training_data_len]\n",
    "\n",
    "scaler = MinMaxScaler(feature_range=(0,1))\n",
    "train_data = scaler.fit_transform(train_values)\n",
    "\n",
    "x_train = []\n",
    "y_train = []\n",
    "\n",
    "for i in range(60, len(train_data)):\n",
    "    x_train.append(train_data[i-60:i, 0])\n",
    "    y_train.append(train_data[i, 0])\n",
    "    \n",
    "x_train, y_train = np.array(x_train), np.array(y_train)\n",
    "x_train = np.reshape(x_train, (x_train.shape[0], x_train.shape[1], 1))"
   ]
  },
  {
   "cell_type": "code",
   "execution_count": 14,
   "id": "4f94a67b",
   "metadata": {},
   "outputs": [],
   "source": [
    "test_values=values[training_data_len-60:]\n",
    "\n",
    "test_data = scaler.transform(test_values)\n",
    "x_test = []\n",
    "y_test = values[training_data_len:]\n",
    "\n",
    "for i in range(60, len(test_data)):\n",
    "  x_test.append(test_data[i-60:i, 0])\n",
    "\n",
    "x_test = np.array(x_test)\n",
    "x_test = np.reshape(x_test, (x_test.shape[0], x_test.shape[1], 1))"
   ]
  },
  {
   "cell_type": "code",
   "execution_count": 36,
   "id": "e7755cbd",
   "metadata": {},
   "outputs": [
    {
     "data": {
      "text/plain": [
       "(793, 60, 1)"
      ]
     },
     "execution_count": 36,
     "metadata": {},
     "output_type": "execute_result"
    }
   ],
   "source": [
    "x_test.shape"
   ]
  },
  {
   "cell_type": "code",
   "execution_count": 37,
   "id": "e63f3230",
   "metadata": {},
   "outputs": [
    {
     "data": {
      "text/plain": [
       "(793, 1)"
      ]
     },
     "execution_count": 37,
     "metadata": {},
     "output_type": "execute_result"
    }
   ],
   "source": [
    "y_test.shape"
   ]
  },
  {
   "cell_type": "code",
   "execution_count": 38,
   "id": "11b397d9",
   "metadata": {},
   "outputs": [
    {
     "name": "stdout",
     "output_type": "stream",
     "text": [
      "Epoch 1/3\n",
      "98/98 [==============================] - 18s 140ms/step - loss: 0.0062\n",
      "Epoch 2/3\n",
      "98/98 [==============================] - 12s 119ms/step - loss: 8.9274e-04\n",
      "Epoch 3/3\n",
      "98/98 [==============================] - 12s 118ms/step - loss: 8.2907e-04\n"
     ]
    },
    {
     "data": {
      "text/plain": [
       "<keras.callbacks.History at 0x7fc484155160>"
      ]
     },
     "execution_count": 38,
     "metadata": {},
     "output_type": "execute_result"
    }
   ],
   "source": [
    "model = Sequential()\n",
    "model.add(LSTM(100, return_sequences=True, input_shape=(x_train.shape[1], 1)))\n",
    "model.add(LSTM(100, return_sequences=False))\n",
    "model.add(Dense(25))\n",
    "model.add(Dense(1))\n",
    "\n",
    "model.compile(optimizer='adam', loss='mean_squared_error')\n",
    "model.fit(x_train, y_train, batch_size= 32, epochs=3)"
   ]
  },
  {
   "cell_type": "code",
   "execution_count": 39,
   "id": "a611688d",
   "metadata": {},
   "outputs": [
    {
     "data": {
      "text/plain": [
       "0.3701809694306998"
      ]
     },
     "execution_count": 39,
     "metadata": {},
     "output_type": "execute_result"
    }
   ],
   "source": [
    "predictions = model.predict(x_test)\n",
    "predictions = scaler.inverse_transform(predictions)\n",
    "rmse = np.sqrt(np.mean(predictions - y_test)**2)\n",
    "rmse"
   ]
  },
  {
   "cell_type": "code",
   "execution_count": 40,
   "id": "e6c91870",
   "metadata": {},
   "outputs": [
    {
     "name": "stderr",
     "output_type": "stream",
     "text": [
      "/tmp/ipykernel_475/4044787029.py:4: SettingWithCopyWarning: \n",
      "A value is trying to be set on a copy of a slice from a DataFrame.\n",
      "Try using .loc[row_indexer,col_indexer] = value instead\n",
      "\n",
      "See the caveats in the documentation: https://pandas.pydata.org/pandas-docs/stable/user_guide/indexing.html#returning-a-view-versus-a-copy\n",
      "  validation['Predictions'] = predictions\n"
     ]
    },
    {
     "data": {
      "image/png": "[encoded data removed]",
      "text/plain": [
       "<Figure size 1152x576 with 1 Axes>"
      ]
     },
     "metadata": {
      "needs_background": "light"
     },
     "output_type": "display_data"
    }
   ],
   "source": [
    "data = dados.filter(['Close'])\n",
    "train = data[:training_data_len]\n",
    "validation = data[training_data_len:]\n",
    "validation['Predictions'] = predictions\n",
    "plt.figure(figsize=(16,8))\n",
    "plt.title('Model')\n",
    "plt.xlabel('Date')\n",
    "plt.ylabel('Close Price USD ($)')\n",
    "plt.plot(train)\n",
    "plt.plot(validation[['Close', 'Predictions']])\n",
    "plt.legend(['Train', 'Val', 'Predictions'], loc='lower right')\n",
    "plt.show()"
   ]
  },
  {
   "cell_type": "code",
   "execution_count": 41,
   "id": "bc666b5d",
   "metadata": {},
   "outputs": [
    {
     "name": "stderr",
     "output_type": "stream",
     "text": [
      "/tmp/ipykernel_475/1626216995.py:4: SettingWithCopyWarning: \n",
      "A value is trying to be set on a copy of a slice from a DataFrame.\n",
      "Try using .loc[row_indexer,col_indexer] = value instead\n",
      "\n",
      "See the caveats in the documentation: https://pandas.pydata.org/pandas-docs/stable/user_guide/indexing.html#returning-a-view-versus-a-copy\n",
      "  validation['Predictions'] = predictions\n"
     ]
    },
    {
     "data": {
      "image/png": "[encoded data removed]",
      "text/plain": [
       "<Figure size 1152x576 with 1 Axes>"
      ]
     },
     "metadata": {
      "needs_background": "light"
     },
     "output_type": "display_data"
    }
   ],
   "source": [
    "data = dados.filter(['Close'])\n",
    "#train = data[:training_data_len]\n",
    "validation = data[training_data_len:]\n",
    "validation['Predictions'] = predictions\n",
    "plt.figure(figsize=(16,8))\n",
    "plt.title('Model')\n",
    "plt.xlabel('Date')\n",
    "plt.ylabel('Close Price USD ($)')\n",
    "#plt.plot(train)\n",
    "plt.plot(validation[['Close', 'Predictions']])\n",
    "plt.legend(['Val', 'Predictions'], loc='lower right')\n",
    "plt.show()"
   ]
  },
  {
   "cell_type": "code",
   "execution_count": 42,
   "id": "7c027c47",
   "metadata": {},
   "outputs": [],
   "source": [
    "#looks the same to me. But I'd say its better to not leak data."
   ]
  },
  {
   "cell_type": "code",
   "execution_count": 43,
   "id": "2a147570",
   "metadata": {},
   "outputs": [],
   "source": [
    "#!git add .\n",
    "#!git commit -m 'first lstm pred'\n",
    "#!git push origin main"
   ]
  },
  {
   "cell_type": "markdown",
   "id": "f3e23b8f",
   "metadata": {},
   "source": [
    "# Baseline model"
   ]
  },
  {
   "cell_type": "markdown",
   "id": "9dcb27e6",
   "metadata": {},
   "source": [
    "- I've figured out how to start building up a model with LSTM\n",
    "- Now, let's find a baseline to compare how good this actually is\n",
    "- An idea of baseline is to say that the price on d+1 is going to be the same price on d+0"
   ]
  },
  {
   "cell_type": "code",
   "execution_count": 44,
   "id": "9a0287f2",
   "metadata": {},
   "outputs": [
    {
     "data": {
      "text/html": [
       "<div>\n",
       "<style scoped>\n",
       "    .dataframe tbody tr th:only-of-type {\n",
       "        vertical-align: middle;\n",
       "    }\n",
       "\n",
       "    .dataframe tbody tr th {\n",
       "        vertical-align: top;\n",
       "    }\n",
       "\n",
       "    .dataframe thead th {\n",
       "        text-align: right;\n",
       "    }\n",
       "</style>\n",
       "<table border=\"1\" class=\"dataframe\">\n",
       "  <thead>\n",
       "    <tr style=\"text-align: right;\">\n",
       "      <th></th>\n",
       "      <th>d+0</th>\n",
       "    </tr>\n",
       "  </thead>\n",
       "  <tbody>\n",
       "    <tr>\n",
       "      <th>0</th>\n",
       "      <td>12.872649</td>\n",
       "    </tr>\n",
       "    <tr>\n",
       "      <th>1</th>\n",
       "      <td>12.844728</td>\n",
       "    </tr>\n",
       "    <tr>\n",
       "      <th>2</th>\n",
       "      <td>12.923843</td>\n",
       "    </tr>\n",
       "    <tr>\n",
       "      <th>3</th>\n",
       "      <td>13.296153</td>\n",
       "    </tr>\n",
       "    <tr>\n",
       "      <th>4</th>\n",
       "      <td>13.473003</td>\n",
       "    </tr>\n",
       "    <tr>\n",
       "      <th>...</th>\n",
       "      <td>...</td>\n",
       "    </tr>\n",
       "    <tr>\n",
       "      <th>788</th>\n",
       "      <td>23.990000</td>\n",
       "    </tr>\n",
       "    <tr>\n",
       "      <th>789</th>\n",
       "      <td>25.120001</td>\n",
       "    </tr>\n",
       "    <tr>\n",
       "      <th>790</th>\n",
       "      <td>24.940001</td>\n",
       "    </tr>\n",
       "    <tr>\n",
       "      <th>791</th>\n",
       "      <td>25.110001</td>\n",
       "    </tr>\n",
       "    <tr>\n",
       "      <th>792</th>\n",
       "      <td>24.799999</td>\n",
       "    </tr>\n",
       "  </tbody>\n",
       "</table>\n",
       "<p>793 rows × 1 columns</p>\n",
       "</div>"
      ],
      "text/plain": [
       "           d+0\n",
       "0    12.872649\n",
       "1    12.844728\n",
       "2    12.923843\n",
       "3    13.296153\n",
       "4    13.473003\n",
       "..         ...\n",
       "788  23.990000\n",
       "789  25.120001\n",
       "790  24.940001\n",
       "791  25.110001\n",
       "792  24.799999\n",
       "\n",
       "[793 rows x 1 columns]"
      ]
     },
     "execution_count": 44,
     "metadata": {},
     "output_type": "execute_result"
    }
   ],
   "source": [
    "baseline = pd.DataFrame(y_test).rename(columns={0:'d+0'})\n",
    "baseline"
   ]
  },
  {
   "cell_type": "code",
   "execution_count": 45,
   "id": "5f79bec6",
   "metadata": {},
   "outputs": [],
   "source": [
    "baseline['d-1']=pd.DataFrame(dados['Close'].values[-794:-1])"
   ]
  },
  {
   "cell_type": "code",
   "execution_count": 46,
   "id": "96227fd8",
   "metadata": {},
   "outputs": [
    {
     "data": {
      "text/html": [
       "<div>\n",
       "<style scoped>\n",
       "    .dataframe tbody tr th:only-of-type {\n",
       "        vertical-align: middle;\n",
       "    }\n",
       "\n",
       "    .dataframe tbody tr th {\n",
       "        vertical-align: top;\n",
       "    }\n",
       "\n",
       "    .dataframe thead th {\n",
       "        text-align: right;\n",
       "    }\n",
       "</style>\n",
       "<table border=\"1\" class=\"dataframe\">\n",
       "  <thead>\n",
       "    <tr style=\"text-align: right;\">\n",
       "      <th></th>\n",
       "      <th>d+0</th>\n",
       "      <th>d-1</th>\n",
       "    </tr>\n",
       "  </thead>\n",
       "  <tbody>\n",
       "    <tr>\n",
       "      <th>0</th>\n",
       "      <td>12.872649</td>\n",
       "      <td>12.998303</td>\n",
       "    </tr>\n",
       "    <tr>\n",
       "      <th>1</th>\n",
       "      <td>12.844728</td>\n",
       "      <td>12.872649</td>\n",
       "    </tr>\n",
       "    <tr>\n",
       "      <th>2</th>\n",
       "      <td>12.923843</td>\n",
       "      <td>12.844728</td>\n",
       "    </tr>\n",
       "    <tr>\n",
       "      <th>3</th>\n",
       "      <td>13.296153</td>\n",
       "      <td>12.923843</td>\n",
       "    </tr>\n",
       "    <tr>\n",
       "      <th>4</th>\n",
       "      <td>13.473003</td>\n",
       "      <td>13.296153</td>\n",
       "    </tr>\n",
       "    <tr>\n",
       "      <th>...</th>\n",
       "      <td>...</td>\n",
       "      <td>...</td>\n",
       "    </tr>\n",
       "    <tr>\n",
       "      <th>788</th>\n",
       "      <td>23.990000</td>\n",
       "      <td>23.570000</td>\n",
       "    </tr>\n",
       "    <tr>\n",
       "      <th>789</th>\n",
       "      <td>25.120001</td>\n",
       "      <td>23.990000</td>\n",
       "    </tr>\n",
       "    <tr>\n",
       "      <th>790</th>\n",
       "      <td>24.940001</td>\n",
       "      <td>25.120001</td>\n",
       "    </tr>\n",
       "    <tr>\n",
       "      <th>791</th>\n",
       "      <td>25.110001</td>\n",
       "      <td>24.940001</td>\n",
       "    </tr>\n",
       "    <tr>\n",
       "      <th>792</th>\n",
       "      <td>24.799999</td>\n",
       "      <td>25.110001</td>\n",
       "    </tr>\n",
       "  </tbody>\n",
       "</table>\n",
       "<p>793 rows × 2 columns</p>\n",
       "</div>"
      ],
      "text/plain": [
       "           d+0        d-1\n",
       "0    12.872649  12.998303\n",
       "1    12.844728  12.872649\n",
       "2    12.923843  12.844728\n",
       "3    13.296153  12.923843\n",
       "4    13.473003  13.296153\n",
       "..         ...        ...\n",
       "788  23.990000  23.570000\n",
       "789  25.120001  23.990000\n",
       "790  24.940001  25.120001\n",
       "791  25.110001  24.940001\n",
       "792  24.799999  25.110001\n",
       "\n",
       "[793 rows x 2 columns]"
      ]
     },
     "execution_count": 46,
     "metadata": {},
     "output_type": "execute_result"
    }
   ],
   "source": [
    "baseline"
   ]
  },
  {
   "cell_type": "markdown",
   "id": "76007caf",
   "metadata": {},
   "source": [
    "## calculate metrics to beat"
   ]
  },
  {
   "cell_type": "code",
   "execution_count": 47,
   "id": "7355dfa6",
   "metadata": {},
   "outputs": [
    {
     "data": {
      "text/plain": [
       "0.4619846356177066"
      ]
     },
     "execution_count": 47,
     "metadata": {},
     "output_type": "execute_result"
    }
   ],
   "source": [
    "rmse_base = np.sqrt(np.mean((baseline['d+0']-baseline['d-1'])**2))\n",
    "rmse_base"
   ]
  },
  {
   "cell_type": "code",
   "execution_count": 48,
   "id": "a05d35e9",
   "metadata": {},
   "outputs": [],
   "source": [
    "#!git add .\n",
    "#!git commit -m 'baseline'\n",
    "#!git push origin main"
   ]
  },
  {
   "cell_type": "markdown",
   "id": "bc708c70",
   "metadata": {},
   "source": [
    "# Tuning the model"
   ]
  },
  {
   "cell_type": "code",
   "execution_count": 52,
   "id": "5e842f04",
   "metadata": {},
   "outputs": [
    {
     "name": "stdout",
     "output_type": "stream",
     "text": [
      "Epoch 1/30\n",
      "78/78 [==============================] - 20s 187ms/step - loss: 0.0118 - val_loss: 0.0011\n",
      "Epoch 2/30\n",
      "78/78 [==============================] - 11s 140ms/step - loss: 9.2286e-04 - val_loss: 9.8158e-04\n",
      "Epoch 3/30\n",
      "78/78 [==============================] - 10s 131ms/step - loss: 8.4345e-04 - val_loss: 8.9050e-04\n",
      "Epoch 4/30\n",
      "78/78 [==============================] - 10s 129ms/step - loss: 7.4385e-04 - val_loss: 7.7596e-04\n",
      "Epoch 5/30\n",
      "78/78 [==============================] - 10s 132ms/step - loss: 7.6381e-04 - val_loss: 8.0452e-04\n",
      "Epoch 6/30\n",
      "78/78 [==============================] - 10s 129ms/step - loss: 6.8358e-04 - val_loss: 6.4221e-04\n",
      "Epoch 7/30\n",
      "78/78 [==============================] - 10s 133ms/step - loss: 6.4111e-04 - val_loss: 6.1409e-04\n",
      "Epoch 8/30\n",
      "78/78 [==============================] - 10s 131ms/step - loss: 5.8217e-04 - val_loss: 5.6382e-04\n",
      "Epoch 9/30\n",
      "78/78 [==============================] - 10s 130ms/step - loss: 5.8851e-04 - val_loss: 6.2490e-04\n",
      "Epoch 10/30\n",
      "78/78 [==============================] - 11s 137ms/step - loss: 5.3344e-04 - val_loss: 4.7923e-04\n",
      "Epoch 11/30\n",
      "78/78 [==============================] - 11s 140ms/step - loss: 4.9170e-04 - val_loss: 5.7881e-04\n",
      "Epoch 12/30\n",
      "78/78 [==============================] - 11s 139ms/step - loss: 4.6402e-04 - val_loss: 5.2362e-04\n",
      "Epoch 13/30\n",
      "78/78 [==============================] - 12s 148ms/step - loss: 4.5469e-04 - val_loss: 7.2881e-04\n",
      "Epoch 14/30\n",
      "78/78 [==============================] - 11s 141ms/step - loss: 5.1547e-04 - val_loss: 4.1132e-04\n",
      "Epoch 15/30\n",
      "78/78 [==============================] - 10s 135ms/step - loss: 4.1175e-04 - val_loss: 3.9358e-04\n",
      "Epoch 16/30\n",
      "78/78 [==============================] - 10s 132ms/step - loss: 3.8914e-04 - val_loss: 4.0949e-04\n",
      "Epoch 17/30\n",
      "78/78 [==============================] - 10s 132ms/step - loss: 4.0024e-04 - val_loss: 3.2079e-04\n",
      "Epoch 18/30\n",
      "78/78 [==============================] - 11s 137ms/step - loss: 3.5680e-04 - val_loss: 3.5654e-04\n",
      "Epoch 19/30\n",
      "78/78 [==============================] - 11s 139ms/step - loss: 3.3919e-04 - val_loss: 4.7631e-04\n",
      "Epoch 20/30\n",
      "78/78 [==============================] - 11s 140ms/step - loss: 3.5869e-04 - val_loss: 3.3181e-04\n",
      "Epoch 21/30\n",
      "78/78 [==============================] - 11s 139ms/step - loss: 3.0231e-04 - val_loss: 2.5889e-04\n",
      "Epoch 22/30\n",
      "78/78 [==============================] - 11s 138ms/step - loss: 2.7910e-04 - val_loss: 2.6099e-04\n",
      "Epoch 23/30\n",
      "78/78 [==============================] - 10s 133ms/step - loss: 2.9920e-04 - val_loss: 2.9943e-04\n",
      "Epoch 24/30\n",
      "78/78 [==============================] - 10s 134ms/step - loss: 2.6575e-04 - val_loss: 2.3994e-04\n",
      "Epoch 25/30\n",
      "78/78 [==============================] - 11s 145ms/step - loss: 2.4778e-04 - val_loss: 2.1980e-04\n",
      "Epoch 26/30\n",
      "78/78 [==============================] - 10s 131ms/step - loss: 2.4754e-04 - val_loss: 2.1382e-04\n",
      "Epoch 27/30\n",
      "78/78 [==============================] - 10s 130ms/step - loss: 2.6407e-04 - val_loss: 4.4832e-04\n",
      "Epoch 28/30\n",
      "78/78 [==============================] - 11s 148ms/step - loss: 3.3301e-04 - val_loss: 2.1327e-04\n",
      "Epoch 29/30\n",
      "78/78 [==============================] - 12s 155ms/step - loss: 2.5821e-04 - val_loss: 2.4003e-04\n",
      "Epoch 30/30\n",
      "78/78 [==============================] - 11s 135ms/step - loss: 2.6387e-04 - val_loss: 2.9849e-04\n"
     ]
    },
    {
     "data": {
      "text/plain": [
       "<keras.callbacks.History at 0x7fb5d04daee0>"
      ]
     },
     "execution_count": 52,
     "metadata": {},
     "output_type": "execute_result"
    }
   ],
   "source": [
    "model = Sequential()\n",
    "model.add(LSTM(100, return_sequences=True, input_shape=(x_train.shape[1], 1)))\n",
    "model.add(LSTM(100, return_sequences=False))\n",
    "model.add(Dense(25))\n",
    "model.add(Dense(1))\n",
    "\n",
    "model.compile(optimizer='adam', loss='mean_squared_error')\n",
    "\n",
    "model.fit(x_train,y_train, batch_size=32, epochs=30,verbose=1,validation_split=0.2,\n",
    "          callbacks=[EarlyStopping(patience=5,restore_best_weights=True)])"
   ]
  },
  {
   "cell_type": "code",
   "execution_count": 53,
   "id": "a98f4e81",
   "metadata": {},
   "outputs": [
    {
     "data": {
      "text/plain": [
       "0.35588165249529885"
      ]
     },
     "execution_count": 53,
     "metadata": {},
     "output_type": "execute_result"
    }
   ],
   "source": [
    "predictions = model.predict(x_test)\n",
    "predictions = scaler.inverse_transform(predictions)\n",
    "rmse = np.sqrt(np.mean(predictions - y_test)**2)\n",
    "rmse"
   ]
  },
  {
   "cell_type": "code",
   "execution_count": 54,
   "id": "2f09f0d2",
   "metadata": {},
   "outputs": [
    {
     "name": "stdout",
     "output_type": "stream",
     "text": [
      "Epoch 1/100\n",
      "78/78 [==============================] - 15s 144ms/step - loss: 0.0089 - val_loss: 0.0014\n",
      "Epoch 2/100\n",
      "78/78 [==============================] - 10s 129ms/step - loss: 8.8703e-04 - val_loss: 0.0010\n",
      "Epoch 3/100\n",
      "78/78 [==============================] - 10s 129ms/step - loss: 8.5167e-04 - val_loss: 9.0434e-04\n",
      "Epoch 4/100\n",
      "78/78 [==============================] - 11s 138ms/step - loss: 7.8797e-04 - val_loss: 9.0318e-04\n",
      "Epoch 5/100\n",
      "78/78 [==============================] - 10s 131ms/step - loss: 7.2772e-04 - val_loss: 7.4551e-04\n",
      "Epoch 6/100\n",
      "78/78 [==============================] - 10s 131ms/step - loss: 6.3948e-04 - val_loss: 7.5316e-04\n",
      "Epoch 7/100\n",
      "78/78 [==============================] - 10s 130ms/step - loss: 6.7882e-04 - val_loss: 6.0381e-04\n",
      "Epoch 8/100\n",
      "78/78 [==============================] - 10s 130ms/step - loss: 5.8213e-04 - val_loss: 5.6239e-04\n",
      "Epoch 9/100\n",
      "78/78 [==============================] - 10s 131ms/step - loss: 5.4426e-04 - val_loss: 5.0237e-04\n",
      "Epoch 10/100\n",
      "78/78 [==============================] - 10s 130ms/step - loss: 5.0656e-04 - val_loss: 6.2501e-04\n",
      "Epoch 11/100\n",
      "78/78 [==============================] - 10s 129ms/step - loss: 5.5524e-04 - val_loss: 5.0266e-04\n",
      "Epoch 12/100\n",
      "78/78 [==============================] - 10s 130ms/step - loss: 4.3641e-04 - val_loss: 4.3418e-04\n",
      "Epoch 13/100\n",
      "78/78 [==============================] - 10s 131ms/step - loss: 4.1551e-04 - val_loss: 3.7272e-04\n",
      "Epoch 14/100\n",
      "78/78 [==============================] - 10s 130ms/step - loss: 3.8186e-04 - val_loss: 3.4360e-04\n",
      "Epoch 15/100\n",
      "78/78 [==============================] - 11s 140ms/step - loss: 3.8073e-04 - val_loss: 3.2211e-04\n",
      "Epoch 16/100\n",
      "78/78 [==============================] - 10s 129ms/step - loss: 3.5545e-04 - val_loss: 3.2634e-04\n",
      "Epoch 17/100\n",
      "78/78 [==============================] - 10s 131ms/step - loss: 3.1719e-04 - val_loss: 2.9220e-04\n",
      "Epoch 18/100\n",
      "78/78 [==============================] - 10s 132ms/step - loss: 3.5218e-04 - val_loss: 3.4428e-04\n",
      "Epoch 19/100\n",
      "78/78 [==============================] - 11s 138ms/step - loss: 3.0848e-04 - val_loss: 2.6857e-04\n",
      "Epoch 20/100\n",
      "78/78 [==============================] - 11s 144ms/step - loss: 2.8822e-04 - val_loss: 3.1527e-04\n",
      "Epoch 21/100\n",
      "78/78 [==============================] - 11s 135ms/step - loss: 3.5352e-04 - val_loss: 2.4300e-04\n",
      "Epoch 22/100\n",
      "78/78 [==============================] - 10s 131ms/step - loss: 2.8733e-04 - val_loss: 2.7374e-04\n",
      "Epoch 23/100\n",
      "78/78 [==============================] - 10s 131ms/step - loss: 2.6466e-04 - val_loss: 4.1409e-04\n",
      "Epoch 24/100\n",
      "78/78 [==============================] - 11s 140ms/step - loss: 2.8154e-04 - val_loss: 2.4214e-04\n",
      "Epoch 25/100\n",
      "78/78 [==============================] - 10s 129ms/step - loss: 2.5030e-04 - val_loss: 2.2583e-04\n",
      "Epoch 26/100\n",
      "78/78 [==============================] - 10s 133ms/step - loss: 2.3815e-04 - val_loss: 2.3349e-04\n",
      "Epoch 27/100\n",
      "78/78 [==============================] - 11s 139ms/step - loss: 2.4540e-04 - val_loss: 2.3834e-04\n",
      "Epoch 28/100\n",
      "78/78 [==============================] - 10s 130ms/step - loss: 2.4584e-04 - val_loss: 2.1148e-04\n",
      "Epoch 29/100\n",
      "78/78 [==============================] - 10s 129ms/step - loss: 2.4912e-04 - val_loss: 3.0036e-04\n",
      "Epoch 30/100\n",
      "78/78 [==============================] - 10s 132ms/step - loss: 2.2952e-04 - val_loss: 3.0841e-04\n",
      "Epoch 31/100\n",
      "78/78 [==============================] - 10s 128ms/step - loss: 2.3475e-04 - val_loss: 2.0939e-04\n",
      "Epoch 32/100\n",
      "78/78 [==============================] - 10s 131ms/step - loss: 2.6084e-04 - val_loss: 2.9069e-04\n",
      "Epoch 33/100\n",
      "78/78 [==============================] - 10s 128ms/step - loss: 2.4196e-04 - val_loss: 2.5660e-04\n",
      "Epoch 34/100\n",
      "78/78 [==============================] - 11s 136ms/step - loss: 2.2241e-04 - val_loss: 2.2183e-04\n",
      "Epoch 35/100\n",
      "78/78 [==============================] - 10s 131ms/step - loss: 2.5678e-04 - val_loss: 2.7818e-04\n",
      "Epoch 36/100\n",
      "78/78 [==============================] - 10s 129ms/step - loss: 2.3278e-04 - val_loss: 4.2467e-04\n"
     ]
    },
    {
     "data": {
      "text/plain": [
       "<keras.callbacks.History at 0x7fb5b82ede80>"
      ]
     },
     "execution_count": 54,
     "metadata": {},
     "output_type": "execute_result"
    }
   ],
   "source": [
    "model = Sequential()\n",
    "model.add(LSTM(100, return_sequences=True, input_shape=(x_train.shape[1], 1)))\n",
    "model.add(LSTM(100, return_sequences=False))\n",
    "model.add(Dense(25))\n",
    "model.add(Dense(1))\n",
    "\n",
    "model.compile(optimizer='adam', loss='mean_squared_error')\n",
    "\n",
    "model.fit(x_train,y_train, batch_size=32, epochs=100,verbose=1,validation_split=0.2,\n",
    "          callbacks=[EarlyStopping(patience=5,restore_best_weights=True)])"
   ]
  },
  {
   "cell_type": "code",
   "execution_count": 55,
   "id": "d7b35963",
   "metadata": {},
   "outputs": [
    {
     "data": {
      "text/plain": [
       "0.11015652648136866"
      ]
     },
     "execution_count": 55,
     "metadata": {},
     "output_type": "execute_result"
    }
   ],
   "source": [
    "predictions = model.predict(x_test)\n",
    "predictions = scaler.inverse_transform(predictions)\n",
    "rmse = np.sqrt(np.mean(predictions - y_test)**2)\n",
    "rmse"
   ]
  },
  {
   "cell_type": "code",
   "execution_count": 56,
   "id": "07ec0d4a",
   "metadata": {},
   "outputs": [
    {
     "name": "stdout",
     "output_type": "stream",
     "text": [
      "Epoch 1/30\n",
      "156/156 [==============================] - 22s 114ms/step - loss: 0.0042 - val_loss: 9.1746e-04\n",
      "Epoch 2/30\n",
      "156/156 [==============================] - 17s 107ms/step - loss: 8.2186e-04 - val_loss: 0.0012\n",
      "Epoch 3/30\n",
      "156/156 [==============================] - 17s 108ms/step - loss: 8.4441e-04 - val_loss: 6.1654e-04\n",
      "Epoch 4/30\n",
      "156/156 [==============================] - 17s 107ms/step - loss: 6.5513e-04 - val_loss: 5.4560e-04\n",
      "Epoch 5/30\n",
      "156/156 [==============================] - 17s 107ms/step - loss: 5.9395e-04 - val_loss: 5.2214e-04\n",
      "Epoch 6/30\n",
      "156/156 [==============================] - 17s 106ms/step - loss: 5.2290e-04 - val_loss: 5.4951e-04\n",
      "Epoch 7/30\n",
      "156/156 [==============================] - 17s 108ms/step - loss: 4.7423e-04 - val_loss: 7.7003e-04\n",
      "Epoch 8/30\n",
      "156/156 [==============================] - 17s 107ms/step - loss: 5.4118e-04 - val_loss: 3.5692e-04\n",
      "Epoch 9/30\n",
      "156/156 [==============================] - 17s 107ms/step - loss: 3.8944e-04 - val_loss: 3.1891e-04\n",
      "Epoch 10/30\n",
      "156/156 [==============================] - 17s 108ms/step - loss: 3.7167e-04 - val_loss: 2.8433e-04\n",
      "Epoch 11/30\n",
      "156/156 [==============================] - 17s 106ms/step - loss: 3.0791e-04 - val_loss: 2.6818e-04\n",
      "Epoch 12/30\n",
      "156/156 [==============================] - 17s 107ms/step - loss: 2.8761e-04 - val_loss: 3.5390e-04\n",
      "Epoch 13/30\n",
      "156/156 [==============================] - 17s 107ms/step - loss: 3.0784e-04 - val_loss: 2.3115e-04\n",
      "Epoch 14/30\n",
      "156/156 [==============================] - 17s 108ms/step - loss: 2.9052e-04 - val_loss: 2.6281e-04\n",
      "Epoch 15/30\n",
      "156/156 [==============================] - 17s 106ms/step - loss: 2.6920e-04 - val_loss: 2.6753e-04\n",
      "Epoch 16/30\n",
      "156/156 [==============================] - 17s 107ms/step - loss: 2.9895e-04 - val_loss: 2.1379e-04\n",
      "Epoch 17/30\n",
      "156/156 [==============================] - 17s 107ms/step - loss: 2.6055e-04 - val_loss: 2.1510e-04\n",
      "Epoch 18/30\n",
      "156/156 [==============================] - 17s 108ms/step - loss: 3.1724e-04 - val_loss: 2.5935e-04\n",
      "Epoch 19/30\n",
      "156/156 [==============================] - 17s 107ms/step - loss: 2.3922e-04 - val_loss: 2.1149e-04\n",
      "Epoch 20/30\n",
      "156/156 [==============================] - 17s 107ms/step - loss: 2.4299e-04 - val_loss: 2.0771e-04\n",
      "Epoch 21/30\n",
      "156/156 [==============================] - 17s 106ms/step - loss: 2.6597e-04 - val_loss: 3.8409e-04\n",
      "Epoch 22/30\n",
      "156/156 [==============================] - 17s 106ms/step - loss: 2.8711e-04 - val_loss: 2.3967e-04\n",
      "Epoch 23/30\n",
      "156/156 [==============================] - 17s 107ms/step - loss: 2.6820e-04 - val_loss: 2.0979e-04\n",
      "Epoch 24/30\n",
      "156/156 [==============================] - 17s 108ms/step - loss: 2.2493e-04 - val_loss: 2.7662e-04\n",
      "Epoch 25/30\n",
      "156/156 [==============================] - 17s 112ms/step - loss: 3.1345e-04 - val_loss: 2.4366e-04\n"
     ]
    },
    {
     "data": {
      "text/plain": [
       "<keras.callbacks.History at 0x7fb597d0efa0>"
      ]
     },
     "execution_count": 56,
     "metadata": {},
     "output_type": "execute_result"
    }
   ],
   "source": [
    "model = Sequential()\n",
    "model.add(LSTM(100, return_sequences=True, input_shape=(x_train.shape[1], 1)))\n",
    "model.add(LSTM(100, return_sequences=False))\n",
    "model.add(Dense(25))\n",
    "model.add(Dense(1))\n",
    "\n",
    "model.compile(optimizer='adam', loss='mean_squared_error')\n",
    "\n",
    "model.fit(x_train,y_train, batch_size=16, epochs=30,verbose=1,validation_split=0.2,\n",
    "          callbacks=[EarlyStopping(patience=5,restore_best_weights=True)])"
   ]
  },
  {
   "cell_type": "code",
   "execution_count": 57,
   "id": "683dd8ec",
   "metadata": {},
   "outputs": [
    {
     "data": {
      "text/plain": [
       "0.12226908384325526"
      ]
     },
     "execution_count": 57,
     "metadata": {},
     "output_type": "execute_result"
    }
   ],
   "source": [
    "predictions = model.predict(x_test)\n",
    "predictions = scaler.inverse_transform(predictions)\n",
    "rmse = np.sqrt(np.mean(predictions - y_test)**2)\n",
    "rmse"
   ]
  },
  {
   "cell_type": "code",
   "execution_count": 49,
   "id": "97b1c926",
   "metadata": {},
   "outputs": [
    {
     "name": "stdout",
     "output_type": "stream",
     "text": [
      "Epoch 1/100\n",
      "156/156 [==============================] - 22s 115ms/step - loss: 0.0058 - val_loss: 9.9980e-04\n",
      "Epoch 2/100\n",
      "156/156 [==============================] - 16s 105ms/step - loss: 9.0083e-04 - val_loss: 9.0247e-04\n",
      "Epoch 3/100\n",
      "156/156 [==============================] - 16s 105ms/step - loss: 8.2640e-04 - val_loss: 8.6524e-04\n",
      "Epoch 4/100\n",
      "156/156 [==============================] - 17s 108ms/step - loss: 7.3999e-04 - val_loss: 9.7815e-04\n",
      "Epoch 5/100\n",
      "156/156 [==============================] - 17s 108ms/step - loss: 7.5139e-04 - val_loss: 5.6287e-04\n",
      "Epoch 6/100\n",
      "156/156 [==============================] - 17s 109ms/step - loss: 5.9002e-04 - val_loss: 5.2592e-04\n",
      "Epoch 7/100\n",
      "156/156 [==============================] - 17s 106ms/step - loss: 5.5462e-04 - val_loss: 4.9390e-04\n",
      "Epoch 8/100\n",
      "156/156 [==============================] - 17s 109ms/step - loss: 4.6327e-04 - val_loss: 3.8415e-04\n",
      "Epoch 9/100\n",
      "156/156 [==============================] - 16s 106ms/step - loss: 4.4826e-04 - val_loss: 3.7604e-04\n",
      "Epoch 10/100\n",
      "156/156 [==============================] - 17s 108ms/step - loss: 3.6672e-04 - val_loss: 3.2985e-04\n",
      "Epoch 11/100\n",
      "156/156 [==============================] - 17s 106ms/step - loss: 3.6211e-04 - val_loss: 3.9183e-04\n",
      "Epoch 12/100\n",
      "156/156 [==============================] - 16s 105ms/step - loss: 3.8068e-04 - val_loss: 2.7267e-04\n",
      "Epoch 13/100\n",
      "156/156 [==============================] - 16s 104ms/step - loss: 3.1510e-04 - val_loss: 2.7190e-04\n",
      "Epoch 14/100\n",
      "156/156 [==============================] - 17s 112ms/step - loss: 3.0599e-04 - val_loss: 5.5249e-04\n",
      "Epoch 15/100\n",
      "156/156 [==============================] - 17s 109ms/step - loss: 3.3973e-04 - val_loss: 2.6874e-04\n",
      "Epoch 16/100\n",
      "156/156 [==============================] - 16s 105ms/step - loss: 2.6994e-04 - val_loss: 2.2101e-04\n",
      "Epoch 17/100\n",
      "156/156 [==============================] - 16s 102ms/step - loss: 3.1582e-04 - val_loss: 4.5277e-04\n",
      "Epoch 18/100\n",
      "156/156 [==============================] - 16s 103ms/step - loss: 2.4388e-04 - val_loss: 2.2354e-04\n",
      "Epoch 19/100\n",
      "156/156 [==============================] - 16s 101ms/step - loss: 2.5025e-04 - val_loss: 2.7731e-04\n",
      "Epoch 20/100\n",
      "156/156 [==============================] - 16s 102ms/step - loss: 2.5798e-04 - val_loss: 2.8514e-04\n",
      "Epoch 21/100\n",
      "156/156 [==============================] - 16s 102ms/step - loss: 2.3503e-04 - val_loss: 2.2723e-04\n"
     ]
    },
    {
     "data": {
      "text/plain": [
       "<keras.callbacks.History at 0x7fc460f361c0>"
      ]
     },
     "execution_count": 49,
     "metadata": {},
     "output_type": "execute_result"
    }
   ],
   "source": [
    "model = Sequential()\n",
    "model.add(LSTM(100, return_sequences=True, input_shape=(x_train.shape[1], 1)))\n",
    "model.add(LSTM(100, return_sequences=False))\n",
    "model.add(Dense(25))\n",
    "model.add(Dense(1))\n",
    "\n",
    "model.compile(optimizer='adam', loss='mean_squared_error')\n",
    "\n",
    "model.fit(x_train,y_train, batch_size=16, epochs=100,verbose=1,validation_split=0.2,\n",
    "          callbacks=[EarlyStopping(patience=5,restore_best_weights=True)])"
   ]
  },
  {
   "cell_type": "code",
   "execution_count": 50,
   "id": "cd069999",
   "metadata": {},
   "outputs": [
    {
     "data": {
      "text/plain": [
       "0.17183584884316444"
      ]
     },
     "execution_count": 50,
     "metadata": {},
     "output_type": "execute_result"
    }
   ],
   "source": [
    "predictions = model.predict(x_test)\n",
    "predictions = scaler.inverse_transform(predictions)\n",
    "rmse = np.sqrt(np.mean(predictions - y_test)**2)\n",
    "rmse"
   ]
  },
  {
   "cell_type": "markdown",
   "id": "577f99ab",
   "metadata": {},
   "source": [
    "## saving best model"
   ]
  },
  {
   "cell_type": "code",
   "execution_count": null,
   "id": "f672b930",
   "metadata": {},
   "outputs": [],
   "source": [
    "#saving best model"
   ]
  },
  {
   "cell_type": "code",
   "execution_count": 52,
   "id": "980e127f",
   "metadata": {},
   "outputs": [],
   "source": [
    "import pickle\n",
    "filename = 'model1.sav'\n",
    "#pickle.dump(model, open(filename, 'wb'))"
   ]
  },
  {
   "cell_type": "code",
   "execution_count": 53,
   "id": "cfcab407",
   "metadata": {},
   "outputs": [
    {
     "data": {
      "text/plain": [
       "0.000299976271909543"
      ]
     },
     "execution_count": 53,
     "metadata": {},
     "output_type": "execute_result"
    }
   ],
   "source": [
    "# load the model from disk\n",
    "loaded_model = pickle.load(open(filename, 'rb'))\n",
    "y_pred=loaded_model.predict(x_test)\n",
    "y_pred=scaler.inverse_transform(y_pred)\n",
    "rmse = np.sqrt(np.mean(y_pred - y_test)**2)\n",
    "rmse"
   ]
  },
  {
   "cell_type": "markdown",
   "id": "78ce4460",
   "metadata": {},
   "source": [
    "## plotting prediction"
   ]
  },
  {
   "cell_type": "code",
   "execution_count": 54,
   "id": "66f34be8",
   "metadata": {},
   "outputs": [
    {
     "data": {
      "text/html": [
       "<div>\n",
       "<style scoped>\n",
       "    .dataframe tbody tr th:only-of-type {\n",
       "        vertical-align: middle;\n",
       "    }\n",
       "\n",
       "    .dataframe tbody tr th {\n",
       "        vertical-align: top;\n",
       "    }\n",
       "\n",
       "    .dataframe thead th {\n",
       "        text-align: right;\n",
       "    }\n",
       "</style>\n",
       "<table border=\"1\" class=\"dataframe\">\n",
       "  <thead>\n",
       "    <tr style=\"text-align: right;\">\n",
       "      <th></th>\n",
       "      <th>actual</th>\n",
       "      <th>pred</th>\n",
       "    </tr>\n",
       "  </thead>\n",
       "  <tbody>\n",
       "    <tr>\n",
       "      <th>0</th>\n",
       "      <td>12.872649</td>\n",
       "      <td>13.046600</td>\n",
       "    </tr>\n",
       "    <tr>\n",
       "      <th>1</th>\n",
       "      <td>12.844728</td>\n",
       "      <td>12.904234</td>\n",
       "    </tr>\n",
       "    <tr>\n",
       "      <th>2</th>\n",
       "      <td>12.923843</td>\n",
       "      <td>12.879878</td>\n",
       "    </tr>\n",
       "    <tr>\n",
       "      <th>3</th>\n",
       "      <td>13.296153</td>\n",
       "      <td>12.970884</td>\n",
       "    </tr>\n",
       "    <tr>\n",
       "      <th>4</th>\n",
       "      <td>13.473003</td>\n",
       "      <td>13.368046</td>\n",
       "    </tr>\n",
       "    <tr>\n",
       "      <th>...</th>\n",
       "      <td>...</td>\n",
       "      <td>...</td>\n",
       "    </tr>\n",
       "    <tr>\n",
       "      <th>788</th>\n",
       "      <td>23.990000</td>\n",
       "      <td>23.657974</td>\n",
       "    </tr>\n",
       "    <tr>\n",
       "      <th>789</th>\n",
       "      <td>25.120001</td>\n",
       "      <td>24.065161</td>\n",
       "    </tr>\n",
       "    <tr>\n",
       "      <th>790</th>\n",
       "      <td>24.940001</td>\n",
       "      <td>25.578205</td>\n",
       "    </tr>\n",
       "    <tr>\n",
       "      <th>791</th>\n",
       "      <td>25.110001</td>\n",
       "      <td>24.542374</td>\n",
       "    </tr>\n",
       "    <tr>\n",
       "      <th>792</th>\n",
       "      <td>24.799999</td>\n",
       "      <td>25.206127</td>\n",
       "    </tr>\n",
       "  </tbody>\n",
       "</table>\n",
       "<p>793 rows × 2 columns</p>\n",
       "</div>"
      ],
      "text/plain": [
       "        actual       pred\n",
       "0    12.872649  13.046600\n",
       "1    12.844728  12.904234\n",
       "2    12.923843  12.879878\n",
       "3    13.296153  12.970884\n",
       "4    13.473003  13.368046\n",
       "..         ...        ...\n",
       "788  23.990000  23.657974\n",
       "789  25.120001  24.065161\n",
       "790  24.940001  25.578205\n",
       "791  25.110001  24.542374\n",
       "792  24.799999  25.206127\n",
       "\n",
       "[793 rows x 2 columns]"
      ]
     },
     "execution_count": 54,
     "metadata": {},
     "output_type": "execute_result"
    }
   ],
   "source": [
    "predict = pd.DataFrame(y_test).rename(columns={0:'actual'})\n",
    "predict['pred']=pd.DataFrame(y_pred)\n",
    "predict"
   ]
  },
  {
   "cell_type": "code",
   "execution_count": 55,
   "id": "c8a4313a",
   "metadata": {},
   "outputs": [
    {
     "name": "stderr",
     "output_type": "stream",
     "text": [
      "/tmp/ipykernel_475/4035412964.py:4: SettingWithCopyWarning: \n",
      "A value is trying to be set on a copy of a slice from a DataFrame.\n",
      "Try using .loc[row_indexer,col_indexer] = value instead\n",
      "\n",
      "See the caveats in the documentation: https://pandas.pydata.org/pandas-docs/stable/user_guide/indexing.html#returning-a-view-versus-a-copy\n",
      "  validation['Predictions'] = y_pred\n"
     ]
    },
    {
     "data": {
      "image/png": "[encoded data removed]",
      "text/plain": [
       "<Figure size 1152x576 with 1 Axes>"
      ]
     },
     "metadata": {
      "needs_background": "light"
     },
     "output_type": "display_data"
    }
   ],
   "source": [
    "data = dados.filter(['Close'])\n",
    "#train = data[:training_data_len]\n",
    "validation = data[training_data_len:]\n",
    "validation['Predictions'] = y_pred\n",
    "plt.figure(figsize=(16,8))\n",
    "plt.title('Model')\n",
    "plt.xlabel('Date')\n",
    "plt.ylabel('Close Price USD ($)')\n",
    "#plt.plot(train)\n",
    "plt.plot(validation[['Close', 'Predictions']])\n",
    "plt.legend(['Val', 'Predictions'], loc='lower right')\n",
    "plt.show()"
   ]
  },
  {
   "cell_type": "code",
   "execution_count": 77,
   "id": "34216b68",
   "metadata": {},
   "outputs": [],
   "source": [
    "#!git add .\n",
    "#!git commit -m 'Nice model'\n",
    "#!git push origin main"
   ]
  },
  {
   "cell_type": "markdown",
   "id": "487213f9",
   "metadata": {},
   "source": [
    "# Building up on that model"
   ]
  },
  {
   "cell_type": "code",
   "execution_count": 56,
   "id": "69a4febb",
   "metadata": {},
   "outputs": [],
   "source": [
    "#There are two things I could do right now. Change the output and increase the input data\n",
    "#Increasing the input data from 60 days to something else should be easier, so lets start by that."
   ]
  },
  {
   "cell_type": "markdown",
   "id": "0bb836c9",
   "metadata": {},
   "source": [
    "## Increasing input data"
   ]
  },
  {
   "cell_type": "code",
   "execution_count": 57,
   "id": "505070b6",
   "metadata": {},
   "outputs": [],
   "source": [
    "#Currently the model takes the 60 previous days to make a prediction of the following day.\n",
    "#This might not be enough if we think about a prediction of a week or a prediction of 2 months.\n",
    "#So lets start by making it 90 days."
   ]
  },
  {
   "cell_type": "code",
   "execution_count": 15,
   "id": "8a29163b",
   "metadata": {},
   "outputs": [],
   "source": [
    "close_prices = dados['Close']\n",
    "values = close_prices.values\n",
    "training_data_len = math.ceil(len(values)* 0.8)"
   ]
  },
  {
   "cell_type": "code",
   "execution_count": 16,
   "id": "a472a076",
   "metadata": {},
   "outputs": [
    {
     "name": "stdout",
     "output_type": "stream",
     "text": [
      "(3966,)\n"
     ]
    },
    {
     "data": {
      "text/plain": [
       "array([ 8.7010622 ,  8.43650341,  8.24802589, ..., 24.94000053,\n",
       "       25.11000061, 24.79999924])"
      ]
     },
     "execution_count": 16,
     "metadata": {},
     "output_type": "execute_result"
    }
   ],
   "source": [
    "print(values.shape)\n",
    "values"
   ]
  },
  {
   "cell_type": "code",
   "execution_count": 17,
   "id": "8fd6c3df",
   "metadata": {},
   "outputs": [
    {
     "name": "stdout",
     "output_type": "stream",
     "text": [
      "(3966, 1)\n"
     ]
    },
    {
     "data": {
      "text/plain": [
       "array([[ 8.7010622 ],\n",
       "       [ 8.43650341],\n",
       "       [ 8.24802589],\n",
       "       ...,\n",
       "       [24.94000053],\n",
       "       [25.11000061],\n",
       "       [24.79999924]])"
      ]
     },
     "execution_count": 17,
     "metadata": {},
     "output_type": "execute_result"
    }
   ],
   "source": [
    "values=values.reshape(-1,1)\n",
    "print(values.shape)\n",
    "values"
   ]
  },
  {
   "cell_type": "code",
   "execution_count": 18,
   "id": "e6eed76d",
   "metadata": {},
   "outputs": [],
   "source": [
    "train_values=values[0: training_data_len]\n",
    "#test_values=values[training_data_len:]"
   ]
  },
  {
   "cell_type": "code",
   "execution_count": 19,
   "id": "4cad90f2",
   "metadata": {},
   "outputs": [
    {
     "data": {
      "text/plain": [
       "(3173, 1)"
      ]
     },
     "execution_count": 19,
     "metadata": {},
     "output_type": "execute_result"
    }
   ],
   "source": [
    "train_values.shape"
   ]
  },
  {
   "cell_type": "code",
   "execution_count": 20,
   "id": "df282396",
   "metadata": {},
   "outputs": [],
   "source": [
    "#test_values.shape"
   ]
  },
  {
   "cell_type": "code",
   "execution_count": 21,
   "id": "820f5e36",
   "metadata": {},
   "outputs": [],
   "source": [
    "#Scaling data\n",
    "scaler = MinMaxScaler()\n",
    "train_data = scaler.fit_transform(train_values)"
   ]
  },
  {
   "cell_type": "code",
   "execution_count": 22,
   "id": "912249be",
   "metadata": {},
   "outputs": [],
   "source": [
    "#training data\n",
    "x_train = []\n",
    "y_train = []\n",
    "\n",
    "for i in range(90, len(train_data)):\n",
    "    #cada resultado i tem 90 dias pra trás como features\n",
    "    x_train.append(train_data[i-90:i, 0])\n",
    "    y_train.append(train_data[i, 0])"
   ]
  },
  {
   "cell_type": "code",
   "execution_count": 23,
   "id": "07ee4597",
   "metadata": {},
   "outputs": [
    {
     "data": {
      "text/plain": [
       "(3083, 90)"
      ]
     },
     "execution_count": 23,
     "metadata": {},
     "output_type": "execute_result"
    }
   ],
   "source": [
    "x_train, y_train = np.array(x_train), np.array(y_train)\n",
    "#x_train = np.reshape(x_train, (x_train.shape[0], x_train.shape[1], 1))\n",
    "x_train.shape #(3173-90)"
   ]
  },
  {
   "cell_type": "code",
   "execution_count": 24,
   "id": "682df5e1",
   "metadata": {},
   "outputs": [
    {
     "data": {
      "text/plain": [
       "(3083, 90, 1)"
      ]
     },
     "execution_count": 24,
     "metadata": {},
     "output_type": "execute_result"
    }
   ],
   "source": [
    "x_train = np.reshape(x_train, (x_train.shape[0], x_train.shape[1], 1)) #expand dims pra entrar no modelo\n",
    "x_train.shape"
   ]
  },
  {
   "cell_type": "code",
   "execution_count": 25,
   "id": "7630c678",
   "metadata": {},
   "outputs": [],
   "source": [
    "#test data"
   ]
  },
  {
   "cell_type": "code",
   "execution_count": 26,
   "id": "1c234e66",
   "metadata": {},
   "outputs": [],
   "source": [
    "test_values=values[training_data_len-90:] #vou precisar de 90 dias antes pra fazer o modelo\n",
    "\n",
    "test_data = scaler.transform(test_values)\n",
    "\n",
    "x_test = []\n",
    "y_test = values[training_data_len:] #shape diferente pra passar no scaler\n",
    "\n",
    "for i in range(90, len(test_data)):\n",
    "  x_test.append(test_data[i-90:i, 0])\n",
    "\n",
    "x_test = np.array(x_test)\n",
    "x_test = np.reshape(x_test, (x_test.shape[0], x_test.shape[1], 1))"
   ]
  },
  {
   "cell_type": "code",
   "execution_count": 27,
   "id": "96a3070a",
   "metadata": {},
   "outputs": [
    {
     "data": {
      "text/plain": [
       "(793, 1)"
      ]
     },
     "execution_count": 27,
     "metadata": {},
     "output_type": "execute_result"
    }
   ],
   "source": [
    "y_test.shape"
   ]
  },
  {
   "cell_type": "code",
   "execution_count": 28,
   "id": "d6a55ec4",
   "metadata": {},
   "outputs": [
    {
     "data": {
      "text/plain": [
       "(3083,)"
      ]
     },
     "execution_count": 28,
     "metadata": {},
     "output_type": "execute_result"
    }
   ],
   "source": [
    "y_train.shape"
   ]
  },
  {
   "cell_type": "code",
   "execution_count": 29,
   "id": "6f9b4f96",
   "metadata": {},
   "outputs": [
    {
     "data": {
      "text/plain": [
       "(3083, 1)"
      ]
     },
     "execution_count": 29,
     "metadata": {},
     "output_type": "execute_result"
    }
   ],
   "source": [
    "y_train_2=values[90:training_data_len]\n",
    "y_train_2.shape #both work"
   ]
  },
  {
   "cell_type": "code",
   "execution_count": 30,
   "id": "eabc5a05",
   "metadata": {},
   "outputs": [
    {
     "data": {
      "text/plain": [
       "(793, 90, 1)"
      ]
     },
     "execution_count": 30,
     "metadata": {},
     "output_type": "execute_result"
    }
   ],
   "source": [
    "x_test.shape"
   ]
  },
  {
   "cell_type": "code",
   "execution_count": null,
   "id": "22c2555c",
   "metadata": {},
   "outputs": [],
   "source": [
    "#lets run a model with more input data"
   ]
  },
  {
   "cell_type": "code",
   "execution_count": 101,
   "id": "dcff6654",
   "metadata": {},
   "outputs": [
    {
     "name": "stdout",
     "output_type": "stream",
     "text": [
      "Epoch 1/100\n",
      "155/155 [==============================] - 31s 173ms/step - loss: 0.0035 - val_loss: 9.2399e-04\n",
      "Epoch 2/100\n",
      "155/155 [==============================] - 25s 160ms/step - loss: 8.0585e-04 - val_loss: 7.3247e-04\n",
      "Epoch 3/100\n",
      "155/155 [==============================] - 25s 160ms/step - loss: 7.1075e-04 - val_loss: 0.0021\n",
      "Epoch 4/100\n",
      "155/155 [==============================] - 25s 160ms/step - loss: 6.3230e-04 - val_loss: 9.1949e-04\n",
      "Epoch 5/100\n",
      "155/155 [==============================] - 24s 153ms/step - loss: 5.2162e-04 - val_loss: 4.5046e-04\n",
      "Epoch 6/100\n",
      "155/155 [==============================] - 24s 156ms/step - loss: 4.7804e-04 - val_loss: 6.3618e-04\n",
      "Epoch 7/100\n",
      "155/155 [==============================] - 24s 153ms/step - loss: 4.6510e-04 - val_loss: 3.5192e-04\n",
      "Epoch 8/100\n",
      "155/155 [==============================] - 24s 154ms/step - loss: 3.8855e-04 - val_loss: 3.1697e-04\n",
      "Epoch 9/100\n",
      "155/155 [==============================] - 24s 152ms/step - loss: 3.8481e-04 - val_loss: 3.8900e-04\n",
      "Epoch 10/100\n",
      "155/155 [==============================] - 23s 151ms/step - loss: 3.6332e-04 - val_loss: 3.0831e-04\n",
      "Epoch 11/100\n",
      "155/155 [==============================] - 24s 153ms/step - loss: 3.2502e-04 - val_loss: 2.6323e-04\n",
      "Epoch 12/100\n",
      "155/155 [==============================] - 24s 153ms/step - loss: 3.0718e-04 - val_loss: 2.4292e-04\n",
      "Epoch 13/100\n",
      "155/155 [==============================] - 24s 155ms/step - loss: 2.8704e-04 - val_loss: 3.2875e-04\n",
      "Epoch 14/100\n",
      "155/155 [==============================] - 23s 150ms/step - loss: 2.5272e-04 - val_loss: 2.1631e-04\n",
      "Epoch 15/100\n",
      "155/155 [==============================] - 24s 156ms/step - loss: 2.5890e-04 - val_loss: 2.2174e-04\n",
      "Epoch 16/100\n",
      "155/155 [==============================] - 23s 150ms/step - loss: 2.7763e-04 - val_loss: 4.9299e-04\n",
      "Epoch 17/100\n",
      "155/155 [==============================] - 23s 149ms/step - loss: 2.7826e-04 - val_loss: 3.4813e-04\n",
      "Epoch 18/100\n",
      "155/155 [==============================] - 23s 150ms/step - loss: 3.4414e-04 - val_loss: 2.1106e-04\n",
      "Epoch 19/100\n",
      "155/155 [==============================] - 24s 156ms/step - loss: 2.7787e-04 - val_loss: 2.3390e-04\n",
      "Epoch 20/100\n",
      "155/155 [==============================] - 24s 156ms/step - loss: 2.4955e-04 - val_loss: 2.7376e-04\n",
      "Epoch 21/100\n",
      "155/155 [==============================] - 26s 166ms/step - loss: 2.3576e-04 - val_loss: 2.3448e-04\n",
      "Epoch 22/100\n",
      "155/155 [==============================] - 24s 154ms/step - loss: 2.2970e-04 - val_loss: 2.2937e-04\n",
      "Epoch 23/100\n",
      "155/155 [==============================] - 24s 158ms/step - loss: 2.7722e-04 - val_loss: 4.4403e-04\n"
     ]
    },
    {
     "data": {
      "text/plain": [
       "<keras.callbacks.History at 0x7fc42ed5db50>"
      ]
     },
     "execution_count": 101,
     "metadata": {},
     "output_type": "execute_result"
    }
   ],
   "source": [
    "model = Sequential()\n",
    "model.add(LSTM(100, return_sequences=True, input_shape=(x_train.shape[1], 1)))\n",
    "model.add(LSTM(100, return_sequences=False))\n",
    "model.add(Dense(25))\n",
    "model.add(Dense(1))\n",
    "\n",
    "model.compile(optimizer='adam', loss='mean_squared_error')\n",
    "\n",
    "model.fit(x_train,y_train, batch_size=16, epochs=100,verbose=1,validation_split=0.2,\n",
    "          callbacks=[EarlyStopping(patience=5,restore_best_weights=True)])"
   ]
  },
  {
   "cell_type": "code",
   "execution_count": 102,
   "id": "f142fa5e",
   "metadata": {},
   "outputs": [
    {
     "data": {
      "text/plain": [
       "0.13690735142288113"
      ]
     },
     "execution_count": 102,
     "metadata": {},
     "output_type": "execute_result"
    }
   ],
   "source": [
    "predictions = model.predict(x_test)\n",
    "predictions = scaler.inverse_transform(predictions)\n",
    "rmse = np.sqrt(np.mean(predictions - y_test)**2)\n",
    "rmse"
   ]
  },
  {
   "cell_type": "code",
   "execution_count": 103,
   "id": "22a073ad",
   "metadata": {},
   "outputs": [],
   "source": [
    "#ok, so making it 90 days or whatever days is pretty forward.\n",
    "#lets work on changing the output"
   ]
  },
  {
   "cell_type": "code",
   "execution_count": 167,
   "id": "4b4b4feb",
   "metadata": {},
   "outputs": [],
   "source": [
    "#!git add .\n",
    "#!git commit -m '90 days input'\n",
    "#!git push origin main"
   ]
  },
  {
   "cell_type": "markdown",
   "id": "478e4c7f",
   "metadata": {},
   "source": [
    "## Changing output"
   ]
  },
  {
   "cell_type": "code",
   "execution_count": 104,
   "id": "8319ee66",
   "metadata": {},
   "outputs": [],
   "source": [
    "#there is two ways to change the output. One is a single day in a week or a month.\n",
    "#the other is the full range of weeks. I could try that, but I think its more complicated and pointless.\n",
    "#maybe just to practice my lstm skills."
   ]
  },
  {
   "cell_type": "code",
   "execution_count": 31,
   "id": "b4884ee5",
   "metadata": {},
   "outputs": [
    {
     "name": "stdout",
     "output_type": "stream",
     "text": [
      "(3077, 90, 1)\n",
      "(3077,)\n"
     ]
    }
   ],
   "source": [
    "#changing the output is basically changing the ytrain and ytest\n",
    "\n",
    "#training data\n",
    "x_train = []\n",
    "y_train = []\n",
    "\n",
    "for i in range(90, (len(train_data)-6)):\n",
    "    #cada resultado i tem 90 dias pra trás como features\n",
    "    x_train.append(train_data[i-90:i, 0])\n",
    "    y_train.append(train_data[i+6, 0])\n",
    "    \n",
    "x_train, y_train = np.array(x_train), np.array(y_train)\n",
    "x_train = np.reshape(x_train, (x_train.shape[0], x_train.shape[1], 1)) #expand dims pra entrar no modelo\n",
    "print(x_train.shape)\n",
    "print(y_train.shape)"
   ]
  },
  {
   "cell_type": "code",
   "execution_count": 32,
   "id": "2a349f61",
   "metadata": {},
   "outputs": [
    {
     "name": "stdout",
     "output_type": "stream",
     "text": [
      "(787, 90, 1)\n",
      "(787, 1)\n"
     ]
    }
   ],
   "source": [
    "test_values=values[training_data_len-90:] #vou precisar de 90 dias antes pra fazer o modelo\n",
    "\n",
    "test_data = scaler.transform(test_values)\n",
    "\n",
    "x_test = []\n",
    "y_test = values[training_data_len:-6] \n",
    "\n",
    "for i in range(90, (len(test_data)-6)):\n",
    "  x_test.append(test_data[i-90:i, 0])\n",
    "\n",
    "x_test = np.array(x_test)\n",
    "x_test = np.reshape(x_test, (x_test.shape[0], x_test.shape[1], 1))\n",
    "print(x_test.shape)\n",
    "print(y_test.shape)"
   ]
  },
  {
   "cell_type": "code",
   "execution_count": 33,
   "id": "5d0714ca",
   "metadata": {},
   "outputs": [
    {
     "data": {
      "text/plain": [
       "array([8.2066927])"
      ]
     },
     "execution_count": 33,
     "metadata": {},
     "output_type": "execute_result"
    }
   ],
   "source": [
    "values[89+7]"
   ]
  },
  {
   "cell_type": "code",
   "execution_count": 34,
   "id": "7fde4b0c",
   "metadata": {},
   "outputs": [
    {
     "data": {
      "text/plain": [
       "array([[0.37545301],\n",
       "       [0.36495452],\n",
       "       [0.37133595],\n",
       "       ...,\n",
       "       [0.64145524],\n",
       "       [0.64942768],\n",
       "       [0.65849978]])"
      ]
     },
     "execution_count": 34,
     "metadata": {},
     "output_type": "execute_result"
    }
   ],
   "source": [
    "y_train.reshape(-1,1)"
   ]
  },
  {
   "cell_type": "code",
   "execution_count": 35,
   "id": "44dd3eae",
   "metadata": {},
   "outputs": [
    {
     "data": {
      "text/plain": [
       "array([[ 8.2066927 ],\n",
       "       [ 8.0289669 ],\n",
       "       [ 8.13699627],\n",
       "       ...,\n",
       "       [12.70976448],\n",
       "       [12.84472752],\n",
       "       [12.99830627]])"
      ]
     },
     "execution_count": 35,
     "metadata": {},
     "output_type": "execute_result"
    }
   ],
   "source": [
    "scaler.inverse_transform(y_train.reshape(-1,1))"
   ]
  },
  {
   "cell_type": "code",
   "execution_count": 150,
   "id": "395c5f8a",
   "metadata": {},
   "outputs": [
    {
     "name": "stdout",
     "output_type": "stream",
     "text": [
      "Epoch 1/100\n",
      "154/154 [==============================] - 28s 155ms/step - loss: 0.0059 - val_loss: 0.0026\n",
      "Epoch 2/100\n",
      "154/154 [==============================] - 23s 148ms/step - loss: 0.0021 - val_loss: 0.0027\n",
      "Epoch 3/100\n",
      "154/154 [==============================] - 25s 164ms/step - loss: 0.0019 - val_loss: 0.0023\n",
      "Epoch 4/100\n",
      "154/154 [==============================] - 23s 152ms/step - loss: 0.0020 - val_loss: 0.0020\n",
      "Epoch 5/100\n",
      "154/154 [==============================] - 23s 149ms/step - loss: 0.0019 - val_loss: 0.0019\n",
      "Epoch 6/100\n",
      "154/154 [==============================] - 24s 156ms/step - loss: 0.0017 - val_loss: 0.0020\n",
      "Epoch 7/100\n",
      "154/154 [==============================] - 24s 154ms/step - loss: 0.0017 - val_loss: 0.0020\n",
      "Epoch 8/100\n",
      "154/154 [==============================] - 24s 155ms/step - loss: 0.0016 - val_loss: 0.0019\n",
      "Epoch 9/100\n",
      "154/154 [==============================] - 23s 150ms/step - loss: 0.0017 - val_loss: 0.0019\n",
      "Epoch 10/100\n",
      "154/154 [==============================] - 24s 155ms/step - loss: 0.0016 - val_loss: 0.0018\n",
      "Epoch 11/100\n",
      "154/154 [==============================] - 24s 153ms/step - loss: 0.0017 - val_loss: 0.0020\n",
      "Epoch 12/100\n",
      "154/154 [==============================] - 25s 164ms/step - loss: 0.0015 - val_loss: 0.0017\n",
      "Epoch 13/100\n",
      "154/154 [==============================] - 26s 169ms/step - loss: 0.0016 - val_loss: 0.0017\n",
      "Epoch 14/100\n",
      "154/154 [==============================] - 26s 169ms/step - loss: 0.0015 - val_loss: 0.0019\n",
      "Epoch 15/100\n",
      "154/154 [==============================] - 24s 157ms/step - loss: 0.0015 - val_loss: 0.0018\n",
      "Epoch 16/100\n",
      "154/154 [==============================] - 27s 176ms/step - loss: 0.0015 - val_loss: 0.0017\n",
      "Epoch 17/100\n",
      "154/154 [==============================] - 26s 169ms/step - loss: 0.0015 - val_loss: 0.0019\n",
      "Epoch 18/100\n",
      "154/154 [==============================] - 25s 160ms/step - loss: 0.0015 - val_loss: 0.0016\n",
      "Epoch 19/100\n",
      "154/154 [==============================] - 25s 162ms/step - loss: 0.0015 - val_loss: 0.0016\n",
      "Epoch 20/100\n",
      "154/154 [==============================] - 25s 162ms/step - loss: 0.0016 - val_loss: 0.0017\n",
      "Epoch 21/100\n",
      "154/154 [==============================] - 25s 161ms/step - loss: 0.0014 - val_loss: 0.0017\n",
      "Epoch 22/100\n",
      "154/154 [==============================] - 25s 160ms/step - loss: 0.0015 - val_loss: 0.0017\n",
      "Epoch 23/100\n",
      "154/154 [==============================] - 24s 153ms/step - loss: 0.0015 - val_loss: 0.0017\n"
     ]
    },
    {
     "data": {
      "text/plain": [
       "<keras.callbacks.History at 0x7fc49722ca30>"
      ]
     },
     "execution_count": 150,
     "metadata": {},
     "output_type": "execute_result"
    }
   ],
   "source": [
    "model = Sequential()\n",
    "model.add(LSTM(100, return_sequences=True, input_shape=(x_train.shape[1], 1)))\n",
    "model.add(LSTM(100, return_sequences=False))\n",
    "model.add(Dense(25))\n",
    "model.add(Dense(1))\n",
    "\n",
    "model.compile(optimizer='adam', loss='mean_squared_error')\n",
    "\n",
    "model.fit(x_train,y_train, batch_size=16, epochs=100,verbose=1,validation_split=0.2,\n",
    "          callbacks=[EarlyStopping(patience=5,restore_best_weights=True)])\n"
   ]
  },
  {
   "cell_type": "code",
   "execution_count": 151,
   "id": "c842e7c0",
   "metadata": {},
   "outputs": [
    {
     "data": {
      "text/plain": [
       "0.2691821015926298"
      ]
     },
     "execution_count": 151,
     "metadata": {},
     "output_type": "execute_result"
    }
   ],
   "source": [
    "predictions = model.predict(x_test)\n",
    "predictions = scaler.inverse_transform(predictions)\n",
    "rmse = np.sqrt(np.mean(predictions - y_test)**2)\n",
    "rmse"
   ]
  },
  {
   "cell_type": "code",
   "execution_count": 168,
   "id": "c6004fd8",
   "metadata": {},
   "outputs": [],
   "source": [
    "#!git add .\n",
    "#!git commit -m '7 day prediction'\n",
    "#!git push origin main"
   ]
  },
  {
   "cell_type": "markdown",
   "id": "549b1931",
   "metadata": {},
   "source": [
    "## How many days do I really want?"
   ]
  },
  {
   "cell_type": "markdown",
   "id": "905fac95",
   "metadata": {},
   "source": [
    "- we could go for a monthly rate of the stock, that would be interesting\n",
    "- but the main goal was to predict the price of the options of petr4, which happen every two months.\n"
   ]
  },
  {
   "cell_type": "markdown",
   "id": "ae9339a2",
   "metadata": {},
   "source": [
    "- how many days are there between options?\n",
    "https://www.b3.com.br/data/files/30/C3/24/BA/4FA6161025668616790D8AA8/PREGOES.pdf\n",
    "- 46 pregoes (data points)"
   ]
  },
  {
   "cell_type": "code",
   "execution_count": 153,
   "id": "160be9bc",
   "metadata": {},
   "outputs": [
    {
     "data": {
      "text/plain": [
       "272.2"
      ]
     },
     "execution_count": 153,
     "metadata": {},
     "output_type": "execute_result"
    }
   ],
   "source": [
    "#media de pregoes\n",
    "preg = (248+249+247+248+248+245+246+249+246+248+248)/10\n",
    "preg"
   ]
  },
  {
   "cell_type": "code",
   "execution_count": 155,
   "id": "94f3df86",
   "metadata": {},
   "outputs": [
    {
     "data": {
      "text/plain": [
       "23"
      ]
     },
     "execution_count": 155,
     "metadata": {},
     "output_type": "execute_result"
    }
   ],
   "source": [
    "round(preg/12)"
   ]
  },
  {
   "cell_type": "markdown",
   "id": "cd8921a3",
   "metadata": {},
   "source": [
    "- Increasing the input as well for a year seems correct.\n",
    "- 272 Pregoes (data points)"
   ]
  },
  {
   "cell_type": "markdown",
   "id": "83b8516f",
   "metadata": {},
   "source": [
    "# Prediction 60 days"
   ]
  },
  {
   "cell_type": "code",
   "execution_count": 76,
   "id": "4fdf9734",
   "metadata": {},
   "outputs": [
    {
     "name": "stdout",
     "output_type": "stream",
     "text": [
      "(2758, 272, 1)\n",
      "(2758,)\n",
      "(723, 272, 1)\n",
      "(723, 1)\n"
     ]
    }
   ],
   "source": [
    "close_prices = dados['Close']\n",
    "values = close_prices.values\n",
    "training_data_len = math.ceil(len(values)* 0.8)\n",
    "\n",
    "values=values.reshape(-1,1)\n",
    "train_values=values[0: training_data_len]\n",
    "\n",
    "#Scaling data\n",
    "scaler = MinMaxScaler()\n",
    "train_data = scaler.fit_transform(train_values)\n",
    "\n",
    "#training data\n",
    "x_train = []\n",
    "y_train = []\n",
    "\n",
    "for i in range(272, len(train_data)-45):\n",
    "    #cada resultado i tem 272 dias pra trás como features\n",
    "    x_train.append(train_data[i-272:i, 0])\n",
    "    y_train.append(train_data[i+45, 0])\n",
    "    \n",
    "x_train, y_train = np.array(x_train), np.array(y_train)\n",
    "x_train = np.reshape(x_train, (x_train.shape[0], x_train.shape[1], 1)) #expand dims pra entrar no modelo\n",
    "print(x_train.shape)\n",
    "print(y_train.shape)\n",
    "\n",
    "\n",
    "\n",
    "test_values=values[training_data_len-272:] #vou precisar de 90 dias antes pra fazer o modelo\n",
    "\n",
    "test_data = scaler.transform(test_values)\n",
    "\n",
    "x_test = []\n",
    "y_test = values[training_data_len:-45] \n",
    "\n",
    "for i in range(272, (len(test_data)-45)):\n",
    "  x_test.append(test_data[i-272:i, 0])\n",
    "\n",
    "x_test = np.array(x_test)\n",
    "x_test = np.reshape(x_test, (x_test.shape[0], x_test.shape[1], 1))\n",
    "print(x_test.shape)\n",
    "print(y_test.shape)"
   ]
  },
  {
   "cell_type": "code",
   "execution_count": 7,
   "id": "b85823cd",
   "metadata": {},
   "outputs": [
    {
     "name": "stderr",
     "output_type": "stream",
     "text": [
      "2023-01-20 10:41:55.504405: W tensorflow/stream_executor/platform/default/dso_loader.cc:64] Could not load dynamic library 'libcuda.so.1'; dlerror: libcuda.so.1: cannot open shared object file: No such file or directory\n",
      "2023-01-20 10:41:55.504582: W tensorflow/stream_executor/cuda/cuda_driver.cc:269] failed call to cuInit: UNKNOWN ERROR (303)\n",
      "2023-01-20 10:41:55.504627: I tensorflow/stream_executor/cuda/cuda_diagnostics.cc:156] kernel driver does not appear to be running on this host (DESKTOP-23E8V41): /proc/driver/nvidia/version does not exist\n",
      "2023-01-20 10:41:55.505319: I tensorflow/core/platform/cpu_feature_guard.cc:151] This TensorFlow binary is optimized with oneAPI Deep Neural Network Library (oneDNN) to use the following CPU instructions in performance-critical operations:  AVX2 FMA\n",
      "To enable them in other operations, rebuild TensorFlow with the appropriate compiler flags.\n"
     ]
    },
    {
     "name": "stdout",
     "output_type": "stream",
     "text": [
      "Epoch 1/100\n",
      "138/138 [==============================] - 66s 447ms/step - loss: 0.0090 - val_loss: 0.0127\n",
      "Epoch 2/100\n",
      "138/138 [==============================] - 61s 440ms/step - loss: 0.0073 - val_loss: 0.0063\n",
      "Epoch 3/100\n",
      "138/138 [==============================] - 60s 436ms/step - loss: 0.0073 - val_loss: 0.0089\n",
      "Epoch 4/100\n",
      "138/138 [==============================] - 59s 430ms/step - loss: 0.0072 - val_loss: 0.0075\n",
      "Epoch 5/100\n",
      "138/138 [==============================] - 58s 423ms/step - loss: 0.0072 - val_loss: 0.0139\n",
      "Epoch 6/100\n",
      "138/138 [==============================] - 60s 436ms/step - loss: 0.0069 - val_loss: 0.0104\n",
      "Epoch 7/100\n",
      "138/138 [==============================] - 60s 431ms/step - loss: 0.0069 - val_loss: 0.0078\n"
     ]
    },
    {
     "data": {
      "text/plain": [
       "<keras.callbacks.History at 0x7f3f98c97af0>"
      ]
     },
     "execution_count": 7,
     "metadata": {},
     "output_type": "execute_result"
    }
   ],
   "source": [
    "model = Sequential()\n",
    "model.add(LSTM(100, return_sequences=True, input_shape=(x_train.shape[1], 1)))\n",
    "model.add(LSTM(100, return_sequences=False))\n",
    "model.add(Dense(25))\n",
    "model.add(Dense(1))\n",
    "\n",
    "model.compile(optimizer='adam', loss='mean_squared_error')\n",
    "\n",
    "model.fit(x_train,y_train, batch_size=16, epochs=100,verbose=1,validation_split=0.2,\n",
    "          callbacks=[EarlyStopping(patience=5,restore_best_weights=True)])"
   ]
  },
  {
   "cell_type": "code",
   "execution_count": 8,
   "id": "416bff2a",
   "metadata": {},
   "outputs": [
    {
     "data": {
      "text/plain": [
       "0.5014973623294223"
      ]
     },
     "execution_count": 8,
     "metadata": {},
     "output_type": "execute_result"
    }
   ],
   "source": [
    "predictions = model.predict(x_test)\n",
    "predictions = scaler.inverse_transform(predictions)\n",
    "rmse = np.sqrt(np.mean(predictions - y_test)**2)\n",
    "rmse"
   ]
  },
  {
   "cell_type": "code",
   "execution_count": 9,
   "id": "979f2319",
   "metadata": {},
   "outputs": [
    {
     "data": {
      "text/plain": [
       "array([[13.760966 ],\n",
       "       [13.756981 ],\n",
       "       [13.740302 ],\n",
       "       [13.721903 ],\n",
       "       [13.70958  ],\n",
       "       [13.690117 ],\n",
       "       [13.665727 ],\n",
       "       [13.637442 ],\n",
       "       [13.6294   ],\n",
       "       [13.645207 ],\n",
       "       [13.682998 ],\n",
       "       [13.726894 ],\n",
       "       [13.77845  ],\n",
       "       [13.82948  ],\n",
       "       [13.893752 ],\n",
       "       [13.930959 ],\n",
       "       [13.933042 ],\n",
       "       [13.927554 ],\n",
       "       [13.938121 ],\n",
       "       [13.958998 ],\n",
       "       [13.974042 ],\n",
       "       [13.992112 ],\n",
       "       [14.022769 ],\n",
       "       [14.059345 ],\n",
       "       [14.086458 ],\n",
       "       [14.12216  ],\n",
       "       [14.152213 ],\n",
       "       [14.18798  ],\n",
       "       [14.220516 ],\n",
       "       [14.243088 ],\n",
       "       [14.255147 ],\n",
       "       [14.256082 ],\n",
       "       [14.252167 ],\n",
       "       [14.23541  ],\n",
       "       [14.198694 ],\n",
       "       [14.152101 ],\n",
       "       [14.112942 ],\n",
       "       [14.085266 ],\n",
       "       [14.054752 ],\n",
       "       [14.015072 ],\n",
       "       [13.984043 ],\n",
       "       [13.949335 ],\n",
       "       [13.876471 ],\n",
       "       [13.810695 ],\n",
       "       [13.754498 ],\n",
       "       [13.710863 ],\n",
       "       [13.662927 ],\n",
       "       [13.608147 ],\n",
       "       [13.567189 ],\n",
       "       [13.529708 ],\n",
       "       [13.521475 ],\n",
       "       [13.523088 ],\n",
       "       [13.537024 ],\n",
       "       [13.567932 ],\n",
       "       [13.62643  ],\n",
       "       [13.68427  ],\n",
       "       [13.72891  ],\n",
       "       [13.760861 ],\n",
       "       [13.7948   ],\n",
       "       [13.8515215],\n",
       "       [13.897863 ],\n",
       "       [13.911522 ],\n",
       "       [13.815635 ],\n",
       "       [13.635661 ],\n",
       "       [13.419595 ],\n",
       "       [13.233243 ],\n",
       "       [13.062209 ],\n",
       "       [12.938948 ],\n",
       "       [12.803704 ],\n",
       "       [12.597322 ],\n",
       "       [12.157375 ],\n",
       "       [11.65951  ],\n",
       "       [11.107232 ],\n",
       "       [10.463134 ],\n",
       "       [ 9.89597  ],\n",
       "       [ 9.342801 ],\n",
       "       [ 8.835918 ],\n",
       "       [ 8.340949 ],\n",
       "       [ 7.916499 ],\n",
       "       [ 7.557802 ],\n",
       "       [ 7.249466 ],\n",
       "       [ 7.0463147],\n",
       "       [ 6.9533353],\n",
       "       [ 6.936421 ],\n",
       "       [ 6.934867 ],\n",
       "       [ 6.945877 ],\n",
       "       [ 6.9823422],\n",
       "       [ 7.041262 ],\n",
       "       [ 7.146482 ],\n",
       "       [ 7.267546 ],\n",
       "       [ 7.40323  ],\n",
       "       [ 7.5574965],\n",
       "       [ 7.740143 ],\n",
       "       [ 7.9121585],\n",
       "       [ 8.069357 ],\n",
       "       [ 8.200484 ],\n",
       "       [ 8.296064 ],\n",
       "       [ 8.3434515],\n",
       "       [ 8.370809 ],\n",
       "       [ 8.3783455],\n",
       "       [ 8.39757  ],\n",
       "       [ 8.428265 ],\n",
       "       [ 8.433465 ],\n",
       "       [ 8.43834  ],\n",
       "       [ 8.466557 ],\n",
       "       [ 8.535403 ],\n",
       "       [ 8.619254 ],\n",
       "       [ 8.686176 ],\n",
       "       [ 8.755334 ],\n",
       "       [ 8.800597 ],\n",
       "       [ 8.833265 ],\n",
       "       [ 8.887318 ],\n",
       "       [ 8.940041 ],\n",
       "       [ 8.988155 ],\n",
       "       [ 9.013353 ],\n",
       "       [ 9.017283 ],\n",
       "       [ 9.000395 ],\n",
       "       [ 9.014221 ],\n",
       "       [ 9.049252 ],\n",
       "       [ 9.113564 ],\n",
       "       [ 9.187546 ],\n",
       "       [ 9.246509 ],\n",
       "       [ 9.317009 ],\n",
       "       [ 9.394814 ],\n",
       "       [ 9.479393 ],\n",
       "       [ 9.55712  ],\n",
       "       [ 9.642601 ],\n",
       "       [ 9.726093 ],\n",
       "       [ 9.835022 ],\n",
       "       [ 9.953198 ],\n",
       "       [10.067429 ],\n",
       "       [10.191572 ],\n",
       "       [10.325565 ],\n",
       "       [10.43109  ],\n",
       "       [10.502597 ],\n",
       "       [10.524068 ],\n",
       "       [10.517078 ],\n",
       "       [10.513463 ],\n",
       "       [10.51373  ],\n",
       "       [10.521156 ],\n",
       "       [10.528294 ],\n",
       "       [10.518953 ],\n",
       "       [10.521869 ],\n",
       "       [10.511622 ],\n",
       "       [10.508857 ],\n",
       "       [10.491221 ],\n",
       "       [10.491191 ],\n",
       "       [10.497863 ],\n",
       "       [10.513112 ],\n",
       "       [10.543031 ],\n",
       "       [10.5770645],\n",
       "       [10.6274   ],\n",
       "       [10.675165 ],\n",
       "       [10.731003 ],\n",
       "       [10.77192  ],\n",
       "       [10.81252  ],\n",
       "       [10.839063 ],\n",
       "       [10.877991 ],\n",
       "       [10.934512 ],\n",
       "       [10.978522 ],\n",
       "       [11.012915 ],\n",
       "       [11.038941 ],\n",
       "       [11.077206 ],\n",
       "       [11.10992  ],\n",
       "       [11.122578 ],\n",
       "       [11.127363 ],\n",
       "       [11.141158 ],\n",
       "       [11.146849 ],\n",
       "       [11.158822 ],\n",
       "       [11.162748 ],\n",
       "       [11.14286  ],\n",
       "       [11.098148 ],\n",
       "       [11.041138 ],\n",
       "       [11.023313 ],\n",
       "       [11.030681 ],\n",
       "       [11.039805 ],\n",
       "       [11.069837 ],\n",
       "       [11.09862  ],\n",
       "       [11.137114 ],\n",
       "       [11.158921 ],\n",
       "       [11.164369 ],\n",
       "       [11.157438 ],\n",
       "       [11.156308 ],\n",
       "       [11.154474 ],\n",
       "       [11.147595 ],\n",
       "       [11.13308  ],\n",
       "       [11.127571 ],\n",
       "       [11.124536 ],\n",
       "       [11.103494 ],\n",
       "       [11.071371 ],\n",
       "       [11.04668  ],\n",
       "       [11.008106 ],\n",
       "       [10.994232 ],\n",
       "       [10.993434 ],\n",
       "       [11.003204 ],\n",
       "       [11.01989  ],\n",
       "       [11.019452 ],\n",
       "       [11.023483 ],\n",
       "       [11.010936 ],\n",
       "       [10.982377 ],\n",
       "       [10.940162 ],\n",
       "       [10.892456 ],\n",
       "       [10.846613 ],\n",
       "       [10.817906 ],\n",
       "       [10.786117 ],\n",
       "       [10.732269 ],\n",
       "       [10.666311 ],\n",
       "       [10.580293 ],\n",
       "       [10.4937315],\n",
       "       [10.40457  ],\n",
       "       [10.305111 ],\n",
       "       [10.197023 ],\n",
       "       [10.100639 ],\n",
       "       [10.025259 ],\n",
       "       [ 9.942632 ],\n",
       "       [ 9.892743 ],\n",
       "       [ 9.862601 ],\n",
       "       [ 9.842531 ],\n",
       "       [ 9.849933 ],\n",
       "       [ 9.853714 ],\n",
       "       [ 9.86557  ],\n",
       "       [ 9.876451 ],\n",
       "       [ 9.879446 ],\n",
       "       [ 9.864835 ],\n",
       "       [ 9.846606 ],\n",
       "       [ 9.847413 ],\n",
       "       [ 9.858779 ],\n",
       "       [ 9.896563 ],\n",
       "       [ 9.939182 ],\n",
       "       [ 9.972257 ],\n",
       "       [ 9.986144 ],\n",
       "       [ 9.950775 ],\n",
       "       [ 9.907525 ],\n",
       "       [ 9.851378 ],\n",
       "       [ 9.813173 ],\n",
       "       [ 9.790262 ],\n",
       "       [ 9.783472 ],\n",
       "       [ 9.782647 ],\n",
       "       [ 9.8421755],\n",
       "       [ 9.977802 ],\n",
       "       [10.143352 ],\n",
       "       [10.286144 ],\n",
       "       [10.427548 ],\n",
       "       [10.577604 ],\n",
       "       [10.734022 ],\n",
       "       [10.878691 ],\n",
       "       [11.014292 ],\n",
       "       [11.173532 ],\n",
       "       [11.36896  ],\n",
       "       [11.572539 ],\n",
       "       [11.75342  ],\n",
       "       [11.8981285],\n",
       "       [11.992358 ],\n",
       "       [12.070985 ],\n",
       "       [12.14322  ],\n",
       "       [12.228367 ],\n",
       "       [12.341719 ],\n",
       "       [12.447029 ],\n",
       "       [12.529994 ],\n",
       "       [12.602197 ],\n",
       "       [12.689167 ],\n",
       "       [12.770269 ],\n",
       "       [12.843728 ],\n",
       "       [12.914159 ],\n",
       "       [12.987763 ],\n",
       "       [13.059114 ],\n",
       "       [13.119582 ],\n",
       "       [13.136157 ],\n",
       "       [13.133897 ],\n",
       "       [13.140426 ],\n",
       "       [13.158057 ],\n",
       "       [13.183649 ],\n",
       "       [13.214243 ],\n",
       "       [13.262967 ],\n",
       "       [13.353052 ],\n",
       "       [13.462362 ],\n",
       "       [13.60291  ],\n",
       "       [13.754931 ],\n",
       "       [13.89487  ],\n",
       "       [14.010626 ],\n",
       "       [14.058342 ],\n",
       "       [14.0722065],\n",
       "       [14.023402 ],\n",
       "       [13.940082 ],\n",
       "       [13.860705 ],\n",
       "       [13.773941 ],\n",
       "       [13.669261 ],\n",
       "       [13.547818 ],\n",
       "       [13.422553 ],\n",
       "       [13.316155 ],\n",
       "       [13.239325 ],\n",
       "       [13.152826 ],\n",
       "       [13.093483 ],\n",
       "       [13.088436 ],\n",
       "       [13.124112 ],\n",
       "       [13.178098 ],\n",
       "       [13.240124 ],\n",
       "       [13.280282 ],\n",
       "       [13.287675 ],\n",
       "       [13.283206 ],\n",
       "       [13.28013  ],\n",
       "       [13.288864 ],\n",
       "       [13.33895  ],\n",
       "       [13.399589 ],\n",
       "       [13.403418 ],\n",
       "       [13.201349 ],\n",
       "       [12.967995 ],\n",
       "       [12.739647 ],\n",
       "       [12.493258 ],\n",
       "       [12.225675 ],\n",
       "       [11.957744 ],\n",
       "       [11.7084255],\n",
       "       [11.463631 ],\n",
       "       [11.271058 ],\n",
       "       [11.1281595],\n",
       "       [10.986263 ],\n",
       "       [10.871122 ],\n",
       "       [10.802874 ],\n",
       "       [10.796471 ],\n",
       "       [10.823983 ],\n",
       "       [10.885131 ],\n",
       "       [10.950924 ],\n",
       "       [11.0397005],\n",
       "       [11.110039 ],\n",
       "       [11.188154 ],\n",
       "       [11.25028  ],\n",
       "       [11.276821 ],\n",
       "       [11.281091 ],\n",
       "       [11.283098 ],\n",
       "       [11.291248 ],\n",
       "       [11.313703 ],\n",
       "       [11.343021 ],\n",
       "       [11.38272  ],\n",
       "       [11.419297 ],\n",
       "       [11.456142 ],\n",
       "       [11.489778 ],\n",
       "       [11.518471 ],\n",
       "       [11.532966 ],\n",
       "       [11.53651  ],\n",
       "       [11.540473 ],\n",
       "       [11.54662  ],\n",
       "       [11.565186 ],\n",
       "       [11.574914 ],\n",
       "       [11.574584 ],\n",
       "       [11.61019  ],\n",
       "       [11.649386 ],\n",
       "       [11.68499  ],\n",
       "       [11.715316 ],\n",
       "       [11.7431   ],\n",
       "       [11.745792 ],\n",
       "       [11.76015  ],\n",
       "       [11.769655 ],\n",
       "       [11.775857 ],\n",
       "       [11.77359  ],\n",
       "       [11.749446 ],\n",
       "       [11.743841 ],\n",
       "       [11.738581 ],\n",
       "       [11.762007 ],\n",
       "       [11.810488 ],\n",
       "       [11.884698 ],\n",
       "       [11.957196 ],\n",
       "       [12.030474 ],\n",
       "       [12.1401   ],\n",
       "       [12.274106 ],\n",
       "       [12.403283 ],\n",
       "       [12.514294 ],\n",
       "       [12.599545 ],\n",
       "       [12.6638565],\n",
       "       [12.724678 ],\n",
       "       [12.761173 ],\n",
       "       [12.788744 ],\n",
       "       [12.80291  ],\n",
       "       [12.842178 ],\n",
       "       [12.888903 ],\n",
       "       [12.950211 ],\n",
       "       [13.033802 ],\n",
       "       [13.144165 ],\n",
       "       [13.2555275],\n",
       "       [13.371387 ],\n",
       "       [13.481185 ],\n",
       "       [13.579997 ],\n",
       "       [13.661495 ],\n",
       "       [13.7323885],\n",
       "       [13.800332 ],\n",
       "       [13.864704 ],\n",
       "       [13.8902   ],\n",
       "       [13.897437 ],\n",
       "       [13.912646 ],\n",
       "       [13.935515 ],\n",
       "       [13.9675   ],\n",
       "       [14.013481 ],\n",
       "       [14.046799 ],\n",
       "       [14.069082 ],\n",
       "       [14.087157 ],\n",
       "       [14.109049 ],\n",
       "       [14.119642 ],\n",
       "       [14.1268425],\n",
       "       [14.120834 ],\n",
       "       [14.070319 ],\n",
       "       [14.00985  ],\n",
       "       [13.92941  ],\n",
       "       [13.8508625],\n",
       "       [13.784125 ],\n",
       "       [13.721854 ],\n",
       "       [13.648381 ],\n",
       "       [13.5614   ],\n",
       "       [13.458962 ],\n",
       "       [13.365996 ],\n",
       "       [13.296692 ],\n",
       "       [13.244419 ],\n",
       "       [13.201298 ],\n",
       "       [13.190087 ],\n",
       "       [13.188164 ],\n",
       "       [13.210129 ],\n",
       "       [13.247599 ],\n",
       "       [13.263325 ],\n",
       "       [13.249984 ],\n",
       "       [13.234403 ],\n",
       "       [13.200077 ],\n",
       "       [13.222889 ],\n",
       "       [13.277755 ],\n",
       "       [13.341937 ],\n",
       "       [13.410297 ],\n",
       "       [13.488507 ],\n",
       "       [13.580223 ],\n",
       "       [13.680976 ],\n",
       "       [13.757284 ],\n",
       "       [13.814121 ],\n",
       "       [13.846996 ],\n",
       "       [13.858229 ],\n",
       "       [13.854356 ],\n",
       "       [13.85568  ],\n",
       "       [13.878257 ],\n",
       "       [13.91641  ],\n",
       "       [13.953057 ],\n",
       "       [14.0199   ],\n",
       "       [14.092563 ],\n",
       "       [14.1266165],\n",
       "       [14.131188 ],\n",
       "       [14.102917 ],\n",
       "       [14.048229 ],\n",
       "       [13.986092 ],\n",
       "       [13.873762 ],\n",
       "       [13.75868  ],\n",
       "       [13.644014 ],\n",
       "       [13.567787 ],\n",
       "       [13.50751  ],\n",
       "       [13.476769 ],\n",
       "       [13.457898 ],\n",
       "       [13.40871  ],\n",
       "       [13.336676 ],\n",
       "       [13.274942 ],\n",
       "       [13.244611 ],\n",
       "       [13.267941 ],\n",
       "       [13.323116 ],\n",
       "       [13.401734 ],\n",
       "       [13.482686 ],\n",
       "       [13.573882 ],\n",
       "       [13.658886 ],\n",
       "       [13.760026 ],\n",
       "       [13.889175 ],\n",
       "       [14.046155 ],\n",
       "       [14.1818695],\n",
       "       [14.294604 ],\n",
       "       [14.402683 ],\n",
       "       [14.506119 ],\n",
       "       [14.609375 ],\n",
       "       [14.706311 ],\n",
       "       [14.789647 ],\n",
       "       [14.853771 ],\n",
       "       [14.853574 ],\n",
       "       [14.832773 ],\n",
       "       [14.765001 ],\n",
       "       [14.666008 ],\n",
       "       [14.617729 ],\n",
       "       [14.59164  ],\n",
       "       [14.578956 ],\n",
       "       [14.584399 ],\n",
       "       [14.5394   ],\n",
       "       [14.497958 ],\n",
       "       [14.4218445],\n",
       "       [14.303249 ],\n",
       "       [14.163447 ],\n",
       "       [14.029962 ],\n",
       "       [13.926894 ],\n",
       "       [13.841989 ],\n",
       "       [13.775177 ],\n",
       "       [13.742199 ],\n",
       "       [13.740829 ],\n",
       "       [13.735352 ],\n",
       "       [13.727357 ],\n",
       "       [13.703731 ],\n",
       "       [13.681598 ],\n",
       "       [13.709838 ],\n",
       "       [13.783963 ],\n",
       "       [13.921822 ],\n",
       "       [14.048485 ],\n",
       "       [14.194228 ],\n",
       "       [14.338383 ],\n",
       "       [14.476946 ],\n",
       "       [14.677374 ],\n",
       "       [14.912756 ],\n",
       "       [15.156562 ],\n",
       "       [15.405169 ],\n",
       "       [15.637419 ],\n",
       "       [15.840587 ],\n",
       "       [16.024908 ],\n",
       "       [16.176983 ],\n",
       "       [16.285616 ],\n",
       "       [16.367376 ],\n",
       "       [16.441143 ],\n",
       "       [16.47766  ],\n",
       "       [16.459036 ],\n",
       "       [16.4113   ],\n",
       "       [16.347683 ],\n",
       "       [16.285383 ],\n",
       "       [16.243734 ],\n",
       "       [16.217854 ],\n",
       "       [16.19424  ],\n",
       "       [16.170666 ],\n",
       "       [16.172892 ],\n",
       "       [16.193459 ],\n",
       "       [16.180994 ],\n",
       "       [16.15069  ],\n",
       "       [16.11662  ],\n",
       "       [16.076082 ],\n",
       "       [16.06601  ],\n",
       "       [16.10662  ],\n",
       "       [16.195896 ],\n",
       "       [16.34938  ],\n",
       "       [16.530357 ],\n",
       "       [16.719875 ],\n",
       "       [16.89481  ],\n",
       "       [17.057005 ],\n",
       "       [17.201067 ],\n",
       "       [17.330275 ],\n",
       "       [17.479567 ],\n",
       "       [17.660833 ],\n",
       "       [17.846695 ],\n",
       "       [17.971617 ],\n",
       "       [18.046186 ],\n",
       "       [18.109491 ],\n",
       "       [18.142027 ],\n",
       "       [18.13776  ],\n",
       "       [18.13338  ],\n",
       "       [18.110067 ],\n",
       "       [18.065992 ],\n",
       "       [18.017664 ],\n",
       "       [17.988249 ],\n",
       "       [18.020554 ],\n",
       "       [18.056572 ],\n",
       "       [18.074305 ],\n",
       "       [18.097502 ],\n",
       "       [18.116436 ],\n",
       "       [18.139095 ],\n",
       "       [18.193598 ],\n",
       "       [18.257414 ],\n",
       "       [18.340271 ],\n",
       "       [18.396563 ],\n",
       "       [18.457184 ],\n",
       "       [18.539583 ],\n",
       "       [18.611607 ],\n",
       "       [18.67263  ],\n",
       "       [18.631937 ],\n",
       "       [18.562767 ],\n",
       "       [18.48372  ],\n",
       "       [18.446781 ],\n",
       "       [18.390352 ],\n",
       "       [18.305725 ],\n",
       "       [18.182747 ],\n",
       "       [18.03704  ],\n",
       "       [17.858023 ],\n",
       "       [17.696012 ],\n",
       "       [17.597784 ],\n",
       "       [17.537672 ],\n",
       "       [17.521368 ],\n",
       "       [17.545689 ],\n",
       "       [17.587555 ],\n",
       "       [17.611067 ],\n",
       "       [17.649372 ],\n",
       "       [17.718199 ],\n",
       "       [17.816244 ],\n",
       "       [17.907467 ],\n",
       "       [17.977285 ],\n",
       "       [18.018173 ],\n",
       "       [18.038168 ],\n",
       "       [18.106867 ],\n",
       "       [18.202795 ],\n",
       "       [18.298103 ],\n",
       "       [18.382874 ],\n",
       "       [18.48207  ],\n",
       "       [18.567694 ],\n",
       "       [18.61718  ],\n",
       "       [18.680428 ],\n",
       "       [18.751196 ],\n",
       "       [18.770407 ],\n",
       "       [18.741709 ],\n",
       "       [18.685219 ],\n",
       "       [18.616161 ],\n",
       "       [18.552696 ],\n",
       "       [18.497545 ],\n",
       "       [18.439117 ],\n",
       "       [18.394657 ],\n",
       "       [18.435387 ],\n",
       "       [18.517757 ],\n",
       "       [18.662004 ],\n",
       "       [18.79379  ],\n",
       "       [18.921843 ],\n",
       "       [19.083408 ],\n",
       "       [19.261017 ],\n",
       "       [19.452337 ],\n",
       "       [19.650417 ],\n",
       "       [19.818785 ],\n",
       "       [19.935251 ],\n",
       "       [20.036392 ],\n",
       "       [20.146074 ],\n",
       "       [20.306355 ],\n",
       "       [20.44172  ],\n",
       "       [20.574808 ],\n",
       "       [20.698843 ],\n",
       "       [20.739052 ],\n",
       "       [20.702953 ],\n",
       "       [20.628601 ],\n",
       "       [20.53464  ],\n",
       "       [20.42411  ],\n",
       "       [20.335926 ],\n",
       "       [20.266949 ],\n",
       "       [20.230692 ],\n",
       "       [20.208862 ],\n",
       "       [20.177813 ],\n",
       "       [20.125748 ],\n",
       "       [20.048864 ],\n",
       "       [19.978687 ],\n",
       "       [19.893208 ],\n",
       "       [19.726084 ],\n",
       "       [19.541159 ],\n",
       "       [19.333126 ],\n",
       "       [19.124235 ],\n",
       "       [18.90755  ],\n",
       "       [18.694221 ],\n",
       "       [18.575848 ],\n",
       "       [18.534807 ],\n",
       "       [18.531218 ],\n",
       "       [18.5444   ],\n",
       "       [18.594402 ],\n",
       "       [18.68906  ],\n",
       "       [18.75181  ],\n",
       "       [18.777414 ],\n",
       "       [18.81656  ],\n",
       "       [18.873434 ],\n",
       "       [18.929716 ],\n",
       "       [18.962473 ],\n",
       "       [18.980787 ],\n",
       "       [18.954548 ],\n",
       "       [18.92681  ],\n",
       "       [18.928003 ],\n",
       "       [18.97114  ],\n",
       "       [19.03438  ],\n",
       "       [19.098309 ],\n",
       "       [19.172375 ],\n",
       "       [19.308186 ],\n",
       "       [19.48134  ],\n",
       "       [19.678585 ],\n",
       "       [19.917027 ],\n",
       "       [20.24329  ],\n",
       "       [20.571373 ],\n",
       "       [20.883934 ],\n",
       "       [21.164164 ],\n",
       "       [21.419998 ],\n",
       "       [21.670364 ],\n",
       "       [21.974873 ],\n",
       "       [22.30975  ],\n",
       "       [22.630007 ],\n",
       "       [22.879467 ],\n",
       "       [23.189396 ],\n",
       "       [23.503258 ],\n",
       "       [23.8109   ],\n",
       "       [24.130342 ],\n",
       "       [24.464357 ],\n",
       "       [24.687847 ],\n",
       "       [24.872383 ],\n",
       "       [25.071758 ],\n",
       "       [25.270592 ],\n",
       "       [25.433615 ],\n",
       "       [25.58362  ],\n",
       "       [25.757275 ],\n",
       "       [25.8186   ],\n",
       "       [25.860588 ],\n",
       "       [25.91711  ],\n",
       "       [25.951965 ],\n",
       "       [25.968908 ],\n",
       "       [25.90815  ],\n",
       "       [25.795488 ],\n",
       "       [25.661247 ],\n",
       "       [25.50754  ],\n",
       "       [25.310534 ],\n",
       "       [25.131472 ],\n",
       "       [24.970987 ],\n",
       "       [24.818636 ],\n",
       "       [24.71011  ],\n",
       "       [24.623844 ],\n",
       "       [24.562357 ],\n",
       "       [24.561295 ],\n",
       "       [24.485098 ],\n",
       "       [24.343584 ],\n",
       "       [24.197235 ],\n",
       "       [24.03558  ],\n",
       "       [23.880783 ],\n",
       "       [23.7681   ],\n",
       "       [23.815609 ],\n",
       "       [23.901058 ],\n",
       "       [24.069653 ],\n",
       "       [24.329401 ],\n",
       "       [24.61699  ],\n",
       "       [24.878939 ],\n",
       "       [25.094093 ],\n",
       "       [25.316406 ],\n",
       "       [25.494186 ],\n",
       "       [25.63283  ],\n",
       "       [25.781538 ],\n",
       "       [25.98517  ],\n",
       "       [26.255312 ],\n",
       "       [26.604338 ]], dtype=float32)"
      ]
     },
     "execution_count": 9,
     "metadata": {},
     "output_type": "execute_result"
    }
   ],
   "source": [
    "predictions"
   ]
  },
  {
   "cell_type": "code",
   "execution_count": 10,
   "id": "bc19013d",
   "metadata": {},
   "outputs": [
    {
     "data": {
      "text/html": [
       "<div>\n",
       "<style scoped>\n",
       "    .dataframe tbody tr th:only-of-type {\n",
       "        vertical-align: middle;\n",
       "    }\n",
       "\n",
       "    .dataframe tbody tr th {\n",
       "        vertical-align: top;\n",
       "    }\n",
       "\n",
       "    .dataframe thead th {\n",
       "        text-align: right;\n",
       "    }\n",
       "</style>\n",
       "<table border=\"1\" class=\"dataframe\">\n",
       "  <thead>\n",
       "    <tr style=\"text-align: right;\">\n",
       "      <th></th>\n",
       "      <th>actual</th>\n",
       "      <th>pred</th>\n",
       "    </tr>\n",
       "  </thead>\n",
       "  <tbody>\n",
       "    <tr>\n",
       "      <th>0</th>\n",
       "      <td>13.927909</td>\n",
       "      <td>13.760966</td>\n",
       "    </tr>\n",
       "    <tr>\n",
       "      <th>1</th>\n",
       "      <td>13.674931</td>\n",
       "      <td>13.756981</td>\n",
       "    </tr>\n",
       "    <tr>\n",
       "      <th>2</th>\n",
       "      <td>13.740515</td>\n",
       "      <td>13.740302</td>\n",
       "    </tr>\n",
       "    <tr>\n",
       "      <th>3</th>\n",
       "      <td>13.834215</td>\n",
       "      <td>13.721903</td>\n",
       "    </tr>\n",
       "    <tr>\n",
       "      <th>4</th>\n",
       "      <td>13.656190</td>\n",
       "      <td>13.709580</td>\n",
       "    </tr>\n",
       "    <tr>\n",
       "      <th>...</th>\n",
       "      <td>...</td>\n",
       "      <td>...</td>\n",
       "    </tr>\n",
       "    <tr>\n",
       "      <th>718</th>\n",
       "      <td>29.931961</td>\n",
       "      <td>25.632830</td>\n",
       "    </tr>\n",
       "    <tr>\n",
       "      <th>719</th>\n",
       "      <td>30.990646</td>\n",
       "      <td>25.781538</td>\n",
       "    </tr>\n",
       "    <tr>\n",
       "      <th>720</th>\n",
       "      <td>31.909344</td>\n",
       "      <td>25.985170</td>\n",
       "    </tr>\n",
       "    <tr>\n",
       "      <th>721</th>\n",
       "      <td>33.003029</td>\n",
       "      <td>26.255312</td>\n",
       "    </tr>\n",
       "    <tr>\n",
       "      <th>722</th>\n",
       "      <td>29.966959</td>\n",
       "      <td>26.604338</td>\n",
       "    </tr>\n",
       "  </tbody>\n",
       "</table>\n",
       "<p>723 rows × 2 columns</p>\n",
       "</div>"
      ],
      "text/plain": [
       "        actual       pred\n",
       "0    13.927909  13.760966\n",
       "1    13.674931  13.756981\n",
       "2    13.740515  13.740302\n",
       "3    13.834215  13.721903\n",
       "4    13.656190  13.709580\n",
       "..         ...        ...\n",
       "718  29.931961  25.632830\n",
       "719  30.990646  25.781538\n",
       "720  31.909344  25.985170\n",
       "721  33.003029  26.255312\n",
       "722  29.966959  26.604338\n",
       "\n",
       "[723 rows x 2 columns]"
      ]
     },
     "execution_count": 10,
     "metadata": {},
     "output_type": "execute_result"
    }
   ],
   "source": [
    "pred1 = pd.DataFrame(y_test).rename(columns={0:'actual'})\n",
    "pred1['pred']=pd.DataFrame(predictions)\n",
    "pred1"
   ]
  },
  {
   "cell_type": "code",
   "execution_count": 11,
   "id": "48f5adea",
   "metadata": {},
   "outputs": [
    {
     "name": "stderr",
     "output_type": "stream",
     "text": [
      "/tmp/ipykernel_473/2387409059.py:4: SettingWithCopyWarning: \n",
      "A value is trying to be set on a copy of a slice from a DataFrame.\n",
      "Try using .loc[row_indexer,col_indexer] = value instead\n",
      "\n",
      "See the caveats in the documentation: https://pandas.pydata.org/pandas-docs/stable/user_guide/indexing.html#returning-a-view-versus-a-copy\n",
      "  validation['Predictions'] = predictions\n"
     ]
    },
    {
     "data": {
      "image/png": "[encoded data removed]",
      "text/plain": [
       "<Figure size 1152x576 with 1 Axes>"
      ]
     },
     "metadata": {
      "needs_background": "light"
     },
     "output_type": "display_data"
    }
   ],
   "source": [
    "data = dados.filter(['Close'])\n",
    "#train = data[:training_data_len]\n",
    "validation = data[training_data_len+45:]\n",
    "validation['Predictions'] = predictions\n",
    "plt.figure(figsize=(16,8))\n",
    "plt.title('Model')\n",
    "plt.xlabel('Date')\n",
    "plt.ylabel('Close Price USD ($)')\n",
    "#plt.plot(train)\n",
    "plt.plot(validation[['Close', 'Predictions']])\n",
    "plt.legend(['Val', 'Predictions'], loc='lower right')\n",
    "plt.show()"
   ]
  },
  {
   "cell_type": "code",
   "execution_count": 52,
   "id": "b7f89573",
   "metadata": {},
   "outputs": [],
   "source": [
    "#Its not good. The model is not able to correctly predict the next 45 days based on the last year.\n",
    "#improve the model\n",
    "#increase variables"
   ]
  },
  {
   "cell_type": "code",
   "execution_count": 169,
   "id": "402580db",
   "metadata": {},
   "outputs": [],
   "source": [
    "#!git add .\n",
    "#!git commit -m '60days'\n",
    "#!git push origin main"
   ]
  },
  {
   "cell_type": "markdown",
   "id": "f45464ac",
   "metadata": {},
   "source": [
    "# Improving new model"
   ]
  },
  {
   "cell_type": "markdown",
   "id": "62eb409f",
   "metadata": {},
   "source": [
    "## Fine tuning"
   ]
  },
  {
   "cell_type": "code",
   "execution_count": 61,
   "id": "c935ff76",
   "metadata": {},
   "outputs": [
    {
     "name": "stdout",
     "output_type": "stream",
     "text": [
      "Epoch 1/100\n",
      "143/143 [==============================] - 240s 2s/step - loss: 0.0109 - val_loss: 0.0103\n",
      "Epoch 2/100\n",
      "143/143 [==============================] - 179s 1s/step - loss: 0.0090 - val_loss: 0.0066\n",
      "Epoch 3/100\n",
      "143/143 [==============================] - 159s 1s/step - loss: 0.0087 - val_loss: 0.0059\n",
      "Epoch 4/100\n",
      "143/143 [==============================] - 161s 1s/step - loss: 0.0088 - val_loss: 0.0119\n",
      "Epoch 5/100\n",
      "143/143 [==============================] - 158s 1s/step - loss: 0.0089 - val_loss: 0.0078\n",
      "Epoch 6/100\n",
      "143/143 [==============================] - 157s 1s/step - loss: 0.0085 - val_loss: 0.0104\n",
      "Epoch 7/100\n",
      "143/143 [==============================] - 161s 1s/step - loss: 0.0088 - val_loss: 0.0090\n",
      "Epoch 8/100\n",
      "143/143 [==============================] - 158s 1s/step - loss: 0.0085 - val_loss: 0.0087\n"
     ]
    },
    {
     "data": {
      "text/plain": [
       "<keras.callbacks.History at 0x7fd6ecb53cd0>"
      ]
     },
     "execution_count": 61,
     "metadata": {},
     "output_type": "execute_result"
    }
   ],
   "source": [
    "#Lets try to finetune the existing model to improve our results\n",
    "\n",
    "model = Sequential()\n",
    "model.add(LSTM(300, return_sequences=True, input_shape=(x_train.shape[1], 1)))\n",
    "model.add(LSTM(200, return_sequences=False))\n",
    "model.add(Dense(75))\n",
    "model.add(Dense(25))\n",
    "model.add(Dense(1))\n",
    "\n",
    "model.compile(optimizer='adam', loss='mean_squared_error')\n",
    "\n",
    "model.fit(x_train,y_train, batch_size=16, epochs=100,verbose=1,validation_split=0.2,\n",
    "          callbacks=[EarlyStopping(patience=5,restore_best_weights=True)])"
   ]
  },
  {
   "cell_type": "code",
   "execution_count": 62,
   "id": "2a19cb02",
   "metadata": {},
   "outputs": [
    {
     "data": {
      "text/plain": [
       "0.8751134056458498"
      ]
     },
     "execution_count": 62,
     "metadata": {},
     "output_type": "execute_result"
    }
   ],
   "source": [
    "predictions = model.predict(x_test)\n",
    "predictions = scaler.inverse_transform(predictions)\n",
    "rmse = np.sqrt(np.mean(predictions - y_test)**2)\n",
    "rmse"
   ]
  },
  {
   "cell_type": "markdown",
   "id": "458331f0",
   "metadata": {},
   "source": [
    "## Bidirectional LSTM"
   ]
  },
  {
   "cell_type": "code",
   "execution_count": 12,
   "id": "48e1c6ff",
   "metadata": {},
   "outputs": [
    {
     "name": "stdout",
     "output_type": "stream",
     "text": [
      "Epoch 1/100\n",
      "138/138 [==============================] - 298s 2s/step - loss: 0.0113 - val_loss: 0.0109\n",
      "Epoch 2/100\n",
      "138/138 [==============================] - 287s 2s/step - loss: 0.0066 - val_loss: 0.0218\n",
      "Epoch 3/100\n",
      "138/138 [==============================] - 287s 2s/step - loss: 0.0065 - val_loss: 0.0152\n",
      "Epoch 4/100\n",
      "138/138 [==============================] - 280s 2s/step - loss: 0.0063 - val_loss: 0.0207\n",
      "Epoch 5/100\n",
      "138/138 [==============================] - 280s 2s/step - loss: 0.0067 - val_loss: 0.0082\n",
      "Epoch 6/100\n",
      "138/138 [==============================] - 281s 2s/step - loss: 0.0064 - val_loss: 0.0201\n",
      "Epoch 7/100\n",
      "138/138 [==============================] - 278s 2s/step - loss: 0.0060 - val_loss: 0.0156\n",
      "Epoch 8/100\n",
      "138/138 [==============================] - 278s 2s/step - loss: 0.0060 - val_loss: 0.0186\n",
      "Epoch 9/100\n",
      "138/138 [==============================] - 286s 2s/step - loss: 0.0061 - val_loss: 0.0215\n",
      "Epoch 10/100\n",
      "138/138 [==============================] - 277s 2s/step - loss: 0.0056 - val_loss: 0.0074\n",
      "Epoch 11/100\n",
      "138/138 [==============================] - 280s 2s/step - loss: 0.0060 - val_loss: 0.0137\n",
      "Epoch 12/100\n",
      "138/138 [==============================] - 278s 2s/step - loss: 0.0056 - val_loss: 0.0167\n",
      "Epoch 13/100\n",
      "138/138 [==============================] - 294s 2s/step - loss: 0.0058 - val_loss: 0.0208\n",
      "Epoch 14/100\n",
      "138/138 [==============================] - 301s 2s/step - loss: 0.0057 - val_loss: 0.0162\n",
      "Epoch 15/100\n",
      "138/138 [==============================] - 279s 2s/step - loss: 0.0056 - val_loss: 0.0142\n"
     ]
    },
    {
     "data": {
      "text/plain": [
       "<keras.callbacks.History at 0x7f3f951a91c0>"
      ]
     },
     "execution_count": 12,
     "metadata": {},
     "output_type": "execute_result"
    }
   ],
   "source": [
    "#biderectional\n",
    "from tensorflow.keras.layers import Bidirectional\n",
    "\n",
    "#Lets try to finetune the existing model to improve our results\n",
    "\n",
    "model = Sequential()\n",
    "model.add(Bidirectional(LSTM(300, return_sequences=True, input_shape=(x_train.shape[1], 1))))\n",
    "model.add(Bidirectional(LSTM(200, return_sequences=False)))\n",
    "model.add(Dense(75))\n",
    "model.add(Dense(25))\n",
    "model.add(Dense(1))\n",
    "\n",
    "model.compile(optimizer='adam', loss='mean_squared_error')\n",
    "\n",
    "model.fit(x_train,y_train, batch_size=16, epochs=100,verbose=1,validation_split=0.2,\n",
    "          callbacks=[EarlyStopping(patience=5,restore_best_weights=True)])"
   ]
  },
  {
   "cell_type": "code",
   "execution_count": 13,
   "id": "d0ebc137",
   "metadata": {},
   "outputs": [
    {
     "data": {
      "text/plain": [
       "0.09951271621682997"
      ]
     },
     "execution_count": 13,
     "metadata": {},
     "output_type": "execute_result"
    }
   ],
   "source": [
    "predictions = model.predict(x_test)\n",
    "predictions = scaler.inverse_transform(predictions)\n",
    "rmse = np.sqrt(np.mean(predictions - y_test)**2)\n",
    "rmse"
   ]
  },
  {
   "cell_type": "code",
   "execution_count": 14,
   "id": "365d9dde",
   "metadata": {},
   "outputs": [
    {
     "name": "stderr",
     "output_type": "stream",
     "text": [
      "/tmp/ipykernel_473/2387409059.py:4: SettingWithCopyWarning: \n",
      "A value is trying to be set on a copy of a slice from a DataFrame.\n",
      "Try using .loc[row_indexer,col_indexer] = value instead\n",
      "\n",
      "See the caveats in the documentation: https://pandas.pydata.org/pandas-docs/stable/user_guide/indexing.html#returning-a-view-versus-a-copy\n",
      "  validation['Predictions'] = predictions\n"
     ]
    },
    {
     "data": {
      "image/png": "[encoded data removed]",
      "text/plain": [
       "<Figure size 1152x576 with 1 Axes>"
      ]
     },
     "metadata": {
      "needs_background": "light"
     },
     "output_type": "display_data"
    }
   ],
   "source": [
    "data = dados.filter(['Close'])\n",
    "#train = data[:training_data_len]\n",
    "validation = data[training_data_len+45:]\n",
    "validation['Predictions'] = predictions\n",
    "plt.figure(figsize=(16,8))\n",
    "plt.title('Model')\n",
    "plt.xlabel('Date')\n",
    "plt.ylabel('Close Price USD ($)')\n",
    "#plt.plot(train)\n",
    "plt.plot(validation[['Close', 'Predictions']])\n",
    "plt.legend(['Val', 'Predictions'], loc='lower right')\n",
    "plt.show()"
   ]
  },
  {
   "cell_type": "code",
   "execution_count": 15,
   "id": "e9aa9068",
   "metadata": {},
   "outputs": [
    {
     "name": "stderr",
     "output_type": "stream",
     "text": [
      "2023-01-20 12:00:46.038325: W tensorflow/python/util/util.cc:368] Sets are not currently considered sequences, but this may change in the future, so consider avoiding using them.\n",
      "WARNING:absl:Found untraced functions such as lstm_cell_3_layer_call_fn, lstm_cell_3_layer_call_and_return_conditional_losses, lstm_cell_4_layer_call_fn, lstm_cell_4_layer_call_and_return_conditional_losses, lstm_cell_6_layer_call_fn while saving (showing 5 of 20). These functions will not be directly callable after loading.\n"
     ]
    },
    {
     "name": "stdout",
     "output_type": "stream",
     "text": [
      "INFO:tensorflow:Assets written to: ram://773b2cf8-e9d0-495e-9ab8-b1c2d3b475fb/assets\n"
     ]
    },
    {
     "name": "stderr",
     "output_type": "stream",
     "text": [
      "INFO:tensorflow:Assets written to: ram://773b2cf8-e9d0-495e-9ab8-b1c2d3b475fb/assets\n",
      "WARNING:absl:<keras.layers.recurrent.LSTMCell object at 0x7f3f951d8d60> has the same name 'LSTMCell' as a built-in Keras object. Consider renaming <class 'keras.layers.recurrent.LSTMCell'> to avoid naming conflicts when loading with `tf.keras.models.load_model`. If renaming is not possible, pass the object in the `custom_objects` parameter of the load function.\n",
      "WARNING:absl:<keras.layers.recurrent.LSTMCell object at 0x7f3f951e86d0> has the same name 'LSTMCell' as a built-in Keras object. Consider renaming <class 'keras.layers.recurrent.LSTMCell'> to avoid naming conflicts when loading with `tf.keras.models.load_model`. If renaming is not possible, pass the object in the `custom_objects` parameter of the load function.\n",
      "WARNING:absl:<keras.layers.recurrent.LSTMCell object at 0x7f3f951fcd00> has the same name 'LSTMCell' as a built-in Keras object. Consider renaming <class 'keras.layers.recurrent.LSTMCell'> to avoid naming conflicts when loading with `tf.keras.models.load_model`. If renaming is not possible, pass the object in the `custom_objects` parameter of the load function.\n",
      "WARNING:absl:<keras.layers.recurrent.LSTMCell object at 0x7f3f951876a0> has the same name 'LSTMCell' as a built-in Keras object. Consider renaming <class 'keras.layers.recurrent.LSTMCell'> to avoid naming conflicts when loading with `tf.keras.models.load_model`. If renaming is not possible, pass the object in the `custom_objects` parameter of the load function.\n"
     ]
    }
   ],
   "source": [
    "import pickle\n",
    "filename = 'modelbidirectional.sav'\n",
    "pickle.dump(model, open(filename, 'wb'))"
   ]
  },
  {
   "cell_type": "code",
   "execution_count": 16,
   "id": "07409c14",
   "metadata": {},
   "outputs": [
    {
     "data": {
      "text/plain": [
       "0.09951271621682997"
      ]
     },
     "execution_count": 16,
     "metadata": {},
     "output_type": "execute_result"
    }
   ],
   "source": [
    "# load the model from disk\n",
    "loaded_model = pickle.load(open(filename, 'rb'))\n",
    "y_pred=loaded_model.predict(x_test)\n",
    "y_pred=scaler.inverse_transform(y_pred)\n",
    "rmse = np.sqrt(np.mean(y_pred - y_test)**2)\n",
    "rmse"
   ]
  },
  {
   "cell_type": "code",
   "execution_count": 2,
   "id": "d232ae2f",
   "metadata": {},
   "outputs": [],
   "source": [
    "#!git add .\n",
    "#!git commit -m 'bidirectional model 60days'\n",
    "#!git push origin main"
   ]
  },
  {
   "cell_type": "code",
   "execution_count": 17,
   "id": "6d33e1fa",
   "metadata": {},
   "outputs": [],
   "source": [
    "best_score=0.09951271621682997"
   ]
  },
  {
   "cell_type": "markdown",
   "id": "840350e9",
   "metadata": {},
   "source": [
    "# Multivariate model"
   ]
  },
  {
   "cell_type": "markdown",
   "id": "fb630224",
   "metadata": {},
   "source": [
    "## Oil price"
   ]
  },
  {
   "cell_type": "code",
   "execution_count": 18,
   "id": "648e8f41",
   "metadata": {},
   "outputs": [
    {
     "data": {
      "text/plain": [
       "yfinance.Ticker object <BZ=F>"
      ]
     },
     "execution_count": 18,
     "metadata": {},
     "output_type": "execute_result"
    }
   ],
   "source": [
    "oil_price = yf.Ticker('BZ=F')\n",
    "oil_price\n"
   ]
  },
  {
   "cell_type": "code",
   "execution_count": 19,
   "id": "036c144a",
   "metadata": {},
   "outputs": [
    {
     "data": {
      "text/html": [
       "<div>\n",
       "<style scoped>\n",
       "    .dataframe tbody tr th:only-of-type {\n",
       "        vertical-align: middle;\n",
       "    }\n",
       "\n",
       "    .dataframe tbody tr th {\n",
       "        vertical-align: top;\n",
       "    }\n",
       "\n",
       "    .dataframe thead th {\n",
       "        text-align: right;\n",
       "    }\n",
       "</style>\n",
       "<table border=\"1\" class=\"dataframe\">\n",
       "  <thead>\n",
       "    <tr style=\"text-align: right;\">\n",
       "      <th></th>\n",
       "      <th>Open</th>\n",
       "      <th>High</th>\n",
       "      <th>Low</th>\n",
       "      <th>Close</th>\n",
       "      <th>Volume</th>\n",
       "      <th>Dividends</th>\n",
       "      <th>Stock Splits</th>\n",
       "    </tr>\n",
       "    <tr>\n",
       "      <th>Date</th>\n",
       "      <th></th>\n",
       "      <th></th>\n",
       "      <th></th>\n",
       "      <th></th>\n",
       "      <th></th>\n",
       "      <th></th>\n",
       "      <th></th>\n",
       "    </tr>\n",
       "  </thead>\n",
       "  <tbody>\n",
       "    <tr>\n",
       "      <th>2022-12-21 00:00:00-05:00</th>\n",
       "      <td>79.949997</td>\n",
       "      <td>82.540001</td>\n",
       "      <td>79.599998</td>\n",
       "      <td>82.199997</td>\n",
       "      <td>17234</td>\n",
       "      <td>0.0</td>\n",
       "      <td>0.0</td>\n",
       "    </tr>\n",
       "    <tr>\n",
       "      <th>2022-12-22 00:00:00-05:00</th>\n",
       "      <td>82.370003</td>\n",
       "      <td>83.860001</td>\n",
       "      <td>80.680000</td>\n",
       "      <td>80.980003</td>\n",
       "      <td>16647</td>\n",
       "      <td>0.0</td>\n",
       "      <td>0.0</td>\n",
       "    </tr>\n",
       "    <tr>\n",
       "      <th>2022-12-23 00:00:00-05:00</th>\n",
       "      <td>81.730003</td>\n",
       "      <td>84.370003</td>\n",
       "      <td>81.339996</td>\n",
       "      <td>83.919998</td>\n",
       "      <td>8621</td>\n",
       "      <td>0.0</td>\n",
       "      <td>0.0</td>\n",
       "    </tr>\n",
       "    <tr>\n",
       "      <th>2022-12-27 00:00:00-05:00</th>\n",
       "      <td>84.459999</td>\n",
       "      <td>85.669998</td>\n",
       "      <td>83.660004</td>\n",
       "      <td>84.330002</td>\n",
       "      <td>7512</td>\n",
       "      <td>0.0</td>\n",
       "      <td>0.0</td>\n",
       "    </tr>\n",
       "    <tr>\n",
       "      <th>2022-12-28 00:00:00-05:00</th>\n",
       "      <td>84.599998</td>\n",
       "      <td>84.639999</td>\n",
       "      <td>81.949997</td>\n",
       "      <td>83.260002</td>\n",
       "      <td>5384</td>\n",
       "      <td>0.0</td>\n",
       "      <td>0.0</td>\n",
       "    </tr>\n",
       "  </tbody>\n",
       "</table>\n",
       "</div>"
      ],
      "text/plain": [
       "                                Open       High        Low      Close  Volume  \\\n",
       "Date                                                                            \n",
       "2022-12-21 00:00:00-05:00  79.949997  82.540001  79.599998  82.199997   17234   \n",
       "2022-12-22 00:00:00-05:00  82.370003  83.860001  80.680000  80.980003   16647   \n",
       "2022-12-23 00:00:00-05:00  81.730003  84.370003  81.339996  83.919998    8621   \n",
       "2022-12-27 00:00:00-05:00  84.459999  85.669998  83.660004  84.330002    7512   \n",
       "2022-12-28 00:00:00-05:00  84.599998  84.639999  81.949997  83.260002    5384   \n",
       "\n",
       "                           Dividends  Stock Splits  \n",
       "Date                                                \n",
       "2022-12-21 00:00:00-05:00        0.0           0.0  \n",
       "2022-12-22 00:00:00-05:00        0.0           0.0  \n",
       "2022-12-23 00:00:00-05:00        0.0           0.0  \n",
       "2022-12-27 00:00:00-05:00        0.0           0.0  \n",
       "2022-12-28 00:00:00-05:00        0.0           0.0  "
      ]
     },
     "execution_count": 19,
     "metadata": {},
     "output_type": "execute_result"
    }
   ],
   "source": [
    "oildata= oil_price.history(start= '2007-01-01', end='2022-12-29')\n",
    "oildata.tail(5)"
   ]
  },
  {
   "cell_type": "markdown",
   "id": "d77fd224",
   "metadata": {},
   "source": [
    "### X_oil"
   ]
  },
  {
   "cell_type": "code",
   "execution_count": 206,
   "id": "caa9fbe2",
   "metadata": {},
   "outputs": [
    {
     "name": "stdout",
     "output_type": "stream",
     "text": [
      "3843\n",
      "3825\n"
     ]
    }
   ],
   "source": [
    "close_prices = dados['Close']\n",
    "values = close_prices.values\n",
    "oil_close_prices = oildata['Close']\n",
    "oil_values = oil_close_prices.values\n",
    "print(len(values))\n",
    "print(len(oil_values))"
   ]
  },
  {
   "cell_type": "code",
   "execution_count": 207,
   "id": "2559148e",
   "metadata": {},
   "outputs": [
    {
     "name": "stdout",
     "output_type": "stream",
     "text": [
      "3825\n",
      "3825\n"
     ]
    }
   ],
   "source": [
    "while len(values) >= len(oil_values)+1:\n",
    "    values=np.delete(values, 0, 0)\n",
    "print(len(values))\n",
    "print(len(oil_values))"
   ]
  },
  {
   "cell_type": "code",
   "execution_count": 208,
   "id": "ddf3f7d7",
   "metadata": {},
   "outputs": [
    {
     "name": "stdout",
     "output_type": "stream",
     "text": [
      "(3825, 2)\n"
     ]
    }
   ],
   "source": [
    "x_merged = []\n",
    "for t,o in zip(values,oil_values):\n",
    "    x_merged.append((t,o))\n",
    "x_merged=np.array(x_merged)\n",
    "print(x_merged.shape)"
   ]
  },
  {
   "cell_type": "code",
   "execution_count": 209,
   "id": "303af6e3",
   "metadata": {},
   "outputs": [
    {
     "data": {
      "text/plain": [
       "array([[ 8.92456055, 75.73999786],\n",
       "       [ 9.33925343, 77.05000305],\n",
       "       [ 9.18940449, 75.34999847],\n",
       "       ...,\n",
       "       [24.94000053, 83.91999817],\n",
       "       [25.11000061, 84.33000183],\n",
       "       [24.79999924, 83.26000214]])"
      ]
     },
     "execution_count": 209,
     "metadata": {},
     "output_type": "execute_result"
    }
   ],
   "source": [
    "x_merged"
   ]
  },
  {
   "cell_type": "code",
   "execution_count": 195,
   "id": "76eee616",
   "metadata": {},
   "outputs": [
    {
     "data": {
      "text/plain": [
       "(3060, 2)"
      ]
     },
     "execution_count": 195,
     "metadata": {},
     "output_type": "execute_result"
    }
   ],
   "source": [
    "training_data_len = math.ceil(x_merged.shape[0]* 0.8)\n",
    "train_values=x_merged[0: training_data_len]\n",
    "train_values.shape"
   ]
  },
  {
   "cell_type": "code",
   "execution_count": 210,
   "id": "44138cee",
   "metadata": {},
   "outputs": [
    {
     "data": {
      "text/plain": [
       "array([[ 8.92456055, 75.73999786],\n",
       "       [ 9.33925343, 77.05000305],\n",
       "       [ 9.18940449, 75.34999847],\n",
       "       ...,\n",
       "       [13.9279089 , 64.33999634],\n",
       "       [13.67493057, 63.72000122],\n",
       "       [13.74051476, 64.19999695]])"
      ]
     },
     "execution_count": 210,
     "metadata": {},
     "output_type": "execute_result"
    }
   ],
   "source": [
    "train_values"
   ]
  },
  {
   "cell_type": "code",
   "execution_count": 213,
   "id": "12f78494",
   "metadata": {},
   "outputs": [],
   "source": [
    "#Scaling data\n",
    "#scaler = MinMaxScaler()\n",
    "#train_data = scaler.fit_transform(train_values)\n",
    "train_data=train_values"
   ]
  },
  {
   "cell_type": "code",
   "execution_count": 214,
   "id": "ef968337",
   "metadata": {},
   "outputs": [
    {
     "name": "stdout",
     "output_type": "stream",
     "text": [
      "(2743, 272, 2)\n",
      "(2743,)\n"
     ]
    }
   ],
   "source": [
    "#training data\n",
    "x_train = []\n",
    "y_train = []\n",
    "\n",
    "for i in range(272, len(train_data)-45):\n",
    "    #cada resultado i tem 272 dias pra trás como features\n",
    "    x_train.append(train_data[i-272:i])\n",
    "    y_train.append(train_data[i+45,0])\n",
    "    \n",
    "x_train, y_train = np.array(x_train), np.array(y_train)\n",
    "print(x_train.shape)\n",
    "print(y_train.shape)"
   ]
  },
  {
   "cell_type": "code",
   "execution_count": 215,
   "id": "f7aaf131",
   "metadata": {},
   "outputs": [
    {
     "data": {
      "text/plain": [
       "array([[[  8.92456055,  75.73999786],\n",
       "        [  9.33925343,  77.05000305],\n",
       "        [  9.18940449,  75.34999847],\n",
       "        ...,\n",
       "        [ 12.23472881, 120.16000366],\n",
       "        [ 11.8413229 , 113.91999817],\n",
       "        [ 11.65892792, 114.02999878]],\n",
       "\n",
       "       [[  9.33925343,  77.05000305],\n",
       "        [  9.18940449,  75.34999847],\n",
       "        [  9.21728611,  75.76000214],\n",
       "        ...,\n",
       "        [ 11.8413229 , 113.91999817],\n",
       "        [ 11.65892792, 114.02999878],\n",
       "        [ 11.24765205, 114.62999725]],\n",
       "\n",
       "       [[  9.18940449,  75.34999847],\n",
       "        [  9.21728611,  75.76000214],\n",
       "        [  9.20160675,  74.75      ],\n",
       "        ...,\n",
       "        [ 11.65892792, 114.02999878],\n",
       "        [ 11.24765205, 114.62999725],\n",
       "        [ 11.39427948, 116.22000122]],\n",
       "\n",
       "       ...,\n",
       "\n",
       "       [[  8.84843826,  76.5       ],\n",
       "        [  8.8440094 ,  76.83000183],\n",
       "        [  8.43235302,  77.37000275],\n",
       "        ...,\n",
       "        [ 13.05880642,  57.68999863],\n",
       "        [ 12.88661098,  57.70999908],\n",
       "        [ 12.66787815,  58.36999893]],\n",
       "\n",
       "       [[  8.8440094 ,  76.83000183],\n",
       "        [  8.43235302,  77.37000275],\n",
       "        [  8.38808823,  79.05999756],\n",
       "        ...,\n",
       "        [ 12.88661098,  57.70999908],\n",
       "        [ 12.66787815,  58.36999893],\n",
       "        [ 12.70045757,  58.34999847]],\n",
       "\n",
       "       [[  8.43235302,  77.37000275],\n",
       "        [  8.38808823,  79.05999756],\n",
       "        [  8.17119312,  79.73999786],\n",
       "        ...,\n",
       "        [ 12.66787815,  58.36999893],\n",
       "        [ 12.70045757,  58.34999847],\n",
       "        [ 12.56549454,  58.24000168]]])"
      ]
     },
     "execution_count": 215,
     "metadata": {},
     "output_type": "execute_result"
    }
   ],
   "source": [
    "x_train"
   ]
  },
  {
   "cell_type": "code",
   "execution_count": 216,
   "id": "804427b4",
   "metadata": {},
   "outputs": [
    {
     "name": "stdout",
     "output_type": "stream",
     "text": [
      "(720, 272, 2)\n",
      "(720,)\n"
     ]
    }
   ],
   "source": [
    "\n",
    "test_values=x_merged[training_data_len-272:] #vou precisar de 90 dias antes pra fazer o modelo\n",
    "\n",
    "test_data = scaler.transform(test_values)\n",
    "\n",
    "x_test = []\n",
    "y_test = x_merged[training_data_len:-45,0] \n",
    "\n",
    "for i in range(272, (len(test_data)-45)):\n",
    "  x_test.append(test_data[i-272:i])\n",
    "\n",
    "x_test = np.array(x_test)\n",
    "print(x_test.shape)\n",
    "print(y_test.shape)"
   ]
  },
  {
   "cell_type": "code",
   "execution_count": 217,
   "id": "d3ede1e4",
   "metadata": {},
   "outputs": [
    {
     "name": "stdout",
     "output_type": "stream",
     "text": [
      "Epoch 1/100\n",
      "138/138 [==============================] - 158s 1s/step - loss: 5.1237 - val_loss: 6.4890\n",
      "Epoch 2/100\n",
      "138/138 [==============================] - 156s 1s/step - loss: 1.4027 - val_loss: 1.5403\n",
      "Epoch 3/100\n",
      "138/138 [==============================] - 151s 1s/step - loss: 1.3246 - val_loss: 1.6203\n",
      "Epoch 4/100\n",
      "138/138 [==============================] - 156s 1s/step - loss: 1.1674 - val_loss: 1.5618\n",
      "Epoch 5/100\n",
      "138/138 [==============================] - 192s 1s/step - loss: 0.9944 - val_loss: 3.7645\n",
      "Epoch 6/100\n",
      "138/138 [==============================] - 151s 1s/step - loss: 0.9341 - val_loss: 7.1096\n",
      "Epoch 7/100\n",
      "138/138 [==============================] - 155s 1s/step - loss: 0.9991 - val_loss: 2.5542\n"
     ]
    },
    {
     "data": {
      "text/plain": [
       "<keras.callbacks.History at 0x7f40017ea940>"
      ]
     },
     "execution_count": 217,
     "metadata": {},
     "output_type": "execute_result"
    }
   ],
   "source": [
    "model = Sequential()\n",
    "model.add(LSTM(300, return_sequences=True, input_shape=(x_train.shape[1],x_train.shape[2])))\n",
    "model.add(LSTM(200, return_sequences=False))\n",
    "model.add(Dense(75))\n",
    "model.add(Dense(25))\n",
    "model.add(Dense(1))\n",
    "\n",
    "model.compile(optimizer='adam', loss='mean_squared_error')\n",
    "\n",
    "model.fit(x_train,y_train, batch_size=16, epochs=100,verbose=1,validation_split=0.2,\n",
    "          callbacks=[EarlyStopping(patience=5,restore_best_weights=True)])"
   ]
  },
  {
   "cell_type": "code",
   "execution_count": 218,
   "id": "38f17cba",
   "metadata": {},
   "outputs": [
    {
     "data": {
      "text/plain": [
       "3.679971440633138"
      ]
     },
     "execution_count": 218,
     "metadata": {},
     "output_type": "execute_result"
    }
   ],
   "source": [
    "y_pred=model.predict(x_test)\n",
    "#y_pred=scaler.inverse_transform(y_pred)\n",
    "rmse = np.sqrt(np.mean(y_pred - y_test)**2)\n",
    "rmse"
   ]
  },
  {
   "cell_type": "code",
   "execution_count": 230,
   "id": "4b261e23",
   "metadata": {},
   "outputs": [
    {
     "data": {
      "text/plain": [
       "(720,)"
      ]
     },
     "execution_count": 230,
     "metadata": {},
     "output_type": "execute_result"
    }
   ],
   "source": []
  },
  {
   "cell_type": "code",
   "execution_count": 242,
   "id": "67d88065",
   "metadata": {},
   "outputs": [
    {
     "name": "stderr",
     "output_type": "stream",
     "text": [
      "/tmp/ipykernel_473/2625241048.py:4: SettingWithCopyWarning: \n",
      "A value is trying to be set on a copy of a slice from a DataFrame.\n",
      "Try using .loc[row_indexer,col_indexer] = value instead\n",
      "\n",
      "See the caveats in the documentation: https://pandas.pydata.org/pandas-docs/stable/user_guide/indexing.html#returning-a-view-versus-a-copy\n",
      "  validation['Predictions'] = y_pred\n"
     ]
    },
    {
     "data": {
      "image/png": "[encoded data removed]",
      "text/plain": [
       "<Figure size 1152x576 with 1 Axes>"
      ]
     },
     "metadata": {
      "needs_background": "light"
     },
     "output_type": "display_data"
    }
   ],
   "source": [
    "data = dados.filter(['Close'])\n",
    "#train = data[:training_data_len]\n",
    "validation = data[training_data_len+45+18:]\n",
    "validation['Predictions'] = y_pred\n",
    "plt.figure(figsize=(16,8))\n",
    "plt.title('Model')\n",
    "plt.xlabel('Date')\n",
    "plt.ylabel('Close Price USD ($)')\n",
    "#plt.plot(train)\n",
    "plt.plot(validation[['Close', 'Predictions']])\n",
    "plt.legend(['Val', 'Predictions'], loc='lower right')\n",
    "plt.show()"
   ]
  },
  {
   "cell_type": "code",
   "execution_count": 244,
   "id": "e7804898",
   "metadata": {},
   "outputs": [
    {
     "name": "stdout",
     "output_type": "stream",
     "text": [
      "[main 7d97da7] second try oil prices stack\n",
      " 2 files changed, 1524 insertions(+), 2647 deletions(-)\n",
      "Enumerating objects: 7, done.\n",
      "Counting objects: 100% (7/7), done.\n",
      "Delta compression using up to 4 threads\n",
      "Compressing objects: 100% (4/4), done.\n",
      "Writing objects: 100% (4/4), 156.14 KiB | 3.90 MiB/s, done.\n",
      "Total 4 (delta 1), reused 0 (delta 0), pack-reused 0\n",
      "remote: Resolving deltas: 100% (1/1), completed with 1 local object.\u001b[K\n",
      "To https://github.com/LucasGama1207/petr4_prediction.git\n",
      "   f043603..7d97da7  main -> main\n"
     ]
    }
   ],
   "source": [
    "!git add .\n",
    "!git commit -m 'second try oil prices stack'\n",
    "!git push origin main"
   ]
  },
  {
   "cell_type": "code",
   "execution_count": null,
   "id": "d8c26b8c",
   "metadata": {},
   "outputs": [],
   "source": []
  },
  {
   "cell_type": "code",
   "execution_count": null,
   "id": "abf03c02",
   "metadata": {},
   "outputs": [],
   "source": []
  },
  {
   "cell_type": "code",
   "execution_count": null,
   "id": "442e9b46",
   "metadata": {},
   "outputs": [],
   "source": []
  },
  {
   "cell_type": "code",
   "execution_count": null,
   "id": "b43e4099",
   "metadata": {},
   "outputs": [],
   "source": []
  },
  {
   "cell_type": "markdown",
   "id": "be3921b9",
   "metadata": {},
   "source": [
    "## Exxon stock price"
   ]
  },
  {
   "cell_type": "code",
   "execution_count": 12,
   "id": "3dfe5bdd",
   "metadata": {},
   "outputs": [
    {
     "data": {
      "text/html": [
       "<div>\n",
       "<style scoped>\n",
       "    .dataframe tbody tr th:only-of-type {\n",
       "        vertical-align: middle;\n",
       "    }\n",
       "\n",
       "    .dataframe tbody tr th {\n",
       "        vertical-align: top;\n",
       "    }\n",
       "\n",
       "    .dataframe thead th {\n",
       "        text-align: right;\n",
       "    }\n",
       "</style>\n",
       "<table border=\"1\" class=\"dataframe\">\n",
       "  <thead>\n",
       "    <tr style=\"text-align: right;\">\n",
       "      <th></th>\n",
       "      <th>Open</th>\n",
       "      <th>High</th>\n",
       "      <th>Low</th>\n",
       "      <th>Close</th>\n",
       "      <th>Volume</th>\n",
       "      <th>Dividends</th>\n",
       "      <th>Stock Splits</th>\n",
       "    </tr>\n",
       "    <tr>\n",
       "      <th>Date</th>\n",
       "      <th></th>\n",
       "      <th></th>\n",
       "      <th></th>\n",
       "      <th></th>\n",
       "      <th></th>\n",
       "      <th></th>\n",
       "      <th></th>\n",
       "    </tr>\n",
       "  </thead>\n",
       "  <tbody>\n",
       "    <tr>\n",
       "      <th>2022-12-21 00:00:00-05:00</th>\n",
       "      <td>108.290001</td>\n",
       "      <td>108.589996</td>\n",
       "      <td>107.160004</td>\n",
       "      <td>108.059998</td>\n",
       "      <td>13565400</td>\n",
       "      <td>0.0</td>\n",
       "      <td>0.0</td>\n",
       "    </tr>\n",
       "    <tr>\n",
       "      <th>2022-12-22 00:00:00-05:00</th>\n",
       "      <td>107.889999</td>\n",
       "      <td>108.190002</td>\n",
       "      <td>104.099998</td>\n",
       "      <td>105.879997</td>\n",
       "      <td>13213000</td>\n",
       "      <td>0.0</td>\n",
       "      <td>0.0</td>\n",
       "    </tr>\n",
       "    <tr>\n",
       "      <th>2022-12-23 00:00:00-05:00</th>\n",
       "      <td>106.949997</td>\n",
       "      <td>108.739998</td>\n",
       "      <td>106.900002</td>\n",
       "      <td>108.680000</td>\n",
       "      <td>11539400</td>\n",
       "      <td>0.0</td>\n",
       "      <td>0.0</td>\n",
       "    </tr>\n",
       "    <tr>\n",
       "      <th>2022-12-27 00:00:00-05:00</th>\n",
       "      <td>109.269997</td>\n",
       "      <td>110.470001</td>\n",
       "      <td>108.830002</td>\n",
       "      <td>110.190002</td>\n",
       "      <td>11962100</td>\n",
       "      <td>0.0</td>\n",
       "      <td>0.0</td>\n",
       "    </tr>\n",
       "    <tr>\n",
       "      <th>2022-12-28 00:00:00-05:00</th>\n",
       "      <td>109.910004</td>\n",
       "      <td>110.000000</td>\n",
       "      <td>107.900002</td>\n",
       "      <td>108.379997</td>\n",
       "      <td>10702100</td>\n",
       "      <td>0.0</td>\n",
       "      <td>0.0</td>\n",
       "    </tr>\n",
       "  </tbody>\n",
       "</table>\n",
       "</div>"
      ],
      "text/plain": [
       "                                 Open        High         Low       Close  \\\n",
       "Date                                                                        \n",
       "2022-12-21 00:00:00-05:00  108.290001  108.589996  107.160004  108.059998   \n",
       "2022-12-22 00:00:00-05:00  107.889999  108.190002  104.099998  105.879997   \n",
       "2022-12-23 00:00:00-05:00  106.949997  108.739998  106.900002  108.680000   \n",
       "2022-12-27 00:00:00-05:00  109.269997  110.470001  108.830002  110.190002   \n",
       "2022-12-28 00:00:00-05:00  109.910004  110.000000  107.900002  108.379997   \n",
       "\n",
       "                             Volume  Dividends  Stock Splits  \n",
       "Date                                                          \n",
       "2022-12-21 00:00:00-05:00  13565400        0.0           0.0  \n",
       "2022-12-22 00:00:00-05:00  13213000        0.0           0.0  \n",
       "2022-12-23 00:00:00-05:00  11539400        0.0           0.0  \n",
       "2022-12-27 00:00:00-05:00  11962100        0.0           0.0  \n",
       "2022-12-28 00:00:00-05:00  10702100        0.0           0.0  "
      ]
     },
     "execution_count": 12,
     "metadata": {},
     "output_type": "execute_result"
    }
   ],
   "source": [
    "exxon = yf.Ticker('XOM')\n",
    "exxondata = exxon.history(start= '2007-01-01', end='2022-12-29')\n",
    "exxondata.tail(5)\n"
   ]
  },
  {
   "cell_type": "code",
   "execution_count": null,
   "id": "e9482726",
   "metadata": {},
   "outputs": [],
   "source": []
  },
  {
   "cell_type": "markdown",
   "id": "a2ed57cf",
   "metadata": {},
   "source": []
  }
 ],
 "metadata": {
  "kernelspec": {
   "display_name": "Python 3 (ipykernel)",
   "language": "python",
   "name": "python3"
  },
  "language_info": {
   "codemirror_mode": {
    "name": "ipython",
    "version": 3
   },
   "file_extension": ".py",
   "mimetype": "text/x-python",
   "name": "python",
   "nbconvert_exporter": "python",
   "pygments_lexer": "ipython3",
   "version": "3.8.12"
  },
  "toc": {
   "base_numbering": 1,
   "nav_menu": {},
   "number_sections": true,
   "sideBar": true,
   "skip_h1_title": false,
   "title_cell": "Table of Contents",
   "title_sidebar": "Contents",
   "toc_cell": false,
   "toc_position": {
    "height": "calc(100% - 180px)",
    "left": "10px",
    "top": "150px",
    "width": "273.188px"
   },
   "toc_section_display": true,
   "toc_window_display": true
  }
 },
 "nbformat": 4,
 "nbformat_minor": 5
}
