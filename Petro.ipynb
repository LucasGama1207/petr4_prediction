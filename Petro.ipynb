{
 "cells": [
  {
   "cell_type": "markdown",
   "id": "41c47c21",
   "metadata": {},
   "source": [
    "# Goals"
   ]
  },
  {
   "cell_type": "markdown",
   "id": "3ee9d377",
   "metadata": {},
   "source": [
    "- The main goal of this project is to make a prediction of stock prices of PETR4.\n",
    "- Additionally, I would like to work with 2-month predictions in order to figure out a way to find out nice opportunities for options on this stock. PETR4 options are amidst the most traded in the world.\n",
    "- An extension to this project would be to build a bot to trade this stock."
   ]
  },
  {
   "cell_type": "markdown",
   "id": "5e4d2af5",
   "metadata": {},
   "source": [
    "## How"
   ]
  },
  {
   "cell_type": "markdown",
   "id": "1dc40f71",
   "metadata": {},
   "source": [
    "- First I'm going to make use of time series with the daily stock prices, probably LSTM or bidirectional LSTM, which are the most relevant. \n",
    "- Maybe I could try to put another variable like international price of oil or other oil stocks."
   ]
  },
  {
   "cell_type": "markdown",
   "id": "76e0900e",
   "metadata": {},
   "source": [
    "# Getting Data"
   ]
  },
  {
   "cell_type": "code",
   "execution_count": 4,
   "id": "4037ff09",
   "metadata": {},
   "outputs": [],
   "source": [
    "#!pip install yfinance"
   ]
  },
  {
   "cell_type": "code",
   "execution_count": 5,
   "id": "b5393592",
   "metadata": {},
   "outputs": [],
   "source": [
    "import yfinance as yf"
   ]
  },
  {
   "cell_type": "code",
   "execution_count": 6,
   "id": "ff8c76dc",
   "metadata": {},
   "outputs": [
    {
     "data": {
      "text/plain": [
       "yfinance.Ticker object <PETR4.SA>"
      ]
     },
     "execution_count": 6,
     "metadata": {},
     "output_type": "execute_result"
    }
   ],
   "source": [
    "papel = yf.Ticker('PETR4.SA')\n",
    "papel"
   ]
  },
  {
   "cell_type": "code",
   "execution_count": 7,
   "id": "6eb2ad8e",
   "metadata": {},
   "outputs": [],
   "source": [
    "dados= papel.history(start= '2007-01-01', end='2022-12-29')"
   ]
  },
  {
   "cell_type": "code",
   "execution_count": 8,
   "id": "471ea214",
   "metadata": {},
   "outputs": [
    {
     "name": "stdout",
     "output_type": "stream",
     "text": [
      "<class 'pandas.core.frame.DataFrame'>\n",
      "DatetimeIndex: 3966 entries, 2007-01-02 00:00:00-02:00 to 2022-12-28 00:00:00-03:00\n",
      "Data columns (total 7 columns):\n",
      " #   Column        Non-Null Count  Dtype  \n",
      "---  ------        --------------  -----  \n",
      " 0   Open          3966 non-null   float64\n",
      " 1   High          3966 non-null   float64\n",
      " 2   Low           3966 non-null   float64\n",
      " 3   Close         3966 non-null   float64\n",
      " 4   Volume        3966 non-null   int64  \n",
      " 5   Dividends     3966 non-null   float64\n",
      " 6   Stock Splits  3966 non-null   float64\n",
      "dtypes: float64(6), int64(1)\n",
      "memory usage: 247.9 KB\n"
     ]
    }
   ],
   "source": [
    "dados.info()"
   ]
  },
  {
   "cell_type": "markdown",
   "id": "598977a9",
   "metadata": {},
   "source": [
    "# Exploratory Analysis"
   ]
  },
  {
   "cell_type": "code",
   "execution_count": 9,
   "id": "ca0c399e",
   "metadata": {},
   "outputs": [],
   "source": [
    "# Close price through the years"
   ]
  },
  {
   "cell_type": "code",
   "execution_count": 10,
   "id": "09138cb1",
   "metadata": {},
   "outputs": [
    {
     "data": {
      "text/plain": [
       "<AxesSubplot:xlabel='Date'>"
      ]
     },
     "execution_count": 10,
     "metadata": {},
     "output_type": "execute_result"
    },
    {
     "data": {
      "image/png": "[encoded data removed]",
      "text/plain": [
       "<Figure size 432x288 with 1 Axes>"
      ]
     },
     "metadata": {
      "needs_background": "light"
     },
     "output_type": "display_data"
    }
   ],
   "source": [
    "dados['Close'].plot()"
   ]
  },
  {
   "cell_type": "code",
   "execution_count": 11,
   "id": "81eb4bf7",
   "metadata": {},
   "outputs": [],
   "source": [
    "# dividend distribution"
   ]
  },
  {
   "cell_type": "code",
   "execution_count": 12,
   "id": "221818d9",
   "metadata": {},
   "outputs": [
    {
     "data": {
      "text/html": [
       "<div>\n",
       "<style scoped>\n",
       "    .dataframe tbody tr th:only-of-type {\n",
       "        vertical-align: middle;\n",
       "    }\n",
       "\n",
       "    .dataframe tbody tr th {\n",
       "        vertical-align: top;\n",
       "    }\n",
       "\n",
       "    .dataframe thead th {\n",
       "        text-align: right;\n",
       "    }\n",
       "</style>\n",
       "<table border=\"1\" class=\"dataframe\">\n",
       "  <thead>\n",
       "    <tr style=\"text-align: right;\">\n",
       "      <th></th>\n",
       "      <th>Dividends</th>\n",
       "    </tr>\n",
       "    <tr>\n",
       "      <th>Date</th>\n",
       "      <th></th>\n",
       "    </tr>\n",
       "  </thead>\n",
       "  <tbody>\n",
       "    <tr>\n",
       "      <th>2007-01-02 00:00:00-02:00</th>\n",
       "      <td>0.2250</td>\n",
       "    </tr>\n",
       "    <tr>\n",
       "      <th>2007-04-03 00:00:00-03:00</th>\n",
       "      <td>0.1750</td>\n",
       "    </tr>\n",
       "    <tr>\n",
       "      <th>2007-08-20 00:00:00-03:00</th>\n",
       "      <td>0.2517</td>\n",
       "    </tr>\n",
       "    <tr>\n",
       "      <th>2007-10-08 00:00:00-03:00</th>\n",
       "      <td>0.2565</td>\n",
       "    </tr>\n",
       "    <tr>\n",
       "      <th>2008-01-14 00:00:00-02:00</th>\n",
       "      <td>0.1553</td>\n",
       "    </tr>\n",
       "  </tbody>\n",
       "</table>\n",
       "</div>"
      ],
      "text/plain": [
       "                           Dividends\n",
       "Date                                \n",
       "2007-01-02 00:00:00-02:00     0.2250\n",
       "2007-04-03 00:00:00-03:00     0.1750\n",
       "2007-08-20 00:00:00-03:00     0.2517\n",
       "2007-10-08 00:00:00-03:00     0.2565\n",
       "2008-01-14 00:00:00-02:00     0.1553"
      ]
     },
     "execution_count": 12,
     "metadata": {},
     "output_type": "execute_result"
    }
   ],
   "source": [
    "div=dados[['Dividends']]\n",
    "div=div[div['Dividends']>0]\n",
    "div.head()"
   ]
  },
  {
   "cell_type": "code",
   "execution_count": 13,
   "id": "9d9e5e5a",
   "metadata": {},
   "outputs": [
    {
     "data": {
      "text/plain": [
       "DatetimeIndex(['2007-01-02 00:00:00-02:00', '2007-04-03 00:00:00-03:00',\n",
       "               '2007-08-20 00:00:00-03:00', '2007-10-08 00:00:00-03:00',\n",
       "               '2008-01-14 00:00:00-02:00', '2008-04-07 00:00:00-03:00',\n",
       "               '2008-12-29 00:00:00-02:00', '2009-04-09 00:00:00-03:00',\n",
       "               '2009-07-06 00:00:00-03:00', '2009-10-01 00:00:00-03:00',\n",
       "               '2009-12-21 00:00:00-02:00', '2010-04-23 00:00:00-03:00',\n",
       "               '2010-05-24 00:00:00-03:00', '2010-08-02 00:00:00-03:00',\n",
       "               '2010-11-03 00:00:00-02:00', '2010-12-22 00:00:00-02:00',\n",
       "               '2011-03-22 00:00:00-03:00', '2011-04-29 00:00:00-03:00',\n",
       "               '2011-05-12 00:00:00-03:00', '2011-08-03 00:00:00-03:00',\n",
       "               '2011-11-14 00:00:00-02:00', '2012-01-03 00:00:00-02:00',\n",
       "               '2012-03-20 00:00:00-03:00', '2012-05-14 00:00:00-03:00',\n",
       "               '2013-04-30 00:00:00-03:00', '2014-04-03 00:00:00-03:00',\n",
       "               '2018-05-22 00:00:00-03:00', '2018-08-14 00:00:00-03:00',\n",
       "               '2018-11-22 00:00:00-02:00', '2018-12-26 00:00:00-02:00',\n",
       "               '2019-04-26 00:00:00-03:00', '2019-05-22 00:00:00-03:00',\n",
       "               '2019-08-13 00:00:00-03:00', '2019-11-12 00:00:00-03:00',\n",
       "               '2019-12-27 00:00:00-03:00', '2020-04-23 00:00:00-03:00',\n",
       "               '2020-04-28 00:00:00-03:00', '2020-07-23 00:00:00-03:00',\n",
       "               '2021-04-15 00:00:00-03:00', '2021-08-17 00:00:00-03:00',\n",
       "               '2021-12-02 00:00:00-03:00', '2022-04-14 00:00:00-03:00',\n",
       "               '2022-05-24 00:00:00-03:00', '2022-08-12 00:00:00-03:00',\n",
       "               '2022-11-22 00:00:00-03:00'],\n",
       "              dtype='datetime64[ns, America/Sao_Paulo]', name='Date', freq=None)"
      ]
     },
     "execution_count": 13,
     "metadata": {},
     "output_type": "execute_result"
    }
   ],
   "source": [
    "div.index"
   ]
  },
  {
   "cell_type": "code",
   "execution_count": 14,
   "id": "b6e62334",
   "metadata": {},
   "outputs": [],
   "source": [
    "#for date in div.index:\n",
    "    #print(date)"
   ]
  },
  {
   "cell_type": "code",
   "execution_count": 15,
   "id": "7a8f6839",
   "metadata": {},
   "outputs": [
    {
     "data": {
      "text/plain": [
       "Timestamp('2007-01-02 00:00:00-0200', tz='America/Sao_Paulo')"
      ]
     },
     "execution_count": 15,
     "metadata": {},
     "output_type": "execute_result"
    }
   ],
   "source": [
    "div.index[0]"
   ]
  },
  {
   "cell_type": "code",
   "execution_count": 16,
   "id": "1f2ed465",
   "metadata": {},
   "outputs": [
    {
     "data": {
      "text/plain": [
       "157"
      ]
     },
     "execution_count": 16,
     "metadata": {},
     "output_type": "execute_result"
    }
   ],
   "source": [
    "dados.index.get_loc(div.index[2])"
   ]
  },
  {
   "cell_type": "code",
   "execution_count": 17,
   "id": "6200f710",
   "metadata": {},
   "outputs": [
    {
     "data": {
      "text/plain": [
       "157"
      ]
     },
     "execution_count": 17,
     "metadata": {},
     "output_type": "execute_result"
    }
   ],
   "source": [
    "dados.index.get_loc('2007-08-20 00:00:00-03:00')"
   ]
  },
  {
   "cell_type": "code",
   "execution_count": 18,
   "id": "11e1d370",
   "metadata": {},
   "outputs": [
    {
     "data": {
      "text/plain": [
       "Open            8.221950e+00\n",
       "High            8.241325e+00\n",
       "Low             8.031725e+00\n",
       "Close           8.149735e+00\n",
       "Volume          2.473800e+07\n",
       "Dividends       2.517000e-01\n",
       "Stock Splits    0.000000e+00\n",
       "Name: 2007-08-20 00:00:00-03:00, dtype: float64"
      ]
     },
     "execution_count": 18,
     "metadata": {},
     "output_type": "execute_result"
    }
   ],
   "source": [
    "dados.iloc[157]"
   ]
  },
  {
   "cell_type": "code",
   "execution_count": 19,
   "id": "b32985b2",
   "metadata": {},
   "outputs": [],
   "source": [
    "locations_div=[]\n",
    "for data in div.index:\n",
    "    locations_div.append(dados.index.get_loc(data))"
   ]
  },
  {
   "cell_type": "code",
   "execution_count": 20,
   "id": "f4e081cb",
   "metadata": {},
   "outputs": [],
   "source": [
    "close_div=[]\n",
    "for loc in locations_div:\n",
    "    close_div.append(dados.iloc[loc]['Close'])"
   ]
  },
  {
   "cell_type": "code",
   "execution_count": 21,
   "id": "074df7a8",
   "metadata": {},
   "outputs": [],
   "source": [
    "div['Price']=close_div"
   ]
  },
  {
   "cell_type": "code",
   "execution_count": 22,
   "id": "0701331b",
   "metadata": {},
   "outputs": [],
   "source": [
    "div['DY']=div['Dividends']/div['Price']"
   ]
  },
  {
   "cell_type": "code",
   "execution_count": 23,
   "id": "68af12c4",
   "metadata": {},
   "outputs": [
    {
     "data": {
      "text/html": [
       "<div>\n",
       "<style scoped>\n",
       "    .dataframe tbody tr th:only-of-type {\n",
       "        vertical-align: middle;\n",
       "    }\n",
       "\n",
       "    .dataframe tbody tr th {\n",
       "        vertical-align: top;\n",
       "    }\n",
       "\n",
       "    .dataframe thead th {\n",
       "        text-align: right;\n",
       "    }\n",
       "</style>\n",
       "<table border=\"1\" class=\"dataframe\">\n",
       "  <thead>\n",
       "    <tr style=\"text-align: right;\">\n",
       "      <th></th>\n",
       "      <th>Dividends</th>\n",
       "      <th>Price</th>\n",
       "      <th>DY</th>\n",
       "    </tr>\n",
       "    <tr>\n",
       "      <th>Date</th>\n",
       "      <th></th>\n",
       "      <th></th>\n",
       "      <th></th>\n",
       "    </tr>\n",
       "  </thead>\n",
       "  <tbody>\n",
       "    <tr>\n",
       "      <th>2007-01-02 00:00:00-02:00</th>\n",
       "      <td>0.225000</td>\n",
       "      <td>8.701067</td>\n",
       "      <td>0.025859</td>\n",
       "    </tr>\n",
       "    <tr>\n",
       "      <th>2007-04-03 00:00:00-03:00</th>\n",
       "      <td>0.175000</td>\n",
       "      <td>7.908743</td>\n",
       "      <td>0.022127</td>\n",
       "    </tr>\n",
       "    <tr>\n",
       "      <th>2007-08-20 00:00:00-03:00</th>\n",
       "      <td>0.251700</td>\n",
       "      <td>8.149735</td>\n",
       "      <td>0.030884</td>\n",
       "    </tr>\n",
       "    <tr>\n",
       "      <th>2007-10-08 00:00:00-03:00</th>\n",
       "      <td>0.256500</td>\n",
       "      <td>10.987377</td>\n",
       "      <td>0.023345</td>\n",
       "    </tr>\n",
       "    <tr>\n",
       "      <th>2008-01-14 00:00:00-02:00</th>\n",
       "      <td>0.155300</td>\n",
       "      <td>14.462683</td>\n",
       "      <td>0.010738</td>\n",
       "    </tr>\n",
       "    <tr>\n",
       "      <th>2008-04-07 00:00:00-03:00</th>\n",
       "      <td>0.102600</td>\n",
       "      <td>14.037210</td>\n",
       "      <td>0.007309</td>\n",
       "    </tr>\n",
       "    <tr>\n",
       "      <th>2008-12-29 00:00:00-02:00</th>\n",
       "      <td>0.042600</td>\n",
       "      <td>8.069036</td>\n",
       "      <td>0.005279</td>\n",
       "    </tr>\n",
       "    <tr>\n",
       "      <th>2009-04-09 00:00:00-03:00</th>\n",
       "      <td>0.351600</td>\n",
       "      <td>11.181712</td>\n",
       "      <td>0.031444</td>\n",
       "    </tr>\n",
       "    <tr>\n",
       "      <th>2009-07-06 00:00:00-03:00</th>\n",
       "      <td>0.300000</td>\n",
       "      <td>10.998056</td>\n",
       "      <td>0.027278</td>\n",
       "    </tr>\n",
       "    <tr>\n",
       "      <th>2009-10-01 00:00:00-03:00</th>\n",
       "      <td>0.200000</td>\n",
       "      <td>12.537815</td>\n",
       "      <td>0.015952</td>\n",
       "    </tr>\n",
       "    <tr>\n",
       "      <th>2009-12-21 00:00:00-02:00</th>\n",
       "      <td>0.200000</td>\n",
       "      <td>13.032521</td>\n",
       "      <td>0.015346</td>\n",
       "    </tr>\n",
       "    <tr>\n",
       "      <th>2010-04-23 00:00:00-03:00</th>\n",
       "      <td>0.133200</td>\n",
       "      <td>12.637948</td>\n",
       "      <td>0.010540</td>\n",
       "    </tr>\n",
       "    <tr>\n",
       "      <th>2010-05-24 00:00:00-03:00</th>\n",
       "      <td>0.170000</td>\n",
       "      <td>10.154362</td>\n",
       "      <td>0.016742</td>\n",
       "    </tr>\n",
       "    <tr>\n",
       "      <th>2010-08-02 00:00:00-03:00</th>\n",
       "      <td>0.170000</td>\n",
       "      <td>10.702161</td>\n",
       "      <td>0.015885</td>\n",
       "    </tr>\n",
       "    <tr>\n",
       "      <th>2010-11-03 00:00:00-02:00</th>\n",
       "      <td>0.140000</td>\n",
       "      <td>10.214265</td>\n",
       "      <td>0.013706</td>\n",
       "    </tr>\n",
       "    <tr>\n",
       "      <th>2010-12-22 00:00:00-02:00</th>\n",
       "      <td>0.200000</td>\n",
       "      <td>9.806135</td>\n",
       "      <td>0.020395</td>\n",
       "    </tr>\n",
       "    <tr>\n",
       "      <th>2011-03-22 00:00:00-03:00</th>\n",
       "      <td>0.173420</td>\n",
       "      <td>10.791514</td>\n",
       "      <td>0.016070</td>\n",
       "    </tr>\n",
       "    <tr>\n",
       "      <th>2011-04-29 00:00:00-03:00</th>\n",
       "      <td>0.126500</td>\n",
       "      <td>9.869989</td>\n",
       "      <td>0.012817</td>\n",
       "    </tr>\n",
       "    <tr>\n",
       "      <th>2011-05-12 00:00:00-03:00</th>\n",
       "      <td>0.213600</td>\n",
       "      <td>9.567514</td>\n",
       "      <td>0.022326</td>\n",
       "    </tr>\n",
       "    <tr>\n",
       "      <th>2011-08-03 00:00:00-03:00</th>\n",
       "      <td>0.207300</td>\n",
       "      <td>9.221043</td>\n",
       "      <td>0.022481</td>\n",
       "    </tr>\n",
       "    <tr>\n",
       "      <th>2011-11-14 00:00:00-02:00</th>\n",
       "      <td>0.200000</td>\n",
       "      <td>8.680129</td>\n",
       "      <td>0.023041</td>\n",
       "    </tr>\n",
       "    <tr>\n",
       "      <th>2012-01-03 00:00:00-02:00</th>\n",
       "      <td>0.177300</td>\n",
       "      <td>8.947165</td>\n",
       "      <td>0.019816</td>\n",
       "    </tr>\n",
       "    <tr>\n",
       "      <th>2012-03-20 00:00:00-03:00</th>\n",
       "      <td>0.124400</td>\n",
       "      <td>9.739525</td>\n",
       "      <td>0.012773</td>\n",
       "    </tr>\n",
       "    <tr>\n",
       "      <th>2012-05-14 00:00:00-03:00</th>\n",
       "      <td>0.200000</td>\n",
       "      <td>7.663023</td>\n",
       "      <td>0.026099</td>\n",
       "    </tr>\n",
       "    <tr>\n",
       "      <th>2013-04-30 00:00:00-03:00</th>\n",
       "      <td>0.386170</td>\n",
       "      <td>8.302524</td>\n",
       "      <td>0.046512</td>\n",
       "    </tr>\n",
       "    <tr>\n",
       "      <th>2014-04-03 00:00:00-03:00</th>\n",
       "      <td>0.967200</td>\n",
       "      <td>6.786126</td>\n",
       "      <td>0.142526</td>\n",
       "    </tr>\n",
       "    <tr>\n",
       "      <th>2018-05-22 00:00:00-03:00</th>\n",
       "      <td>0.050000</td>\n",
       "      <td>10.910423</td>\n",
       "      <td>0.004583</td>\n",
       "    </tr>\n",
       "    <tr>\n",
       "      <th>2018-08-14 00:00:00-03:00</th>\n",
       "      <td>0.050000</td>\n",
       "      <td>8.844010</td>\n",
       "      <td>0.005654</td>\n",
       "    </tr>\n",
       "    <tr>\n",
       "      <th>2018-11-22 00:00:00-02:00</th>\n",
       "      <td>0.100000</td>\n",
       "      <td>11.176881</td>\n",
       "      <td>0.008947</td>\n",
       "    </tr>\n",
       "    <tr>\n",
       "      <th>2018-12-26 00:00:00-02:00</th>\n",
       "      <td>0.716563</td>\n",
       "      <td>9.966170</td>\n",
       "      <td>0.071900</td>\n",
       "    </tr>\n",
       "    <tr>\n",
       "      <th>2019-04-26 00:00:00-03:00</th>\n",
       "      <td>0.019494</td>\n",
       "      <td>12.535457</td>\n",
       "      <td>0.001555</td>\n",
       "    </tr>\n",
       "    <tr>\n",
       "      <th>2019-05-22 00:00:00-03:00</th>\n",
       "      <td>0.100000</td>\n",
       "      <td>12.139666</td>\n",
       "      <td>0.008237</td>\n",
       "    </tr>\n",
       "    <tr>\n",
       "      <th>2019-08-13 00:00:00-03:00</th>\n",
       "      <td>0.200000</td>\n",
       "      <td>12.002374</td>\n",
       "      <td>0.016663</td>\n",
       "    </tr>\n",
       "    <tr>\n",
       "      <th>2019-11-12 00:00:00-03:00</th>\n",
       "      <td>0.200925</td>\n",
       "      <td>14.063766</td>\n",
       "      <td>0.014287</td>\n",
       "    </tr>\n",
       "    <tr>\n",
       "      <th>2019-12-27 00:00:00-03:00</th>\n",
       "      <td>0.421942</td>\n",
       "      <td>14.495886</td>\n",
       "      <td>0.029108</td>\n",
       "    </tr>\n",
       "    <tr>\n",
       "      <th>2020-04-23 00:00:00-03:00</th>\n",
       "      <td>0.000449</td>\n",
       "      <td>8.050847</td>\n",
       "      <td>0.000056</td>\n",
       "    </tr>\n",
       "    <tr>\n",
       "      <th>2020-04-28 00:00:00-03:00</th>\n",
       "      <td>0.000449</td>\n",
       "      <td>8.193564</td>\n",
       "      <td>0.000055</td>\n",
       "    </tr>\n",
       "    <tr>\n",
       "      <th>2020-07-23 00:00:00-03:00</th>\n",
       "      <td>0.000461</td>\n",
       "      <td>10.720721</td>\n",
       "      <td>0.000043</td>\n",
       "    </tr>\n",
       "    <tr>\n",
       "      <th>2021-04-15 00:00:00-03:00</th>\n",
       "      <td>0.792834</td>\n",
       "      <td>11.336847</td>\n",
       "      <td>0.069934</td>\n",
       "    </tr>\n",
       "    <tr>\n",
       "      <th>2021-08-17 00:00:00-03:00</th>\n",
       "      <td>1.609911</td>\n",
       "      <td>14.061769</td>\n",
       "      <td>0.114489</td>\n",
       "    </tr>\n",
       "    <tr>\n",
       "      <th>2021-12-02 00:00:00-03:00</th>\n",
       "      <td>3.250487</td>\n",
       "      <td>16.573692</td>\n",
       "      <td>0.196123</td>\n",
       "    </tr>\n",
       "    <tr>\n",
       "      <th>2022-04-14 00:00:00-03:00</th>\n",
       "      <td>2.970249</td>\n",
       "      <td>19.992018</td>\n",
       "      <td>0.148572</td>\n",
       "    </tr>\n",
       "    <tr>\n",
       "      <th>2022-05-24 00:00:00-03:00</th>\n",
       "      <td>3.715490</td>\n",
       "      <td>22.513762</td>\n",
       "      <td>0.165032</td>\n",
       "    </tr>\n",
       "    <tr>\n",
       "      <th>2022-08-12 00:00:00-03:00</th>\n",
       "      <td>6.732003</td>\n",
       "      <td>27.744591</td>\n",
       "      <td>0.242642</td>\n",
       "    </tr>\n",
       "    <tr>\n",
       "      <th>2022-11-22 00:00:00-03:00</th>\n",
       "      <td>3.348900</td>\n",
       "      <td>23.330000</td>\n",
       "      <td>0.143545</td>\n",
       "    </tr>\n",
       "  </tbody>\n",
       "</table>\n",
       "</div>"
      ],
      "text/plain": [
       "                           Dividends      Price        DY\n",
       "Date                                                     \n",
       "2007-01-02 00:00:00-02:00   0.225000   8.701067  0.025859\n",
       "2007-04-03 00:00:00-03:00   0.175000   7.908743  0.022127\n",
       "2007-08-20 00:00:00-03:00   0.251700   8.149735  0.030884\n",
       "2007-10-08 00:00:00-03:00   0.256500  10.987377  0.023345\n",
       "2008-01-14 00:00:00-02:00   0.155300  14.462683  0.010738\n",
       "2008-04-07 00:00:00-03:00   0.102600  14.037210  0.007309\n",
       "2008-12-29 00:00:00-02:00   0.042600   8.069036  0.005279\n",
       "2009-04-09 00:00:00-03:00   0.351600  11.181712  0.031444\n",
       "2009-07-06 00:00:00-03:00   0.300000  10.998056  0.027278\n",
       "2009-10-01 00:00:00-03:00   0.200000  12.537815  0.015952\n",
       "2009-12-21 00:00:00-02:00   0.200000  13.032521  0.015346\n",
       "2010-04-23 00:00:00-03:00   0.133200  12.637948  0.010540\n",
       "2010-05-24 00:00:00-03:00   0.170000  10.154362  0.016742\n",
       "2010-08-02 00:00:00-03:00   0.170000  10.702161  0.015885\n",
       "2010-11-03 00:00:00-02:00   0.140000  10.214265  0.013706\n",
       "2010-12-22 00:00:00-02:00   0.200000   9.806135  0.020395\n",
       "2011-03-22 00:00:00-03:00   0.173420  10.791514  0.016070\n",
       "2011-04-29 00:00:00-03:00   0.126500   9.869989  0.012817\n",
       "2011-05-12 00:00:00-03:00   0.213600   9.567514  0.022326\n",
       "2011-08-03 00:00:00-03:00   0.207300   9.221043  0.022481\n",
       "2011-11-14 00:00:00-02:00   0.200000   8.680129  0.023041\n",
       "2012-01-03 00:00:00-02:00   0.177300   8.947165  0.019816\n",
       "2012-03-20 00:00:00-03:00   0.124400   9.739525  0.012773\n",
       "2012-05-14 00:00:00-03:00   0.200000   7.663023  0.026099\n",
       "2013-04-30 00:00:00-03:00   0.386170   8.302524  0.046512\n",
       "2014-04-03 00:00:00-03:00   0.967200   6.786126  0.142526\n",
       "2018-05-22 00:00:00-03:00   0.050000  10.910423  0.004583\n",
       "2018-08-14 00:00:00-03:00   0.050000   8.844010  0.005654\n",
       "2018-11-22 00:00:00-02:00   0.100000  11.176881  0.008947\n",
       "2018-12-26 00:00:00-02:00   0.716563   9.966170  0.071900\n",
       "2019-04-26 00:00:00-03:00   0.019494  12.535457  0.001555\n",
       "2019-05-22 00:00:00-03:00   0.100000  12.139666  0.008237\n",
       "2019-08-13 00:00:00-03:00   0.200000  12.002374  0.016663\n",
       "2019-11-12 00:00:00-03:00   0.200925  14.063766  0.014287\n",
       "2019-12-27 00:00:00-03:00   0.421942  14.495886  0.029108\n",
       "2020-04-23 00:00:00-03:00   0.000449   8.050847  0.000056\n",
       "2020-04-28 00:00:00-03:00   0.000449   8.193564  0.000055\n",
       "2020-07-23 00:00:00-03:00   0.000461  10.720721  0.000043\n",
       "2021-04-15 00:00:00-03:00   0.792834  11.336847  0.069934\n",
       "2021-08-17 00:00:00-03:00   1.609911  14.061769  0.114489\n",
       "2021-12-02 00:00:00-03:00   3.250487  16.573692  0.196123\n",
       "2022-04-14 00:00:00-03:00   2.970249  19.992018  0.148572\n",
       "2022-05-24 00:00:00-03:00   3.715490  22.513762  0.165032\n",
       "2022-08-12 00:00:00-03:00   6.732003  27.744591  0.242642\n",
       "2022-11-22 00:00:00-03:00   3.348900  23.330000  0.143545"
      ]
     },
     "execution_count": 23,
     "metadata": {},
     "output_type": "execute_result"
    }
   ],
   "source": [
    "div"
   ]
  },
  {
   "cell_type": "code",
   "execution_count": 24,
   "id": "5306e653",
   "metadata": {},
   "outputs": [
    {
     "data": {
      "text/plain": [
       "<AxesSubplot:xlabel='Date'>"
      ]
     },
     "execution_count": 24,
     "metadata": {},
     "output_type": "execute_result"
    },
    {
     "data": {
      "image/png": "[encoded data removed]",
      "text/plain": [
       "<Figure size 432x288 with 1 Axes>"
      ]
     },
     "metadata": {
      "needs_background": "light"
     },
     "output_type": "display_data"
    }
   ],
   "source": [
    "div['DY'].plot()"
   ]
  },
  {
   "cell_type": "code",
   "execution_count": 25,
   "id": "72e57c4c",
   "metadata": {},
   "outputs": [
    {
     "name": "stdout",
     "output_type": "stream",
     "text": [
      "Reinitialized existing Git repository in /home/lucas/code/LucasGama1207/Petro_prediction/.git/\n",
      "error: 'Petro_prediction/' does not have a commit checked out\n",
      "fatal: adding files failed\n",
      "On branch main\n",
      "Changes not staged for commit:\n",
      "  (use \"git add <file>...\" to update what will be committed)\n",
      "  (use \"git restore <file>...\" to discard changes in working directory)\n",
      "\t\u001b[31mmodified:   Petro.ipynb\u001b[m\n",
      "\n",
      "Untracked files:\n",
      "  (use \"git add <file>...\" to include in what will be committed)\n",
      "\t\u001b[31mPetro_prediction/\u001b[m\n",
      "\n",
      "no changes added to commit (use \"git add\" and/or \"git commit -a\")\n",
      "error: src refspec master does not match any\n",
      "\u001b[31merror: failed to push some refs to 'https://github.com/LucasGama1207/petr4_prediction.git'\n",
      "\u001b[m"
     ]
    }
   ],
   "source": [
    "!git init\n",
    "!git add .\n",
    "!git commit -m 'petro analysis'\n",
    "!git push origin master"
   ]
  },
  {
   "cell_type": "code",
   "execution_count": 26,
   "id": "4c82ff6b",
   "metadata": {},
   "outputs": [
    {
     "name": "stdout",
     "output_type": "stream",
     "text": [
      "Reinitialized existing Git repository in /home/lucas/code/LucasGama1207/Petro_prediction/Petro_prediction/.git/\r\n"
     ]
    }
   ],
   "source": [
    "!git init Petro_prediction"
   ]
  },
  {
   "cell_type": "code",
   "execution_count": null,
   "id": "8576af0b",
   "metadata": {},
   "outputs": [
    {
     "name": "stdout",
     "output_type": "stream",
     "text": [
      "error: 'Petro_prediction/' does not have a commit checked out\n",
      "fatal: adding files failed\n",
      "On branch main\n",
      "Changes not staged for commit:\n",
      "  (use \"git add <file>...\" to update what will be committed)\n",
      "  (use \"git restore <file>...\" to discard changes in working directory)\n",
      "\t\u001b[31mmodified:   Petro.ipynb\u001b[m\n",
      "\n",
      "Untracked files:\n",
      "  (use \"git add <file>...\" to include in what will be committed)\n",
      "\t\u001b[31mPetro_prediction/\u001b[m\n",
      "\n",
      "no changes added to commit (use \"git add\" and/or \"git commit -a\")\n",
      "Username for 'https://github.com': "
     ]
    }
   ],
   "source": [
    "!git add .\n",
    "!git commit -m 'petro analysis'\n",
    "!git push origin main"
   ]
  },
  {
   "cell_type": "code",
   "execution_count": null,
   "id": "c4ff323b",
   "metadata": {},
   "outputs": [],
   "source": []
  }
 ],
 "metadata": {
  "kernelspec": {
   "display_name": "Python 3 (ipykernel)",
   "language": "python",
   "name": "python3"
  },
  "language_info": {
   "codemirror_mode": {
    "name": "ipython",
    "version": 3
   },
   "file_extension": ".py",
   "mimetype": "text/x-python",
   "name": "python",
   "nbconvert_exporter": "python",
   "pygments_lexer": "ipython3",
   "version": "3.8.12"
  },
  "toc": {
   "base_numbering": 1,
   "nav_menu": {},
   "number_sections": true,
   "sideBar": true,
   "skip_h1_title": false,
   "title_cell": "Table of Contents",
   "title_sidebar": "Contents",
   "toc_cell": false,
   "toc_position": {},
   "toc_section_display": true,
   "toc_window_display": false
  }
 },
 "nbformat": 4,
 "nbformat_minor": 5
}
