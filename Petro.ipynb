{
 "cells": [
  {
   "cell_type": "markdown",
   "id": "41c47c21",
   "metadata": {},
   "source": [
    "# Goals"
   ]
  },
  {
   "cell_type": "markdown",
   "id": "3ee9d377",
   "metadata": {},
   "source": [
    "- The main goal of this project is to make a prediction of stock prices of PETR4.\n",
    "- Additionally, I would like to work with 2-month predictions in order to figure out a way to find out nice opportunities for options on this stock. PETR4 options are amidst the most traded in the world.\n",
    "- An extension to this project would be to build a bot to trade this stock."
   ]
  },
  {
   "cell_type": "markdown",
   "id": "5e4d2af5",
   "metadata": {},
   "source": [
    "## How"
   ]
  },
  {
   "cell_type": "markdown",
   "id": "1dc40f71",
   "metadata": {},
   "source": [
    "- First I'm going to make use of time series with the daily stock prices, probably LSTM or bidirectional LSTM, which are the most relevant. \n",
    "- Maybe I could try to put another variable like international price of oil or other oil stocks."
   ]
  },
  {
   "cell_type": "markdown",
   "id": "76e0900e",
   "metadata": {},
   "source": [
    "# Getting Data"
   ]
  },
  {
   "cell_type": "code",
   "execution_count": 1,
   "id": "4037ff09",
   "metadata": {},
   "outputs": [],
   "source": [
    "#!pip install yfinance"
   ]
  },
  {
   "cell_type": "code",
   "execution_count": 1,
   "id": "b5393592",
   "metadata": {},
   "outputs": [],
   "source": [
    "import yfinance as yf\n",
    "import pandas as pd"
   ]
  },
  {
   "cell_type": "code",
   "execution_count": 2,
   "id": "ff8c76dc",
   "metadata": {},
   "outputs": [
    {
     "data": {
      "text/plain": [
       "yfinance.Ticker object <PETR4.SA>"
      ]
     },
     "execution_count": 2,
     "metadata": {},
     "output_type": "execute_result"
    }
   ],
   "source": [
    "papel = yf.Ticker('PETR4.SA')\n",
    "papel"
   ]
  },
  {
   "cell_type": "code",
   "execution_count": 3,
   "id": "6eb2ad8e",
   "metadata": {},
   "outputs": [],
   "source": [
    "dados= papel.history(start= '2007-01-01', end='2022-12-29')"
   ]
  },
  {
   "cell_type": "code",
   "execution_count": 4,
   "id": "471ea214",
   "metadata": {},
   "outputs": [
    {
     "name": "stdout",
     "output_type": "stream",
     "text": [
      "<class 'pandas.core.frame.DataFrame'>\n",
      "DatetimeIndex: 3966 entries, 2007-01-02 00:00:00-02:00 to 2022-12-28 00:00:00-03:00\n",
      "Data columns (total 7 columns):\n",
      " #   Column        Non-Null Count  Dtype  \n",
      "---  ------        --------------  -----  \n",
      " 0   Open          3966 non-null   float64\n",
      " 1   High          3966 non-null   float64\n",
      " 2   Low           3966 non-null   float64\n",
      " 3   Close         3966 non-null   float64\n",
      " 4   Volume        3966 non-null   int64  \n",
      " 5   Dividends     3966 non-null   float64\n",
      " 6   Stock Splits  3966 non-null   float64\n",
      "dtypes: float64(6), int64(1)\n",
      "memory usage: 247.9 KB\n"
     ]
    }
   ],
   "source": [
    "dados.info()"
   ]
  },
  {
   "cell_type": "markdown",
   "id": "598977a9",
   "metadata": {},
   "source": [
    "# Exploratory Analysis"
   ]
  },
  {
   "cell_type": "code",
   "execution_count": 5,
   "id": "ca0c399e",
   "metadata": {},
   "outputs": [],
   "source": [
    "# Close price through the years"
   ]
  },
  {
   "cell_type": "code",
   "execution_count": 6,
   "id": "09138cb1",
   "metadata": {},
   "outputs": [
    {
     "data": {
      "text/plain": [
       "<AxesSubplot:xlabel='Date'>"
      ]
     },
     "execution_count": 6,
     "metadata": {},
     "output_type": "execute_result"
    },
    {
     "data": {
      "image/png": "[encoded data removed]",
      "text/plain": [
       "<Figure size 432x288 with 1 Axes>"
      ]
     },
     "metadata": {
      "needs_background": "light"
     },
     "output_type": "display_data"
    }
   ],
   "source": [
    "dados['Close'].plot()"
   ]
  },
  {
   "cell_type": "code",
   "execution_count": 7,
   "id": "81eb4bf7",
   "metadata": {},
   "outputs": [],
   "source": [
    "# dividend distribution"
   ]
  },
  {
   "cell_type": "code",
   "execution_count": 8,
   "id": "221818d9",
   "metadata": {},
   "outputs": [
    {
     "data": {
      "text/html": [
       "<div>\n",
       "<style scoped>\n",
       "    .dataframe tbody tr th:only-of-type {\n",
       "        vertical-align: middle;\n",
       "    }\n",
       "\n",
       "    .dataframe tbody tr th {\n",
       "        vertical-align: top;\n",
       "    }\n",
       "\n",
       "    .dataframe thead th {\n",
       "        text-align: right;\n",
       "    }\n",
       "</style>\n",
       "<table border=\"1\" class=\"dataframe\">\n",
       "  <thead>\n",
       "    <tr style=\"text-align: right;\">\n",
       "      <th></th>\n",
       "      <th>Dividends</th>\n",
       "    </tr>\n",
       "    <tr>\n",
       "      <th>Date</th>\n",
       "      <th></th>\n",
       "    </tr>\n",
       "  </thead>\n",
       "  <tbody>\n",
       "    <tr>\n",
       "      <th>2007-01-02 00:00:00-02:00</th>\n",
       "      <td>0.2250</td>\n",
       "    </tr>\n",
       "    <tr>\n",
       "      <th>2007-04-03 00:00:00-03:00</th>\n",
       "      <td>0.1750</td>\n",
       "    </tr>\n",
       "    <tr>\n",
       "      <th>2007-08-20 00:00:00-03:00</th>\n",
       "      <td>0.2517</td>\n",
       "    </tr>\n",
       "    <tr>\n",
       "      <th>2007-10-08 00:00:00-03:00</th>\n",
       "      <td>0.2565</td>\n",
       "    </tr>\n",
       "    <tr>\n",
       "      <th>2008-01-14 00:00:00-02:00</th>\n",
       "      <td>0.1553</td>\n",
       "    </tr>\n",
       "  </tbody>\n",
       "</table>\n",
       "</div>"
      ],
      "text/plain": [
       "                           Dividends\n",
       "Date                                \n",
       "2007-01-02 00:00:00-02:00     0.2250\n",
       "2007-04-03 00:00:00-03:00     0.1750\n",
       "2007-08-20 00:00:00-03:00     0.2517\n",
       "2007-10-08 00:00:00-03:00     0.2565\n",
       "2008-01-14 00:00:00-02:00     0.1553"
      ]
     },
     "execution_count": 8,
     "metadata": {},
     "output_type": "execute_result"
    }
   ],
   "source": [
    "div=dados[['Dividends']]\n",
    "div=div[div['Dividends']>0]\n",
    "div.head()"
   ]
  },
  {
   "cell_type": "code",
   "execution_count": 9,
   "id": "9d9e5e5a",
   "metadata": {},
   "outputs": [
    {
     "data": {
      "text/plain": [
       "DatetimeIndex(['2007-01-02 00:00:00-02:00', '2007-04-03 00:00:00-03:00',\n",
       "               '2007-08-20 00:00:00-03:00', '2007-10-08 00:00:00-03:00',\n",
       "               '2008-01-14 00:00:00-02:00', '2008-04-07 00:00:00-03:00',\n",
       "               '2008-12-29 00:00:00-02:00', '2009-04-09 00:00:00-03:00',\n",
       "               '2009-07-06 00:00:00-03:00', '2009-10-01 00:00:00-03:00',\n",
       "               '2009-12-21 00:00:00-02:00', '2010-04-23 00:00:00-03:00',\n",
       "               '2010-05-24 00:00:00-03:00', '2010-08-02 00:00:00-03:00',\n",
       "               '2010-11-03 00:00:00-02:00', '2010-12-22 00:00:00-02:00',\n",
       "               '2011-03-22 00:00:00-03:00', '2011-04-29 00:00:00-03:00',\n",
       "               '2011-05-12 00:00:00-03:00', '2011-08-03 00:00:00-03:00',\n",
       "               '2011-11-14 00:00:00-02:00', '2012-01-03 00:00:00-02:00',\n",
       "               '2012-03-20 00:00:00-03:00', '2012-05-14 00:00:00-03:00',\n",
       "               '2013-04-30 00:00:00-03:00', '2014-04-03 00:00:00-03:00',\n",
       "               '2018-05-22 00:00:00-03:00', '2018-08-14 00:00:00-03:00',\n",
       "               '2018-11-22 00:00:00-02:00', '2018-12-26 00:00:00-02:00',\n",
       "               '2019-04-26 00:00:00-03:00', '2019-05-22 00:00:00-03:00',\n",
       "               '2019-08-13 00:00:00-03:00', '2019-11-12 00:00:00-03:00',\n",
       "               '2019-12-27 00:00:00-03:00', '2020-04-23 00:00:00-03:00',\n",
       "               '2020-04-28 00:00:00-03:00', '2020-07-23 00:00:00-03:00',\n",
       "               '2021-04-15 00:00:00-03:00', '2021-08-17 00:00:00-03:00',\n",
       "               '2021-12-02 00:00:00-03:00', '2022-04-14 00:00:00-03:00',\n",
       "               '2022-05-24 00:00:00-03:00', '2022-08-12 00:00:00-03:00',\n",
       "               '2022-11-22 00:00:00-03:00'],\n",
       "              dtype='datetime64[ns, America/Sao_Paulo]', name='Date', freq=None)"
      ]
     },
     "execution_count": 9,
     "metadata": {},
     "output_type": "execute_result"
    }
   ],
   "source": [
    "div.index"
   ]
  },
  {
   "cell_type": "code",
   "execution_count": 10,
   "id": "b6e62334",
   "metadata": {},
   "outputs": [],
   "source": [
    "#for date in div.index:\n",
    "    #print(date)"
   ]
  },
  {
   "cell_type": "code",
   "execution_count": 11,
   "id": "7a8f6839",
   "metadata": {},
   "outputs": [
    {
     "data": {
      "text/plain": [
       "Timestamp('2007-01-02 00:00:00-0200', tz='America/Sao_Paulo')"
      ]
     },
     "execution_count": 11,
     "metadata": {},
     "output_type": "execute_result"
    }
   ],
   "source": [
    "div.index[0]"
   ]
  },
  {
   "cell_type": "code",
   "execution_count": 12,
   "id": "1f2ed465",
   "metadata": {},
   "outputs": [
    {
     "data": {
      "text/plain": [
       "157"
      ]
     },
     "execution_count": 12,
     "metadata": {},
     "output_type": "execute_result"
    }
   ],
   "source": [
    "dados.index.get_loc(div.index[2])"
   ]
  },
  {
   "cell_type": "code",
   "execution_count": 13,
   "id": "6200f710",
   "metadata": {},
   "outputs": [
    {
     "data": {
      "text/plain": [
       "157"
      ]
     },
     "execution_count": 13,
     "metadata": {},
     "output_type": "execute_result"
    }
   ],
   "source": [
    "dados.index.get_loc('2007-08-20 00:00:00-03:00')"
   ]
  },
  {
   "cell_type": "code",
   "execution_count": 14,
   "id": "11e1d370",
   "metadata": {},
   "outputs": [
    {
     "data": {
      "text/plain": [
       "Open            8.221955e+00\n",
       "High            8.241330e+00\n",
       "Low             8.031730e+00\n",
       "Close           8.149740e+00\n",
       "Volume          2.473800e+07\n",
       "Dividends       2.517000e-01\n",
       "Stock Splits    0.000000e+00\n",
       "Name: 2007-08-20 00:00:00-03:00, dtype: float64"
      ]
     },
     "execution_count": 14,
     "metadata": {},
     "output_type": "execute_result"
    }
   ],
   "source": [
    "dados.iloc[157]"
   ]
  },
  {
   "cell_type": "code",
   "execution_count": 15,
   "id": "b32985b2",
   "metadata": {},
   "outputs": [],
   "source": [
    "locations_div=[]\n",
    "for data in div.index:\n",
    "    locations_div.append(dados.index.get_loc(data))"
   ]
  },
  {
   "cell_type": "code",
   "execution_count": 16,
   "id": "f4e081cb",
   "metadata": {},
   "outputs": [],
   "source": [
    "close_div=[]\n",
    "for loc in locations_div:\n",
    "    close_div.append(dados.iloc[loc]['Close'])"
   ]
  },
  {
   "cell_type": "code",
   "execution_count": 17,
   "id": "074df7a8",
   "metadata": {},
   "outputs": [],
   "source": [
    "div['Price']=close_div"
   ]
  },
  {
   "cell_type": "code",
   "execution_count": 18,
   "id": "0701331b",
   "metadata": {},
   "outputs": [],
   "source": [
    "div['DY']=div['Dividends']/div['Price']"
   ]
  },
  {
   "cell_type": "code",
   "execution_count": 19,
   "id": "68af12c4",
   "metadata": {},
   "outputs": [
    {
     "data": {
      "text/html": [
       "<div>\n",
       "<style scoped>\n",
       "    .dataframe tbody tr th:only-of-type {\n",
       "        vertical-align: middle;\n",
       "    }\n",
       "\n",
       "    .dataframe tbody tr th {\n",
       "        vertical-align: top;\n",
       "    }\n",
       "\n",
       "    .dataframe thead th {\n",
       "        text-align: right;\n",
       "    }\n",
       "</style>\n",
       "<table border=\"1\" class=\"dataframe\">\n",
       "  <thead>\n",
       "    <tr style=\"text-align: right;\">\n",
       "      <th></th>\n",
       "      <th>Dividends</th>\n",
       "      <th>Price</th>\n",
       "      <th>DY</th>\n",
       "    </tr>\n",
       "    <tr>\n",
       "      <th>Date</th>\n",
       "      <th></th>\n",
       "      <th></th>\n",
       "      <th></th>\n",
       "    </tr>\n",
       "  </thead>\n",
       "  <tbody>\n",
       "    <tr>\n",
       "      <th>2007-01-02 00:00:00-02:00</th>\n",
       "      <td>0.225000</td>\n",
       "      <td>8.701064</td>\n",
       "      <td>0.025859</td>\n",
       "    </tr>\n",
       "    <tr>\n",
       "      <th>2007-04-03 00:00:00-03:00</th>\n",
       "      <td>0.175000</td>\n",
       "      <td>7.908744</td>\n",
       "      <td>0.022127</td>\n",
       "    </tr>\n",
       "    <tr>\n",
       "      <th>2007-08-20 00:00:00-03:00</th>\n",
       "      <td>0.251700</td>\n",
       "      <td>8.149740</td>\n",
       "      <td>0.030884</td>\n",
       "    </tr>\n",
       "    <tr>\n",
       "      <th>2007-10-08 00:00:00-03:00</th>\n",
       "      <td>0.256500</td>\n",
       "      <td>10.987377</td>\n",
       "      <td>0.023345</td>\n",
       "    </tr>\n",
       "    <tr>\n",
       "      <th>2008-01-14 00:00:00-02:00</th>\n",
       "      <td>0.155300</td>\n",
       "      <td>14.462688</td>\n",
       "      <td>0.010738</td>\n",
       "    </tr>\n",
       "    <tr>\n",
       "      <th>2008-04-07 00:00:00-03:00</th>\n",
       "      <td>0.102600</td>\n",
       "      <td>14.037206</td>\n",
       "      <td>0.007309</td>\n",
       "    </tr>\n",
       "    <tr>\n",
       "      <th>2008-12-29 00:00:00-02:00</th>\n",
       "      <td>0.042600</td>\n",
       "      <td>8.069036</td>\n",
       "      <td>0.005279</td>\n",
       "    </tr>\n",
       "    <tr>\n",
       "      <th>2009-04-09 00:00:00-03:00</th>\n",
       "      <td>0.351600</td>\n",
       "      <td>11.181715</td>\n",
       "      <td>0.031444</td>\n",
       "    </tr>\n",
       "    <tr>\n",
       "      <th>2009-07-06 00:00:00-03:00</th>\n",
       "      <td>0.300000</td>\n",
       "      <td>10.998055</td>\n",
       "      <td>0.027278</td>\n",
       "    </tr>\n",
       "    <tr>\n",
       "      <th>2009-10-01 00:00:00-03:00</th>\n",
       "      <td>0.200000</td>\n",
       "      <td>12.537810</td>\n",
       "      <td>0.015952</td>\n",
       "    </tr>\n",
       "    <tr>\n",
       "      <th>2009-12-21 00:00:00-02:00</th>\n",
       "      <td>0.200000</td>\n",
       "      <td>13.032520</td>\n",
       "      <td>0.015346</td>\n",
       "    </tr>\n",
       "    <tr>\n",
       "      <th>2010-04-23 00:00:00-03:00</th>\n",
       "      <td>0.133200</td>\n",
       "      <td>12.637945</td>\n",
       "      <td>0.010540</td>\n",
       "    </tr>\n",
       "    <tr>\n",
       "      <th>2010-05-24 00:00:00-03:00</th>\n",
       "      <td>0.170000</td>\n",
       "      <td>10.154363</td>\n",
       "      <td>0.016742</td>\n",
       "    </tr>\n",
       "    <tr>\n",
       "      <th>2010-08-02 00:00:00-03:00</th>\n",
       "      <td>0.170000</td>\n",
       "      <td>10.702162</td>\n",
       "      <td>0.015885</td>\n",
       "    </tr>\n",
       "    <tr>\n",
       "      <th>2010-11-03 00:00:00-02:00</th>\n",
       "      <td>0.140000</td>\n",
       "      <td>10.214262</td>\n",
       "      <td>0.013706</td>\n",
       "    </tr>\n",
       "    <tr>\n",
       "      <th>2010-12-22 00:00:00-02:00</th>\n",
       "      <td>0.200000</td>\n",
       "      <td>9.806134</td>\n",
       "      <td>0.020395</td>\n",
       "    </tr>\n",
       "    <tr>\n",
       "      <th>2011-03-22 00:00:00-03:00</th>\n",
       "      <td>0.173420</td>\n",
       "      <td>10.791514</td>\n",
       "      <td>0.016070</td>\n",
       "    </tr>\n",
       "    <tr>\n",
       "      <th>2011-04-29 00:00:00-03:00</th>\n",
       "      <td>0.126500</td>\n",
       "      <td>9.869990</td>\n",
       "      <td>0.012817</td>\n",
       "    </tr>\n",
       "    <tr>\n",
       "      <th>2011-05-12 00:00:00-03:00</th>\n",
       "      <td>0.213600</td>\n",
       "      <td>9.567517</td>\n",
       "      <td>0.022326</td>\n",
       "    </tr>\n",
       "    <tr>\n",
       "      <th>2011-08-03 00:00:00-03:00</th>\n",
       "      <td>0.207300</td>\n",
       "      <td>9.221042</td>\n",
       "      <td>0.022481</td>\n",
       "    </tr>\n",
       "    <tr>\n",
       "      <th>2011-11-14 00:00:00-02:00</th>\n",
       "      <td>0.200000</td>\n",
       "      <td>8.680129</td>\n",
       "      <td>0.023041</td>\n",
       "    </tr>\n",
       "    <tr>\n",
       "      <th>2012-01-03 00:00:00-02:00</th>\n",
       "      <td>0.177300</td>\n",
       "      <td>8.947166</td>\n",
       "      <td>0.019816</td>\n",
       "    </tr>\n",
       "    <tr>\n",
       "      <th>2012-03-20 00:00:00-03:00</th>\n",
       "      <td>0.124400</td>\n",
       "      <td>9.739527</td>\n",
       "      <td>0.012773</td>\n",
       "    </tr>\n",
       "    <tr>\n",
       "      <th>2012-05-14 00:00:00-03:00</th>\n",
       "      <td>0.200000</td>\n",
       "      <td>7.663025</td>\n",
       "      <td>0.026099</td>\n",
       "    </tr>\n",
       "    <tr>\n",
       "      <th>2013-04-30 00:00:00-03:00</th>\n",
       "      <td>0.386170</td>\n",
       "      <td>8.302523</td>\n",
       "      <td>0.046512</td>\n",
       "    </tr>\n",
       "    <tr>\n",
       "      <th>2014-04-03 00:00:00-03:00</th>\n",
       "      <td>0.967200</td>\n",
       "      <td>6.786125</td>\n",
       "      <td>0.142526</td>\n",
       "    </tr>\n",
       "    <tr>\n",
       "      <th>2018-05-22 00:00:00-03:00</th>\n",
       "      <td>0.050000</td>\n",
       "      <td>10.910424</td>\n",
       "      <td>0.004583</td>\n",
       "    </tr>\n",
       "    <tr>\n",
       "      <th>2018-08-14 00:00:00-03:00</th>\n",
       "      <td>0.050000</td>\n",
       "      <td>8.844011</td>\n",
       "      <td>0.005654</td>\n",
       "    </tr>\n",
       "    <tr>\n",
       "      <th>2018-11-22 00:00:00-02:00</th>\n",
       "      <td>0.100000</td>\n",
       "      <td>11.176881</td>\n",
       "      <td>0.008947</td>\n",
       "    </tr>\n",
       "    <tr>\n",
       "      <th>2018-12-26 00:00:00-02:00</th>\n",
       "      <td>0.716563</td>\n",
       "      <td>9.966169</td>\n",
       "      <td>0.071900</td>\n",
       "    </tr>\n",
       "    <tr>\n",
       "      <th>2019-04-26 00:00:00-03:00</th>\n",
       "      <td>0.019494</td>\n",
       "      <td>12.535457</td>\n",
       "      <td>0.001555</td>\n",
       "    </tr>\n",
       "    <tr>\n",
       "      <th>2019-05-22 00:00:00-03:00</th>\n",
       "      <td>0.100000</td>\n",
       "      <td>12.139669</td>\n",
       "      <td>0.008237</td>\n",
       "    </tr>\n",
       "    <tr>\n",
       "      <th>2019-08-13 00:00:00-03:00</th>\n",
       "      <td>0.200000</td>\n",
       "      <td>12.002375</td>\n",
       "      <td>0.016663</td>\n",
       "    </tr>\n",
       "    <tr>\n",
       "      <th>2019-11-12 00:00:00-03:00</th>\n",
       "      <td>0.200925</td>\n",
       "      <td>14.063768</td>\n",
       "      <td>0.014287</td>\n",
       "    </tr>\n",
       "    <tr>\n",
       "      <th>2019-12-27 00:00:00-03:00</th>\n",
       "      <td>0.421942</td>\n",
       "      <td>14.495887</td>\n",
       "      <td>0.029108</td>\n",
       "    </tr>\n",
       "    <tr>\n",
       "      <th>2020-04-23 00:00:00-03:00</th>\n",
       "      <td>0.000449</td>\n",
       "      <td>8.050848</td>\n",
       "      <td>0.000056</td>\n",
       "    </tr>\n",
       "    <tr>\n",
       "      <th>2020-04-28 00:00:00-03:00</th>\n",
       "      <td>0.000449</td>\n",
       "      <td>8.193564</td>\n",
       "      <td>0.000055</td>\n",
       "    </tr>\n",
       "    <tr>\n",
       "      <th>2020-07-23 00:00:00-03:00</th>\n",
       "      <td>0.000461</td>\n",
       "      <td>10.720721</td>\n",
       "      <td>0.000043</td>\n",
       "    </tr>\n",
       "    <tr>\n",
       "      <th>2021-04-15 00:00:00-03:00</th>\n",
       "      <td>0.792834</td>\n",
       "      <td>11.336847</td>\n",
       "      <td>0.069934</td>\n",
       "    </tr>\n",
       "    <tr>\n",
       "      <th>2021-08-17 00:00:00-03:00</th>\n",
       "      <td>1.609911</td>\n",
       "      <td>14.061769</td>\n",
       "      <td>0.114489</td>\n",
       "    </tr>\n",
       "    <tr>\n",
       "      <th>2021-12-02 00:00:00-03:00</th>\n",
       "      <td>3.250487</td>\n",
       "      <td>16.573692</td>\n",
       "      <td>0.196123</td>\n",
       "    </tr>\n",
       "    <tr>\n",
       "      <th>2022-04-14 00:00:00-03:00</th>\n",
       "      <td>2.970249</td>\n",
       "      <td>19.992018</td>\n",
       "      <td>0.148572</td>\n",
       "    </tr>\n",
       "    <tr>\n",
       "      <th>2022-05-24 00:00:00-03:00</th>\n",
       "      <td>3.715490</td>\n",
       "      <td>22.513762</td>\n",
       "      <td>0.165032</td>\n",
       "    </tr>\n",
       "    <tr>\n",
       "      <th>2022-08-12 00:00:00-03:00</th>\n",
       "      <td>6.732003</td>\n",
       "      <td>27.744591</td>\n",
       "      <td>0.242642</td>\n",
       "    </tr>\n",
       "    <tr>\n",
       "      <th>2022-11-22 00:00:00-03:00</th>\n",
       "      <td>3.348900</td>\n",
       "      <td>23.330000</td>\n",
       "      <td>0.143545</td>\n",
       "    </tr>\n",
       "  </tbody>\n",
       "</table>\n",
       "</div>"
      ],
      "text/plain": [
       "                           Dividends      Price        DY\n",
       "Date                                                     \n",
       "2007-01-02 00:00:00-02:00   0.225000   8.701064  0.025859\n",
       "2007-04-03 00:00:00-03:00   0.175000   7.908744  0.022127\n",
       "2007-08-20 00:00:00-03:00   0.251700   8.149740  0.030884\n",
       "2007-10-08 00:00:00-03:00   0.256500  10.987377  0.023345\n",
       "2008-01-14 00:00:00-02:00   0.155300  14.462688  0.010738\n",
       "2008-04-07 00:00:00-03:00   0.102600  14.037206  0.007309\n",
       "2008-12-29 00:00:00-02:00   0.042600   8.069036  0.005279\n",
       "2009-04-09 00:00:00-03:00   0.351600  11.181715  0.031444\n",
       "2009-07-06 00:00:00-03:00   0.300000  10.998055  0.027278\n",
       "2009-10-01 00:00:00-03:00   0.200000  12.537810  0.015952\n",
       "2009-12-21 00:00:00-02:00   0.200000  13.032520  0.015346\n",
       "2010-04-23 00:00:00-03:00   0.133200  12.637945  0.010540\n",
       "2010-05-24 00:00:00-03:00   0.170000  10.154363  0.016742\n",
       "2010-08-02 00:00:00-03:00   0.170000  10.702162  0.015885\n",
       "2010-11-03 00:00:00-02:00   0.140000  10.214262  0.013706\n",
       "2010-12-22 00:00:00-02:00   0.200000   9.806134  0.020395\n",
       "2011-03-22 00:00:00-03:00   0.173420  10.791514  0.016070\n",
       "2011-04-29 00:00:00-03:00   0.126500   9.869990  0.012817\n",
       "2011-05-12 00:00:00-03:00   0.213600   9.567517  0.022326\n",
       "2011-08-03 00:00:00-03:00   0.207300   9.221042  0.022481\n",
       "2011-11-14 00:00:00-02:00   0.200000   8.680129  0.023041\n",
       "2012-01-03 00:00:00-02:00   0.177300   8.947166  0.019816\n",
       "2012-03-20 00:00:00-03:00   0.124400   9.739527  0.012773\n",
       "2012-05-14 00:00:00-03:00   0.200000   7.663025  0.026099\n",
       "2013-04-30 00:00:00-03:00   0.386170   8.302523  0.046512\n",
       "2014-04-03 00:00:00-03:00   0.967200   6.786125  0.142526\n",
       "2018-05-22 00:00:00-03:00   0.050000  10.910424  0.004583\n",
       "2018-08-14 00:00:00-03:00   0.050000   8.844011  0.005654\n",
       "2018-11-22 00:00:00-02:00   0.100000  11.176881  0.008947\n",
       "2018-12-26 00:00:00-02:00   0.716563   9.966169  0.071900\n",
       "2019-04-26 00:00:00-03:00   0.019494  12.535457  0.001555\n",
       "2019-05-22 00:00:00-03:00   0.100000  12.139669  0.008237\n",
       "2019-08-13 00:00:00-03:00   0.200000  12.002375  0.016663\n",
       "2019-11-12 00:00:00-03:00   0.200925  14.063768  0.014287\n",
       "2019-12-27 00:00:00-03:00   0.421942  14.495887  0.029108\n",
       "2020-04-23 00:00:00-03:00   0.000449   8.050848  0.000056\n",
       "2020-04-28 00:00:00-03:00   0.000449   8.193564  0.000055\n",
       "2020-07-23 00:00:00-03:00   0.000461  10.720721  0.000043\n",
       "2021-04-15 00:00:00-03:00   0.792834  11.336847  0.069934\n",
       "2021-08-17 00:00:00-03:00   1.609911  14.061769  0.114489\n",
       "2021-12-02 00:00:00-03:00   3.250487  16.573692  0.196123\n",
       "2022-04-14 00:00:00-03:00   2.970249  19.992018  0.148572\n",
       "2022-05-24 00:00:00-03:00   3.715490  22.513762  0.165032\n",
       "2022-08-12 00:00:00-03:00   6.732003  27.744591  0.242642\n",
       "2022-11-22 00:00:00-03:00   3.348900  23.330000  0.143545"
      ]
     },
     "execution_count": 19,
     "metadata": {},
     "output_type": "execute_result"
    }
   ],
   "source": [
    "div"
   ]
  },
  {
   "cell_type": "code",
   "execution_count": 20,
   "id": "5306e653",
   "metadata": {},
   "outputs": [
    {
     "data": {
      "text/plain": [
       "<AxesSubplot:xlabel='Date'>"
      ]
     },
     "execution_count": 20,
     "metadata": {},
     "output_type": "execute_result"
    },
    {
     "data": {
      "image/png": "[encoded data removed]",
      "text/plain": [
       "<Figure size 432x288 with 1 Axes>"
      ]
     },
     "metadata": {
      "needs_background": "light"
     },
     "output_type": "display_data"
    }
   ],
   "source": [
    "div['DY'].plot()"
   ]
  },
  {
   "cell_type": "code",
   "execution_count": 21,
   "id": "72e57c4c",
   "metadata": {},
   "outputs": [],
   "source": [
    "#!git add .\n",
    "#!git commit -m 'petro analysis'\n",
    "#!git push origin main"
   ]
  },
  {
   "cell_type": "markdown",
   "id": "0c88dfb6",
   "metadata": {},
   "source": [
    "# Model example"
   ]
  },
  {
   "cell_type": "markdown",
   "id": "c0b7d989",
   "metadata": {},
   "source": [
    "## Previous time series project"
   ]
  },
  {
   "cell_type": "markdown",
   "id": "dd214910",
   "metadata": {},
   "source": [
    "- for information, i copied this from a previous rnn project"
   ]
  },
  {
   "cell_type": "code",
   "execution_count": 22,
   "id": "c4ff323b",
   "metadata": {},
   "outputs": [
    {
     "name": "stderr",
     "output_type": "stream",
     "text": [
      "2023-01-12 10:41:19.484069: W tensorflow/stream_executor/platform/default/dso_loader.cc:64] Could not load dynamic library 'libcudart.so.11.0'; dlerror: libcudart.so.11.0: cannot open shared object file: No such file or directory\n",
      "2023-01-12 10:41:19.484144: I tensorflow/stream_executor/cuda/cudart_stub.cc:29] Ignore above cudart dlerror if you do not have a GPU set up on your machine.\n"
     ]
    },
    {
     "name": "stdout",
     "output_type": "stream",
     "text": [
      "Model: \"sequential\"\n",
      "_________________________________________________________________\n",
      " Layer (type)                Output Shape              Param #   \n",
      "=================================================================\n",
      " simple_rnn (SimpleRNN)      (None, 20)                440       \n",
      "                                                                 \n",
      " dense (Dense)               (None, 10)                210       \n",
      "                                                                 \n",
      " dense_1 (Dense)             (None, 1)                 11        \n",
      "                                                                 \n",
      "=================================================================\n",
      "Total params: 661\n",
      "Trainable params: 661\n",
      "Non-trainable params: 0\n",
      "_________________________________________________________________\n"
     ]
    },
    {
     "name": "stderr",
     "output_type": "stream",
     "text": [
      "2023-01-12 10:41:27.458575: W tensorflow/stream_executor/platform/default/dso_loader.cc:64] Could not load dynamic library 'libcuda.so.1'; dlerror: libcuda.so.1: cannot open shared object file: No such file or directory\n",
      "2023-01-12 10:41:27.458706: W tensorflow/stream_executor/cuda/cuda_driver.cc:269] failed call to cuInit: UNKNOWN ERROR (303)\n",
      "2023-01-12 10:41:27.458916: I tensorflow/stream_executor/cuda/cuda_diagnostics.cc:156] kernel driver does not appear to be running on this host (DESKTOP-23E8V41): /proc/driver/nvidia/version does not exist\n",
      "2023-01-12 10:41:27.459227: I tensorflow/core/platform/cpu_feature_guard.cc:151] This TensorFlow binary is optimized with oneAPI Deep Neural Network Library (oneDNN) to use the following CPU instructions in performance-critical operations:  AVX2 FMA\n",
      "To enable them in other operations, rebuild TensorFlow with the appropriate compiler flags.\n"
     ]
    }
   ],
   "source": [
    "from tensorflow.keras.models import Sequential\n",
    "from tensorflow.keras.layers import Dense, SimpleRNN, Flatten, LSTM\n",
    "from tensorflow.keras.callbacks import EarlyStopping\n",
    "\n",
    "def initialize_model():\n",
    "    model = Sequential()\n",
    "    model.add(SimpleRNN(units=20,activation='tanh',input_shape=(3966, 1)))\n",
    "    model.add(Dense(10,activation='tanh'))\n",
    "    model.add(Dense(1,activation='linear'))\n",
    "    \n",
    "    return model\n",
    "\n",
    "model=initialize_model()\n",
    "model.summary()"
   ]
  },
  {
   "cell_type": "code",
   "execution_count": 23,
   "id": "bdcaca7b",
   "metadata": {},
   "outputs": [
    {
     "data": {
      "text/plain": [
       "\"\\ndef compile_model(model):\\n    model.compile(loss='mse',optimizer='rmsprop',metrics=['mae'])\\n    return model\\nmodel=compile_model(model)\\n\\nmodel = compile_model(initialize_model())\\n\\nmodel.fit(X_train,y_train, batch_size=32, epochs=30,verbose=1,validation_split=0.2,\\n          callbacks=[EarlyStopping(patience=5,restore_best_weights=True)]\\n)\\n\""
      ]
     },
     "execution_count": 23,
     "metadata": {},
     "output_type": "execute_result"
    }
   ],
   "source": [
    "'''\n",
    "def compile_model(model):\n",
    "    model.compile(loss='mse',optimizer='rmsprop',metrics=['mae'])\n",
    "    return model\n",
    "model=compile_model(model)\n",
    "\n",
    "model = compile_model(initialize_model())\n",
    "\n",
    "model.fit(X_train,y_train, batch_size=32, epochs=30,verbose=1,validation_split=0.2,\n",
    "          callbacks=[EarlyStopping(patience=5,restore_best_weights=True)]\n",
    ")\n",
    "'''"
   ]
  },
  {
   "cell_type": "markdown",
   "id": "db57b5d8",
   "metadata": {},
   "source": [
    "## LSTM for stocks"
   ]
  },
  {
   "cell_type": "markdown",
   "id": "7c0fa91d",
   "metadata": {},
   "source": [
    "- Found this on the internet. Very good base example of a LSTM stock prediction."
   ]
  },
  {
   "cell_type": "code",
   "execution_count": 24,
   "id": "9f75c4f6",
   "metadata": {},
   "outputs": [],
   "source": [
    "#https://medium.com/the-handbook-of-coding-in-finance/stock-prices-prediction-using-long-short-term-memory-lstm-model-in-python-734dd1ed6827"
   ]
  },
  {
   "cell_type": "code",
   "execution_count": 25,
   "id": "c7961d95",
   "metadata": {},
   "outputs": [],
   "source": [
    "import math\n",
    "from sklearn.preprocessing import MinMaxScaler \n",
    "import numpy as np\n",
    "\n",
    "close_prices = dados['Close']\n",
    "values = close_prices.values\n",
    "training_data_len = math.ceil(len(values)* 0.8)\n",
    "\n",
    "scaler = MinMaxScaler(feature_range=(0,1))\n",
    "scaled_data = scaler.fit_transform(values.reshape(-1,1))\n",
    "train_data = scaled_data[0: training_data_len, :]\n",
    "\n",
    "\n",
    "#train set\n",
    "\n",
    "x_train = []\n",
    "y_train = []\n",
    "\n",
    "for i in range(60, len(train_data)):\n",
    "    x_train.append(train_data[i-60:i, 0])\n",
    "    y_train.append(train_data[i, 0])\n",
    "    \n",
    "x_train, y_train = np.array(x_train), np.array(y_train)\n",
    "x_train = np.reshape(x_train, (x_train.shape[0], x_train.shape[1], 1))\n",
    "\n",
    "#test set\n",
    "test_data = scaled_data[training_data_len-60: , : ]\n",
    "x_test = []\n",
    "y_test = values[training_data_len:]\n",
    "\n",
    "for i in range(60, len(test_data)):\n",
    "  x_test.append(test_data[i-60:i, 0])\n",
    "\n",
    "x_test = np.array(x_test)\n",
    "x_test = np.reshape(x_test, (x_test.shape[0], x_test.shape[1], 1))"
   ]
  },
  {
   "cell_type": "code",
   "execution_count": 26,
   "id": "62c186ce",
   "metadata": {},
   "outputs": [
    {
     "name": "stdout",
     "output_type": "stream",
     "text": [
      "Model: \"sequential_1\"\n",
      "_________________________________________________________________\n",
      " Layer (type)                Output Shape              Param #   \n",
      "=================================================================\n",
      " lstm (LSTM)                 (None, 60, 100)           40800     \n",
      "                                                                 \n",
      " lstm_1 (LSTM)               (None, 100)               80400     \n",
      "                                                                 \n",
      " dense_2 (Dense)             (None, 25)                2525      \n",
      "                                                                 \n",
      " dense_3 (Dense)             (None, 1)                 26        \n",
      "                                                                 \n",
      "=================================================================\n",
      "Total params: 123,751\n",
      "Trainable params: 123,751\n",
      "Non-trainable params: 0\n",
      "_________________________________________________________________\n"
     ]
    }
   ],
   "source": [
    "#model\n",
    "model = Sequential()\n",
    "model.add(LSTM(100, return_sequences=True, input_shape=(x_train.shape[1], 1)))\n",
    "model.add(LSTM(100, return_sequences=False))\n",
    "model.add(Dense(25))\n",
    "model.add(Dense(1))\n",
    "model.summary()"
   ]
  },
  {
   "cell_type": "code",
   "execution_count": 27,
   "id": "a9c0318e",
   "metadata": {},
   "outputs": [
    {
     "name": "stdout",
     "output_type": "stream",
     "text": [
      "Epoch 1/3\n",
      "98/98 [==============================] - 17s 127ms/step - loss: 0.0024\n",
      "Epoch 2/3\n",
      "98/98 [==============================] - 11s 116ms/step - loss: 2.6413e-04\n",
      "Epoch 3/3\n",
      "98/98 [==============================] - 12s 117ms/step - loss: 2.5152e-04\n"
     ]
    },
    {
     "data": {
      "text/plain": [
       "<keras.callbacks.History at 0x7fc487b41730>"
      ]
     },
     "execution_count": 27,
     "metadata": {},
     "output_type": "execute_result"
    }
   ],
   "source": [
    "model.compile(optimizer='adam', loss='mean_squared_error')\n",
    "model.fit(x_train, y_train, batch_size= 32, epochs=3)"
   ]
  },
  {
   "cell_type": "code",
   "execution_count": 28,
   "id": "f9bdbab9",
   "metadata": {},
   "outputs": [
    {
     "data": {
      "text/plain": [
       "0.4298680535180572"
      ]
     },
     "execution_count": 28,
     "metadata": {},
     "output_type": "execute_result"
    }
   ],
   "source": [
    "predictions = model.predict(x_test)\n",
    "predictions = scaler.inverse_transform(predictions)\n",
    "rmse = np.sqrt(np.mean(predictions - y_test)**2)\n",
    "rmse"
   ]
  },
  {
   "cell_type": "code",
   "execution_count": 29,
   "id": "423939d5",
   "metadata": {},
   "outputs": [
    {
     "name": "stderr",
     "output_type": "stream",
     "text": [
      "/tmp/ipykernel_475/2686380006.py:6: SettingWithCopyWarning: \n",
      "A value is trying to be set on a copy of a slice from a DataFrame.\n",
      "Try using .loc[row_indexer,col_indexer] = value instead\n",
      "\n",
      "See the caveats in the documentation: https://pandas.pydata.org/pandas-docs/stable/user_guide/indexing.html#returning-a-view-versus-a-copy\n",
      "  validation['Predictions'] = predictions\n"
     ]
    },
    {
     "data": {
      "image/png": "[encoded data removed]",
      "text/plain": [
       "<Figure size 1152x576 with 1 Axes>"
      ]
     },
     "metadata": {
      "needs_background": "light"
     },
     "output_type": "display_data"
    }
   ],
   "source": [
    "import matplotlib.pyplot as plt\n",
    "\n",
    "data = dados.filter(['Close'])\n",
    "train = data[:training_data_len]\n",
    "validation = data[training_data_len:]\n",
    "validation['Predictions'] = predictions\n",
    "plt.figure(figsize=(16,8))\n",
    "plt.title('Model')\n",
    "plt.xlabel('Date')\n",
    "plt.ylabel('Close Price USD ($)')\n",
    "plt.plot(train)\n",
    "plt.plot(validation[['Close', 'Predictions']])\n",
    "plt.legend(['Train', 'Val', 'Predictions'], loc='lower right')\n",
    "plt.show()"
   ]
  },
  {
   "cell_type": "code",
   "execution_count": 30,
   "id": "f69472e5",
   "metadata": {},
   "outputs": [
    {
     "name": "stderr",
     "output_type": "stream",
     "text": [
      "/tmp/ipykernel_475/1626216995.py:4: SettingWithCopyWarning: \n",
      "A value is trying to be set on a copy of a slice from a DataFrame.\n",
      "Try using .loc[row_indexer,col_indexer] = value instead\n",
      "\n",
      "See the caveats in the documentation: https://pandas.pydata.org/pandas-docs/stable/user_guide/indexing.html#returning-a-view-versus-a-copy\n",
      "  validation['Predictions'] = predictions\n"
     ]
    },
    {
     "data": {
      "image/png": "[encoded data removed]",
      "text/plain": [
       "<Figure size 1152x576 with 1 Axes>"
      ]
     },
     "metadata": {
      "needs_background": "light"
     },
     "output_type": "display_data"
    }
   ],
   "source": [
    "data = dados.filter(['Close'])\n",
    "#train = data[:training_data_len]\n",
    "validation = data[training_data_len:]\n",
    "validation['Predictions'] = predictions\n",
    "plt.figure(figsize=(16,8))\n",
    "plt.title('Model')\n",
    "plt.xlabel('Date')\n",
    "plt.ylabel('Close Price USD ($)')\n",
    "#plt.plot(train)\n",
    "plt.plot(validation[['Close', 'Predictions']])\n",
    "plt.legend(['Val', 'Predictions'], loc='lower right')\n",
    "plt.show()"
   ]
  },
  {
   "cell_type": "code",
   "execution_count": 31,
   "id": "b0210437",
   "metadata": {},
   "outputs": [],
   "source": [
    "#there is something wrong in here. There is no way it predicts with this much accuracy data it has never seen.\n",
    "#there is data leakage somewhere"
   ]
  },
  {
   "cell_type": "code",
   "execution_count": 32,
   "id": "c0cbaad6",
   "metadata": {},
   "outputs": [],
   "source": [
    "#um cara falou que da merda no scaling. Usar scaling só com x train"
   ]
  },
  {
   "cell_type": "code",
   "execution_count": 33,
   "id": "9fb4db94",
   "metadata": {},
   "outputs": [],
   "source": [
    "#ele também só preve a proxima data, eu quero prever mais coisas, tipo 1 semana ou a data de 60 dias"
   ]
  },
  {
   "cell_type": "markdown",
   "id": "aefa5991",
   "metadata": {},
   "source": [
    "# Fixing Data leaking"
   ]
  },
  {
   "cell_type": "code",
   "execution_count": 34,
   "id": "da9eea0b",
   "metadata": {},
   "outputs": [],
   "source": [
    "import math\n",
    "from sklearn.preprocessing import MinMaxScaler \n",
    "import numpy as np\n",
    "\n",
    "close_prices = dados['Close']\n",
    "values = close_prices.values\n",
    "training_data_len = math.ceil(len(values)* 0.8)\n",
    "\n",
    "values=values.reshape(-1,1)\n",
    "train_values=values[0: training_data_len]\n",
    "\n",
    "scaler = MinMaxScaler(feature_range=(0,1))\n",
    "train_data = scaler.fit_transform(train_values)\n",
    "\n",
    "x_train = []\n",
    "y_train = []\n",
    "\n",
    "for i in range(60, len(train_data)):\n",
    "    x_train.append(train_data[i-60:i, 0])\n",
    "    y_train.append(train_data[i, 0])\n",
    "    \n",
    "x_train, y_train = np.array(x_train), np.array(y_train)\n",
    "x_train = np.reshape(x_train, (x_train.shape[0], x_train.shape[1], 1))"
   ]
  },
  {
   "cell_type": "code",
   "execution_count": 35,
   "id": "4f94a67b",
   "metadata": {},
   "outputs": [],
   "source": [
    "test_values=values[training_data_len-60:]\n",
    "\n",
    "test_data = scaler.transform(test_values)\n",
    "x_test = []\n",
    "y_test = values[training_data_len:]\n",
    "\n",
    "for i in range(60, len(test_data)):\n",
    "  x_test.append(test_data[i-60:i, 0])\n",
    "\n",
    "x_test = np.array(x_test)\n",
    "x_test = np.reshape(x_test, (x_test.shape[0], x_test.shape[1], 1))"
   ]
  },
  {
   "cell_type": "code",
   "execution_count": 36,
   "id": "e7755cbd",
   "metadata": {},
   "outputs": [
    {
     "data": {
      "text/plain": [
       "(793, 60, 1)"
      ]
     },
     "execution_count": 36,
     "metadata": {},
     "output_type": "execute_result"
    }
   ],
   "source": [
    "x_test.shape"
   ]
  },
  {
   "cell_type": "code",
   "execution_count": 37,
   "id": "e63f3230",
   "metadata": {},
   "outputs": [
    {
     "data": {
      "text/plain": [
       "(793, 1)"
      ]
     },
     "execution_count": 37,
     "metadata": {},
     "output_type": "execute_result"
    }
   ],
   "source": [
    "y_test.shape"
   ]
  },
  {
   "cell_type": "code",
   "execution_count": 38,
   "id": "11b397d9",
   "metadata": {},
   "outputs": [
    {
     "name": "stdout",
     "output_type": "stream",
     "text": [
      "Epoch 1/3\n",
      "98/98 [==============================] - 18s 140ms/step - loss: 0.0062\n",
      "Epoch 2/3\n",
      "98/98 [==============================] - 12s 119ms/step - loss: 8.9274e-04\n",
      "Epoch 3/3\n",
      "98/98 [==============================] - 12s 118ms/step - loss: 8.2907e-04\n"
     ]
    },
    {
     "data": {
      "text/plain": [
       "<keras.callbacks.History at 0x7fc484155160>"
      ]
     },
     "execution_count": 38,
     "metadata": {},
     "output_type": "execute_result"
    }
   ],
   "source": [
    "model = Sequential()\n",
    "model.add(LSTM(100, return_sequences=True, input_shape=(x_train.shape[1], 1)))\n",
    "model.add(LSTM(100, return_sequences=False))\n",
    "model.add(Dense(25))\n",
    "model.add(Dense(1))\n",
    "\n",
    "model.compile(optimizer='adam', loss='mean_squared_error')\n",
    "model.fit(x_train, y_train, batch_size= 32, epochs=3)"
   ]
  },
  {
   "cell_type": "code",
   "execution_count": 39,
   "id": "a611688d",
   "metadata": {},
   "outputs": [
    {
     "data": {
      "text/plain": [
       "0.3701809694306998"
      ]
     },
     "execution_count": 39,
     "metadata": {},
     "output_type": "execute_result"
    }
   ],
   "source": [
    "predictions = model.predict(x_test)\n",
    "predictions = scaler.inverse_transform(predictions)\n",
    "rmse = np.sqrt(np.mean(predictions - y_test)**2)\n",
    "rmse"
   ]
  },
  {
   "cell_type": "code",
   "execution_count": 40,
   "id": "e6c91870",
   "metadata": {},
   "outputs": [
    {
     "name": "stderr",
     "output_type": "stream",
     "text": [
      "/tmp/ipykernel_475/4044787029.py:4: SettingWithCopyWarning: \n",
      "A value is trying to be set on a copy of a slice from a DataFrame.\n",
      "Try using .loc[row_indexer,col_indexer] = value instead\n",
      "\n",
      "See the caveats in the documentation: https://pandas.pydata.org/pandas-docs/stable/user_guide/indexing.html#returning-a-view-versus-a-copy\n",
      "  validation['Predictions'] = predictions\n"
     ]
    },
    {
     "data": {
      "image/png": "[encoded data removed]",
      "text/plain": [
       "<Figure size 1152x576 with 1 Axes>"
      ]
     },
     "metadata": {
      "needs_background": "light"
     },
     "output_type": "display_data"
    }
   ],
   "source": [
    "data = dados.filter(['Close'])\n",
    "train = data[:training_data_len]\n",
    "validation = data[training_data_len:]\n",
    "validation['Predictions'] = predictions\n",
    "plt.figure(figsize=(16,8))\n",
    "plt.title('Model')\n",
    "plt.xlabel('Date')\n",
    "plt.ylabel('Close Price USD ($)')\n",
    "plt.plot(train)\n",
    "plt.plot(validation[['Close', 'Predictions']])\n",
    "plt.legend(['Train', 'Val', 'Predictions'], loc='lower right')\n",
    "plt.show()"
   ]
  },
  {
   "cell_type": "code",
   "execution_count": 41,
   "id": "bc666b5d",
   "metadata": {},
   "outputs": [
    {
     "name": "stderr",
     "output_type": "stream",
     "text": [
      "/tmp/ipykernel_475/1626216995.py:4: SettingWithCopyWarning: \n",
      "A value is trying to be set on a copy of a slice from a DataFrame.\n",
      "Try using .loc[row_indexer,col_indexer] = value instead\n",
      "\n",
      "See the caveats in the documentation: https://pandas.pydata.org/pandas-docs/stable/user_guide/indexing.html#returning-a-view-versus-a-copy\n",
      "  validation['Predictions'] = predictions\n"
     ]
    },
    {
     "data": {
      "image/png": "[encoded data removed]",
      "text/plain": [
       "<Figure size 1152x576 with 1 Axes>"
      ]
     },
     "metadata": {
      "needs_background": "light"
     },
     "output_type": "display_data"
    }
   ],
   "source": [
    "data = dados.filter(['Close'])\n",
    "#train = data[:training_data_len]\n",
    "validation = data[training_data_len:]\n",
    "validation['Predictions'] = predictions\n",
    "plt.figure(figsize=(16,8))\n",
    "plt.title('Model')\n",
    "plt.xlabel('Date')\n",
    "plt.ylabel('Close Price USD ($)')\n",
    "#plt.plot(train)\n",
    "plt.plot(validation[['Close', 'Predictions']])\n",
    "plt.legend(['Val', 'Predictions'], loc='lower right')\n",
    "plt.show()"
   ]
  },
  {
   "cell_type": "code",
   "execution_count": 42,
   "id": "7c027c47",
   "metadata": {},
   "outputs": [],
   "source": [
    "#looks the same to me. But I'd say its better to not leak data."
   ]
  },
  {
   "cell_type": "code",
   "execution_count": 43,
   "id": "2a147570",
   "metadata": {},
   "outputs": [],
   "source": [
    "#!git add .\n",
    "#!git commit -m 'first lstm pred'\n",
    "#!git push origin main"
   ]
  },
  {
   "cell_type": "markdown",
   "id": "f3e23b8f",
   "metadata": {},
   "source": [
    "# Baseline model"
   ]
  },
  {
   "cell_type": "markdown",
   "id": "9dcb27e6",
   "metadata": {},
   "source": [
    "- I've figured out how to start building up a model with LSTM\n",
    "- Now, let's find a baseline to compare how good this actually is\n",
    "- An idea of baseline is to say that the price on d+1 is going to be the same price on d+0"
   ]
  },
  {
   "cell_type": "code",
   "execution_count": 44,
   "id": "9a0287f2",
   "metadata": {},
   "outputs": [
    {
     "data": {
      "text/html": [
       "<div>\n",
       "<style scoped>\n",
       "    .dataframe tbody tr th:only-of-type {\n",
       "        vertical-align: middle;\n",
       "    }\n",
       "\n",
       "    .dataframe tbody tr th {\n",
       "        vertical-align: top;\n",
       "    }\n",
       "\n",
       "    .dataframe thead th {\n",
       "        text-align: right;\n",
       "    }\n",
       "</style>\n",
       "<table border=\"1\" class=\"dataframe\">\n",
       "  <thead>\n",
       "    <tr style=\"text-align: right;\">\n",
       "      <th></th>\n",
       "      <th>d+0</th>\n",
       "    </tr>\n",
       "  </thead>\n",
       "  <tbody>\n",
       "    <tr>\n",
       "      <th>0</th>\n",
       "      <td>12.872649</td>\n",
       "    </tr>\n",
       "    <tr>\n",
       "      <th>1</th>\n",
       "      <td>12.844728</td>\n",
       "    </tr>\n",
       "    <tr>\n",
       "      <th>2</th>\n",
       "      <td>12.923843</td>\n",
       "    </tr>\n",
       "    <tr>\n",
       "      <th>3</th>\n",
       "      <td>13.296153</td>\n",
       "    </tr>\n",
       "    <tr>\n",
       "      <th>4</th>\n",
       "      <td>13.473003</td>\n",
       "    </tr>\n",
       "    <tr>\n",
       "      <th>...</th>\n",
       "      <td>...</td>\n",
       "    </tr>\n",
       "    <tr>\n",
       "      <th>788</th>\n",
       "      <td>23.990000</td>\n",
       "    </tr>\n",
       "    <tr>\n",
       "      <th>789</th>\n",
       "      <td>25.120001</td>\n",
       "    </tr>\n",
       "    <tr>\n",
       "      <th>790</th>\n",
       "      <td>24.940001</td>\n",
       "    </tr>\n",
       "    <tr>\n",
       "      <th>791</th>\n",
       "      <td>25.110001</td>\n",
       "    </tr>\n",
       "    <tr>\n",
       "      <th>792</th>\n",
       "      <td>24.799999</td>\n",
       "    </tr>\n",
       "  </tbody>\n",
       "</table>\n",
       "<p>793 rows × 1 columns</p>\n",
       "</div>"
      ],
      "text/plain": [
       "           d+0\n",
       "0    12.872649\n",
       "1    12.844728\n",
       "2    12.923843\n",
       "3    13.296153\n",
       "4    13.473003\n",
       "..         ...\n",
       "788  23.990000\n",
       "789  25.120001\n",
       "790  24.940001\n",
       "791  25.110001\n",
       "792  24.799999\n",
       "\n",
       "[793 rows x 1 columns]"
      ]
     },
     "execution_count": 44,
     "metadata": {},
     "output_type": "execute_result"
    }
   ],
   "source": [
    "baseline = pd.DataFrame(y_test).rename(columns={0:'d+0'})\n",
    "baseline"
   ]
  },
  {
   "cell_type": "code",
   "execution_count": 45,
   "id": "5f79bec6",
   "metadata": {},
   "outputs": [],
   "source": [
    "baseline['d-1']=pd.DataFrame(dados['Close'].values[-794:-1])"
   ]
  },
  {
   "cell_type": "code",
   "execution_count": 46,
   "id": "96227fd8",
   "metadata": {},
   "outputs": [
    {
     "data": {
      "text/html": [
       "<div>\n",
       "<style scoped>\n",
       "    .dataframe tbody tr th:only-of-type {\n",
       "        vertical-align: middle;\n",
       "    }\n",
       "\n",
       "    .dataframe tbody tr th {\n",
       "        vertical-align: top;\n",
       "    }\n",
       "\n",
       "    .dataframe thead th {\n",
       "        text-align: right;\n",
       "    }\n",
       "</style>\n",
       "<table border=\"1\" class=\"dataframe\">\n",
       "  <thead>\n",
       "    <tr style=\"text-align: right;\">\n",
       "      <th></th>\n",
       "      <th>d+0</th>\n",
       "      <th>d-1</th>\n",
       "    </tr>\n",
       "  </thead>\n",
       "  <tbody>\n",
       "    <tr>\n",
       "      <th>0</th>\n",
       "      <td>12.872649</td>\n",
       "      <td>12.998303</td>\n",
       "    </tr>\n",
       "    <tr>\n",
       "      <th>1</th>\n",
       "      <td>12.844728</td>\n",
       "      <td>12.872649</td>\n",
       "    </tr>\n",
       "    <tr>\n",
       "      <th>2</th>\n",
       "      <td>12.923843</td>\n",
       "      <td>12.844728</td>\n",
       "    </tr>\n",
       "    <tr>\n",
       "      <th>3</th>\n",
       "      <td>13.296153</td>\n",
       "      <td>12.923843</td>\n",
       "    </tr>\n",
       "    <tr>\n",
       "      <th>4</th>\n",
       "      <td>13.473003</td>\n",
       "      <td>13.296153</td>\n",
       "    </tr>\n",
       "    <tr>\n",
       "      <th>...</th>\n",
       "      <td>...</td>\n",
       "      <td>...</td>\n",
       "    </tr>\n",
       "    <tr>\n",
       "      <th>788</th>\n",
       "      <td>23.990000</td>\n",
       "      <td>23.570000</td>\n",
       "    </tr>\n",
       "    <tr>\n",
       "      <th>789</th>\n",
       "      <td>25.120001</td>\n",
       "      <td>23.990000</td>\n",
       "    </tr>\n",
       "    <tr>\n",
       "      <th>790</th>\n",
       "      <td>24.940001</td>\n",
       "      <td>25.120001</td>\n",
       "    </tr>\n",
       "    <tr>\n",
       "      <th>791</th>\n",
       "      <td>25.110001</td>\n",
       "      <td>24.940001</td>\n",
       "    </tr>\n",
       "    <tr>\n",
       "      <th>792</th>\n",
       "      <td>24.799999</td>\n",
       "      <td>25.110001</td>\n",
       "    </tr>\n",
       "  </tbody>\n",
       "</table>\n",
       "<p>793 rows × 2 columns</p>\n",
       "</div>"
      ],
      "text/plain": [
       "           d+0        d-1\n",
       "0    12.872649  12.998303\n",
       "1    12.844728  12.872649\n",
       "2    12.923843  12.844728\n",
       "3    13.296153  12.923843\n",
       "4    13.473003  13.296153\n",
       "..         ...        ...\n",
       "788  23.990000  23.570000\n",
       "789  25.120001  23.990000\n",
       "790  24.940001  25.120001\n",
       "791  25.110001  24.940001\n",
       "792  24.799999  25.110001\n",
       "\n",
       "[793 rows x 2 columns]"
      ]
     },
     "execution_count": 46,
     "metadata": {},
     "output_type": "execute_result"
    }
   ],
   "source": [
    "baseline"
   ]
  },
  {
   "cell_type": "markdown",
   "id": "76007caf",
   "metadata": {},
   "source": [
    "## calculate metrics to beat"
   ]
  },
  {
   "cell_type": "code",
   "execution_count": 47,
   "id": "7355dfa6",
   "metadata": {},
   "outputs": [
    {
     "data": {
      "text/plain": [
       "0.4619846356177066"
      ]
     },
     "execution_count": 47,
     "metadata": {},
     "output_type": "execute_result"
    }
   ],
   "source": [
    "rmse_base = np.sqrt(np.mean((baseline['d+0']-baseline['d-1'])**2))\n",
    "rmse_base"
   ]
  },
  {
   "cell_type": "code",
   "execution_count": 48,
   "id": "a05d35e9",
   "metadata": {},
   "outputs": [],
   "source": [
    "#!git add .\n",
    "#!git commit -m 'baseline'\n",
    "#!git push origin main"
   ]
  },
  {
   "cell_type": "markdown",
   "id": "bc708c70",
   "metadata": {},
   "source": [
    "# Tuning the model"
   ]
  },
  {
   "cell_type": "code",
   "execution_count": 52,
   "id": "5e842f04",
   "metadata": {},
   "outputs": [
    {
     "name": "stdout",
     "output_type": "stream",
     "text": [
      "Epoch 1/30\n",
      "78/78 [==============================] - 20s 187ms/step - loss: 0.0118 - val_loss: 0.0011\n",
      "Epoch 2/30\n",
      "78/78 [==============================] - 11s 140ms/step - loss: 9.2286e-04 - val_loss: 9.8158e-04\n",
      "Epoch 3/30\n",
      "78/78 [==============================] - 10s 131ms/step - loss: 8.4345e-04 - val_loss: 8.9050e-04\n",
      "Epoch 4/30\n",
      "78/78 [==============================] - 10s 129ms/step - loss: 7.4385e-04 - val_loss: 7.7596e-04\n",
      "Epoch 5/30\n",
      "78/78 [==============================] - 10s 132ms/step - loss: 7.6381e-04 - val_loss: 8.0452e-04\n",
      "Epoch 6/30\n",
      "78/78 [==============================] - 10s 129ms/step - loss: 6.8358e-04 - val_loss: 6.4221e-04\n",
      "Epoch 7/30\n",
      "78/78 [==============================] - 10s 133ms/step - loss: 6.4111e-04 - val_loss: 6.1409e-04\n",
      "Epoch 8/30\n",
      "78/78 [==============================] - 10s 131ms/step - loss: 5.8217e-04 - val_loss: 5.6382e-04\n",
      "Epoch 9/30\n",
      "78/78 [==============================] - 10s 130ms/step - loss: 5.8851e-04 - val_loss: 6.2490e-04\n",
      "Epoch 10/30\n",
      "78/78 [==============================] - 11s 137ms/step - loss: 5.3344e-04 - val_loss: 4.7923e-04\n",
      "Epoch 11/30\n",
      "78/78 [==============================] - 11s 140ms/step - loss: 4.9170e-04 - val_loss: 5.7881e-04\n",
      "Epoch 12/30\n",
      "78/78 [==============================] - 11s 139ms/step - loss: 4.6402e-04 - val_loss: 5.2362e-04\n",
      "Epoch 13/30\n",
      "78/78 [==============================] - 12s 148ms/step - loss: 4.5469e-04 - val_loss: 7.2881e-04\n",
      "Epoch 14/30\n",
      "78/78 [==============================] - 11s 141ms/step - loss: 5.1547e-04 - val_loss: 4.1132e-04\n",
      "Epoch 15/30\n",
      "78/78 [==============================] - 10s 135ms/step - loss: 4.1175e-04 - val_loss: 3.9358e-04\n",
      "Epoch 16/30\n",
      "78/78 [==============================] - 10s 132ms/step - loss: 3.8914e-04 - val_loss: 4.0949e-04\n",
      "Epoch 17/30\n",
      "78/78 [==============================] - 10s 132ms/step - loss: 4.0024e-04 - val_loss: 3.2079e-04\n",
      "Epoch 18/30\n",
      "78/78 [==============================] - 11s 137ms/step - loss: 3.5680e-04 - val_loss: 3.5654e-04\n",
      "Epoch 19/30\n",
      "78/78 [==============================] - 11s 139ms/step - loss: 3.3919e-04 - val_loss: 4.7631e-04\n",
      "Epoch 20/30\n",
      "78/78 [==============================] - 11s 140ms/step - loss: 3.5869e-04 - val_loss: 3.3181e-04\n",
      "Epoch 21/30\n",
      "78/78 [==============================] - 11s 139ms/step - loss: 3.0231e-04 - val_loss: 2.5889e-04\n",
      "Epoch 22/30\n",
      "78/78 [==============================] - 11s 138ms/step - loss: 2.7910e-04 - val_loss: 2.6099e-04\n",
      "Epoch 23/30\n",
      "78/78 [==============================] - 10s 133ms/step - loss: 2.9920e-04 - val_loss: 2.9943e-04\n",
      "Epoch 24/30\n",
      "78/78 [==============================] - 10s 134ms/step - loss: 2.6575e-04 - val_loss: 2.3994e-04\n",
      "Epoch 25/30\n",
      "78/78 [==============================] - 11s 145ms/step - loss: 2.4778e-04 - val_loss: 2.1980e-04\n",
      "Epoch 26/30\n",
      "78/78 [==============================] - 10s 131ms/step - loss: 2.4754e-04 - val_loss: 2.1382e-04\n",
      "Epoch 27/30\n",
      "78/78 [==============================] - 10s 130ms/step - loss: 2.6407e-04 - val_loss: 4.4832e-04\n",
      "Epoch 28/30\n",
      "78/78 [==============================] - 11s 148ms/step - loss: 3.3301e-04 - val_loss: 2.1327e-04\n",
      "Epoch 29/30\n",
      "78/78 [==============================] - 12s 155ms/step - loss: 2.5821e-04 - val_loss: 2.4003e-04\n",
      "Epoch 30/30\n",
      "78/78 [==============================] - 11s 135ms/step - loss: 2.6387e-04 - val_loss: 2.9849e-04\n"
     ]
    },
    {
     "data": {
      "text/plain": [
       "<keras.callbacks.History at 0x7fb5d04daee0>"
      ]
     },
     "execution_count": 52,
     "metadata": {},
     "output_type": "execute_result"
    }
   ],
   "source": [
    "model = Sequential()\n",
    "model.add(LSTM(100, return_sequences=True, input_shape=(x_train.shape[1], 1)))\n",
    "model.add(LSTM(100, return_sequences=False))\n",
    "model.add(Dense(25))\n",
    "model.add(Dense(1))\n",
    "\n",
    "model.compile(optimizer='adam', loss='mean_squared_error')\n",
    "\n",
    "model.fit(x_train,y_train, batch_size=32, epochs=30,verbose=1,validation_split=0.2,\n",
    "          callbacks=[EarlyStopping(patience=5,restore_best_weights=True)])"
   ]
  },
  {
   "cell_type": "code",
   "execution_count": 53,
   "id": "a98f4e81",
   "metadata": {},
   "outputs": [
    {
     "data": {
      "text/plain": [
       "0.35588165249529885"
      ]
     },
     "execution_count": 53,
     "metadata": {},
     "output_type": "execute_result"
    }
   ],
   "source": [
    "predictions = model.predict(x_test)\n",
    "predictions = scaler.inverse_transform(predictions)\n",
    "rmse = np.sqrt(np.mean(predictions - y_test)**2)\n",
    "rmse"
   ]
  },
  {
   "cell_type": "code",
   "execution_count": 54,
   "id": "2f09f0d2",
   "metadata": {},
   "outputs": [
    {
     "name": "stdout",
     "output_type": "stream",
     "text": [
      "Epoch 1/100\n",
      "78/78 [==============================] - 15s 144ms/step - loss: 0.0089 - val_loss: 0.0014\n",
      "Epoch 2/100\n",
      "78/78 [==============================] - 10s 129ms/step - loss: 8.8703e-04 - val_loss: 0.0010\n",
      "Epoch 3/100\n",
      "78/78 [==============================] - 10s 129ms/step - loss: 8.5167e-04 - val_loss: 9.0434e-04\n",
      "Epoch 4/100\n",
      "78/78 [==============================] - 11s 138ms/step - loss: 7.8797e-04 - val_loss: 9.0318e-04\n",
      "Epoch 5/100\n",
      "78/78 [==============================] - 10s 131ms/step - loss: 7.2772e-04 - val_loss: 7.4551e-04\n",
      "Epoch 6/100\n",
      "78/78 [==============================] - 10s 131ms/step - loss: 6.3948e-04 - val_loss: 7.5316e-04\n",
      "Epoch 7/100\n",
      "78/78 [==============================] - 10s 130ms/step - loss: 6.7882e-04 - val_loss: 6.0381e-04\n",
      "Epoch 8/100\n",
      "78/78 [==============================] - 10s 130ms/step - loss: 5.8213e-04 - val_loss: 5.6239e-04\n",
      "Epoch 9/100\n",
      "78/78 [==============================] - 10s 131ms/step - loss: 5.4426e-04 - val_loss: 5.0237e-04\n",
      "Epoch 10/100\n",
      "78/78 [==============================] - 10s 130ms/step - loss: 5.0656e-04 - val_loss: 6.2501e-04\n",
      "Epoch 11/100\n",
      "78/78 [==============================] - 10s 129ms/step - loss: 5.5524e-04 - val_loss: 5.0266e-04\n",
      "Epoch 12/100\n",
      "78/78 [==============================] - 10s 130ms/step - loss: 4.3641e-04 - val_loss: 4.3418e-04\n",
      "Epoch 13/100\n",
      "78/78 [==============================] - 10s 131ms/step - loss: 4.1551e-04 - val_loss: 3.7272e-04\n",
      "Epoch 14/100\n",
      "78/78 [==============================] - 10s 130ms/step - loss: 3.8186e-04 - val_loss: 3.4360e-04\n",
      "Epoch 15/100\n",
      "78/78 [==============================] - 11s 140ms/step - loss: 3.8073e-04 - val_loss: 3.2211e-04\n",
      "Epoch 16/100\n",
      "78/78 [==============================] - 10s 129ms/step - loss: 3.5545e-04 - val_loss: 3.2634e-04\n",
      "Epoch 17/100\n",
      "78/78 [==============================] - 10s 131ms/step - loss: 3.1719e-04 - val_loss: 2.9220e-04\n",
      "Epoch 18/100\n",
      "78/78 [==============================] - 10s 132ms/step - loss: 3.5218e-04 - val_loss: 3.4428e-04\n",
      "Epoch 19/100\n",
      "78/78 [==============================] - 11s 138ms/step - loss: 3.0848e-04 - val_loss: 2.6857e-04\n",
      "Epoch 20/100\n",
      "78/78 [==============================] - 11s 144ms/step - loss: 2.8822e-04 - val_loss: 3.1527e-04\n",
      "Epoch 21/100\n",
      "78/78 [==============================] - 11s 135ms/step - loss: 3.5352e-04 - val_loss: 2.4300e-04\n",
      "Epoch 22/100\n",
      "78/78 [==============================] - 10s 131ms/step - loss: 2.8733e-04 - val_loss: 2.7374e-04\n",
      "Epoch 23/100\n",
      "78/78 [==============================] - 10s 131ms/step - loss: 2.6466e-04 - val_loss: 4.1409e-04\n",
      "Epoch 24/100\n",
      "78/78 [==============================] - 11s 140ms/step - loss: 2.8154e-04 - val_loss: 2.4214e-04\n",
      "Epoch 25/100\n",
      "78/78 [==============================] - 10s 129ms/step - loss: 2.5030e-04 - val_loss: 2.2583e-04\n",
      "Epoch 26/100\n",
      "78/78 [==============================] - 10s 133ms/step - loss: 2.3815e-04 - val_loss: 2.3349e-04\n",
      "Epoch 27/100\n",
      "78/78 [==============================] - 11s 139ms/step - loss: 2.4540e-04 - val_loss: 2.3834e-04\n",
      "Epoch 28/100\n",
      "78/78 [==============================] - 10s 130ms/step - loss: 2.4584e-04 - val_loss: 2.1148e-04\n",
      "Epoch 29/100\n",
      "78/78 [==============================] - 10s 129ms/step - loss: 2.4912e-04 - val_loss: 3.0036e-04\n",
      "Epoch 30/100\n",
      "78/78 [==============================] - 10s 132ms/step - loss: 2.2952e-04 - val_loss: 3.0841e-04\n",
      "Epoch 31/100\n",
      "78/78 [==============================] - 10s 128ms/step - loss: 2.3475e-04 - val_loss: 2.0939e-04\n",
      "Epoch 32/100\n",
      "78/78 [==============================] - 10s 131ms/step - loss: 2.6084e-04 - val_loss: 2.9069e-04\n",
      "Epoch 33/100\n",
      "78/78 [==============================] - 10s 128ms/step - loss: 2.4196e-04 - val_loss: 2.5660e-04\n",
      "Epoch 34/100\n",
      "78/78 [==============================] - 11s 136ms/step - loss: 2.2241e-04 - val_loss: 2.2183e-04\n",
      "Epoch 35/100\n",
      "78/78 [==============================] - 10s 131ms/step - loss: 2.5678e-04 - val_loss: 2.7818e-04\n",
      "Epoch 36/100\n",
      "78/78 [==============================] - 10s 129ms/step - loss: 2.3278e-04 - val_loss: 4.2467e-04\n"
     ]
    },
    {
     "data": {
      "text/plain": [
       "<keras.callbacks.History at 0x7fb5b82ede80>"
      ]
     },
     "execution_count": 54,
     "metadata": {},
     "output_type": "execute_result"
    }
   ],
   "source": [
    "model = Sequential()\n",
    "model.add(LSTM(100, return_sequences=True, input_shape=(x_train.shape[1], 1)))\n",
    "model.add(LSTM(100, return_sequences=False))\n",
    "model.add(Dense(25))\n",
    "model.add(Dense(1))\n",
    "\n",
    "model.compile(optimizer='adam', loss='mean_squared_error')\n",
    "\n",
    "model.fit(x_train,y_train, batch_size=32, epochs=100,verbose=1,validation_split=0.2,\n",
    "          callbacks=[EarlyStopping(patience=5,restore_best_weights=True)])"
   ]
  },
  {
   "cell_type": "code",
   "execution_count": 55,
   "id": "d7b35963",
   "metadata": {},
   "outputs": [
    {
     "data": {
      "text/plain": [
       "0.11015652648136866"
      ]
     },
     "execution_count": 55,
     "metadata": {},
     "output_type": "execute_result"
    }
   ],
   "source": [
    "predictions = model.predict(x_test)\n",
    "predictions = scaler.inverse_transform(predictions)\n",
    "rmse = np.sqrt(np.mean(predictions - y_test)**2)\n",
    "rmse"
   ]
  },
  {
   "cell_type": "code",
   "execution_count": 56,
   "id": "07ec0d4a",
   "metadata": {},
   "outputs": [
    {
     "name": "stdout",
     "output_type": "stream",
     "text": [
      "Epoch 1/30\n",
      "156/156 [==============================] - 22s 114ms/step - loss: 0.0042 - val_loss: 9.1746e-04\n",
      "Epoch 2/30\n",
      "156/156 [==============================] - 17s 107ms/step - loss: 8.2186e-04 - val_loss: 0.0012\n",
      "Epoch 3/30\n",
      "156/156 [==============================] - 17s 108ms/step - loss: 8.4441e-04 - val_loss: 6.1654e-04\n",
      "Epoch 4/30\n",
      "156/156 [==============================] - 17s 107ms/step - loss: 6.5513e-04 - val_loss: 5.4560e-04\n",
      "Epoch 5/30\n",
      "156/156 [==============================] - 17s 107ms/step - loss: 5.9395e-04 - val_loss: 5.2214e-04\n",
      "Epoch 6/30\n",
      "156/156 [==============================] - 17s 106ms/step - loss: 5.2290e-04 - val_loss: 5.4951e-04\n",
      "Epoch 7/30\n",
      "156/156 [==============================] - 17s 108ms/step - loss: 4.7423e-04 - val_loss: 7.7003e-04\n",
      "Epoch 8/30\n",
      "156/156 [==============================] - 17s 107ms/step - loss: 5.4118e-04 - val_loss: 3.5692e-04\n",
      "Epoch 9/30\n",
      "156/156 [==============================] - 17s 107ms/step - loss: 3.8944e-04 - val_loss: 3.1891e-04\n",
      "Epoch 10/30\n",
      "156/156 [==============================] - 17s 108ms/step - loss: 3.7167e-04 - val_loss: 2.8433e-04\n",
      "Epoch 11/30\n",
      "156/156 [==============================] - 17s 106ms/step - loss: 3.0791e-04 - val_loss: 2.6818e-04\n",
      "Epoch 12/30\n",
      "156/156 [==============================] - 17s 107ms/step - loss: 2.8761e-04 - val_loss: 3.5390e-04\n",
      "Epoch 13/30\n",
      "156/156 [==============================] - 17s 107ms/step - loss: 3.0784e-04 - val_loss: 2.3115e-04\n",
      "Epoch 14/30\n",
      "156/156 [==============================] - 17s 108ms/step - loss: 2.9052e-04 - val_loss: 2.6281e-04\n",
      "Epoch 15/30\n",
      "156/156 [==============================] - 17s 106ms/step - loss: 2.6920e-04 - val_loss: 2.6753e-04\n",
      "Epoch 16/30\n",
      "156/156 [==============================] - 17s 107ms/step - loss: 2.9895e-04 - val_loss: 2.1379e-04\n",
      "Epoch 17/30\n",
      "156/156 [==============================] - 17s 107ms/step - loss: 2.6055e-04 - val_loss: 2.1510e-04\n",
      "Epoch 18/30\n",
      "156/156 [==============================] - 17s 108ms/step - loss: 3.1724e-04 - val_loss: 2.5935e-04\n",
      "Epoch 19/30\n",
      "156/156 [==============================] - 17s 107ms/step - loss: 2.3922e-04 - val_loss: 2.1149e-04\n",
      "Epoch 20/30\n",
      "156/156 [==============================] - 17s 107ms/step - loss: 2.4299e-04 - val_loss: 2.0771e-04\n",
      "Epoch 21/30\n",
      "156/156 [==============================] - 17s 106ms/step - loss: 2.6597e-04 - val_loss: 3.8409e-04\n",
      "Epoch 22/30\n",
      "156/156 [==============================] - 17s 106ms/step - loss: 2.8711e-04 - val_loss: 2.3967e-04\n",
      "Epoch 23/30\n",
      "156/156 [==============================] - 17s 107ms/step - loss: 2.6820e-04 - val_loss: 2.0979e-04\n",
      "Epoch 24/30\n",
      "156/156 [==============================] - 17s 108ms/step - loss: 2.2493e-04 - val_loss: 2.7662e-04\n",
      "Epoch 25/30\n",
      "156/156 [==============================] - 17s 112ms/step - loss: 3.1345e-04 - val_loss: 2.4366e-04\n"
     ]
    },
    {
     "data": {
      "text/plain": [
       "<keras.callbacks.History at 0x7fb597d0efa0>"
      ]
     },
     "execution_count": 56,
     "metadata": {},
     "output_type": "execute_result"
    }
   ],
   "source": [
    "model = Sequential()\n",
    "model.add(LSTM(100, return_sequences=True, input_shape=(x_train.shape[1], 1)))\n",
    "model.add(LSTM(100, return_sequences=False))\n",
    "model.add(Dense(25))\n",
    "model.add(Dense(1))\n",
    "\n",
    "model.compile(optimizer='adam', loss='mean_squared_error')\n",
    "\n",
    "model.fit(x_train,y_train, batch_size=16, epochs=30,verbose=1,validation_split=0.2,\n",
    "          callbacks=[EarlyStopping(patience=5,restore_best_weights=True)])"
   ]
  },
  {
   "cell_type": "code",
   "execution_count": 57,
   "id": "683dd8ec",
   "metadata": {},
   "outputs": [
    {
     "data": {
      "text/plain": [
       "0.12226908384325526"
      ]
     },
     "execution_count": 57,
     "metadata": {},
     "output_type": "execute_result"
    }
   ],
   "source": [
    "predictions = model.predict(x_test)\n",
    "predictions = scaler.inverse_transform(predictions)\n",
    "rmse = np.sqrt(np.mean(predictions - y_test)**2)\n",
    "rmse"
   ]
  },
  {
   "cell_type": "code",
   "execution_count": 49,
   "id": "97b1c926",
   "metadata": {},
   "outputs": [
    {
     "name": "stdout",
     "output_type": "stream",
     "text": [
      "Epoch 1/100\n",
      "156/156 [==============================] - 22s 115ms/step - loss: 0.0058 - val_loss: 9.9980e-04\n",
      "Epoch 2/100\n",
      "156/156 [==============================] - 16s 105ms/step - loss: 9.0083e-04 - val_loss: 9.0247e-04\n",
      "Epoch 3/100\n",
      "156/156 [==============================] - 16s 105ms/step - loss: 8.2640e-04 - val_loss: 8.6524e-04\n",
      "Epoch 4/100\n",
      "156/156 [==============================] - 17s 108ms/step - loss: 7.3999e-04 - val_loss: 9.7815e-04\n",
      "Epoch 5/100\n",
      "156/156 [==============================] - 17s 108ms/step - loss: 7.5139e-04 - val_loss: 5.6287e-04\n",
      "Epoch 6/100\n",
      "156/156 [==============================] - 17s 109ms/step - loss: 5.9002e-04 - val_loss: 5.2592e-04\n",
      "Epoch 7/100\n",
      "156/156 [==============================] - 17s 106ms/step - loss: 5.5462e-04 - val_loss: 4.9390e-04\n",
      "Epoch 8/100\n",
      "156/156 [==============================] - 17s 109ms/step - loss: 4.6327e-04 - val_loss: 3.8415e-04\n",
      "Epoch 9/100\n",
      "156/156 [==============================] - 16s 106ms/step - loss: 4.4826e-04 - val_loss: 3.7604e-04\n",
      "Epoch 10/100\n",
      "156/156 [==============================] - 17s 108ms/step - loss: 3.6672e-04 - val_loss: 3.2985e-04\n",
      "Epoch 11/100\n",
      "156/156 [==============================] - 17s 106ms/step - loss: 3.6211e-04 - val_loss: 3.9183e-04\n",
      "Epoch 12/100\n",
      "156/156 [==============================] - 16s 105ms/step - loss: 3.8068e-04 - val_loss: 2.7267e-04\n",
      "Epoch 13/100\n",
      "156/156 [==============================] - 16s 104ms/step - loss: 3.1510e-04 - val_loss: 2.7190e-04\n",
      "Epoch 14/100\n",
      "156/156 [==============================] - 17s 112ms/step - loss: 3.0599e-04 - val_loss: 5.5249e-04\n",
      "Epoch 15/100\n",
      "156/156 [==============================] - 17s 109ms/step - loss: 3.3973e-04 - val_loss: 2.6874e-04\n",
      "Epoch 16/100\n",
      "156/156 [==============================] - 16s 105ms/step - loss: 2.6994e-04 - val_loss: 2.2101e-04\n",
      "Epoch 17/100\n",
      "156/156 [==============================] - 16s 102ms/step - loss: 3.1582e-04 - val_loss: 4.5277e-04\n",
      "Epoch 18/100\n",
      "156/156 [==============================] - 16s 103ms/step - loss: 2.4388e-04 - val_loss: 2.2354e-04\n",
      "Epoch 19/100\n",
      "156/156 [==============================] - 16s 101ms/step - loss: 2.5025e-04 - val_loss: 2.7731e-04\n",
      "Epoch 20/100\n",
      "156/156 [==============================] - 16s 102ms/step - loss: 2.5798e-04 - val_loss: 2.8514e-04\n",
      "Epoch 21/100\n",
      "156/156 [==============================] - 16s 102ms/step - loss: 2.3503e-04 - val_loss: 2.2723e-04\n"
     ]
    },
    {
     "data": {
      "text/plain": [
       "<keras.callbacks.History at 0x7fc460f361c0>"
      ]
     },
     "execution_count": 49,
     "metadata": {},
     "output_type": "execute_result"
    }
   ],
   "source": [
    "model = Sequential()\n",
    "model.add(LSTM(100, return_sequences=True, input_shape=(x_train.shape[1], 1)))\n",
    "model.add(LSTM(100, return_sequences=False))\n",
    "model.add(Dense(25))\n",
    "model.add(Dense(1))\n",
    "\n",
    "model.compile(optimizer='adam', loss='mean_squared_error')\n",
    "\n",
    "model.fit(x_train,y_train, batch_size=16, epochs=100,verbose=1,validation_split=0.2,\n",
    "          callbacks=[EarlyStopping(patience=5,restore_best_weights=True)])"
   ]
  },
  {
   "cell_type": "code",
   "execution_count": 50,
   "id": "cd069999",
   "metadata": {},
   "outputs": [
    {
     "data": {
      "text/plain": [
       "0.17183584884316444"
      ]
     },
     "execution_count": 50,
     "metadata": {},
     "output_type": "execute_result"
    }
   ],
   "source": [
    "predictions = model.predict(x_test)\n",
    "predictions = scaler.inverse_transform(predictions)\n",
    "rmse = np.sqrt(np.mean(predictions - y_test)**2)\n",
    "rmse"
   ]
  },
  {
   "cell_type": "markdown",
   "id": "577f99ab",
   "metadata": {},
   "source": [
    "## saving best model"
   ]
  },
  {
   "cell_type": "code",
   "execution_count": null,
   "id": "f672b930",
   "metadata": {},
   "outputs": [],
   "source": [
    "#saving best model"
   ]
  },
  {
   "cell_type": "code",
   "execution_count": 52,
   "id": "980e127f",
   "metadata": {},
   "outputs": [],
   "source": [
    "import pickle\n",
    "filename = 'model1.sav'\n",
    "#pickle.dump(model, open(filename, 'wb'))"
   ]
  },
  {
   "cell_type": "code",
   "execution_count": 53,
   "id": "cfcab407",
   "metadata": {},
   "outputs": [
    {
     "data": {
      "text/plain": [
       "0.000299976271909543"
      ]
     },
     "execution_count": 53,
     "metadata": {},
     "output_type": "execute_result"
    }
   ],
   "source": [
    "# load the model from disk\n",
    "loaded_model = pickle.load(open(filename, 'rb'))\n",
    "y_pred=loaded_model.predict(x_test)\n",
    "y_pred=scaler.inverse_transform(y_pred)\n",
    "rmse = np.sqrt(np.mean(y_pred - y_test)**2)\n",
    "rmse"
   ]
  },
  {
   "cell_type": "markdown",
   "id": "78ce4460",
   "metadata": {},
   "source": [
    "## plotting prediction"
   ]
  },
  {
   "cell_type": "code",
   "execution_count": 54,
   "id": "66f34be8",
   "metadata": {},
   "outputs": [
    {
     "data": {
      "text/html": [
       "<div>\n",
       "<style scoped>\n",
       "    .dataframe tbody tr th:only-of-type {\n",
       "        vertical-align: middle;\n",
       "    }\n",
       "\n",
       "    .dataframe tbody tr th {\n",
       "        vertical-align: top;\n",
       "    }\n",
       "\n",
       "    .dataframe thead th {\n",
       "        text-align: right;\n",
       "    }\n",
       "</style>\n",
       "<table border=\"1\" class=\"dataframe\">\n",
       "  <thead>\n",
       "    <tr style=\"text-align: right;\">\n",
       "      <th></th>\n",
       "      <th>actual</th>\n",
       "      <th>pred</th>\n",
       "    </tr>\n",
       "  </thead>\n",
       "  <tbody>\n",
       "    <tr>\n",
       "      <th>0</th>\n",
       "      <td>12.872649</td>\n",
       "      <td>13.046600</td>\n",
       "    </tr>\n",
       "    <tr>\n",
       "      <th>1</th>\n",
       "      <td>12.844728</td>\n",
       "      <td>12.904234</td>\n",
       "    </tr>\n",
       "    <tr>\n",
       "      <th>2</th>\n",
       "      <td>12.923843</td>\n",
       "      <td>12.879878</td>\n",
       "    </tr>\n",
       "    <tr>\n",
       "      <th>3</th>\n",
       "      <td>13.296153</td>\n",
       "      <td>12.970884</td>\n",
       "    </tr>\n",
       "    <tr>\n",
       "      <th>4</th>\n",
       "      <td>13.473003</td>\n",
       "      <td>13.368046</td>\n",
       "    </tr>\n",
       "    <tr>\n",
       "      <th>...</th>\n",
       "      <td>...</td>\n",
       "      <td>...</td>\n",
       "    </tr>\n",
       "    <tr>\n",
       "      <th>788</th>\n",
       "      <td>23.990000</td>\n",
       "      <td>23.657974</td>\n",
       "    </tr>\n",
       "    <tr>\n",
       "      <th>789</th>\n",
       "      <td>25.120001</td>\n",
       "      <td>24.065161</td>\n",
       "    </tr>\n",
       "    <tr>\n",
       "      <th>790</th>\n",
       "      <td>24.940001</td>\n",
       "      <td>25.578205</td>\n",
       "    </tr>\n",
       "    <tr>\n",
       "      <th>791</th>\n",
       "      <td>25.110001</td>\n",
       "      <td>24.542374</td>\n",
       "    </tr>\n",
       "    <tr>\n",
       "      <th>792</th>\n",
       "      <td>24.799999</td>\n",
       "      <td>25.206127</td>\n",
       "    </tr>\n",
       "  </tbody>\n",
       "</table>\n",
       "<p>793 rows × 2 columns</p>\n",
       "</div>"
      ],
      "text/plain": [
       "        actual       pred\n",
       "0    12.872649  13.046600\n",
       "1    12.844728  12.904234\n",
       "2    12.923843  12.879878\n",
       "3    13.296153  12.970884\n",
       "4    13.473003  13.368046\n",
       "..         ...        ...\n",
       "788  23.990000  23.657974\n",
       "789  25.120001  24.065161\n",
       "790  24.940001  25.578205\n",
       "791  25.110001  24.542374\n",
       "792  24.799999  25.206127\n",
       "\n",
       "[793 rows x 2 columns]"
      ]
     },
     "execution_count": 54,
     "metadata": {},
     "output_type": "execute_result"
    }
   ],
   "source": [
    "predict = pd.DataFrame(y_test).rename(columns={0:'actual'})\n",
    "predict['pred']=pd.DataFrame(y_pred)\n",
    "predict"
   ]
  },
  {
   "cell_type": "code",
   "execution_count": 55,
   "id": "c8a4313a",
   "metadata": {},
   "outputs": [
    {
     "name": "stderr",
     "output_type": "stream",
     "text": [
      "/tmp/ipykernel_475/4035412964.py:4: SettingWithCopyWarning: \n",
      "A value is trying to be set on a copy of a slice from a DataFrame.\n",
      "Try using .loc[row_indexer,col_indexer] = value instead\n",
      "\n",
      "See the caveats in the documentation: https://pandas.pydata.org/pandas-docs/stable/user_guide/indexing.html#returning-a-view-versus-a-copy\n",
      "  validation['Predictions'] = y_pred\n"
     ]
    },
    {
     "data": {
      "image/png": "[encoded data removed]",
      "text/plain": [
       "<Figure size 1152x576 with 1 Axes>"
      ]
     },
     "metadata": {
      "needs_background": "light"
     },
     "output_type": "display_data"
    }
   ],
   "source": [
    "data = dados.filter(['Close'])\n",
    "#train = data[:training_data_len]\n",
    "validation = data[training_data_len:]\n",
    "validation['Predictions'] = y_pred\n",
    "plt.figure(figsize=(16,8))\n",
    "plt.title('Model')\n",
    "plt.xlabel('Date')\n",
    "plt.ylabel('Close Price USD ($)')\n",
    "#plt.plot(train)\n",
    "plt.plot(validation[['Close', 'Predictions']])\n",
    "plt.legend(['Val', 'Predictions'], loc='lower right')\n",
    "plt.show()"
   ]
  },
  {
   "cell_type": "code",
   "execution_count": 77,
   "id": "34216b68",
   "metadata": {},
   "outputs": [],
   "source": [
    "#!git add .\n",
    "#!git commit -m 'Nice model'\n",
    "#!git push origin main"
   ]
  },
  {
   "cell_type": "markdown",
   "id": "844468e8",
   "metadata": {},
   "source": [
    "# Building up on that model"
   ]
  },
  {
   "cell_type": "code",
   "execution_count": 56,
   "id": "36abbb81",
   "metadata": {},
   "outputs": [],
   "source": [
    "#There are two things I could do right now. Change the output and increase the input data\n",
    "#Increasing the input data from 60 days to something else should be easier, so lets start by that."
   ]
  },
  {
   "cell_type": "markdown",
   "id": "2203c4fd",
   "metadata": {},
   "source": [
    "## Increasing input data"
   ]
  },
  {
   "cell_type": "code",
   "execution_count": 57,
   "id": "41deab62",
   "metadata": {},
   "outputs": [],
   "source": [
    "#Currently the model takes the 60 previous days to make a prediction of the following day.\n",
    "#This might not be enough if we think about a prediction of a week or a prediction of 2 months.\n",
    "#So lets start by making it 90 days."
   ]
  },
  {
   "cell_type": "code",
   "execution_count": 67,
   "id": "e80e7ca0",
   "metadata": {},
   "outputs": [],
   "source": [
    "close_prices = dados['Close']\n",
    "values = close_prices.values\n",
    "training_data_len = math.ceil(len(values)* 0.8)"
   ]
  },
  {
   "cell_type": "code",
   "execution_count": 68,
   "id": "914027f0",
   "metadata": {},
   "outputs": [
    {
     "name": "stdout",
     "output_type": "stream",
     "text": [
      "(3966,)\n"
     ]
    },
    {
     "data": {
      "text/plain": [
       "array([ 8.70106411,  8.43650627,  8.2480278 , ..., 24.94000053,\n",
       "       25.11000061, 24.79999924])"
      ]
     },
     "execution_count": 68,
     "metadata": {},
     "output_type": "execute_result"
    }
   ],
   "source": [
    "print(values.shape)\n",
    "values"
   ]
  },
  {
   "cell_type": "code",
   "execution_count": 69,
   "id": "dbb204e3",
   "metadata": {},
   "outputs": [
    {
     "name": "stdout",
     "output_type": "stream",
     "text": [
      "(3966, 1)\n"
     ]
    },
    {
     "data": {
      "text/plain": [
       "array([[ 8.70106411],\n",
       "       [ 8.43650627],\n",
       "       [ 8.2480278 ],\n",
       "       ...,\n",
       "       [24.94000053],\n",
       "       [25.11000061],\n",
       "       [24.79999924]])"
      ]
     },
     "execution_count": 69,
     "metadata": {},
     "output_type": "execute_result"
    }
   ],
   "source": [
    "values=values.reshape(-1,1)\n",
    "print(values.shape)\n",
    "values"
   ]
  },
  {
   "cell_type": "code",
   "execution_count": 73,
   "id": "52ec2d6b",
   "metadata": {},
   "outputs": [],
   "source": [
    "train_values=values[0: training_data_len]\n",
    "#test_values=values[training_data_len:]"
   ]
  },
  {
   "cell_type": "code",
   "execution_count": 77,
   "id": "01b7d14a",
   "metadata": {},
   "outputs": [
    {
     "data": {
      "text/plain": [
       "(3173, 1)"
      ]
     },
     "execution_count": 77,
     "metadata": {},
     "output_type": "execute_result"
    }
   ],
   "source": [
    "train_values.shape"
   ]
  },
  {
   "cell_type": "code",
   "execution_count": 76,
   "id": "e842b875",
   "metadata": {},
   "outputs": [
    {
     "data": {
      "text/plain": [
       "(793, 1)"
      ]
     },
     "execution_count": 76,
     "metadata": {},
     "output_type": "execute_result"
    }
   ],
   "source": [
    "test_values.shape"
   ]
  },
  {
   "cell_type": "code",
   "execution_count": 72,
   "id": "49e0574e",
   "metadata": {},
   "outputs": [],
   "source": [
    "#Scaling data\n",
    "scaler = MinMaxScaler()\n",
    "train_data = scaler.fit_transform(train_values)"
   ]
  },
  {
   "cell_type": "code",
   "execution_count": 85,
   "id": "d0ea5ed8",
   "metadata": {},
   "outputs": [],
   "source": [
    "#training data\n",
    "x_train = []\n",
    "y_train = []\n",
    "\n",
    "for i in range(90, len(train_data)):\n",
    "    #cada resultado i tem 90 dias pra trás como features\n",
    "    x_train.append(train_data[i-90:i, 0])\n",
    "    y_train.append(train_data[i, 0])"
   ]
  },
  {
   "cell_type": "code",
   "execution_count": 88,
   "id": "857cc86a",
   "metadata": {},
   "outputs": [
    {
     "data": {
      "text/plain": [
       "(3083, 90)"
      ]
     },
     "execution_count": 88,
     "metadata": {},
     "output_type": "execute_result"
    }
   ],
   "source": [
    "x_train, y_train = np.array(x_train), np.array(y_train)\n",
    "#x_train = np.reshape(x_train, (x_train.shape[0], x_train.shape[1], 1))\n",
    "x_train.shape #(3173-90)"
   ]
  },
  {
   "cell_type": "code",
   "execution_count": 89,
   "id": "c8982472",
   "metadata": {},
   "outputs": [
    {
     "data": {
      "text/plain": [
       "(3083, 90, 1)"
      ]
     },
     "execution_count": 89,
     "metadata": {},
     "output_type": "execute_result"
    }
   ],
   "source": [
    "x_train = np.reshape(x_train, (x_train.shape[0], x_train.shape[1], 1)) #expand dims pra entrar no modelo\n",
    "x_train.shape"
   ]
  },
  {
   "cell_type": "code",
   "execution_count": null,
   "id": "2e87e9a8",
   "metadata": {},
   "outputs": [],
   "source": [
    "#test data"
   ]
  },
  {
   "cell_type": "code",
   "execution_count": 95,
   "id": "1aefaf97",
   "metadata": {},
   "outputs": [],
   "source": [
    "test_values=values[training_data_len-90:] #vou precisar de 90 dias antes pra fazer o modelo\n",
    "\n",
    "test_data = scaler.transform(test_values)\n",
    "\n",
    "x_test = []\n",
    "y_test = values[training_data_len:] #shape diferente pra passar no scaler\n",
    "\n",
    "for i in range(90, len(test_data)):\n",
    "  x_test.append(test_data[i-90:i, 0])\n",
    "\n",
    "x_test = np.array(x_test)\n",
    "x_test = np.reshape(x_test, (x_test.shape[0], x_test.shape[1], 1))"
   ]
  },
  {
   "cell_type": "code",
   "execution_count": 93,
   "id": "027a95c4",
   "metadata": {},
   "outputs": [
    {
     "data": {
      "text/plain": [
       "(793, 1)"
      ]
     },
     "execution_count": 93,
     "metadata": {},
     "output_type": "execute_result"
    }
   ],
   "source": [
    "y_test.shape"
   ]
  },
  {
   "cell_type": "code",
   "execution_count": 94,
   "id": "d6ee4c7d",
   "metadata": {},
   "outputs": [
    {
     "data": {
      "text/plain": [
       "(3083,)"
      ]
     },
     "execution_count": 94,
     "metadata": {},
     "output_type": "execute_result"
    }
   ],
   "source": [
    "y_train.shape"
   ]
  },
  {
   "cell_type": "code",
   "execution_count": 124,
   "id": "f17f94d8",
   "metadata": {},
   "outputs": [
    {
     "data": {
      "text/plain": [
       "(3083, 1)"
      ]
     },
     "execution_count": 124,
     "metadata": {},
     "output_type": "execute_result"
    }
   ],
   "source": [
    "y_train_2=values[90:training_data_len]\n",
    "y_train_2.shape #both work"
   ]
  },
  {
   "cell_type": "code",
   "execution_count": 97,
   "id": "e68e1e91",
   "metadata": {},
   "outputs": [
    {
     "data": {
      "text/plain": [
       "(793, 90, 1)"
      ]
     },
     "execution_count": 97,
     "metadata": {},
     "output_type": "execute_result"
    }
   ],
   "source": [
    "x_test.shape"
   ]
  },
  {
   "cell_type": "code",
   "execution_count": null,
   "id": "47f6e798",
   "metadata": {},
   "outputs": [],
   "source": [
    "#lets run a model with more input data"
   ]
  },
  {
   "cell_type": "code",
   "execution_count": 101,
   "id": "c55c1f89",
   "metadata": {},
   "outputs": [
    {
     "name": "stdout",
     "output_type": "stream",
     "text": [
      "Epoch 1/100\n",
      "155/155 [==============================] - 31s 173ms/step - loss: 0.0035 - val_loss: 9.2399e-04\n",
      "Epoch 2/100\n",
      "155/155 [==============================] - 25s 160ms/step - loss: 8.0585e-04 - val_loss: 7.3247e-04\n",
      "Epoch 3/100\n",
      "155/155 [==============================] - 25s 160ms/step - loss: 7.1075e-04 - val_loss: 0.0021\n",
      "Epoch 4/100\n",
      "155/155 [==============================] - 25s 160ms/step - loss: 6.3230e-04 - val_loss: 9.1949e-04\n",
      "Epoch 5/100\n",
      "155/155 [==============================] - 24s 153ms/step - loss: 5.2162e-04 - val_loss: 4.5046e-04\n",
      "Epoch 6/100\n",
      "155/155 [==============================] - 24s 156ms/step - loss: 4.7804e-04 - val_loss: 6.3618e-04\n",
      "Epoch 7/100\n",
      "155/155 [==============================] - 24s 153ms/step - loss: 4.6510e-04 - val_loss: 3.5192e-04\n",
      "Epoch 8/100\n",
      "155/155 [==============================] - 24s 154ms/step - loss: 3.8855e-04 - val_loss: 3.1697e-04\n",
      "Epoch 9/100\n",
      "155/155 [==============================] - 24s 152ms/step - loss: 3.8481e-04 - val_loss: 3.8900e-04\n",
      "Epoch 10/100\n",
      "155/155 [==============================] - 23s 151ms/step - loss: 3.6332e-04 - val_loss: 3.0831e-04\n",
      "Epoch 11/100\n",
      "155/155 [==============================] - 24s 153ms/step - loss: 3.2502e-04 - val_loss: 2.6323e-04\n",
      "Epoch 12/100\n",
      "155/155 [==============================] - 24s 153ms/step - loss: 3.0718e-04 - val_loss: 2.4292e-04\n",
      "Epoch 13/100\n",
      "155/155 [==============================] - 24s 155ms/step - loss: 2.8704e-04 - val_loss: 3.2875e-04\n",
      "Epoch 14/100\n",
      "155/155 [==============================] - 23s 150ms/step - loss: 2.5272e-04 - val_loss: 2.1631e-04\n",
      "Epoch 15/100\n",
      "155/155 [==============================] - 24s 156ms/step - loss: 2.5890e-04 - val_loss: 2.2174e-04\n",
      "Epoch 16/100\n",
      "155/155 [==============================] - 23s 150ms/step - loss: 2.7763e-04 - val_loss: 4.9299e-04\n",
      "Epoch 17/100\n",
      "155/155 [==============================] - 23s 149ms/step - loss: 2.7826e-04 - val_loss: 3.4813e-04\n",
      "Epoch 18/100\n",
      "155/155 [==============================] - 23s 150ms/step - loss: 3.4414e-04 - val_loss: 2.1106e-04\n",
      "Epoch 19/100\n",
      "155/155 [==============================] - 24s 156ms/step - loss: 2.7787e-04 - val_loss: 2.3390e-04\n",
      "Epoch 20/100\n",
      "155/155 [==============================] - 24s 156ms/step - loss: 2.4955e-04 - val_loss: 2.7376e-04\n",
      "Epoch 21/100\n",
      "155/155 [==============================] - 26s 166ms/step - loss: 2.3576e-04 - val_loss: 2.3448e-04\n",
      "Epoch 22/100\n",
      "155/155 [==============================] - 24s 154ms/step - loss: 2.2970e-04 - val_loss: 2.2937e-04\n",
      "Epoch 23/100\n",
      "155/155 [==============================] - 24s 158ms/step - loss: 2.7722e-04 - val_loss: 4.4403e-04\n"
     ]
    },
    {
     "data": {
      "text/plain": [
       "<keras.callbacks.History at 0x7fc42ed5db50>"
      ]
     },
     "execution_count": 101,
     "metadata": {},
     "output_type": "execute_result"
    }
   ],
   "source": [
    "model = Sequential()\n",
    "model.add(LSTM(100, return_sequences=True, input_shape=(x_train.shape[1], 1)))\n",
    "model.add(LSTM(100, return_sequences=False))\n",
    "model.add(Dense(25))\n",
    "model.add(Dense(1))\n",
    "\n",
    "model.compile(optimizer='adam', loss='mean_squared_error')\n",
    "\n",
    "model.fit(x_train,y_train, batch_size=16, epochs=100,verbose=1,validation_split=0.2,\n",
    "          callbacks=[EarlyStopping(patience=5,restore_best_weights=True)])"
   ]
  },
  {
   "cell_type": "code",
   "execution_count": 102,
   "id": "7c25c717",
   "metadata": {},
   "outputs": [
    {
     "data": {
      "text/plain": [
       "0.13690735142288113"
      ]
     },
     "execution_count": 102,
     "metadata": {},
     "output_type": "execute_result"
    }
   ],
   "source": [
    "predictions = model.predict(x_test)\n",
    "predictions = scaler.inverse_transform(predictions)\n",
    "rmse = np.sqrt(np.mean(predictions - y_test)**2)\n",
    "rmse"
   ]
  },
  {
   "cell_type": "code",
   "execution_count": 103,
   "id": "4f8284f0",
   "metadata": {},
   "outputs": [],
   "source": [
    "#ok, so making it 90 days or whatever days is pretty forward.\n",
    "#lets work on changing the output"
   ]
  },
  {
   "cell_type": "code",
   "execution_count": 105,
   "id": "3eb7b8e0",
   "metadata": {},
   "outputs": [
    {
     "name": "stdout",
     "output_type": "stream",
     "text": [
      "[main 7f415b1] 90 days input\n",
      " 2 files changed, 3228 insertions(+), 2719 deletions(-)\n",
      " copy Petro.ipynb => .ipynb_checkpoints/Petro-checkpoint.ipynb (99%)\n",
      " rewrite Petro.ipynb (75%)\n",
      "Enumerating objects: 9, done.\n",
      "Counting objects: 100% (9/9), done.\n",
      "Delta compression using up to 4 threads\n",
      "Compressing objects: 100% (5/5), done.\n",
      "Writing objects: 100% (5/5), 567.78 KiB | 9.62 MiB/s, done.\n",
      "Total 5 (delta 0), reused 0 (delta 0), pack-reused 0\n",
      "To https://github.com/LucasGama1207/petr4_prediction.git\n",
      "   7f210b9..7f415b1  main -> main\n"
     ]
    }
   ],
   "source": [
    "!git add .\n",
    "!git commit -m '90 days input'\n",
    "!git push origin main"
   ]
  },
  {
   "cell_type": "markdown",
   "id": "c9b46253",
   "metadata": {},
   "source": [
    "## Changing output"
   ]
  },
  {
   "cell_type": "code",
   "execution_count": 104,
   "id": "4105c733",
   "metadata": {},
   "outputs": [],
   "source": [
    "#there is two ways to change the output. One is a single day in a week or a month.\n",
    "#the other is the full range of weeks. I could try that, but I think its more complicated and useless.\n",
    "#maybe just to practice my lstm skills."
   ]
  },
  {
   "cell_type": "code",
   "execution_count": 145,
   "id": "a0cc0b44",
   "metadata": {},
   "outputs": [
    {
     "name": "stdout",
     "output_type": "stream",
     "text": [
      "(3077, 90, 1)\n",
      "(3077,)\n"
     ]
    }
   ],
   "source": [
    "#changing the output is basically changing the ytrain and ytest\n",
    "\n",
    "#training data\n",
    "x_train = []\n",
    "y_train = []\n",
    "\n",
    "for i in range(90, (len(train_data)-6)):\n",
    "    #cada resultado i tem 90 dias pra trás como features\n",
    "    x_train.append(train_data[i-90:i, 0])\n",
    "    y_train.append(train_data[i+6, 0])\n",
    "    \n",
    "x_train, y_train = np.array(x_train), np.array(y_train)\n",
    "x_train = np.reshape(x_train, (x_train.shape[0], x_train.shape[1], 1)) #expand dims pra entrar no modelo\n",
    "print(x_train.shape)\n",
    "print(y_train.shape)"
   ]
  },
  {
   "cell_type": "code",
   "execution_count": 147,
   "id": "d2b43a6c",
   "metadata": {},
   "outputs": [
    {
     "name": "stdout",
     "output_type": "stream",
     "text": [
      "(787, 90, 1)\n",
      "(787, 1)\n"
     ]
    }
   ],
   "source": [
    "test_values=values[training_data_len-90:] #vou precisar de 90 dias antes pra fazer o modelo\n",
    "\n",
    "test_data = scaler.transform(test_values)\n",
    "\n",
    "x_test = []\n",
    "y_test = values[training_data_len:-6] \n",
    "\n",
    "for i in range(90, (len(test_data)-6)):\n",
    "  x_test.append(test_data[i-90:i, 0])\n",
    "\n",
    "x_test = np.array(x_test)\n",
    "x_test = np.reshape(x_test, (x_test.shape[0], x_test.shape[1], 1))\n",
    "print(x_test.shape)\n",
    "print(y_test.shape)"
   ]
  },
  {
   "cell_type": "code",
   "execution_count": 149,
   "id": "d1803a6e",
   "metadata": {},
   "outputs": [
    {
     "data": {
      "text/plain": [
       "array([8.2066946])"
      ]
     },
     "execution_count": 149,
     "metadata": {},
     "output_type": "execute_result"
    }
   ],
   "source": [
    "values[89+7]"
   ]
  },
  {
   "cell_type": "code",
   "execution_count": 137,
   "id": "8fa8b698",
   "metadata": {},
   "outputs": [
    {
     "data": {
      "text/plain": [
       "array([[0.36495454],\n",
       "       [0.37133591],\n",
       "       [0.37401221],\n",
       "       ...,\n",
       "       [0.64145511],\n",
       "       [0.64942761],\n",
       "       [0.65849953]])"
      ]
     },
     "execution_count": 137,
     "metadata": {},
     "output_type": "execute_result"
    }
   ],
   "source": [
    "y_train.reshape(-1,1)"
   ]
  },
  {
   "cell_type": "code",
   "execution_count": 146,
   "id": "f7846947",
   "metadata": {},
   "outputs": [
    {
     "data": {
      "text/plain": [
       "array([[ 8.2066946 ],\n",
       "       [ 8.02896786],\n",
       "       [ 8.13699627],\n",
       "       ...,\n",
       "       [12.70976353],\n",
       "       [12.84472752],\n",
       "       [12.99830341]])"
      ]
     },
     "execution_count": 146,
     "metadata": {},
     "output_type": "execute_result"
    }
   ],
   "source": [
    "scaler.inverse_transform(y_train.reshape(-1,1))"
   ]
  },
  {
   "cell_type": "code",
   "execution_count": 150,
   "id": "a3ecf875",
   "metadata": {},
   "outputs": [
    {
     "name": "stdout",
     "output_type": "stream",
     "text": [
      "Epoch 1/100\n",
      "154/154 [==============================] - 28s 155ms/step - loss: 0.0059 - val_loss: 0.0026\n",
      "Epoch 2/100\n",
      "154/154 [==============================] - 23s 148ms/step - loss: 0.0021 - val_loss: 0.0027\n",
      "Epoch 3/100\n",
      "154/154 [==============================] - 25s 164ms/step - loss: 0.0019 - val_loss: 0.0023\n",
      "Epoch 4/100\n",
      "154/154 [==============================] - 23s 152ms/step - loss: 0.0020 - val_loss: 0.0020\n",
      "Epoch 5/100\n",
      "154/154 [==============================] - 23s 149ms/step - loss: 0.0019 - val_loss: 0.0019\n",
      "Epoch 6/100\n",
      "154/154 [==============================] - 24s 156ms/step - loss: 0.0017 - val_loss: 0.0020\n",
      "Epoch 7/100\n",
      "154/154 [==============================] - 24s 154ms/step - loss: 0.0017 - val_loss: 0.0020\n",
      "Epoch 8/100\n",
      "154/154 [==============================] - 24s 155ms/step - loss: 0.0016 - val_loss: 0.0019\n",
      "Epoch 9/100\n",
      "154/154 [==============================] - 23s 150ms/step - loss: 0.0017 - val_loss: 0.0019\n",
      "Epoch 10/100\n",
      "154/154 [==============================] - 24s 155ms/step - loss: 0.0016 - val_loss: 0.0018\n",
      "Epoch 11/100\n",
      "154/154 [==============================] - 24s 153ms/step - loss: 0.0017 - val_loss: 0.0020\n",
      "Epoch 12/100\n",
      "154/154 [==============================] - 25s 164ms/step - loss: 0.0015 - val_loss: 0.0017\n",
      "Epoch 13/100\n",
      "154/154 [==============================] - 26s 169ms/step - loss: 0.0016 - val_loss: 0.0017\n",
      "Epoch 14/100\n",
      "154/154 [==============================] - 26s 169ms/step - loss: 0.0015 - val_loss: 0.0019\n",
      "Epoch 15/100\n",
      "154/154 [==============================] - 24s 157ms/step - loss: 0.0015 - val_loss: 0.0018\n",
      "Epoch 16/100\n",
      "154/154 [==============================] - 27s 176ms/step - loss: 0.0015 - val_loss: 0.0017\n",
      "Epoch 17/100\n",
      "154/154 [==============================] - 26s 169ms/step - loss: 0.0015 - val_loss: 0.0019\n",
      "Epoch 18/100\n",
      "154/154 [==============================] - 25s 160ms/step - loss: 0.0015 - val_loss: 0.0016\n",
      "Epoch 19/100\n",
      "154/154 [==============================] - 25s 162ms/step - loss: 0.0015 - val_loss: 0.0016\n",
      "Epoch 20/100\n",
      "154/154 [==============================] - 25s 162ms/step - loss: 0.0016 - val_loss: 0.0017\n",
      "Epoch 21/100\n",
      "154/154 [==============================] - 25s 161ms/step - loss: 0.0014 - val_loss: 0.0017\n",
      "Epoch 22/100\n",
      "154/154 [==============================] - 25s 160ms/step - loss: 0.0015 - val_loss: 0.0017\n",
      "Epoch 23/100\n",
      "154/154 [==============================] - 24s 153ms/step - loss: 0.0015 - val_loss: 0.0017\n"
     ]
    },
    {
     "data": {
      "text/plain": [
       "<keras.callbacks.History at 0x7fc49722ca30>"
      ]
     },
     "execution_count": 150,
     "metadata": {},
     "output_type": "execute_result"
    }
   ],
   "source": [
    "model = Sequential()\n",
    "model.add(LSTM(100, return_sequences=True, input_shape=(x_train.shape[1], 1)))\n",
    "model.add(LSTM(100, return_sequences=False))\n",
    "model.add(Dense(25))\n",
    "model.add(Dense(1))\n",
    "\n",
    "model.compile(optimizer='adam', loss='mean_squared_error')\n",
    "\n",
    "model.fit(x_train,y_train, batch_size=16, epochs=100,verbose=1,validation_split=0.2,\n",
    "          callbacks=[EarlyStopping(patience=5,restore_best_weights=True)])\n"
   ]
  },
  {
   "cell_type": "code",
   "execution_count": 151,
   "id": "e6e86ca5",
   "metadata": {},
   "outputs": [
    {
     "data": {
      "text/plain": [
       "0.2691821015926298"
      ]
     },
     "execution_count": 151,
     "metadata": {},
     "output_type": "execute_result"
    }
   ],
   "source": [
    "predictions = model.predict(x_test)\n",
    "predictions = scaler.inverse_transform(predictions)\n",
    "rmse = np.sqrt(np.mean(predictions - y_test)**2)\n",
    "rmse"
   ]
  },
  {
   "cell_type": "code",
   "execution_count": 152,
   "id": "122fc697",
   "metadata": {},
   "outputs": [
    {
     "name": "stdout",
     "output_type": "stream",
     "text": [
      "[main 8d43596] 7 day prediction\n",
      " 1 file changed, 340 insertions(+), 45 deletions(-)\n",
      "Enumerating objects: 5, done.\n",
      "Counting objects: 100% (5/5), done.\n",
      "Delta compression using up to 4 threads\n",
      "Compressing objects: 100% (3/3), done.\n",
      "Writing objects: 100% (3/3), 2.59 KiB | 139.00 KiB/s, done.\n",
      "Total 3 (delta 2), reused 0 (delta 0), pack-reused 0\n",
      "remote: Resolving deltas: 100% (2/2), completed with 2 local objects.\u001b[K\n",
      "To https://github.com/LucasGama1207/petr4_prediction.git\n",
      "   7f415b1..8d43596  main -> main\n"
     ]
    }
   ],
   "source": [
    "!git add .\n",
    "!git commit -m '7 day prediction'\n",
    "!git push origin main"
   ]
  },
  {
   "cell_type": "markdown",
   "id": "4009b910",
   "metadata": {},
   "source": [
    "## How many days do I really want?"
   ]
  },
  {
   "cell_type": "markdown",
   "id": "5692cd49",
   "metadata": {},
   "source": [
    "- we could go for a monthly rate of the stock, that would be interesting\n",
    "- but the main goal was to predict the price of the options of petr4, which happen every two months.\n"
   ]
  },
  {
   "cell_type": "markdown",
   "id": "9ebc1e29",
   "metadata": {},
   "source": [
    "- how many days are there between options?\n",
    "https://www.b3.com.br/data/files/30/C3/24/BA/4FA6161025668616790D8AA8/PREGOES.pdf\n",
    "- 46 pregoes"
   ]
  },
  {
   "cell_type": "code",
   "execution_count": 153,
   "id": "df23b19a",
   "metadata": {},
   "outputs": [
    {
     "data": {
      "text/plain": [
       "272.2"
      ]
     },
     "execution_count": 153,
     "metadata": {},
     "output_type": "execute_result"
    }
   ],
   "source": [
    "#media de pregoes\n",
    "preg = (248+249+247+248+248+245+246+249+246+248+248)/10\n",
    "preg"
   ]
  },
  {
   "cell_type": "code",
   "execution_count": 155,
   "id": "7379bd11",
   "metadata": {},
   "outputs": [
    {
     "data": {
      "text/plain": [
       "23"
      ]
     },
     "execution_count": 155,
     "metadata": {},
     "output_type": "execute_result"
    }
   ],
   "source": [
    "round(preg/12)"
   ]
  },
  {
   "cell_type": "markdown",
   "id": "372baf7a",
   "metadata": {},
   "source": [
    "- Increasing the input as well for a year seems correct.\n",
    "- 272 Pregoes"
   ]
  },
  {
   "cell_type": "markdown",
   "id": "c7945830",
   "metadata": {},
   "source": [
    "# Prediction 60 days"
   ]
  },
  {
   "cell_type": "code",
   "execution_count": 156,
   "id": "5866a4dd",
   "metadata": {},
   "outputs": [
    {
     "name": "stdout",
     "output_type": "stream",
     "text": [
      "(2856, 272, 1)\n",
      "(2856,)\n",
      "(748, 272, 1)\n",
      "(748, 1)\n"
     ]
    }
   ],
   "source": [
    "close_prices = dados['Close']\n",
    "values = close_prices.values\n",
    "training_data_len = math.ceil(len(values)* 0.8)\n",
    "\n",
    "values=values.reshape(-1,1)\n",
    "train_values=values[0: training_data_len]\n",
    "\n",
    "#Scaling data\n",
    "scaler = MinMaxScaler()\n",
    "train_data = scaler.fit_transform(train_values)\n",
    "\n",
    "#training data\n",
    "x_train = []\n",
    "y_train = []\n",
    "\n",
    "for i in range(272, len(train_data)-45):\n",
    "    #cada resultado i tem 272 dias pra trás como features\n",
    "    x_train.append(train_data[i-272:i, 0])\n",
    "    y_train.append(train_data[i-45, 0])\n",
    "    \n",
    "x_train, y_train = np.array(x_train), np.array(y_train)\n",
    "x_train = np.reshape(x_train, (x_train.shape[0], x_train.shape[1], 1)) #expand dims pra entrar no modelo\n",
    "print(x_train.shape)\n",
    "print(y_train.shape)\n",
    "\n",
    "\n",
    "\n",
    "test_values=values[training_data_len-272:] #vou precisar de 90 dias antes pra fazer o modelo\n",
    "\n",
    "test_data = scaler.transform(test_values)\n",
    "\n",
    "x_test = []\n",
    "y_test = values[training_data_len:-45] \n",
    "\n",
    "for i in range(272, (len(test_data)-45)):\n",
    "  x_test.append(test_data[i-272:i, 0])\n",
    "\n",
    "x_test = np.array(x_test)\n",
    "x_test = np.reshape(x_test, (x_test.shape[0], x_test.shape[1], 1))\n",
    "print(x_test.shape)\n",
    "print(y_test.shape)"
   ]
  },
  {
   "cell_type": "code",
   "execution_count": 157,
   "id": "a66a4549",
   "metadata": {},
   "outputs": [
    {
     "name": "stdout",
     "output_type": "stream",
     "text": [
      "Epoch 1/100\n",
      "143/143 [==============================] - 68s 446ms/step - loss: 0.0094 - val_loss: 0.0100\n",
      "Epoch 2/100\n",
      "143/143 [==============================] - 60s 422ms/step - loss: 0.0055 - val_loss: 0.0045\n",
      "Epoch 3/100\n",
      "143/143 [==============================] - 60s 423ms/step - loss: 0.0023 - val_loss: 0.0017\n",
      "Epoch 4/100\n",
      "143/143 [==============================] - 61s 428ms/step - loss: 0.0013 - val_loss: 0.0019\n",
      "Epoch 5/100\n",
      "143/143 [==============================] - 61s 427ms/step - loss: 9.9879e-04 - val_loss: 9.1939e-04\n",
      "Epoch 6/100\n",
      "143/143 [==============================] - 60s 421ms/step - loss: 0.0010 - val_loss: 5.4194e-04\n",
      "Epoch 7/100\n",
      "143/143 [==============================] - 60s 423ms/step - loss: 7.8558e-04 - val_loss: 4.5475e-04\n",
      "Epoch 8/100\n",
      "143/143 [==============================] - 60s 422ms/step - loss: 8.0520e-04 - val_loss: 5.4121e-04\n",
      "Epoch 9/100\n",
      "143/143 [==============================] - 62s 437ms/step - loss: 7.2406e-04 - val_loss: 0.0012\n",
      "Epoch 10/100\n",
      "143/143 [==============================] - 65s 456ms/step - loss: 4.5588e-04 - val_loss: 3.9481e-04\n",
      "Epoch 11/100\n",
      "143/143 [==============================] - 63s 440ms/step - loss: 5.9689e-04 - val_loss: 3.8563e-04\n",
      "Epoch 12/100\n",
      "143/143 [==============================] - 61s 424ms/step - loss: 5.6943e-04 - val_loss: 5.6716e-04\n",
      "Epoch 13/100\n",
      "143/143 [==============================] - 60s 422ms/step - loss: 5.1609e-04 - val_loss: 4.0369e-04\n",
      "Epoch 14/100\n",
      "143/143 [==============================] - 61s 425ms/step - loss: 6.1090e-04 - val_loss: 0.0013\n",
      "Epoch 15/100\n",
      "143/143 [==============================] - 60s 423ms/step - loss: 7.8051e-04 - val_loss: 5.0181e-04\n",
      "Epoch 16/100\n",
      "143/143 [==============================] - 60s 423ms/step - loss: 8.3704e-04 - val_loss: 5.1977e-04\n"
     ]
    },
    {
     "data": {
      "text/plain": [
       "<keras.callbacks.History at 0x7fc496598580>"
      ]
     },
     "execution_count": 157,
     "metadata": {},
     "output_type": "execute_result"
    }
   ],
   "source": [
    "model = Sequential()\n",
    "model.add(LSTM(100, return_sequences=True, input_shape=(x_train.shape[1], 1)))\n",
    "model.add(LSTM(100, return_sequences=False))\n",
    "model.add(Dense(25))\n",
    "model.add(Dense(1))\n",
    "\n",
    "model.compile(optimizer='adam', loss='mean_squared_error')\n",
    "\n",
    "model.fit(x_train,y_train, batch_size=16, epochs=100,verbose=1,validation_split=0.2,\n",
    "          callbacks=[EarlyStopping(patience=5,restore_best_weights=True)])"
   ]
  },
  {
   "cell_type": "code",
   "execution_count": 158,
   "id": "3f1589dc",
   "metadata": {},
   "outputs": [
    {
     "data": {
      "text/plain": [
       "1.7613305720415982"
      ]
     },
     "execution_count": 158,
     "metadata": {},
     "output_type": "execute_result"
    }
   ],
   "source": [
    "predictions = model.predict(x_test)\n",
    "predictions = scaler.inverse_transform(predictions)\n",
    "rmse = np.sqrt(np.mean(predictions - y_test)**2)\n",
    "rmse"
   ]
  },
  {
   "cell_type": "code",
   "execution_count": 159,
   "id": "4574d1c5",
   "metadata": {},
   "outputs": [
    {
     "data": {
      "text/plain": [
       "array([[11.6248665],\n",
       "       [11.589758 ],\n",
       "       [11.565989 ],\n",
       "       [11.554823 ],\n",
       "       [11.555156 ],\n",
       "       [11.568396 ],\n",
       "       [11.598104 ],\n",
       "       [11.638948 ],\n",
       "       [11.691768 ],\n",
       "       [11.755523 ],\n",
       "       [11.828521 ],\n",
       "       [11.908824 ],\n",
       "       [11.995548 ],\n",
       "       [12.087354 ],\n",
       "       [12.185148 ],\n",
       "       [12.284707 ],\n",
       "       [12.379116 ],\n",
       "       [12.472734 ],\n",
       "       [12.558369 ],\n",
       "       [12.636154 ],\n",
       "       [12.7038965],\n",
       "       [12.762302 ],\n",
       "       [12.8094225],\n",
       "       [12.84519  ],\n",
       "       [12.863577 ],\n",
       "       [12.867086 ],\n",
       "       [12.857423 ],\n",
       "       [12.837587 ],\n",
       "       [12.807634 ],\n",
       "       [12.769967 ],\n",
       "       [12.729795 ],\n",
       "       [12.689289 ],\n",
       "       [12.651741 ],\n",
       "       [12.616615 ],\n",
       "       [12.586901 ],\n",
       "       [12.564608 ],\n",
       "       [12.553436 ],\n",
       "       [12.55372  ],\n",
       "       [12.568119 ],\n",
       "       [12.594824 ],\n",
       "       [12.641198 ],\n",
       "       [12.706244 ],\n",
       "       [12.785137 ],\n",
       "       [12.874367 ],\n",
       "       [12.973374 ],\n",
       "       [13.081018 ],\n",
       "       [13.191736 ],\n",
       "       [13.301459 ],\n",
       "       [13.408652 ],\n",
       "       [13.512517 ],\n",
       "       [13.606815 ],\n",
       "       [13.693175 ],\n",
       "       [13.767169 ],\n",
       "       [13.829943 ],\n",
       "       [13.881441 ],\n",
       "       [13.9214115],\n",
       "       [13.950478 ],\n",
       "       [13.968331 ],\n",
       "       [13.977681 ],\n",
       "       [13.980426 ],\n",
       "       [13.97595  ],\n",
       "       [13.963426 ],\n",
       "       [13.944287 ],\n",
       "       [13.922118 ],\n",
       "       [13.89838  ],\n",
       "       [13.871329 ],\n",
       "       [13.845799 ],\n",
       "       [13.828401 ],\n",
       "       [13.811018 ],\n",
       "       [13.797652 ],\n",
       "       [13.788173 ],\n",
       "       [13.78584  ],\n",
       "       [13.790254 ],\n",
       "       [13.79802  ],\n",
       "       [13.812283 ],\n",
       "       [13.827239 ],\n",
       "       [13.847379 ],\n",
       "       [13.870067 ],\n",
       "       [13.8941965],\n",
       "       [13.917604 ],\n",
       "       [13.945331 ],\n",
       "       [13.977299 ],\n",
       "       [14.01287  ],\n",
       "       [14.049616 ],\n",
       "       [14.084314 ],\n",
       "       [14.123007 ],\n",
       "       [14.166281 ],\n",
       "       [14.2262335],\n",
       "       [14.294138 ],\n",
       "       [14.363981 ],\n",
       "       [14.4254265],\n",
       "       [14.48101  ],\n",
       "       [14.519037 ],\n",
       "       [14.548041 ],\n",
       "       [14.57191  ],\n",
       "       [14.6157   ],\n",
       "       [14.642193 ],\n",
       "       [14.665487 ],\n",
       "       [14.690617 ],\n",
       "       [14.684984 ],\n",
       "       [14.668569 ],\n",
       "       [14.62818  ],\n",
       "       [14.571719 ],\n",
       "       [14.488273 ],\n",
       "       [14.385825 ],\n",
       "       [14.269962 ],\n",
       "       [14.135492 ],\n",
       "       [13.990944 ],\n",
       "       [13.846958 ],\n",
       "       [13.716472 ],\n",
       "       [13.602439 ],\n",
       "       [13.50927  ],\n",
       "       [13.442709 ],\n",
       "       [13.400986 ],\n",
       "       [13.390021 ],\n",
       "       [13.406171 ],\n",
       "       [13.445884 ],\n",
       "       [13.50344  ],\n",
       "       [13.578734 ],\n",
       "       [13.664037 ],\n",
       "       [13.754579 ],\n",
       "       [13.844739 ],\n",
       "       [13.929418 ],\n",
       "       [13.998721 ],\n",
       "       [14.047077 ],\n",
       "       [14.064065 ],\n",
       "       [14.043589 ],\n",
       "       [13.982782 ],\n",
       "       [13.874163 ],\n",
       "       [13.713363 ],\n",
       "       [13.497002 ],\n",
       "       [13.226256 ],\n",
       "       [12.904837 ],\n",
       "       [12.536272 ],\n",
       "       [12.129316 ],\n",
       "       [11.691752 ],\n",
       "       [11.231421 ],\n",
       "       [10.758713 ],\n",
       "       [10.28352  ],\n",
       "       [ 9.816852 ],\n",
       "       [ 9.368838 ],\n",
       "       [ 8.94863  ],\n",
       "       [ 8.56197  ],\n",
       "       [ 8.213405 ],\n",
       "       [ 7.905568 ],\n",
       "       [ 7.6406736],\n",
       "       [ 7.4206405],\n",
       "       [ 7.245626 ],\n",
       "       [ 7.1144896],\n",
       "       [ 7.0248437],\n",
       "       [ 6.9738693],\n",
       "       [ 6.957639 ],\n",
       "       [ 6.9719195],\n",
       "       [ 7.011151 ],\n",
       "       [ 7.070169 ],\n",
       "       [ 7.1443305],\n",
       "       [ 7.2289586],\n",
       "       [ 7.319806 ],\n",
       "       [ 7.414422 ],\n",
       "       [ 7.5109024],\n",
       "       [ 7.608497 ],\n",
       "       [ 7.705455 ],\n",
       "       [ 7.798912 ],\n",
       "       [ 7.8861747],\n",
       "       [ 7.964595 ],\n",
       "       [ 8.032675 ],\n",
       "       [ 8.0903225],\n",
       "       [ 8.136627 ],\n",
       "       [ 8.173234 ],\n",
       "       [ 8.200391 ],\n",
       "       [ 8.220799 ],\n",
       "       [ 8.234963 ],\n",
       "       [ 8.245454 ],\n",
       "       [ 8.254089 ],\n",
       "       [ 8.262814 ],\n",
       "       [ 8.274374 ],\n",
       "       [ 8.29027  ],\n",
       "       [ 8.313598 ],\n",
       "       [ 8.345485 ],\n",
       "       [ 8.3889065],\n",
       "       [ 8.444066 ],\n",
       "       [ 8.512628 ],\n",
       "       [ 8.592755 ],\n",
       "       [ 8.683374 ],\n",
       "       [ 8.7846365],\n",
       "       [ 8.894404 ],\n",
       "       [ 9.011161 ],\n",
       "       [ 9.131513 ],\n",
       "       [ 9.254457 ],\n",
       "       [ 9.378319 ],\n",
       "       [ 9.500134 ],\n",
       "       [ 9.616913 ],\n",
       "       [ 9.727917 ],\n",
       "       [ 9.82981  ],\n",
       "       [ 9.922441 ],\n",
       "       [10.005806 ],\n",
       "       [10.07965  ],\n",
       "       [10.143321 ],\n",
       "       [10.193006 ],\n",
       "       [10.230018 ],\n",
       "       [10.255403 ],\n",
       "       [10.268043 ],\n",
       "       [10.271698 ],\n",
       "       [10.267043 ],\n",
       "       [10.259002 ],\n",
       "       [10.249822 ],\n",
       "       [10.242176 ],\n",
       "       [10.236996 ],\n",
       "       [10.236721 ],\n",
       "       [10.242503 ],\n",
       "       [10.255255 ],\n",
       "       [10.2739105],\n",
       "       [10.299213 ],\n",
       "       [10.33221  ],\n",
       "       [10.371453 ],\n",
       "       [10.414932 ],\n",
       "       [10.463749 ],\n",
       "       [10.51249  ],\n",
       "       [10.561415 ],\n",
       "       [10.608458 ],\n",
       "       [10.652536 ],\n",
       "       [10.694906 ],\n",
       "       [10.732796 ],\n",
       "       [10.768678 ],\n",
       "       [10.801972 ],\n",
       "       [10.832836 ],\n",
       "       [10.860724 ],\n",
       "       [10.885023 ],\n",
       "       [10.904054 ],\n",
       "       [10.919462 ],\n",
       "       [10.932305 ],\n",
       "       [10.941841 ],\n",
       "       [10.949857 ],\n",
       "       [10.954879 ],\n",
       "       [10.95783  ],\n",
       "       [10.959296 ],\n",
       "       [10.959086 ],\n",
       "       [10.9556   ],\n",
       "       [10.948346 ],\n",
       "       [10.939773 ],\n",
       "       [10.9256   ],\n",
       "       [10.908272 ],\n",
       "       [10.888377 ],\n",
       "       [10.864817 ],\n",
       "       [10.841739 ],\n",
       "       [10.818452 ],\n",
       "       [10.797524 ],\n",
       "       [10.780493 ],\n",
       "       [10.769172 ],\n",
       "       [10.762957 ],\n",
       "       [10.76033  ],\n",
       "       [10.761618 ],\n",
       "       [10.763786 ],\n",
       "       [10.767547 ],\n",
       "       [10.772365 ],\n",
       "       [10.778176 ],\n",
       "       [10.787094 ],\n",
       "       [10.795058 ],\n",
       "       [10.802599 ],\n",
       "       [10.805302 ],\n",
       "       [10.80173  ],\n",
       "       [10.789393 ],\n",
       "       [10.7674055],\n",
       "       [10.730313 ],\n",
       "       [10.676591 ],\n",
       "       [10.60873  ],\n",
       "       [10.530798 ],\n",
       "       [10.443909 ],\n",
       "       [10.351674 ],\n",
       "       [10.257579 ],\n",
       "       [10.165737 ],\n",
       "       [10.078635 ],\n",
       "       [ 9.996598 ],\n",
       "       [ 9.920376 ],\n",
       "       [ 9.852134 ],\n",
       "       [ 9.7940445],\n",
       "       [ 9.747924 ],\n",
       "       [ 9.715962 ],\n",
       "       [ 9.69653  ],\n",
       "       [ 9.688694 ],\n",
       "       [ 9.68905  ],\n",
       "       [ 9.693754 ],\n",
       "       [ 9.702033 ],\n",
       "       [ 9.712134 ],\n",
       "       [ 9.722038 ],\n",
       "       [ 9.729153 ],\n",
       "       [ 9.73387  ],\n",
       "       [ 9.735272 ],\n",
       "       [ 9.7331295],\n",
       "       [ 9.727526 ],\n",
       "       [ 9.719664 ],\n",
       "       [ 9.71129  ],\n",
       "       [ 9.706673 ],\n",
       "       [ 9.705919 ],\n",
       "       [ 9.709569 ],\n",
       "       [ 9.71905  ],\n",
       "       [ 9.735301 ],\n",
       "       [ 9.759319 ],\n",
       "       [ 9.790798 ],\n",
       "       [ 9.828561 ],\n",
       "       [ 9.875462 ],\n",
       "       [ 9.930017 ],\n",
       "       [ 9.995184 ],\n",
       "       [10.073641 ],\n",
       "       [10.167302 ],\n",
       "       [10.282158 ],\n",
       "       [10.414275 ],\n",
       "       [10.568683 ],\n",
       "       [10.739959 ],\n",
       "       [10.922188 ],\n",
       "       [11.114097 ],\n",
       "       [11.311743 ],\n",
       "       [11.510208 ],\n",
       "       [11.703815 ],\n",
       "       [11.886073 ],\n",
       "       [12.052564 ],\n",
       "       [12.205973 ],\n",
       "       [12.337279 ],\n",
       "       [12.44369  ],\n",
       "       [12.527989 ],\n",
       "       [12.593382 ],\n",
       "       [12.642667 ],\n",
       "       [12.6837015],\n",
       "       [12.721262 ],\n",
       "       [12.756567 ],\n",
       "       [12.792869 ],\n",
       "       [12.831945 ],\n",
       "       [12.871207 ],\n",
       "       [12.917645 ],\n",
       "       [12.98038  ],\n",
       "       [13.081123 ],\n",
       "       [13.186457 ],\n",
       "       [13.302115 ],\n",
       "       [13.429374 ],\n",
       "       [13.561879 ],\n",
       "       [13.690965 ],\n",
       "       [13.809577 ],\n",
       "       [13.915824 ],\n",
       "       [13.996477 ],\n",
       "       [14.051221 ],\n",
       "       [14.084928 ],\n",
       "       [14.090129 ],\n",
       "       [14.066918 ],\n",
       "       [14.0161915],\n",
       "       [13.945964 ],\n",
       "       [13.858456 ],\n",
       "       [13.7633295],\n",
       "       [13.661687 ],\n",
       "       [13.566539 ],\n",
       "       [13.476551 ],\n",
       "       [13.401156 ],\n",
       "       [13.344772 ],\n",
       "       [13.306637 ],\n",
       "       [13.285381 ],\n",
       "       [13.279543 ],\n",
       "       [13.285411 ],\n",
       "       [13.300426 ],\n",
       "       [13.3193445],\n",
       "       [13.339718 ],\n",
       "       [13.356262 ],\n",
       "       [13.365772 ],\n",
       "       [13.364784 ],\n",
       "       [13.351386 ],\n",
       "       [13.322517 ],\n",
       "       [13.27529  ],\n",
       "       [13.208616 ],\n",
       "       [13.120567 ],\n",
       "       [13.013833 ],\n",
       "       [12.888843 ],\n",
       "       [12.742737 ],\n",
       "       [12.582608 ],\n",
       "       [12.410854 ],\n",
       "       [12.231519 ],\n",
       "       [12.048786 ],\n",
       "       [11.869547 ],\n",
       "       [11.694078 ],\n",
       "       [11.529012 ],\n",
       "       [11.376791 ],\n",
       "       [11.240823 ],\n",
       "       [11.124547 ],\n",
       "       [11.025445 ],\n",
       "       [10.946934 ],\n",
       "       [10.885202 ],\n",
       "       [10.840299 ],\n",
       "       [10.810287 ],\n",
       "       [10.796227 ],\n",
       "       [10.795864 ],\n",
       "       [10.80468  ],\n",
       "       [10.823001 ],\n",
       "       [10.851252 ],\n",
       "       [10.888702 ],\n",
       "       [10.935211 ],\n",
       "       [10.989546 ],\n",
       "       [11.049072 ],\n",
       "       [11.114812 ],\n",
       "       [11.182658 ],\n",
       "       [11.251705 ],\n",
       "       [11.31552  ],\n",
       "       [11.374641 ],\n",
       "       [11.425299 ],\n",
       "       [11.465292 ],\n",
       "       [11.493227 ],\n",
       "       [11.511575 ],\n",
       "       [11.519748 ],\n",
       "       [11.520659 ],\n",
       "       [11.516566 ],\n",
       "       [11.510472 ],\n",
       "       [11.503917 ],\n",
       "       [11.49849  ],\n",
       "       [11.496206 ],\n",
       "       [11.502574 ],\n",
       "       [11.515493 ],\n",
       "       [11.533846 ],\n",
       "       [11.558562 ],\n",
       "       [11.588679 ],\n",
       "       [11.622839 ],\n",
       "       [11.663879 ],\n",
       "       [11.710233 ],\n",
       "       [11.761194 ],\n",
       "       [11.8157835],\n",
       "       [11.875901 ],\n",
       "       [11.93939  ],\n",
       "       [12.007741 ],\n",
       "       [12.0847645],\n",
       "       [12.164315 ],\n",
       "       [12.249541 ],\n",
       "       [12.335906 ],\n",
       "       [12.421954 ],\n",
       "       [12.507803 ],\n",
       "       [12.594274 ],\n",
       "       [12.68042  ],\n",
       "       [12.766485 ],\n",
       "       [12.848495 ],\n",
       "       [12.925345 ],\n",
       "       [12.998215 ],\n",
       "       [13.067558 ],\n",
       "       [13.129282 ],\n",
       "       [13.188869 ],\n",
       "       [13.242919 ],\n",
       "       [13.294662 ],\n",
       "       [13.350778 ],\n",
       "       [13.411704 ],\n",
       "       [13.474277 ],\n",
       "       [13.543981 ],\n",
       "       [13.606504 ],\n",
       "       [13.669691 ],\n",
       "       [13.733319 ],\n",
       "       [13.795462 ],\n",
       "       [13.854054 ],\n",
       "       [13.907988 ],\n",
       "       [13.957197 ],\n",
       "       [14.006129 ],\n",
       "       [14.05144  ],\n",
       "       [14.094217 ],\n",
       "       [14.133397 ],\n",
       "       [14.167368 ],\n",
       "       [14.192056 ],\n",
       "       [14.204414 ],\n",
       "       [14.204359 ],\n",
       "       [14.1927805],\n",
       "       [14.162936 ],\n",
       "       [14.120602 ],\n",
       "       [14.072036 ],\n",
       "       [14.015447 ],\n",
       "       [13.954927 ],\n",
       "       [13.891892 ],\n",
       "       [13.825979 ],\n",
       "       [13.766769 ],\n",
       "       [13.706019 ],\n",
       "       [13.647461 ],\n",
       "       [13.585516 ],\n",
       "       [13.525855 ],\n",
       "       [13.464951 ],\n",
       "       [13.407169 ],\n",
       "       [13.359503 ],\n",
       "       [13.320607 ],\n",
       "       [13.288174 ],\n",
       "       [13.262099 ],\n",
       "       [13.2400055],\n",
       "       [13.226165 ],\n",
       "       [13.220084 ],\n",
       "       [13.225002 ],\n",
       "       [13.238865 ],\n",
       "       [13.26549  ],\n",
       "       [13.300182 ],\n",
       "       [13.341856 ],\n",
       "       [13.38971  ],\n",
       "       [13.450201 ],\n",
       "       [13.519332 ],\n",
       "       [13.593213 ],\n",
       "       [13.671416 ],\n",
       "       [13.75079  ],\n",
       "       [13.829971 ],\n",
       "       [13.907103 ],\n",
       "       [13.980253 ],\n",
       "       [14.054684 ],\n",
       "       [14.118946 ],\n",
       "       [14.178811 ],\n",
       "       [14.228181 ],\n",
       "       [14.25247  ],\n",
       "       [14.258517 ],\n",
       "       [14.243347 ],\n",
       "       [14.205127 ],\n",
       "       [14.156823 ],\n",
       "       [14.088283 ],\n",
       "       [14.013499 ],\n",
       "       [13.935614 ],\n",
       "       [13.855588 ],\n",
       "       [13.774601 ],\n",
       "       [13.6936035],\n",
       "       [13.618701 ],\n",
       "       [13.551367 ],\n",
       "       [13.4913025],\n",
       "       [13.442038 ],\n",
       "       [13.411472 ],\n",
       "       [13.398827 ],\n",
       "       [13.4086   ],\n",
       "       [13.437925 ],\n",
       "       [13.479053 ],\n",
       "       [13.534413 ],\n",
       "       [13.597143 ],\n",
       "       [13.679425 ],\n",
       "       [13.767778 ],\n",
       "       [13.866881 ],\n",
       "       [13.973857 ],\n",
       "       [14.073451 ],\n",
       "       [14.172213 ],\n",
       "       [14.269133 ],\n",
       "       [14.360331 ],\n",
       "       [14.447732 ],\n",
       "       [14.530922 ],\n",
       "       [14.606252 ],\n",
       "       [14.6759205],\n",
       "       [14.739916 ],\n",
       "       [14.79339  ],\n",
       "       [14.832547 ],\n",
       "       [14.862043 ],\n",
       "       [14.881746 ],\n",
       "       [14.885195 ],\n",
       "       [14.871127 ],\n",
       "       [14.836311 ],\n",
       "       [14.777571 ],\n",
       "       [14.69691  ],\n",
       "       [14.59763  ],\n",
       "       [14.482172 ],\n",
       "       [14.349853 ],\n",
       "       [14.208799 ],\n",
       "       [14.074045 ],\n",
       "       [13.945952 ],\n",
       "       [13.830183 ],\n",
       "       [13.73435  ],\n",
       "       [13.65542  ],\n",
       "       [13.59508  ],\n",
       "       [13.556428 ],\n",
       "       [13.53594  ],\n",
       "       [13.542258 ],\n",
       "       [13.575776 ],\n",
       "       [13.639935 ],\n",
       "       [13.732093 ],\n",
       "       [13.852867 ],\n",
       "       [13.999231 ],\n",
       "       [14.160369 ],\n",
       "       [14.332151 ],\n",
       "       [14.516599 ],\n",
       "       [14.722072 ],\n",
       "       [14.936672 ],\n",
       "       [15.148799 ],\n",
       "       [15.362428 ],\n",
       "       [15.572177 ],\n",
       "       [15.763502 ],\n",
       "       [15.939482 ],\n",
       "       [16.093943 ],\n",
       "       [16.218868 ],\n",
       "       [16.30692  ],\n",
       "       [16.346786 ],\n",
       "       [16.355972 ],\n",
       "       [16.335445 ],\n",
       "       [16.281132 ],\n",
       "       [16.20351  ],\n",
       "       [16.105686 ],\n",
       "       [15.987765 ],\n",
       "       [15.865115 ],\n",
       "       [15.739092 ],\n",
       "       [15.629553 ],\n",
       "       [15.529487 ],\n",
       "       [15.442772 ],\n",
       "       [15.38337  ],\n",
       "       [15.3502445],\n",
       "       [15.370859 ],\n",
       "       [15.416655 ],\n",
       "       [15.491299 ],\n",
       "       [15.579076 ],\n",
       "       [15.6986685],\n",
       "       [15.840419 ],\n",
       "       [16.002417 ],\n",
       "       [16.174904 ],\n",
       "       [16.35837  ],\n",
       "       [16.5318   ],\n",
       "       [16.681652 ],\n",
       "       [16.814438 ],\n",
       "       [16.919596 ],\n",
       "       [16.995255 ],\n",
       "       [17.046114 ],\n",
       "       [17.080534 ],\n",
       "       [17.086834 ],\n",
       "       [17.067999 ],\n",
       "       [17.0295   ],\n",
       "       [16.985516 ],\n",
       "       [16.9405   ],\n",
       "       [16.900352 ],\n",
       "       [16.866924 ],\n",
       "       [16.824411 ],\n",
       "       [16.789598 ],\n",
       "       [16.768272 ],\n",
       "       [16.760784 ],\n",
       "       [16.759333 ],\n",
       "       [16.775183 ],\n",
       "       [16.810919 ],\n",
       "       [16.848421 ],\n",
       "       [16.89366  ],\n",
       "       [16.960257 ],\n",
       "       [17.037985 ],\n",
       "       [17.119719 ],\n",
       "       [17.200497 ],\n",
       "       [17.27285  ],\n",
       "       [17.333656 ],\n",
       "       [17.38245  ],\n",
       "       [17.409533 ],\n",
       "       [17.39333  ],\n",
       "       [17.352564 ],\n",
       "       [17.274609 ],\n",
       "       [17.185293 ],\n",
       "       [17.076962 ],\n",
       "       [16.945503 ],\n",
       "       [16.805843 ],\n",
       "       [16.661627 ],\n",
       "       [16.520027 ],\n",
       "       [16.396334 ],\n",
       "       [16.298231 ],\n",
       "       [16.21733  ],\n",
       "       [16.154095 ],\n",
       "       [16.0991   ],\n",
       "       [16.078527 ],\n",
       "       [16.074993 ],\n",
       "       [16.09204  ],\n",
       "       [16.149632 ],\n",
       "       [16.23569  ],\n",
       "       [16.33847  ],\n",
       "       [16.453434 ],\n",
       "       [16.57659  ],\n",
       "       [16.690128 ],\n",
       "       [16.792953 ],\n",
       "       [16.873848 ],\n",
       "       [16.934841 ],\n",
       "       [16.977669 ],\n",
       "       [17.00227  ],\n",
       "       [17.00964  ],\n",
       "       [16.991814 ],\n",
       "       [16.962866 ],\n",
       "       [16.94504  ],\n",
       "       [16.914818 ],\n",
       "       [16.887815 ],\n",
       "       [16.859844 ],\n",
       "       [16.839315 ],\n",
       "       [16.824024 ],\n",
       "       [16.787306 ],\n",
       "       [16.74747  ],\n",
       "       [16.713522 ],\n",
       "       [16.68678  ],\n",
       "       [16.659178 ],\n",
       "       [16.632349 ],\n",
       "       [16.63329  ],\n",
       "       [16.654604 ],\n",
       "       [16.681871 ],\n",
       "       [16.721931 ],\n",
       "       [16.780466 ],\n",
       "       [16.86135  ],\n",
       "       [16.957552 ],\n",
       "       [17.078886 ],\n",
       "       [17.205244 ],\n",
       "       [17.32959  ],\n",
       "       [17.446507 ],\n",
       "       [17.558638 ],\n",
       "       [17.66376  ],\n",
       "       [17.752079 ],\n",
       "       [17.804693 ],\n",
       "       [17.832287 ],\n",
       "       [17.832623 ],\n",
       "       [17.797434 ],\n",
       "       [17.714027 ],\n",
       "       [17.615953 ],\n",
       "       [17.50032  ],\n",
       "       [17.37596  ],\n",
       "       [17.244667 ],\n",
       "       [17.10757  ],\n",
       "       [16.952887 ],\n",
       "       [16.797766 ],\n",
       "       [16.655106 ],\n",
       "       [16.540234 ],\n",
       "       [16.409094 ],\n",
       "       [16.295803 ],\n",
       "       [16.195976 ],\n",
       "       [16.102507 ],\n",
       "       [16.015425 ],\n",
       "       [15.973282 ],\n",
       "       [15.940058 ],\n",
       "       [15.906765 ],\n",
       "       [15.881039 ],\n",
       "       [15.86854  ],\n",
       "       [15.855103 ],\n",
       "       [15.828555 ],\n",
       "       [15.834145 ],\n",
       "       [15.825851 ],\n",
       "       [15.802896 ],\n",
       "       [15.779053 ],\n",
       "       [15.747954 ],\n",
       "       [15.73059  ],\n",
       "       [15.713617 ],\n",
       "       [15.69277  ],\n",
       "       [15.672737 ],\n",
       "       [15.663214 ],\n",
       "       [15.641979 ],\n",
       "       [15.617454 ],\n",
       "       [15.593263 ],\n",
       "       [15.55605  ],\n",
       "       [15.518255 ],\n",
       "       [15.476278 ],\n",
       "       [15.418773 ],\n",
       "       [15.3987875],\n",
       "       [15.39624  ],\n",
       "       [15.395806 ],\n",
       "       [15.412358 ],\n",
       "       [15.437435 ],\n",
       "       [15.462065 ],\n",
       "       [15.4481   ],\n",
       "       [15.452274 ],\n",
       "       [15.436591 ],\n",
       "       [15.403497 ],\n",
       "       [15.374477 ],\n",
       "       [15.35893  ],\n",
       "       [15.359053 ],\n",
       "       [15.356242 ],\n",
       "       [15.378824 ],\n",
       "       [15.419077 ],\n",
       "       [15.461911 ],\n",
       "       [15.49747  ],\n",
       "       [15.524173 ],\n",
       "       [15.53409  ]], dtype=float32)"
      ]
     },
     "execution_count": 159,
     "metadata": {},
     "output_type": "execute_result"
    }
   ],
   "source": [
    "predictions"
   ]
  },
  {
   "cell_type": "code",
   "execution_count": 160,
   "id": "b23a9b61",
   "metadata": {},
   "outputs": [
    {
     "data": {
      "text/html": [
       "<div>\n",
       "<style scoped>\n",
       "    .dataframe tbody tr th:only-of-type {\n",
       "        vertical-align: middle;\n",
       "    }\n",
       "\n",
       "    .dataframe tbody tr th {\n",
       "        vertical-align: top;\n",
       "    }\n",
       "\n",
       "    .dataframe thead th {\n",
       "        text-align: right;\n",
       "    }\n",
       "</style>\n",
       "<table border=\"1\" class=\"dataframe\">\n",
       "  <thead>\n",
       "    <tr style=\"text-align: right;\">\n",
       "      <th></th>\n",
       "      <th>actual</th>\n",
       "      <th>pred</th>\n",
       "    </tr>\n",
       "  </thead>\n",
       "  <tbody>\n",
       "    <tr>\n",
       "      <th>0</th>\n",
       "      <td>12.872649</td>\n",
       "      <td>11.624866</td>\n",
       "    </tr>\n",
       "    <tr>\n",
       "      <th>1</th>\n",
       "      <td>12.844728</td>\n",
       "      <td>11.589758</td>\n",
       "    </tr>\n",
       "    <tr>\n",
       "      <th>2</th>\n",
       "      <td>12.923843</td>\n",
       "      <td>11.565989</td>\n",
       "    </tr>\n",
       "    <tr>\n",
       "      <th>3</th>\n",
       "      <td>13.296153</td>\n",
       "      <td>11.554823</td>\n",
       "    </tr>\n",
       "    <tr>\n",
       "      <th>4</th>\n",
       "      <td>13.473003</td>\n",
       "      <td>11.555156</td>\n",
       "    </tr>\n",
       "    <tr>\n",
       "      <th>...</th>\n",
       "      <td>...</td>\n",
       "      <td>...</td>\n",
       "    </tr>\n",
       "    <tr>\n",
       "      <th>743</th>\n",
       "      <td>29.931961</td>\n",
       "      <td>15.419077</td>\n",
       "    </tr>\n",
       "    <tr>\n",
       "      <th>744</th>\n",
       "      <td>30.990646</td>\n",
       "      <td>15.461911</td>\n",
       "    </tr>\n",
       "    <tr>\n",
       "      <th>745</th>\n",
       "      <td>31.909344</td>\n",
       "      <td>15.497470</td>\n",
       "    </tr>\n",
       "    <tr>\n",
       "      <th>746</th>\n",
       "      <td>33.003029</td>\n",
       "      <td>15.524173</td>\n",
       "    </tr>\n",
       "    <tr>\n",
       "      <th>747</th>\n",
       "      <td>29.966959</td>\n",
       "      <td>15.534090</td>\n",
       "    </tr>\n",
       "  </tbody>\n",
       "</table>\n",
       "<p>748 rows × 2 columns</p>\n",
       "</div>"
      ],
      "text/plain": [
       "        actual       pred\n",
       "0    12.872649  11.624866\n",
       "1    12.844728  11.589758\n",
       "2    12.923843  11.565989\n",
       "3    13.296153  11.554823\n",
       "4    13.473003  11.555156\n",
       "..         ...        ...\n",
       "743  29.931961  15.419077\n",
       "744  30.990646  15.461911\n",
       "745  31.909344  15.497470\n",
       "746  33.003029  15.524173\n",
       "747  29.966959  15.534090\n",
       "\n",
       "[748 rows x 2 columns]"
      ]
     },
     "execution_count": 160,
     "metadata": {},
     "output_type": "execute_result"
    }
   ],
   "source": [
    "pred1 = pd.DataFrame(y_test).rename(columns={0:'actual'})\n",
    "pred1['pred']=pd.DataFrame(predictions)\n",
    "pred1"
   ]
  },
  {
   "cell_type": "code",
   "execution_count": 164,
   "id": "1f7bfcd0",
   "metadata": {},
   "outputs": [
    {
     "name": "stderr",
     "output_type": "stream",
     "text": [
      "/tmp/ipykernel_475/2387409059.py:4: SettingWithCopyWarning: \n",
      "A value is trying to be set on a copy of a slice from a DataFrame.\n",
      "Try using .loc[row_indexer,col_indexer] = value instead\n",
      "\n",
      "See the caveats in the documentation: https://pandas.pydata.org/pandas-docs/stable/user_guide/indexing.html#returning-a-view-versus-a-copy\n",
      "  validation['Predictions'] = predictions\n"
     ]
    },
    {
     "data": {
      "image/png": "[encoded data removed]",
      "text/plain": [
       "<Figure size 1152x576 with 1 Axes>"
      ]
     },
     "metadata": {
      "needs_background": "light"
     },
     "output_type": "display_data"
    }
   ],
   "source": [
    "data = dados.filter(['Close'])\n",
    "#train = data[:training_data_len]\n",
    "validation = data[training_data_len+45:]\n",
    "validation['Predictions'] = predictions\n",
    "plt.figure(figsize=(16,8))\n",
    "plt.title('Model')\n",
    "plt.xlabel('Date')\n",
    "plt.ylabel('Close Price USD ($)')\n",
    "#plt.plot(train)\n",
    "plt.plot(validation[['Close', 'Predictions']])\n",
    "plt.legend(['Val', 'Predictions'], loc='lower right')\n",
    "plt.show()"
   ]
  },
  {
   "cell_type": "code",
   "execution_count": 165,
   "id": "2a05280c",
   "metadata": {},
   "outputs": [],
   "source": [
    "#It sucks, but I can work on that later\n",
    "#to do: check that the values are correct for x_test, y_test\n",
    "#improve the model"
   ]
  },
  {
   "cell_type": "code",
   "execution_count": null,
   "id": "cb038334",
   "metadata": {},
   "outputs": [],
   "source": [
    "!git add .\n",
    "!git commit -m '60days'\n",
    "!git push o"
   ]
  }
 ],
 "metadata": {
  "kernelspec": {
   "display_name": "Python 3 (ipykernel)",
   "language": "python",
   "name": "python3"
  },
  "language_info": {
   "codemirror_mode": {
    "name": "ipython",
    "version": 3
   },
   "file_extension": ".py",
   "mimetype": "text/x-python",
   "name": "python",
   "nbconvert_exporter": "python",
   "pygments_lexer": "ipython3",
   "version": "3.8.12"
  },
  "toc": {
   "base_numbering": 1,
   "nav_menu": {},
   "number_sections": true,
   "sideBar": true,
   "skip_h1_title": false,
   "title_cell": "Table of Contents",
   "title_sidebar": "Contents",
   "toc_cell": false,
   "toc_position": {
    "height": "calc(100% - 180px)",
    "left": "10px",
    "top": "150px",
    "width": "273.188px"
   },
   "toc_section_display": true,
   "toc_window_display": true
  }
 },
 "nbformat": 4,
 "nbformat_minor": 5
}
