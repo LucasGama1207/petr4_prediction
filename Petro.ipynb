{
 "cells": [
  {
   "cell_type": "markdown",
   "id": "41c47c21",
   "metadata": {},
   "source": [
    "# Goals"
   ]
  },
  {
   "cell_type": "markdown",
   "id": "3ee9d377",
   "metadata": {},
   "source": [
    "- The main goal of this project is to make a prediction of stock prices of PETR4.\n",
    "- Additionally, I would like to work with 2-month predictions in order to figure out a way to find out nice opportunities for options on this stock. PETR4 options are amidst the most traded in the world.\n",
    "- An extension to this project would be to build a bot to trade this stock."
   ]
  },
  {
   "cell_type": "markdown",
   "id": "5e4d2af5",
   "metadata": {},
   "source": [
    "## How"
   ]
  },
  {
   "cell_type": "markdown",
   "id": "1dc40f71",
   "metadata": {},
   "source": [
    "- First I'm going to make use of time series with the daily stock prices, probably LSTM or bidirectional LSTM, which are the most relevant. \n",
    "- Maybe I could try to put another variable like international price of oil or other oil stocks."
   ]
  },
  {
   "cell_type": "markdown",
   "id": "76e0900e",
   "metadata": {},
   "source": [
    "# Getting Data"
   ]
  },
  {
   "cell_type": "code",
   "execution_count": 1,
   "id": "4037ff09",
   "metadata": {},
   "outputs": [],
   "source": [
    "#!pip install yfinance"
   ]
  },
  {
   "cell_type": "code",
   "execution_count": 46,
   "id": "b5393592",
   "metadata": {},
   "outputs": [],
   "source": [
    "import yfinance as yf\n",
    "import pandas as pd"
   ]
  },
  {
   "cell_type": "code",
   "execution_count": 3,
   "id": "ff8c76dc",
   "metadata": {},
   "outputs": [
    {
     "data": {
      "text/plain": [
       "yfinance.Ticker object <PETR4.SA>"
      ]
     },
     "execution_count": 3,
     "metadata": {},
     "output_type": "execute_result"
    }
   ],
   "source": [
    "papel = yf.Ticker('PETR4.SA')\n",
    "papel"
   ]
  },
  {
   "cell_type": "code",
   "execution_count": 4,
   "id": "6eb2ad8e",
   "metadata": {},
   "outputs": [],
   "source": [
    "dados= papel.history(start= '2007-01-01', end='2022-12-29')"
   ]
  },
  {
   "cell_type": "code",
   "execution_count": 5,
   "id": "471ea214",
   "metadata": {},
   "outputs": [
    {
     "name": "stdout",
     "output_type": "stream",
     "text": [
      "<class 'pandas.core.frame.DataFrame'>\n",
      "DatetimeIndex: 3966 entries, 2007-01-02 00:00:00-02:00 to 2022-12-28 00:00:00-03:00\n",
      "Data columns (total 7 columns):\n",
      " #   Column        Non-Null Count  Dtype  \n",
      "---  ------        --------------  -----  \n",
      " 0   Open          3966 non-null   float64\n",
      " 1   High          3966 non-null   float64\n",
      " 2   Low           3966 non-null   float64\n",
      " 3   Close         3966 non-null   float64\n",
      " 4   Volume        3966 non-null   int64  \n",
      " 5   Dividends     3966 non-null   float64\n",
      " 6   Stock Splits  3966 non-null   float64\n",
      "dtypes: float64(6), int64(1)\n",
      "memory usage: 247.9 KB\n"
     ]
    }
   ],
   "source": [
    "dados.info()"
   ]
  },
  {
   "cell_type": "markdown",
   "id": "598977a9",
   "metadata": {},
   "source": [
    "# Exploratory Analysis"
   ]
  },
  {
   "cell_type": "code",
   "execution_count": 6,
   "id": "ca0c399e",
   "metadata": {},
   "outputs": [],
   "source": [
    "# Close price through the years"
   ]
  },
  {
   "cell_type": "code",
   "execution_count": 7,
   "id": "09138cb1",
   "metadata": {},
   "outputs": [
    {
     "data": {
      "text/plain": [
       "<AxesSubplot:xlabel='Date'>"
      ]
     },
     "execution_count": 7,
     "metadata": {},
     "output_type": "execute_result"
    },
    {
     "data": {
      "image/png": "[encoded data removed]",
      "text/plain": [
       "<Figure size 432x288 with 1 Axes>"
      ]
     },
     "metadata": {
      "needs_background": "light"
     },
     "output_type": "display_data"
    }
   ],
   "source": [
    "dados['Close'].plot()"
   ]
  },
  {
   "cell_type": "code",
   "execution_count": 8,
   "id": "81eb4bf7",
   "metadata": {},
   "outputs": [],
   "source": [
    "# dividend distribution"
   ]
  },
  {
   "cell_type": "code",
   "execution_count": 9,
   "id": "221818d9",
   "metadata": {},
   "outputs": [
    {
     "data": {
      "text/html": [
       "<div>\n",
       "<style scoped>\n",
       "    .dataframe tbody tr th:only-of-type {\n",
       "        vertical-align: middle;\n",
       "    }\n",
       "\n",
       "    .dataframe tbody tr th {\n",
       "        vertical-align: top;\n",
       "    }\n",
       "\n",
       "    .dataframe thead th {\n",
       "        text-align: right;\n",
       "    }\n",
       "</style>\n",
       "<table border=\"1\" class=\"dataframe\">\n",
       "  <thead>\n",
       "    <tr style=\"text-align: right;\">\n",
       "      <th></th>\n",
       "      <th>Dividends</th>\n",
       "    </tr>\n",
       "    <tr>\n",
       "      <th>Date</th>\n",
       "      <th></th>\n",
       "    </tr>\n",
       "  </thead>\n",
       "  <tbody>\n",
       "    <tr>\n",
       "      <th>2007-01-02 00:00:00-02:00</th>\n",
       "      <td>0.2250</td>\n",
       "    </tr>\n",
       "    <tr>\n",
       "      <th>2007-04-03 00:00:00-03:00</th>\n",
       "      <td>0.1750</td>\n",
       "    </tr>\n",
       "    <tr>\n",
       "      <th>2007-08-20 00:00:00-03:00</th>\n",
       "      <td>0.2517</td>\n",
       "    </tr>\n",
       "    <tr>\n",
       "      <th>2007-10-08 00:00:00-03:00</th>\n",
       "      <td>0.2565</td>\n",
       "    </tr>\n",
       "    <tr>\n",
       "      <th>2008-01-14 00:00:00-02:00</th>\n",
       "      <td>0.1553</td>\n",
       "    </tr>\n",
       "  </tbody>\n",
       "</table>\n",
       "</div>"
      ],
      "text/plain": [
       "                           Dividends\n",
       "Date                                \n",
       "2007-01-02 00:00:00-02:00     0.2250\n",
       "2007-04-03 00:00:00-03:00     0.1750\n",
       "2007-08-20 00:00:00-03:00     0.2517\n",
       "2007-10-08 00:00:00-03:00     0.2565\n",
       "2008-01-14 00:00:00-02:00     0.1553"
      ]
     },
     "execution_count": 9,
     "metadata": {},
     "output_type": "execute_result"
    }
   ],
   "source": [
    "div=dados[['Dividends']]\n",
    "div=div[div['Dividends']>0]\n",
    "div.head()"
   ]
  },
  {
   "cell_type": "code",
   "execution_count": 10,
   "id": "9d9e5e5a",
   "metadata": {},
   "outputs": [
    {
     "data": {
      "text/plain": [
       "DatetimeIndex(['2007-01-02 00:00:00-02:00', '2007-04-03 00:00:00-03:00',\n",
       "               '2007-08-20 00:00:00-03:00', '2007-10-08 00:00:00-03:00',\n",
       "               '2008-01-14 00:00:00-02:00', '2008-04-07 00:00:00-03:00',\n",
       "               '2008-12-29 00:00:00-02:00', '2009-04-09 00:00:00-03:00',\n",
       "               '2009-07-06 00:00:00-03:00', '2009-10-01 00:00:00-03:00',\n",
       "               '2009-12-21 00:00:00-02:00', '2010-04-23 00:00:00-03:00',\n",
       "               '2010-05-24 00:00:00-03:00', '2010-08-02 00:00:00-03:00',\n",
       "               '2010-11-03 00:00:00-02:00', '2010-12-22 00:00:00-02:00',\n",
       "               '2011-03-22 00:00:00-03:00', '2011-04-29 00:00:00-03:00',\n",
       "               '2011-05-12 00:00:00-03:00', '2011-08-03 00:00:00-03:00',\n",
       "               '2011-11-14 00:00:00-02:00', '2012-01-03 00:00:00-02:00',\n",
       "               '2012-03-20 00:00:00-03:00', '2012-05-14 00:00:00-03:00',\n",
       "               '2013-04-30 00:00:00-03:00', '2014-04-03 00:00:00-03:00',\n",
       "               '2018-05-22 00:00:00-03:00', '2018-08-14 00:00:00-03:00',\n",
       "               '2018-11-22 00:00:00-02:00', '2018-12-26 00:00:00-02:00',\n",
       "               '2019-04-26 00:00:00-03:00', '2019-05-22 00:00:00-03:00',\n",
       "               '2019-08-13 00:00:00-03:00', '2019-11-12 00:00:00-03:00',\n",
       "               '2019-12-27 00:00:00-03:00', '2020-04-23 00:00:00-03:00',\n",
       "               '2020-04-28 00:00:00-03:00', '2020-07-23 00:00:00-03:00',\n",
       "               '2021-04-15 00:00:00-03:00', '2021-08-17 00:00:00-03:00',\n",
       "               '2021-12-02 00:00:00-03:00', '2022-04-14 00:00:00-03:00',\n",
       "               '2022-05-24 00:00:00-03:00', '2022-08-12 00:00:00-03:00',\n",
       "               '2022-11-22 00:00:00-03:00'],\n",
       "              dtype='datetime64[ns, America/Sao_Paulo]', name='Date', freq=None)"
      ]
     },
     "execution_count": 10,
     "metadata": {},
     "output_type": "execute_result"
    }
   ],
   "source": [
    "div.index"
   ]
  },
  {
   "cell_type": "code",
   "execution_count": 11,
   "id": "b6e62334",
   "metadata": {},
   "outputs": [],
   "source": [
    "#for date in div.index:\n",
    "    #print(date)"
   ]
  },
  {
   "cell_type": "code",
   "execution_count": 12,
   "id": "7a8f6839",
   "metadata": {},
   "outputs": [
    {
     "data": {
      "text/plain": [
       "Timestamp('2007-01-02 00:00:00-0200', tz='America/Sao_Paulo')"
      ]
     },
     "execution_count": 12,
     "metadata": {},
     "output_type": "execute_result"
    }
   ],
   "source": [
    "div.index[0]"
   ]
  },
  {
   "cell_type": "code",
   "execution_count": 13,
   "id": "1f2ed465",
   "metadata": {},
   "outputs": [
    {
     "data": {
      "text/plain": [
       "157"
      ]
     },
     "execution_count": 13,
     "metadata": {},
     "output_type": "execute_result"
    }
   ],
   "source": [
    "dados.index.get_loc(div.index[2])"
   ]
  },
  {
   "cell_type": "code",
   "execution_count": 14,
   "id": "6200f710",
   "metadata": {},
   "outputs": [
    {
     "data": {
      "text/plain": [
       "157"
      ]
     },
     "execution_count": 14,
     "metadata": {},
     "output_type": "execute_result"
    }
   ],
   "source": [
    "dados.index.get_loc('2007-08-20 00:00:00-03:00')"
   ]
  },
  {
   "cell_type": "code",
   "execution_count": 15,
   "id": "11e1d370",
   "metadata": {},
   "outputs": [
    {
     "data": {
      "text/plain": [
       "Open            8.221953e+00\n",
       "High            8.241328e+00\n",
       "Low             8.031728e+00\n",
       "Close           8.149738e+00\n",
       "Volume          2.473800e+07\n",
       "Dividends       2.517000e-01\n",
       "Stock Splits    0.000000e+00\n",
       "Name: 2007-08-20 00:00:00-03:00, dtype: float64"
      ]
     },
     "execution_count": 15,
     "metadata": {},
     "output_type": "execute_result"
    }
   ],
   "source": [
    "dados.iloc[157]"
   ]
  },
  {
   "cell_type": "code",
   "execution_count": 16,
   "id": "b32985b2",
   "metadata": {},
   "outputs": [],
   "source": [
    "locations_div=[]\n",
    "for data in div.index:\n",
    "    locations_div.append(dados.index.get_loc(data))"
   ]
  },
  {
   "cell_type": "code",
   "execution_count": 17,
   "id": "f4e081cb",
   "metadata": {},
   "outputs": [],
   "source": [
    "close_div=[]\n",
    "for loc in locations_div:\n",
    "    close_div.append(dados.iloc[loc]['Close'])"
   ]
  },
  {
   "cell_type": "code",
   "execution_count": 18,
   "id": "074df7a8",
   "metadata": {},
   "outputs": [],
   "source": [
    "div['Price']=close_div"
   ]
  },
  {
   "cell_type": "code",
   "execution_count": 19,
   "id": "0701331b",
   "metadata": {},
   "outputs": [],
   "source": [
    "div['DY']=div['Dividends']/div['Price']"
   ]
  },
  {
   "cell_type": "code",
   "execution_count": 20,
   "id": "68af12c4",
   "metadata": {},
   "outputs": [
    {
     "data": {
      "text/html": [
       "<div>\n",
       "<style scoped>\n",
       "    .dataframe tbody tr th:only-of-type {\n",
       "        vertical-align: middle;\n",
       "    }\n",
       "\n",
       "    .dataframe tbody tr th {\n",
       "        vertical-align: top;\n",
       "    }\n",
       "\n",
       "    .dataframe thead th {\n",
       "        text-align: right;\n",
       "    }\n",
       "</style>\n",
       "<table border=\"1\" class=\"dataframe\">\n",
       "  <thead>\n",
       "    <tr style=\"text-align: right;\">\n",
       "      <th></th>\n",
       "      <th>Dividends</th>\n",
       "      <th>Price</th>\n",
       "      <th>DY</th>\n",
       "    </tr>\n",
       "    <tr>\n",
       "      <th>Date</th>\n",
       "      <th></th>\n",
       "      <th></th>\n",
       "      <th></th>\n",
       "    </tr>\n",
       "  </thead>\n",
       "  <tbody>\n",
       "    <tr>\n",
       "      <th>2007-01-02 00:00:00-02:00</th>\n",
       "      <td>0.225000</td>\n",
       "      <td>8.701066</td>\n",
       "      <td>0.025859</td>\n",
       "    </tr>\n",
       "    <tr>\n",
       "      <th>2007-04-03 00:00:00-03:00</th>\n",
       "      <td>0.175000</td>\n",
       "      <td>7.908743</td>\n",
       "      <td>0.022127</td>\n",
       "    </tr>\n",
       "    <tr>\n",
       "      <th>2007-08-20 00:00:00-03:00</th>\n",
       "      <td>0.251700</td>\n",
       "      <td>8.149738</td>\n",
       "      <td>0.030884</td>\n",
       "    </tr>\n",
       "    <tr>\n",
       "      <th>2007-10-08 00:00:00-03:00</th>\n",
       "      <td>0.256500</td>\n",
       "      <td>10.987374</td>\n",
       "      <td>0.023345</td>\n",
       "    </tr>\n",
       "    <tr>\n",
       "      <th>2008-01-14 00:00:00-02:00</th>\n",
       "      <td>0.155300</td>\n",
       "      <td>14.462685</td>\n",
       "      <td>0.010738</td>\n",
       "    </tr>\n",
       "    <tr>\n",
       "      <th>2008-04-07 00:00:00-03:00</th>\n",
       "      <td>0.102600</td>\n",
       "      <td>14.037208</td>\n",
       "      <td>0.007309</td>\n",
       "    </tr>\n",
       "    <tr>\n",
       "      <th>2008-12-29 00:00:00-02:00</th>\n",
       "      <td>0.042600</td>\n",
       "      <td>8.069037</td>\n",
       "      <td>0.005279</td>\n",
       "    </tr>\n",
       "    <tr>\n",
       "      <th>2009-04-09 00:00:00-03:00</th>\n",
       "      <td>0.351600</td>\n",
       "      <td>11.181713</td>\n",
       "      <td>0.031444</td>\n",
       "    </tr>\n",
       "    <tr>\n",
       "      <th>2009-07-06 00:00:00-03:00</th>\n",
       "      <td>0.300000</td>\n",
       "      <td>10.998056</td>\n",
       "      <td>0.027278</td>\n",
       "    </tr>\n",
       "    <tr>\n",
       "      <th>2009-10-01 00:00:00-03:00</th>\n",
       "      <td>0.200000</td>\n",
       "      <td>12.537815</td>\n",
       "      <td>0.015952</td>\n",
       "    </tr>\n",
       "    <tr>\n",
       "      <th>2009-12-21 00:00:00-02:00</th>\n",
       "      <td>0.200000</td>\n",
       "      <td>13.032521</td>\n",
       "      <td>0.015346</td>\n",
       "    </tr>\n",
       "    <tr>\n",
       "      <th>2010-04-23 00:00:00-03:00</th>\n",
       "      <td>0.133200</td>\n",
       "      <td>12.637949</td>\n",
       "      <td>0.010540</td>\n",
       "    </tr>\n",
       "    <tr>\n",
       "      <th>2010-05-24 00:00:00-03:00</th>\n",
       "      <td>0.170000</td>\n",
       "      <td>10.154362</td>\n",
       "      <td>0.016742</td>\n",
       "    </tr>\n",
       "    <tr>\n",
       "      <th>2010-08-02 00:00:00-03:00</th>\n",
       "      <td>0.170000</td>\n",
       "      <td>10.702164</td>\n",
       "      <td>0.015885</td>\n",
       "    </tr>\n",
       "    <tr>\n",
       "      <th>2010-11-03 00:00:00-02:00</th>\n",
       "      <td>0.140000</td>\n",
       "      <td>10.214263</td>\n",
       "      <td>0.013706</td>\n",
       "    </tr>\n",
       "    <tr>\n",
       "      <th>2010-12-22 00:00:00-02:00</th>\n",
       "      <td>0.200000</td>\n",
       "      <td>9.806136</td>\n",
       "      <td>0.020395</td>\n",
       "    </tr>\n",
       "    <tr>\n",
       "      <th>2011-03-22 00:00:00-03:00</th>\n",
       "      <td>0.173420</td>\n",
       "      <td>10.791512</td>\n",
       "      <td>0.016070</td>\n",
       "    </tr>\n",
       "    <tr>\n",
       "      <th>2011-04-29 00:00:00-03:00</th>\n",
       "      <td>0.126500</td>\n",
       "      <td>9.869989</td>\n",
       "      <td>0.012817</td>\n",
       "    </tr>\n",
       "    <tr>\n",
       "      <th>2011-05-12 00:00:00-03:00</th>\n",
       "      <td>0.213600</td>\n",
       "      <td>9.567518</td>\n",
       "      <td>0.022326</td>\n",
       "    </tr>\n",
       "    <tr>\n",
       "      <th>2011-08-03 00:00:00-03:00</th>\n",
       "      <td>0.207300</td>\n",
       "      <td>9.221042</td>\n",
       "      <td>0.022481</td>\n",
       "    </tr>\n",
       "    <tr>\n",
       "      <th>2011-11-14 00:00:00-02:00</th>\n",
       "      <td>0.200000</td>\n",
       "      <td>8.680126</td>\n",
       "      <td>0.023041</td>\n",
       "    </tr>\n",
       "    <tr>\n",
       "      <th>2012-01-03 00:00:00-02:00</th>\n",
       "      <td>0.177300</td>\n",
       "      <td>8.947165</td>\n",
       "      <td>0.019816</td>\n",
       "    </tr>\n",
       "    <tr>\n",
       "      <th>2012-03-20 00:00:00-03:00</th>\n",
       "      <td>0.124400</td>\n",
       "      <td>9.739528</td>\n",
       "      <td>0.012773</td>\n",
       "    </tr>\n",
       "    <tr>\n",
       "      <th>2012-05-14 00:00:00-03:00</th>\n",
       "      <td>0.200000</td>\n",
       "      <td>7.663025</td>\n",
       "      <td>0.026099</td>\n",
       "    </tr>\n",
       "    <tr>\n",
       "      <th>2013-04-30 00:00:00-03:00</th>\n",
       "      <td>0.386170</td>\n",
       "      <td>8.302525</td>\n",
       "      <td>0.046512</td>\n",
       "    </tr>\n",
       "    <tr>\n",
       "      <th>2014-04-03 00:00:00-03:00</th>\n",
       "      <td>0.967200</td>\n",
       "      <td>6.786126</td>\n",
       "      <td>0.142526</td>\n",
       "    </tr>\n",
       "    <tr>\n",
       "      <th>2018-05-22 00:00:00-03:00</th>\n",
       "      <td>0.050000</td>\n",
       "      <td>10.910425</td>\n",
       "      <td>0.004583</td>\n",
       "    </tr>\n",
       "    <tr>\n",
       "      <th>2018-08-14 00:00:00-03:00</th>\n",
       "      <td>0.050000</td>\n",
       "      <td>8.844010</td>\n",
       "      <td>0.005654</td>\n",
       "    </tr>\n",
       "    <tr>\n",
       "      <th>2018-11-22 00:00:00-02:00</th>\n",
       "      <td>0.100000</td>\n",
       "      <td>11.176879</td>\n",
       "      <td>0.008947</td>\n",
       "    </tr>\n",
       "    <tr>\n",
       "      <th>2018-12-26 00:00:00-02:00</th>\n",
       "      <td>0.716563</td>\n",
       "      <td>9.966168</td>\n",
       "      <td>0.071900</td>\n",
       "    </tr>\n",
       "    <tr>\n",
       "      <th>2019-04-26 00:00:00-03:00</th>\n",
       "      <td>0.019494</td>\n",
       "      <td>12.535459</td>\n",
       "      <td>0.001555</td>\n",
       "    </tr>\n",
       "    <tr>\n",
       "      <th>2019-05-22 00:00:00-03:00</th>\n",
       "      <td>0.100000</td>\n",
       "      <td>12.139670</td>\n",
       "      <td>0.008237</td>\n",
       "    </tr>\n",
       "    <tr>\n",
       "      <th>2019-08-13 00:00:00-03:00</th>\n",
       "      <td>0.200000</td>\n",
       "      <td>12.002372</td>\n",
       "      <td>0.016663</td>\n",
       "    </tr>\n",
       "    <tr>\n",
       "      <th>2019-11-12 00:00:00-03:00</th>\n",
       "      <td>0.200925</td>\n",
       "      <td>14.063768</td>\n",
       "      <td>0.014287</td>\n",
       "    </tr>\n",
       "    <tr>\n",
       "      <th>2019-12-27 00:00:00-03:00</th>\n",
       "      <td>0.421942</td>\n",
       "      <td>14.495885</td>\n",
       "      <td>0.029108</td>\n",
       "    </tr>\n",
       "    <tr>\n",
       "      <th>2020-04-23 00:00:00-03:00</th>\n",
       "      <td>0.000449</td>\n",
       "      <td>8.050848</td>\n",
       "      <td>0.000056</td>\n",
       "    </tr>\n",
       "    <tr>\n",
       "      <th>2020-04-28 00:00:00-03:00</th>\n",
       "      <td>0.000449</td>\n",
       "      <td>8.193563</td>\n",
       "      <td>0.000055</td>\n",
       "    </tr>\n",
       "    <tr>\n",
       "      <th>2020-07-23 00:00:00-03:00</th>\n",
       "      <td>0.000461</td>\n",
       "      <td>10.720720</td>\n",
       "      <td>0.000043</td>\n",
       "    </tr>\n",
       "    <tr>\n",
       "      <th>2021-04-15 00:00:00-03:00</th>\n",
       "      <td>0.792834</td>\n",
       "      <td>11.336848</td>\n",
       "      <td>0.069934</td>\n",
       "    </tr>\n",
       "    <tr>\n",
       "      <th>2021-08-17 00:00:00-03:00</th>\n",
       "      <td>1.609911</td>\n",
       "      <td>14.061769</td>\n",
       "      <td>0.114489</td>\n",
       "    </tr>\n",
       "    <tr>\n",
       "      <th>2021-12-02 00:00:00-03:00</th>\n",
       "      <td>3.250487</td>\n",
       "      <td>16.573692</td>\n",
       "      <td>0.196123</td>\n",
       "    </tr>\n",
       "    <tr>\n",
       "      <th>2022-04-14 00:00:00-03:00</th>\n",
       "      <td>2.970249</td>\n",
       "      <td>19.992018</td>\n",
       "      <td>0.148572</td>\n",
       "    </tr>\n",
       "    <tr>\n",
       "      <th>2022-05-24 00:00:00-03:00</th>\n",
       "      <td>3.715490</td>\n",
       "      <td>22.513762</td>\n",
       "      <td>0.165032</td>\n",
       "    </tr>\n",
       "    <tr>\n",
       "      <th>2022-08-12 00:00:00-03:00</th>\n",
       "      <td>6.732003</td>\n",
       "      <td>27.744591</td>\n",
       "      <td>0.242642</td>\n",
       "    </tr>\n",
       "    <tr>\n",
       "      <th>2022-11-22 00:00:00-03:00</th>\n",
       "      <td>3.348900</td>\n",
       "      <td>23.330000</td>\n",
       "      <td>0.143545</td>\n",
       "    </tr>\n",
       "  </tbody>\n",
       "</table>\n",
       "</div>"
      ],
      "text/plain": [
       "                           Dividends      Price        DY\n",
       "Date                                                     \n",
       "2007-01-02 00:00:00-02:00   0.225000   8.701066  0.025859\n",
       "2007-04-03 00:00:00-03:00   0.175000   7.908743  0.022127\n",
       "2007-08-20 00:00:00-03:00   0.251700   8.149738  0.030884\n",
       "2007-10-08 00:00:00-03:00   0.256500  10.987374  0.023345\n",
       "2008-01-14 00:00:00-02:00   0.155300  14.462685  0.010738\n",
       "2008-04-07 00:00:00-03:00   0.102600  14.037208  0.007309\n",
       "2008-12-29 00:00:00-02:00   0.042600   8.069037  0.005279\n",
       "2009-04-09 00:00:00-03:00   0.351600  11.181713  0.031444\n",
       "2009-07-06 00:00:00-03:00   0.300000  10.998056  0.027278\n",
       "2009-10-01 00:00:00-03:00   0.200000  12.537815  0.015952\n",
       "2009-12-21 00:00:00-02:00   0.200000  13.032521  0.015346\n",
       "2010-04-23 00:00:00-03:00   0.133200  12.637949  0.010540\n",
       "2010-05-24 00:00:00-03:00   0.170000  10.154362  0.016742\n",
       "2010-08-02 00:00:00-03:00   0.170000  10.702164  0.015885\n",
       "2010-11-03 00:00:00-02:00   0.140000  10.214263  0.013706\n",
       "2010-12-22 00:00:00-02:00   0.200000   9.806136  0.020395\n",
       "2011-03-22 00:00:00-03:00   0.173420  10.791512  0.016070\n",
       "2011-04-29 00:00:00-03:00   0.126500   9.869989  0.012817\n",
       "2011-05-12 00:00:00-03:00   0.213600   9.567518  0.022326\n",
       "2011-08-03 00:00:00-03:00   0.207300   9.221042  0.022481\n",
       "2011-11-14 00:00:00-02:00   0.200000   8.680126  0.023041\n",
       "2012-01-03 00:00:00-02:00   0.177300   8.947165  0.019816\n",
       "2012-03-20 00:00:00-03:00   0.124400   9.739528  0.012773\n",
       "2012-05-14 00:00:00-03:00   0.200000   7.663025  0.026099\n",
       "2013-04-30 00:00:00-03:00   0.386170   8.302525  0.046512\n",
       "2014-04-03 00:00:00-03:00   0.967200   6.786126  0.142526\n",
       "2018-05-22 00:00:00-03:00   0.050000  10.910425  0.004583\n",
       "2018-08-14 00:00:00-03:00   0.050000   8.844010  0.005654\n",
       "2018-11-22 00:00:00-02:00   0.100000  11.176879  0.008947\n",
       "2018-12-26 00:00:00-02:00   0.716563   9.966168  0.071900\n",
       "2019-04-26 00:00:00-03:00   0.019494  12.535459  0.001555\n",
       "2019-05-22 00:00:00-03:00   0.100000  12.139670  0.008237\n",
       "2019-08-13 00:00:00-03:00   0.200000  12.002372  0.016663\n",
       "2019-11-12 00:00:00-03:00   0.200925  14.063768  0.014287\n",
       "2019-12-27 00:00:00-03:00   0.421942  14.495885  0.029108\n",
       "2020-04-23 00:00:00-03:00   0.000449   8.050848  0.000056\n",
       "2020-04-28 00:00:00-03:00   0.000449   8.193563  0.000055\n",
       "2020-07-23 00:00:00-03:00   0.000461  10.720720  0.000043\n",
       "2021-04-15 00:00:00-03:00   0.792834  11.336848  0.069934\n",
       "2021-08-17 00:00:00-03:00   1.609911  14.061769  0.114489\n",
       "2021-12-02 00:00:00-03:00   3.250487  16.573692  0.196123\n",
       "2022-04-14 00:00:00-03:00   2.970249  19.992018  0.148572\n",
       "2022-05-24 00:00:00-03:00   3.715490  22.513762  0.165032\n",
       "2022-08-12 00:00:00-03:00   6.732003  27.744591  0.242642\n",
       "2022-11-22 00:00:00-03:00   3.348900  23.330000  0.143545"
      ]
     },
     "execution_count": 20,
     "metadata": {},
     "output_type": "execute_result"
    }
   ],
   "source": [
    "div"
   ]
  },
  {
   "cell_type": "code",
   "execution_count": 21,
   "id": "5306e653",
   "metadata": {},
   "outputs": [
    {
     "data": {
      "text/plain": [
       "<AxesSubplot:xlabel='Date'>"
      ]
     },
     "execution_count": 21,
     "metadata": {},
     "output_type": "execute_result"
    },
    {
     "data": {
      "image/png": "[encoded data removed]",
      "text/plain": [
       "<Figure size 432x288 with 1 Axes>"
      ]
     },
     "metadata": {
      "needs_background": "light"
     },
     "output_type": "display_data"
    }
   ],
   "source": [
    "div['DY'].plot()"
   ]
  },
  {
   "cell_type": "code",
   "execution_count": 22,
   "id": "72e57c4c",
   "metadata": {},
   "outputs": [],
   "source": [
    "#!git add .\n",
    "#!git commit -m 'petro analysis'\n",
    "#!git push origin main"
   ]
  },
  {
   "cell_type": "markdown",
   "id": "35094a5c",
   "metadata": {},
   "source": [
    "# Model example"
   ]
  },
  {
   "cell_type": "markdown",
   "id": "32278951",
   "metadata": {},
   "source": [
    "## Previous time series project"
   ]
  },
  {
   "cell_type": "markdown",
   "id": "213f1851",
   "metadata": {},
   "source": [
    "- for information, i copied this from a previous rnn project"
   ]
  },
  {
   "cell_type": "code",
   "execution_count": 23,
   "id": "c4ff323b",
   "metadata": {},
   "outputs": [
    {
     "name": "stderr",
     "output_type": "stream",
     "text": [
      "2023-01-07 11:45:48.245432: W tensorflow/stream_executor/platform/default/dso_loader.cc:64] Could not load dynamic library 'libcudart.so.11.0'; dlerror: libcudart.so.11.0: cannot open shared object file: No such file or directory\n",
      "2023-01-07 11:45:48.245590: I tensorflow/stream_executor/cuda/cudart_stub.cc:29] Ignore above cudart dlerror if you do not have a GPU set up on your machine.\n"
     ]
    },
    {
     "name": "stdout",
     "output_type": "stream",
     "text": [
      "Model: \"sequential\"\n",
      "_________________________________________________________________\n",
      " Layer (type)                Output Shape              Param #   \n",
      "=================================================================\n",
      " simple_rnn (SimpleRNN)      (None, 20)                440       \n",
      "                                                                 \n",
      " dense (Dense)               (None, 10)                210       \n",
      "                                                                 \n",
      " dense_1 (Dense)             (None, 1)                 11        \n",
      "                                                                 \n",
      "=================================================================\n",
      "Total params: 661\n",
      "Trainable params: 661\n",
      "Non-trainable params: 0\n",
      "_________________________________________________________________\n"
     ]
    },
    {
     "name": "stderr",
     "output_type": "stream",
     "text": [
      "2023-01-07 11:45:52.670115: W tensorflow/stream_executor/platform/default/dso_loader.cc:64] Could not load dynamic library 'libcuda.so.1'; dlerror: libcuda.so.1: cannot open shared object file: No such file or directory\n",
      "2023-01-07 11:45:52.670992: W tensorflow/stream_executor/cuda/cuda_driver.cc:269] failed call to cuInit: UNKNOWN ERROR (303)\n",
      "2023-01-07 11:45:52.671068: I tensorflow/stream_executor/cuda/cuda_diagnostics.cc:156] kernel driver does not appear to be running on this host (DESKTOP-23E8V41): /proc/driver/nvidia/version does not exist\n",
      "2023-01-07 11:45:52.675094: I tensorflow/core/platform/cpu_feature_guard.cc:151] This TensorFlow binary is optimized with oneAPI Deep Neural Network Library (oneDNN) to use the following CPU instructions in performance-critical operations:  AVX2 FMA\n",
      "To enable them in other operations, rebuild TensorFlow with the appropriate compiler flags.\n"
     ]
    }
   ],
   "source": [
    "from tensorflow.keras.models import Sequential\n",
    "from tensorflow.keras.layers import Dense, SimpleRNN, Flatten, LSTM\n",
    "from tensorflow.keras.callbacks import EarlyStopping\n",
    "\n",
    "def initialize_model():\n",
    "    model = Sequential()\n",
    "    model.add(SimpleRNN(units=20,activation='tanh',input_shape=(3966, 1)))\n",
    "    model.add(Dense(10,activation='tanh'))\n",
    "    model.add(Dense(1,activation='linear'))\n",
    "    \n",
    "    return model\n",
    "\n",
    "model=initialize_model()\n",
    "model.summary()"
   ]
  },
  {
   "cell_type": "code",
   "execution_count": 24,
   "id": "e2fbdb6d",
   "metadata": {},
   "outputs": [
    {
     "data": {
      "text/plain": [
       "\"\\ndef compile_model(model):\\n    model.compile(loss='mse',optimizer='rmsprop',metrics=['mae'])\\n    return model\\nmodel=compile_model(model)\\n\\nmodel = compile_model(initialize_model())\\n\\nmodel.fit(X_train,y_train, batch_size=32, epochs=30,verbose=1,validation_split=0.2,\\n          callbacks=[EarlyStopping(patience=5,restore_best_weights=True)]\\n)\\n\""
      ]
     },
     "execution_count": 24,
     "metadata": {},
     "output_type": "execute_result"
    }
   ],
   "source": [
    "'''\n",
    "def compile_model(model):\n",
    "    model.compile(loss='mse',optimizer='rmsprop',metrics=['mae'])\n",
    "    return model\n",
    "model=compile_model(model)\n",
    "\n",
    "model = compile_model(initialize_model())\n",
    "\n",
    "model.fit(X_train,y_train, batch_size=32, epochs=30,verbose=1,validation_split=0.2,\n",
    "          callbacks=[EarlyStopping(patience=5,restore_best_weights=True)]\n",
    ")\n",
    "'''"
   ]
  },
  {
   "cell_type": "markdown",
   "id": "7fdc430d",
   "metadata": {},
   "source": [
    "## LSTM for stocks"
   ]
  },
  {
   "cell_type": "markdown",
   "id": "3013650f",
   "metadata": {},
   "source": [
    "- Found this on the internet. Very good base example of a LSTM stock prediction."
   ]
  },
  {
   "cell_type": "code",
   "execution_count": 25,
   "id": "be26c5d4",
   "metadata": {},
   "outputs": [],
   "source": [
    "#https://medium.com/the-handbook-of-coding-in-finance/stock-prices-prediction-using-long-short-term-memory-lstm-model-in-python-734dd1ed6827"
   ]
  },
  {
   "cell_type": "code",
   "execution_count": 26,
   "id": "f0dc51b9",
   "metadata": {},
   "outputs": [],
   "source": [
    "import math\n",
    "from sklearn.preprocessing import MinMaxScaler \n",
    "import numpy as np\n",
    "\n",
    "close_prices = dados['Close']\n",
    "values = close_prices.values\n",
    "training_data_len = math.ceil(len(values)* 0.8)\n",
    "\n",
    "scaler = MinMaxScaler(feature_range=(0,1))\n",
    "scaled_data = scaler.fit_transform(values.reshape(-1,1))\n",
    "train_data = scaled_data[0: training_data_len, :]\n",
    "\n",
    "\n",
    "#train set\n",
    "\n",
    "x_train = []\n",
    "y_train = []\n",
    "\n",
    "for i in range(60, len(train_data)):\n",
    "    x_train.append(train_data[i-60:i, 0])\n",
    "    y_train.append(train_data[i, 0])\n",
    "    \n",
    "x_train, y_train = np.array(x_train), np.array(y_train)\n",
    "x_train = np.reshape(x_train, (x_train.shape[0], x_train.shape[1], 1))\n",
    "\n",
    "#test set\n",
    "test_data = scaled_data[training_data_len-60: , : ]\n",
    "x_test = []\n",
    "y_test = values[training_data_len:]\n",
    "\n",
    "for i in range(60, len(test_data)):\n",
    "  x_test.append(test_data[i-60:i, 0])\n",
    "\n",
    "x_test = np.array(x_test)\n",
    "x_test = np.reshape(x_test, (x_test.shape[0], x_test.shape[1], 1))"
   ]
  },
  {
   "cell_type": "code",
   "execution_count": 27,
   "id": "2cc54a26",
   "metadata": {},
   "outputs": [
    {
     "name": "stdout",
     "output_type": "stream",
     "text": [
      "Model: \"sequential_1\"\n",
      "_________________________________________________________________\n",
      " Layer (type)                Output Shape              Param #   \n",
      "=================================================================\n",
      " lstm (LSTM)                 (None, 60, 100)           40800     \n",
      "                                                                 \n",
      " lstm_1 (LSTM)               (None, 100)               80400     \n",
      "                                                                 \n",
      " dense_2 (Dense)             (None, 25)                2525      \n",
      "                                                                 \n",
      " dense_3 (Dense)             (None, 1)                 26        \n",
      "                                                                 \n",
      "=================================================================\n",
      "Total params: 123,751\n",
      "Trainable params: 123,751\n",
      "Non-trainable params: 0\n",
      "_________________________________________________________________\n"
     ]
    }
   ],
   "source": [
    "#model\n",
    "model = Sequential()\n",
    "model.add(LSTM(100, return_sequences=True, input_shape=(x_train.shape[1], 1)))\n",
    "model.add(LSTM(100, return_sequences=False))\n",
    "model.add(Dense(25))\n",
    "model.add(Dense(1))\n",
    "model.summary()"
   ]
  },
  {
   "cell_type": "code",
   "execution_count": 28,
   "id": "b48cf864",
   "metadata": {},
   "outputs": [
    {
     "name": "stdout",
     "output_type": "stream",
     "text": [
      "Epoch 1/3\n",
      "98/98 [==============================] - 17s 126ms/step - loss: 0.0021\n",
      "Epoch 2/3\n",
      "98/98 [==============================] - 12s 123ms/step - loss: 2.7993e-04\n",
      "Epoch 3/3\n",
      "98/98 [==============================] - 12s 123ms/step - loss: 2.5422e-04\n"
     ]
    },
    {
     "data": {
      "text/plain": [
       "<keras.callbacks.History at 0x7fb5dd97e550>"
      ]
     },
     "execution_count": 28,
     "metadata": {},
     "output_type": "execute_result"
    }
   ],
   "source": [
    "model.compile(optimizer='adam', loss='mean_squared_error')\n",
    "model.fit(x_train, y_train, batch_size= 32, epochs=3)"
   ]
  },
  {
   "cell_type": "code",
   "execution_count": 29,
   "id": "9034d330",
   "metadata": {},
   "outputs": [
    {
     "data": {
      "text/plain": [
       "0.1756327131206421"
      ]
     },
     "execution_count": 29,
     "metadata": {},
     "output_type": "execute_result"
    }
   ],
   "source": [
    "predictions = model.predict(x_test)\n",
    "predictions = scaler.inverse_transform(predictions)\n",
    "rmse = np.sqrt(np.mean(predictions - y_test)**2)\n",
    "rmse"
   ]
  },
  {
   "cell_type": "code",
   "execution_count": 30,
   "id": "c11a8154",
   "metadata": {},
   "outputs": [
    {
     "name": "stderr",
     "output_type": "stream",
     "text": [
      "/tmp/ipykernel_6047/2686380006.py:6: SettingWithCopyWarning: \n",
      "A value is trying to be set on a copy of a slice from a DataFrame.\n",
      "Try using .loc[row_indexer,col_indexer] = value instead\n",
      "\n",
      "See the caveats in the documentation: https://pandas.pydata.org/pandas-docs/stable/user_guide/indexing.html#returning-a-view-versus-a-copy\n",
      "  validation['Predictions'] = predictions\n"
     ]
    },
    {
     "data": {
      "image/png": "[encoded data removed]",
      "text/plain": [
       "<Figure size 1152x576 with 1 Axes>"
      ]
     },
     "metadata": {
      "needs_background": "light"
     },
     "output_type": "display_data"
    }
   ],
   "source": [
    "import matplotlib.pyplot as plt\n",
    "\n",
    "data = dados.filter(['Close'])\n",
    "train = data[:training_data_len]\n",
    "validation = data[training_data_len:]\n",
    "validation['Predictions'] = predictions\n",
    "plt.figure(figsize=(16,8))\n",
    "plt.title('Model')\n",
    "plt.xlabel('Date')\n",
    "plt.ylabel('Close Price USD ($)')\n",
    "plt.plot(train)\n",
    "plt.plot(validation[['Close', 'Predictions']])\n",
    "plt.legend(['Train', 'Val', 'Predictions'], loc='lower right')\n",
    "plt.show()"
   ]
  },
  {
   "cell_type": "code",
   "execution_count": 31,
   "id": "538104c4",
   "metadata": {},
   "outputs": [
    {
     "name": "stderr",
     "output_type": "stream",
     "text": [
      "/tmp/ipykernel_6047/1626216995.py:4: SettingWithCopyWarning: \n",
      "A value is trying to be set on a copy of a slice from a DataFrame.\n",
      "Try using .loc[row_indexer,col_indexer] = value instead\n",
      "\n",
      "See the caveats in the documentation: https://pandas.pydata.org/pandas-docs/stable/user_guide/indexing.html#returning-a-view-versus-a-copy\n",
      "  validation['Predictions'] = predictions\n"
     ]
    },
    {
     "data": {
      "image/png": "[encoded data removed]",
      "text/plain": [
       "<Figure size 1152x576 with 1 Axes>"
      ]
     },
     "metadata": {
      "needs_background": "light"
     },
     "output_type": "display_data"
    }
   ],
   "source": [
    "data = dados.filter(['Close'])\n",
    "#train = data[:training_data_len]\n",
    "validation = data[training_data_len:]\n",
    "validation['Predictions'] = predictions\n",
    "plt.figure(figsize=(16,8))\n",
    "plt.title('Model')\n",
    "plt.xlabel('Date')\n",
    "plt.ylabel('Close Price USD ($)')\n",
    "#plt.plot(train)\n",
    "plt.plot(validation[['Close', 'Predictions']])\n",
    "plt.legend(['Val', 'Predictions'], loc='lower right')\n",
    "plt.show()"
   ]
  },
  {
   "cell_type": "code",
   "execution_count": 32,
   "id": "94d0cc3f",
   "metadata": {},
   "outputs": [],
   "source": [
    "#there is something wrong in here. There is no way it predicts with this much accuracy data it has never seen.\n",
    "#there is data leakage somewhere"
   ]
  },
  {
   "cell_type": "code",
   "execution_count": 33,
   "id": "6d3f35f9",
   "metadata": {},
   "outputs": [],
   "source": [
    "#um cara falou que da merda no scaling. Usar scaling só com x train"
   ]
  },
  {
   "cell_type": "code",
   "execution_count": 34,
   "id": "55ea1ae6",
   "metadata": {},
   "outputs": [],
   "source": [
    "#ele também só preve a proxima data, eu quero prever mais coisas, tipo 1 semana ou a data de 60 dias"
   ]
  },
  {
   "cell_type": "markdown",
   "id": "bcf02a41",
   "metadata": {},
   "source": [
    "# Fixing Data leaking"
   ]
  },
  {
   "cell_type": "code",
   "execution_count": 35,
   "id": "d73ee074",
   "metadata": {},
   "outputs": [],
   "source": [
    "import math\n",
    "from sklearn.preprocessing import MinMaxScaler \n",
    "import numpy as np\n",
    "\n",
    "close_prices = dados['Close']\n",
    "values = close_prices.values\n",
    "training_data_len = math.ceil(len(values)* 0.8)\n",
    "\n",
    "values=values.reshape(-1,1)\n",
    "train_values=values[0: training_data_len]\n",
    "\n",
    "scaler = MinMaxScaler(feature_range=(0,1))\n",
    "train_data = scaler.fit_transform(train_values)\n",
    "\n",
    "x_train = []\n",
    "y_train = []\n",
    "\n",
    "for i in range(60, len(train_data)):\n",
    "    x_train.append(train_data[i-60:i, 0])\n",
    "    y_train.append(train_data[i, 0])\n",
    "    \n",
    "x_train, y_train = np.array(x_train), np.array(y_train)\n",
    "x_train = np.reshape(x_train, (x_train.shape[0], x_train.shape[1], 1))"
   ]
  },
  {
   "cell_type": "code",
   "execution_count": 36,
   "id": "aac80999",
   "metadata": {},
   "outputs": [],
   "source": [
    "test_values=values[training_data_len-60:]\n",
    "\n",
    "test_data = scaler.transform(test_values)\n",
    "x_test = []\n",
    "y_test = values[training_data_len:]\n",
    "\n",
    "for i in range(60, len(test_data)):\n",
    "  x_test.append(test_data[i-60:i, 0])\n",
    "\n",
    "x_test = np.array(x_test)\n",
    "x_test = np.reshape(x_test, (x_test.shape[0], x_test.shape[1], 1))"
   ]
  },
  {
   "cell_type": "code",
   "execution_count": 37,
   "id": "36d7e483",
   "metadata": {},
   "outputs": [
    {
     "data": {
      "text/plain": [
       "(793, 60, 1)"
      ]
     },
     "execution_count": 37,
     "metadata": {},
     "output_type": "execute_result"
    }
   ],
   "source": [
    "x_test.shape"
   ]
  },
  {
   "cell_type": "code",
   "execution_count": 38,
   "id": "68ca258a",
   "metadata": {},
   "outputs": [
    {
     "data": {
      "text/plain": [
       "(793, 1)"
      ]
     },
     "execution_count": 38,
     "metadata": {},
     "output_type": "execute_result"
    }
   ],
   "source": [
    "y_test.shape"
   ]
  },
  {
   "cell_type": "code",
   "execution_count": 39,
   "id": "fbe60375",
   "metadata": {},
   "outputs": [
    {
     "name": "stdout",
     "output_type": "stream",
     "text": [
      "Epoch 1/3\n",
      "98/98 [==============================] - 16s 124ms/step - loss: 0.0081\n",
      "Epoch 2/3\n",
      "98/98 [==============================] - 12s 124ms/step - loss: 9.0820e-04\n",
      "Epoch 3/3\n",
      "98/98 [==============================] - 12s 123ms/step - loss: 8.4410e-04\n"
     ]
    },
    {
     "data": {
      "text/plain": [
       "<keras.callbacks.History at 0x7fb5d9f284f0>"
      ]
     },
     "execution_count": 39,
     "metadata": {},
     "output_type": "execute_result"
    }
   ],
   "source": [
    "model = Sequential()\n",
    "model.add(LSTM(100, return_sequences=True, input_shape=(x_train.shape[1], 1)))\n",
    "model.add(LSTM(100, return_sequences=False))\n",
    "model.add(Dense(25))\n",
    "model.add(Dense(1))\n",
    "\n",
    "model.compile(optimizer='adam', loss='mean_squared_error')\n",
    "model.fit(x_train, y_train, batch_size= 32, epochs=3)"
   ]
  },
  {
   "cell_type": "code",
   "execution_count": 40,
   "id": "1b045e23",
   "metadata": {},
   "outputs": [
    {
     "data": {
      "text/plain": [
       "0.39161999619473126"
      ]
     },
     "execution_count": 40,
     "metadata": {},
     "output_type": "execute_result"
    }
   ],
   "source": [
    "predictions = model.predict(x_test)\n",
    "predictions = scaler.inverse_transform(predictions)\n",
    "rmse = np.sqrt(np.mean(predictions - y_test)**2)\n",
    "rmse"
   ]
  },
  {
   "cell_type": "code",
   "execution_count": 41,
   "id": "968140da",
   "metadata": {},
   "outputs": [
    {
     "name": "stderr",
     "output_type": "stream",
     "text": [
      "/tmp/ipykernel_6047/4044787029.py:4: SettingWithCopyWarning: \n",
      "A value is trying to be set on a copy of a slice from a DataFrame.\n",
      "Try using .loc[row_indexer,col_indexer] = value instead\n",
      "\n",
      "See the caveats in the documentation: https://pandas.pydata.org/pandas-docs/stable/user_guide/indexing.html#returning-a-view-versus-a-copy\n",
      "  validation['Predictions'] = predictions\n"
     ]
    },
    {
     "data": {
      "image/png": "[encoded data removed]",
      "text/plain": [
       "<Figure size 1152x576 with 1 Axes>"
      ]
     },
     "metadata": {
      "needs_background": "light"
     },
     "output_type": "display_data"
    }
   ],
   "source": [
    "data = dados.filter(['Close'])\n",
    "train = data[:training_data_len]\n",
    "validation = data[training_data_len:]\n",
    "validation['Predictions'] = predictions\n",
    "plt.figure(figsize=(16,8))\n",
    "plt.title('Model')\n",
    "plt.xlabel('Date')\n",
    "plt.ylabel('Close Price USD ($)')\n",
    "plt.plot(train)\n",
    "plt.plot(validation[['Close', 'Predictions']])\n",
    "plt.legend(['Train', 'Val', 'Predictions'], loc='lower right')\n",
    "plt.show()"
   ]
  },
  {
   "cell_type": "code",
   "execution_count": 42,
   "id": "466094e1",
   "metadata": {},
   "outputs": [
    {
     "name": "stderr",
     "output_type": "stream",
     "text": [
      "/tmp/ipykernel_6047/1626216995.py:4: SettingWithCopyWarning: \n",
      "A value is trying to be set on a copy of a slice from a DataFrame.\n",
      "Try using .loc[row_indexer,col_indexer] = value instead\n",
      "\n",
      "See the caveats in the documentation: https://pandas.pydata.org/pandas-docs/stable/user_guide/indexing.html#returning-a-view-versus-a-copy\n",
      "  validation['Predictions'] = predictions\n"
     ]
    },
    {
     "data": {
      "image/png": "[encoded data removed]",
      "text/plain": [
       "<Figure size 1152x576 with 1 Axes>"
      ]
     },
     "metadata": {
      "needs_background": "light"
     },
     "output_type": "display_data"
    }
   ],
   "source": [
    "data = dados.filter(['Close'])\n",
    "#train = data[:training_data_len]\n",
    "validation = data[training_data_len:]\n",
    "validation['Predictions'] = predictions\n",
    "plt.figure(figsize=(16,8))\n",
    "plt.title('Model')\n",
    "plt.xlabel('Date')\n",
    "plt.ylabel('Close Price USD ($)')\n",
    "#plt.plot(train)\n",
    "plt.plot(validation[['Close', 'Predictions']])\n",
    "plt.legend(['Val', 'Predictions'], loc='lower right')\n",
    "plt.show()"
   ]
  },
  {
   "cell_type": "code",
   "execution_count": 43,
   "id": "5ce4b355",
   "metadata": {},
   "outputs": [],
   "source": [
    "#looks the same to me. But I'd say its better to not leak data."
   ]
  },
  {
   "cell_type": "code",
   "execution_count": 44,
   "id": "13eec36c",
   "metadata": {},
   "outputs": [],
   "source": [
    "#!git add .\n",
    "#!git commit -m 'first lstm pred'\n",
    "#!git push origin main"
   ]
  },
  {
   "cell_type": "markdown",
   "id": "e5f14809",
   "metadata": {},
   "source": [
    "# Baseline model"
   ]
  },
  {
   "cell_type": "markdown",
   "id": "987b599f",
   "metadata": {},
   "source": [
    "- I've figured out how to start building up a model with LSTM\n",
    "- Now, let's find a baseline to compare how good this actually is\n",
    "- An idea of baseline is to say that the price on d+1 is going to be the same price on d+0"
   ]
  },
  {
   "cell_type": "code",
   "execution_count": 47,
   "id": "4113b5ab",
   "metadata": {},
   "outputs": [
    {
     "data": {
      "text/html": [
       "<div>\n",
       "<style scoped>\n",
       "    .dataframe tbody tr th:only-of-type {\n",
       "        vertical-align: middle;\n",
       "    }\n",
       "\n",
       "    .dataframe tbody tr th {\n",
       "        vertical-align: top;\n",
       "    }\n",
       "\n",
       "    .dataframe thead th {\n",
       "        text-align: right;\n",
       "    }\n",
       "</style>\n",
       "<table border=\"1\" class=\"dataframe\">\n",
       "  <thead>\n",
       "    <tr style=\"text-align: right;\">\n",
       "      <th></th>\n",
       "      <th>d+0</th>\n",
       "    </tr>\n",
       "  </thead>\n",
       "  <tbody>\n",
       "    <tr>\n",
       "      <th>0</th>\n",
       "      <td>12.872649</td>\n",
       "    </tr>\n",
       "    <tr>\n",
       "      <th>1</th>\n",
       "      <td>12.844728</td>\n",
       "    </tr>\n",
       "    <tr>\n",
       "      <th>2</th>\n",
       "      <td>12.923844</td>\n",
       "    </tr>\n",
       "    <tr>\n",
       "      <th>3</th>\n",
       "      <td>13.296154</td>\n",
       "    </tr>\n",
       "    <tr>\n",
       "      <th>4</th>\n",
       "      <td>13.473001</td>\n",
       "    </tr>\n",
       "    <tr>\n",
       "      <th>...</th>\n",
       "      <td>...</td>\n",
       "    </tr>\n",
       "    <tr>\n",
       "      <th>788</th>\n",
       "      <td>23.990000</td>\n",
       "    </tr>\n",
       "    <tr>\n",
       "      <th>789</th>\n",
       "      <td>25.120001</td>\n",
       "    </tr>\n",
       "    <tr>\n",
       "      <th>790</th>\n",
       "      <td>24.940001</td>\n",
       "    </tr>\n",
       "    <tr>\n",
       "      <th>791</th>\n",
       "      <td>25.110001</td>\n",
       "    </tr>\n",
       "    <tr>\n",
       "      <th>792</th>\n",
       "      <td>24.799999</td>\n",
       "    </tr>\n",
       "  </tbody>\n",
       "</table>\n",
       "<p>793 rows × 1 columns</p>\n",
       "</div>"
      ],
      "text/plain": [
       "           d+0\n",
       "0    12.872649\n",
       "1    12.844728\n",
       "2    12.923844\n",
       "3    13.296154\n",
       "4    13.473001\n",
       "..         ...\n",
       "788  23.990000\n",
       "789  25.120001\n",
       "790  24.940001\n",
       "791  25.110001\n",
       "792  24.799999\n",
       "\n",
       "[793 rows x 1 columns]"
      ]
     },
     "execution_count": 47,
     "metadata": {},
     "output_type": "execute_result"
    }
   ],
   "source": [
    "baseline = pd.DataFrame(y_test).rename(columns={0:'d+0'})\n",
    "baseline"
   ]
  },
  {
   "cell_type": "code",
   "execution_count": 48,
   "id": "95b5ad27",
   "metadata": {},
   "outputs": [],
   "source": [
    "baseline['d-1']=pd.DataFrame(dados['Close'].values[-794:-1])"
   ]
  },
  {
   "cell_type": "code",
   "execution_count": 49,
   "id": "2014c3b8",
   "metadata": {},
   "outputs": [
    {
     "data": {
      "text/html": [
       "<div>\n",
       "<style scoped>\n",
       "    .dataframe tbody tr th:only-of-type {\n",
       "        vertical-align: middle;\n",
       "    }\n",
       "\n",
       "    .dataframe tbody tr th {\n",
       "        vertical-align: top;\n",
       "    }\n",
       "\n",
       "    .dataframe thead th {\n",
       "        text-align: right;\n",
       "    }\n",
       "</style>\n",
       "<table border=\"1\" class=\"dataframe\">\n",
       "  <thead>\n",
       "    <tr style=\"text-align: right;\">\n",
       "      <th></th>\n",
       "      <th>d+0</th>\n",
       "      <th>d-1</th>\n",
       "    </tr>\n",
       "  </thead>\n",
       "  <tbody>\n",
       "    <tr>\n",
       "      <th>0</th>\n",
       "      <td>12.872649</td>\n",
       "      <td>12.998305</td>\n",
       "    </tr>\n",
       "    <tr>\n",
       "      <th>1</th>\n",
       "      <td>12.844728</td>\n",
       "      <td>12.872649</td>\n",
       "    </tr>\n",
       "    <tr>\n",
       "      <th>2</th>\n",
       "      <td>12.923844</td>\n",
       "      <td>12.844728</td>\n",
       "    </tr>\n",
       "    <tr>\n",
       "      <th>3</th>\n",
       "      <td>13.296154</td>\n",
       "      <td>12.923844</td>\n",
       "    </tr>\n",
       "    <tr>\n",
       "      <th>4</th>\n",
       "      <td>13.473001</td>\n",
       "      <td>13.296154</td>\n",
       "    </tr>\n",
       "    <tr>\n",
       "      <th>...</th>\n",
       "      <td>...</td>\n",
       "      <td>...</td>\n",
       "    </tr>\n",
       "    <tr>\n",
       "      <th>788</th>\n",
       "      <td>23.990000</td>\n",
       "      <td>23.570000</td>\n",
       "    </tr>\n",
       "    <tr>\n",
       "      <th>789</th>\n",
       "      <td>25.120001</td>\n",
       "      <td>23.990000</td>\n",
       "    </tr>\n",
       "    <tr>\n",
       "      <th>790</th>\n",
       "      <td>24.940001</td>\n",
       "      <td>25.120001</td>\n",
       "    </tr>\n",
       "    <tr>\n",
       "      <th>791</th>\n",
       "      <td>25.110001</td>\n",
       "      <td>24.940001</td>\n",
       "    </tr>\n",
       "    <tr>\n",
       "      <th>792</th>\n",
       "      <td>24.799999</td>\n",
       "      <td>25.110001</td>\n",
       "    </tr>\n",
       "  </tbody>\n",
       "</table>\n",
       "<p>793 rows × 2 columns</p>\n",
       "</div>"
      ],
      "text/plain": [
       "           d+0        d-1\n",
       "0    12.872649  12.998305\n",
       "1    12.844728  12.872649\n",
       "2    12.923844  12.844728\n",
       "3    13.296154  12.923844\n",
       "4    13.473001  13.296154\n",
       "..         ...        ...\n",
       "788  23.990000  23.570000\n",
       "789  25.120001  23.990000\n",
       "790  24.940001  25.120001\n",
       "791  25.110001  24.940001\n",
       "792  24.799999  25.110001\n",
       "\n",
       "[793 rows x 2 columns]"
      ]
     },
     "execution_count": 49,
     "metadata": {},
     "output_type": "execute_result"
    }
   ],
   "source": [
    "baseline"
   ]
  },
  {
   "cell_type": "markdown",
   "id": "a7c1ce82",
   "metadata": {},
   "source": [
    "## calculate metrics to beat"
   ]
  },
  {
   "cell_type": "code",
   "execution_count": 50,
   "id": "4045ed94",
   "metadata": {},
   "outputs": [
    {
     "data": {
      "text/plain": [
       "0.4619845856279209"
      ]
     },
     "execution_count": 50,
     "metadata": {},
     "output_type": "execute_result"
    }
   ],
   "source": [
    "rmse_base = np.sqrt(np.mean((baseline['d+0']-baseline['d-1'])**2))\n",
    "rmse_base"
   ]
  },
  {
   "cell_type": "code",
   "execution_count": null,
   "id": "c62f135a",
   "metadata": {},
   "outputs": [],
   "source": [
    "#!git add .\n",
    "#!git commit -m 'baseline'\n",
    "#!git push origin main"
   ]
  },
  {
   "cell_type": "markdown",
   "id": "395c24ce",
   "metadata": {},
   "source": [
    "# Tuning the model"
   ]
  },
  {
   "cell_type": "code",
   "execution_count": 52,
   "id": "6c527795",
   "metadata": {},
   "outputs": [
    {
     "name": "stdout",
     "output_type": "stream",
     "text": [
      "Epoch 1/30\n",
      "78/78 [==============================] - 20s 187ms/step - loss: 0.0118 - val_loss: 0.0011\n",
      "Epoch 2/30\n",
      "78/78 [==============================] - 11s 140ms/step - loss: 9.2286e-04 - val_loss: 9.8158e-04\n",
      "Epoch 3/30\n",
      "78/78 [==============================] - 10s 131ms/step - loss: 8.4345e-04 - val_loss: 8.9050e-04\n",
      "Epoch 4/30\n",
      "78/78 [==============================] - 10s 129ms/step - loss: 7.4385e-04 - val_loss: 7.7596e-04\n",
      "Epoch 5/30\n",
      "78/78 [==============================] - 10s 132ms/step - loss: 7.6381e-04 - val_loss: 8.0452e-04\n",
      "Epoch 6/30\n",
      "78/78 [==============================] - 10s 129ms/step - loss: 6.8358e-04 - val_loss: 6.4221e-04\n",
      "Epoch 7/30\n",
      "78/78 [==============================] - 10s 133ms/step - loss: 6.4111e-04 - val_loss: 6.1409e-04\n",
      "Epoch 8/30\n",
      "78/78 [==============================] - 10s 131ms/step - loss: 5.8217e-04 - val_loss: 5.6382e-04\n",
      "Epoch 9/30\n",
      "78/78 [==============================] - 10s 130ms/step - loss: 5.8851e-04 - val_loss: 6.2490e-04\n",
      "Epoch 10/30\n",
      "78/78 [==============================] - 11s 137ms/step - loss: 5.3344e-04 - val_loss: 4.7923e-04\n",
      "Epoch 11/30\n",
      "78/78 [==============================] - 11s 140ms/step - loss: 4.9170e-04 - val_loss: 5.7881e-04\n",
      "Epoch 12/30\n",
      "78/78 [==============================] - 11s 139ms/step - loss: 4.6402e-04 - val_loss: 5.2362e-04\n",
      "Epoch 13/30\n",
      "78/78 [==============================] - 12s 148ms/step - loss: 4.5469e-04 - val_loss: 7.2881e-04\n",
      "Epoch 14/30\n",
      "78/78 [==============================] - 11s 141ms/step - loss: 5.1547e-04 - val_loss: 4.1132e-04\n",
      "Epoch 15/30\n",
      "78/78 [==============================] - 10s 135ms/step - loss: 4.1175e-04 - val_loss: 3.9358e-04\n",
      "Epoch 16/30\n",
      "78/78 [==============================] - 10s 132ms/step - loss: 3.8914e-04 - val_loss: 4.0949e-04\n",
      "Epoch 17/30\n",
      "78/78 [==============================] - 10s 132ms/step - loss: 4.0024e-04 - val_loss: 3.2079e-04\n",
      "Epoch 18/30\n",
      "78/78 [==============================] - 11s 137ms/step - loss: 3.5680e-04 - val_loss: 3.5654e-04\n",
      "Epoch 19/30\n",
      "78/78 [==============================] - 11s 139ms/step - loss: 3.3919e-04 - val_loss: 4.7631e-04\n",
      "Epoch 20/30\n",
      "78/78 [==============================] - 11s 140ms/step - loss: 3.5869e-04 - val_loss: 3.3181e-04\n",
      "Epoch 21/30\n",
      "78/78 [==============================] - 11s 139ms/step - loss: 3.0231e-04 - val_loss: 2.5889e-04\n",
      "Epoch 22/30\n",
      "78/78 [==============================] - 11s 138ms/step - loss: 2.7910e-04 - val_loss: 2.6099e-04\n",
      "Epoch 23/30\n",
      "78/78 [==============================] - 10s 133ms/step - loss: 2.9920e-04 - val_loss: 2.9943e-04\n",
      "Epoch 24/30\n",
      "78/78 [==============================] - 10s 134ms/step - loss: 2.6575e-04 - val_loss: 2.3994e-04\n",
      "Epoch 25/30\n",
      "78/78 [==============================] - 11s 145ms/step - loss: 2.4778e-04 - val_loss: 2.1980e-04\n",
      "Epoch 26/30\n",
      "78/78 [==============================] - 10s 131ms/step - loss: 2.4754e-04 - val_loss: 2.1382e-04\n",
      "Epoch 27/30\n",
      "78/78 [==============================] - 10s 130ms/step - loss: 2.6407e-04 - val_loss: 4.4832e-04\n",
      "Epoch 28/30\n",
      "78/78 [==============================] - 11s 148ms/step - loss: 3.3301e-04 - val_loss: 2.1327e-04\n",
      "Epoch 29/30\n",
      "78/78 [==============================] - 12s 155ms/step - loss: 2.5821e-04 - val_loss: 2.4003e-04\n",
      "Epoch 30/30\n",
      "78/78 [==============================] - 11s 135ms/step - loss: 2.6387e-04 - val_loss: 2.9849e-04\n"
     ]
    },
    {
     "data": {
      "text/plain": [
       "<keras.callbacks.History at 0x7fb5d04daee0>"
      ]
     },
     "execution_count": 52,
     "metadata": {},
     "output_type": "execute_result"
    }
   ],
   "source": [
    "model = Sequential()\n",
    "model.add(LSTM(100, return_sequences=True, input_shape=(x_train.shape[1], 1)))\n",
    "model.add(LSTM(100, return_sequences=False))\n",
    "model.add(Dense(25))\n",
    "model.add(Dense(1))\n",
    "\n",
    "model.compile(optimizer='adam', loss='mean_squared_error')\n",
    "\n",
    "model.fit(x_train,y_train, batch_size=32, epochs=30,verbose=1,validation_split=0.2,\n",
    "          callbacks=[EarlyStopping(patience=5,restore_best_weights=True)])"
   ]
  },
  {
   "cell_type": "code",
   "execution_count": 53,
   "id": "a7fcf6f6",
   "metadata": {},
   "outputs": [
    {
     "data": {
      "text/plain": [
       "0.35588165249529885"
      ]
     },
     "execution_count": 53,
     "metadata": {},
     "output_type": "execute_result"
    }
   ],
   "source": [
    "predictions = model.predict(x_test)\n",
    "predictions = scaler.inverse_transform(predictions)\n",
    "rmse = np.sqrt(np.mean(predictions - y_test)**2)\n",
    "rmse"
   ]
  },
  {
   "cell_type": "code",
   "execution_count": 54,
   "id": "d3299d74",
   "metadata": {},
   "outputs": [
    {
     "name": "stdout",
     "output_type": "stream",
     "text": [
      "Epoch 1/100\n",
      "78/78 [==============================] - 15s 144ms/step - loss: 0.0089 - val_loss: 0.0014\n",
      "Epoch 2/100\n",
      "78/78 [==============================] - 10s 129ms/step - loss: 8.8703e-04 - val_loss: 0.0010\n",
      "Epoch 3/100\n",
      "78/78 [==============================] - 10s 129ms/step - loss: 8.5167e-04 - val_loss: 9.0434e-04\n",
      "Epoch 4/100\n",
      "78/78 [==============================] - 11s 138ms/step - loss: 7.8797e-04 - val_loss: 9.0318e-04\n",
      "Epoch 5/100\n",
      "78/78 [==============================] - 10s 131ms/step - loss: 7.2772e-04 - val_loss: 7.4551e-04\n",
      "Epoch 6/100\n",
      "78/78 [==============================] - 10s 131ms/step - loss: 6.3948e-04 - val_loss: 7.5316e-04\n",
      "Epoch 7/100\n",
      "78/78 [==============================] - 10s 130ms/step - loss: 6.7882e-04 - val_loss: 6.0381e-04\n",
      "Epoch 8/100\n",
      "78/78 [==============================] - 10s 130ms/step - loss: 5.8213e-04 - val_loss: 5.6239e-04\n",
      "Epoch 9/100\n",
      "78/78 [==============================] - 10s 131ms/step - loss: 5.4426e-04 - val_loss: 5.0237e-04\n",
      "Epoch 10/100\n",
      "78/78 [==============================] - 10s 130ms/step - loss: 5.0656e-04 - val_loss: 6.2501e-04\n",
      "Epoch 11/100\n",
      "78/78 [==============================] - 10s 129ms/step - loss: 5.5524e-04 - val_loss: 5.0266e-04\n",
      "Epoch 12/100\n",
      "78/78 [==============================] - 10s 130ms/step - loss: 4.3641e-04 - val_loss: 4.3418e-04\n",
      "Epoch 13/100\n",
      "78/78 [==============================] - 10s 131ms/step - loss: 4.1551e-04 - val_loss: 3.7272e-04\n",
      "Epoch 14/100\n",
      "78/78 [==============================] - 10s 130ms/step - loss: 3.8186e-04 - val_loss: 3.4360e-04\n",
      "Epoch 15/100\n",
      "78/78 [==============================] - 11s 140ms/step - loss: 3.8073e-04 - val_loss: 3.2211e-04\n",
      "Epoch 16/100\n",
      "78/78 [==============================] - 10s 129ms/step - loss: 3.5545e-04 - val_loss: 3.2634e-04\n",
      "Epoch 17/100\n",
      "78/78 [==============================] - 10s 131ms/step - loss: 3.1719e-04 - val_loss: 2.9220e-04\n",
      "Epoch 18/100\n",
      "78/78 [==============================] - 10s 132ms/step - loss: 3.5218e-04 - val_loss: 3.4428e-04\n",
      "Epoch 19/100\n",
      "78/78 [==============================] - 11s 138ms/step - loss: 3.0848e-04 - val_loss: 2.6857e-04\n",
      "Epoch 20/100\n",
      "78/78 [==============================] - 11s 144ms/step - loss: 2.8822e-04 - val_loss: 3.1527e-04\n",
      "Epoch 21/100\n",
      "78/78 [==============================] - 11s 135ms/step - loss: 3.5352e-04 - val_loss: 2.4300e-04\n",
      "Epoch 22/100\n",
      "78/78 [==============================] - 10s 131ms/step - loss: 2.8733e-04 - val_loss: 2.7374e-04\n",
      "Epoch 23/100\n",
      "78/78 [==============================] - 10s 131ms/step - loss: 2.6466e-04 - val_loss: 4.1409e-04\n",
      "Epoch 24/100\n",
      "78/78 [==============================] - 11s 140ms/step - loss: 2.8154e-04 - val_loss: 2.4214e-04\n",
      "Epoch 25/100\n",
      "78/78 [==============================] - 10s 129ms/step - loss: 2.5030e-04 - val_loss: 2.2583e-04\n",
      "Epoch 26/100\n",
      "78/78 [==============================] - 10s 133ms/step - loss: 2.3815e-04 - val_loss: 2.3349e-04\n",
      "Epoch 27/100\n",
      "78/78 [==============================] - 11s 139ms/step - loss: 2.4540e-04 - val_loss: 2.3834e-04\n",
      "Epoch 28/100\n",
      "78/78 [==============================] - 10s 130ms/step - loss: 2.4584e-04 - val_loss: 2.1148e-04\n",
      "Epoch 29/100\n",
      "78/78 [==============================] - 10s 129ms/step - loss: 2.4912e-04 - val_loss: 3.0036e-04\n",
      "Epoch 30/100\n",
      "78/78 [==============================] - 10s 132ms/step - loss: 2.2952e-04 - val_loss: 3.0841e-04\n",
      "Epoch 31/100\n",
      "78/78 [==============================] - 10s 128ms/step - loss: 2.3475e-04 - val_loss: 2.0939e-04\n",
      "Epoch 32/100\n",
      "78/78 [==============================] - 10s 131ms/step - loss: 2.6084e-04 - val_loss: 2.9069e-04\n",
      "Epoch 33/100\n",
      "78/78 [==============================] - 10s 128ms/step - loss: 2.4196e-04 - val_loss: 2.5660e-04\n",
      "Epoch 34/100\n",
      "78/78 [==============================] - 11s 136ms/step - loss: 2.2241e-04 - val_loss: 2.2183e-04\n",
      "Epoch 35/100\n",
      "78/78 [==============================] - 10s 131ms/step - loss: 2.5678e-04 - val_loss: 2.7818e-04\n",
      "Epoch 36/100\n",
      "78/78 [==============================] - 10s 129ms/step - loss: 2.3278e-04 - val_loss: 4.2467e-04\n"
     ]
    },
    {
     "data": {
      "text/plain": [
       "<keras.callbacks.History at 0x7fb5b82ede80>"
      ]
     },
     "execution_count": 54,
     "metadata": {},
     "output_type": "execute_result"
    }
   ],
   "source": [
    "model = Sequential()\n",
    "model.add(LSTM(100, return_sequences=True, input_shape=(x_train.shape[1], 1)))\n",
    "model.add(LSTM(100, return_sequences=False))\n",
    "model.add(Dense(25))\n",
    "model.add(Dense(1))\n",
    "\n",
    "model.compile(optimizer='adam', loss='mean_squared_error')\n",
    "\n",
    "model.fit(x_train,y_train, batch_size=32, epochs=100,verbose=1,validation_split=0.2,\n",
    "          callbacks=[EarlyStopping(patience=5,restore_best_weights=True)])"
   ]
  },
  {
   "cell_type": "code",
   "execution_count": 55,
   "id": "998f5c45",
   "metadata": {},
   "outputs": [
    {
     "data": {
      "text/plain": [
       "0.11015652648136866"
      ]
     },
     "execution_count": 55,
     "metadata": {},
     "output_type": "execute_result"
    }
   ],
   "source": [
    "predictions = model.predict(x_test)\n",
    "predictions = scaler.inverse_transform(predictions)\n",
    "rmse = np.sqrt(np.mean(predictions - y_test)**2)\n",
    "rmse"
   ]
  },
  {
   "cell_type": "code",
   "execution_count": 56,
   "id": "a1d1659b",
   "metadata": {},
   "outputs": [
    {
     "name": "stdout",
     "output_type": "stream",
     "text": [
      "Epoch 1/30\n",
      "156/156 [==============================] - 22s 114ms/step - loss: 0.0042 - val_loss: 9.1746e-04\n",
      "Epoch 2/30\n",
      "156/156 [==============================] - 17s 107ms/step - loss: 8.2186e-04 - val_loss: 0.0012\n",
      "Epoch 3/30\n",
      "156/156 [==============================] - 17s 108ms/step - loss: 8.4441e-04 - val_loss: 6.1654e-04\n",
      "Epoch 4/30\n",
      "156/156 [==============================] - 17s 107ms/step - loss: 6.5513e-04 - val_loss: 5.4560e-04\n",
      "Epoch 5/30\n",
      "156/156 [==============================] - 17s 107ms/step - loss: 5.9395e-04 - val_loss: 5.2214e-04\n",
      "Epoch 6/30\n",
      "156/156 [==============================] - 17s 106ms/step - loss: 5.2290e-04 - val_loss: 5.4951e-04\n",
      "Epoch 7/30\n",
      "156/156 [==============================] - 17s 108ms/step - loss: 4.7423e-04 - val_loss: 7.7003e-04\n",
      "Epoch 8/30\n",
      "156/156 [==============================] - 17s 107ms/step - loss: 5.4118e-04 - val_loss: 3.5692e-04\n",
      "Epoch 9/30\n",
      "156/156 [==============================] - 17s 107ms/step - loss: 3.8944e-04 - val_loss: 3.1891e-04\n",
      "Epoch 10/30\n",
      "156/156 [==============================] - 17s 108ms/step - loss: 3.7167e-04 - val_loss: 2.8433e-04\n",
      "Epoch 11/30\n",
      "156/156 [==============================] - 17s 106ms/step - loss: 3.0791e-04 - val_loss: 2.6818e-04\n",
      "Epoch 12/30\n",
      "156/156 [==============================] - 17s 107ms/step - loss: 2.8761e-04 - val_loss: 3.5390e-04\n",
      "Epoch 13/30\n",
      "156/156 [==============================] - 17s 107ms/step - loss: 3.0784e-04 - val_loss: 2.3115e-04\n",
      "Epoch 14/30\n",
      "156/156 [==============================] - 17s 108ms/step - loss: 2.9052e-04 - val_loss: 2.6281e-04\n",
      "Epoch 15/30\n",
      "156/156 [==============================] - 17s 106ms/step - loss: 2.6920e-04 - val_loss: 2.6753e-04\n",
      "Epoch 16/30\n",
      "156/156 [==============================] - 17s 107ms/step - loss: 2.9895e-04 - val_loss: 2.1379e-04\n",
      "Epoch 17/30\n",
      "156/156 [==============================] - 17s 107ms/step - loss: 2.6055e-04 - val_loss: 2.1510e-04\n",
      "Epoch 18/30\n",
      "156/156 [==============================] - 17s 108ms/step - loss: 3.1724e-04 - val_loss: 2.5935e-04\n",
      "Epoch 19/30\n",
      "156/156 [==============================] - 17s 107ms/step - loss: 2.3922e-04 - val_loss: 2.1149e-04\n",
      "Epoch 20/30\n",
      "156/156 [==============================] - 17s 107ms/step - loss: 2.4299e-04 - val_loss: 2.0771e-04\n",
      "Epoch 21/30\n",
      "156/156 [==============================] - 17s 106ms/step - loss: 2.6597e-04 - val_loss: 3.8409e-04\n",
      "Epoch 22/30\n",
      "156/156 [==============================] - 17s 106ms/step - loss: 2.8711e-04 - val_loss: 2.3967e-04\n",
      "Epoch 23/30\n",
      "156/156 [==============================] - 17s 107ms/step - loss: 2.6820e-04 - val_loss: 2.0979e-04\n",
      "Epoch 24/30\n",
      "156/156 [==============================] - 17s 108ms/step - loss: 2.2493e-04 - val_loss: 2.7662e-04\n",
      "Epoch 25/30\n",
      "156/156 [==============================] - 17s 112ms/step - loss: 3.1345e-04 - val_loss: 2.4366e-04\n"
     ]
    },
    {
     "data": {
      "text/plain": [
       "<keras.callbacks.History at 0x7fb597d0efa0>"
      ]
     },
     "execution_count": 56,
     "metadata": {},
     "output_type": "execute_result"
    }
   ],
   "source": [
    "model = Sequential()\n",
    "model.add(LSTM(100, return_sequences=True, input_shape=(x_train.shape[1], 1)))\n",
    "model.add(LSTM(100, return_sequences=False))\n",
    "model.add(Dense(25))\n",
    "model.add(Dense(1))\n",
    "\n",
    "model.compile(optimizer='adam', loss='mean_squared_error')\n",
    "\n",
    "model.fit(x_train,y_train, batch_size=16, epochs=30,verbose=1,validation_split=0.2,\n",
    "          callbacks=[EarlyStopping(patience=5,restore_best_weights=True)])"
   ]
  },
  {
   "cell_type": "code",
   "execution_count": 57,
   "id": "48885d2f",
   "metadata": {},
   "outputs": [
    {
     "data": {
      "text/plain": [
       "0.12226908384325526"
      ]
     },
     "execution_count": 57,
     "metadata": {},
     "output_type": "execute_result"
    }
   ],
   "source": [
    "predictions = model.predict(x_test)\n",
    "predictions = scaler.inverse_transform(predictions)\n",
    "rmse = np.sqrt(np.mean(predictions - y_test)**2)\n",
    "rmse"
   ]
  },
  {
   "cell_type": "code",
   "execution_count": 58,
   "id": "44426fa1",
   "metadata": {},
   "outputs": [
    {
     "name": "stdout",
     "output_type": "stream",
     "text": [
      "Epoch 1/100\n",
      "156/156 [==============================] - 22s 114ms/step - loss: 0.0035 - val_loss: 9.6660e-04\n",
      "Epoch 2/100\n",
      "156/156 [==============================] - 18s 112ms/step - loss: 7.9170e-04 - val_loss: 9.0532e-04\n",
      "Epoch 3/100\n",
      "156/156 [==============================] - 19s 123ms/step - loss: 7.4837e-04 - val_loss: 6.4763e-04\n",
      "Epoch 4/100\n",
      "156/156 [==============================] - 19s 121ms/step - loss: 6.3662e-04 - val_loss: 5.7859e-04\n",
      "Epoch 5/100\n",
      "156/156 [==============================] - 18s 116ms/step - loss: 5.6581e-04 - val_loss: 5.1784e-04\n",
      "Epoch 6/100\n",
      "156/156 [==============================] - 19s 121ms/step - loss: 5.4209e-04 - val_loss: 6.3697e-04\n",
      "Epoch 7/100\n",
      "156/156 [==============================] - 18s 118ms/step - loss: 4.8668e-04 - val_loss: 4.6295e-04\n",
      "Epoch 8/100\n",
      "156/156 [==============================] - 17s 109ms/step - loss: 4.2824e-04 - val_loss: 4.2506e-04\n",
      "Epoch 9/100\n",
      "156/156 [==============================] - 18s 113ms/step - loss: 4.6325e-04 - val_loss: 7.2758e-04\n",
      "Epoch 10/100\n",
      "156/156 [==============================] - 18s 117ms/step - loss: 3.9124e-04 - val_loss: 2.8404e-04\n",
      "Epoch 11/100\n",
      "156/156 [==============================] - 18s 117ms/step - loss: 3.2588e-04 - val_loss: 3.4419e-04\n",
      "Epoch 12/100\n",
      "156/156 [==============================] - 17s 112ms/step - loss: 3.3913e-04 - val_loss: 4.2684e-04\n",
      "Epoch 13/100\n",
      "156/156 [==============================] - 18s 116ms/step - loss: 2.8466e-04 - val_loss: 2.6163e-04\n",
      "Epoch 14/100\n",
      "156/156 [==============================] - 19s 123ms/step - loss: 2.8077e-04 - val_loss: 2.2569e-04\n",
      "Epoch 15/100\n",
      "156/156 [==============================] - 20s 126ms/step - loss: 2.8444e-04 - val_loss: 3.1465e-04\n",
      "Epoch 16/100\n",
      "156/156 [==============================] - 17s 111ms/step - loss: 2.6738e-04 - val_loss: 2.4941e-04\n",
      "Epoch 17/100\n",
      "156/156 [==============================] - 18s 116ms/step - loss: 3.2543e-04 - val_loss: 2.2267e-04\n",
      "Epoch 18/100\n",
      "156/156 [==============================] - 18s 117ms/step - loss: 3.3915e-04 - val_loss: 2.5893e-04\n",
      "Epoch 19/100\n",
      "156/156 [==============================] - 18s 116ms/step - loss: 2.4398e-04 - val_loss: 2.1186e-04\n",
      "Epoch 20/100\n",
      "156/156 [==============================] - 18s 112ms/step - loss: 2.3695e-04 - val_loss: 2.1804e-04\n",
      "Epoch 21/100\n",
      "156/156 [==============================] - 18s 115ms/step - loss: 2.5067e-04 - val_loss: 2.6399e-04\n",
      "Epoch 22/100\n",
      "156/156 [==============================] - 17s 111ms/step - loss: 2.4203e-04 - val_loss: 3.3032e-04\n",
      "Epoch 23/100\n",
      "156/156 [==============================] - 18s 117ms/step - loss: 2.3008e-04 - val_loss: 2.4672e-04\n",
      "Epoch 24/100\n",
      "156/156 [==============================] - 18s 115ms/step - loss: 2.3904e-04 - val_loss: 3.2078e-04\n"
     ]
    },
    {
     "data": {
      "text/plain": [
       "<keras.callbacks.History at 0x7fb5949493a0>"
      ]
     },
     "execution_count": 58,
     "metadata": {},
     "output_type": "execute_result"
    }
   ],
   "source": [
    "model = Sequential()\n",
    "model.add(LSTM(100, return_sequences=True, input_shape=(x_train.shape[1], 1)))\n",
    "model.add(LSTM(100, return_sequences=False))\n",
    "model.add(Dense(25))\n",
    "model.add(Dense(1))\n",
    "\n",
    "model.compile(optimizer='adam', loss='mean_squared_error')\n",
    "\n",
    "model.fit(x_train,y_train, batch_size=16, epochs=100,verbose=1,validation_split=0.2,\n",
    "          callbacks=[EarlyStopping(patience=5,restore_best_weights=True)])"
   ]
  },
  {
   "cell_type": "code",
   "execution_count": 59,
   "id": "aea60aac",
   "metadata": {},
   "outputs": [
    {
     "data": {
      "text/plain": [
       "0.0003000532393196943"
      ]
     },
     "execution_count": 59,
     "metadata": {},
     "output_type": "execute_result"
    }
   ],
   "source": [
    "predictions = model.predict(x_test)\n",
    "predictions = scaler.inverse_transform(predictions)\n",
    "rmse = np.sqrt(np.mean(predictions - y_test)**2)\n",
    "rmse"
   ]
  },
  {
   "cell_type": "markdown",
   "id": "ecacf13a",
   "metadata": {},
   "source": [
    "## saving best model"
   ]
  },
  {
   "cell_type": "code",
   "execution_count": null,
   "id": "abd5a338",
   "metadata": {},
   "outputs": [],
   "source": [
    "#saving best model"
   ]
  },
  {
   "cell_type": "code",
   "execution_count": 71,
   "id": "22ff0f02",
   "metadata": {},
   "outputs": [],
   "source": [
    "#import pickle\n",
    "#filename = 'model1.sav'\n",
    "#pickle.dump(model, open(filename, 'wb'))"
   ]
  },
  {
   "cell_type": "code",
   "execution_count": 64,
   "id": "f39f7d34",
   "metadata": {},
   "outputs": [
    {
     "data": {
      "text/plain": [
       "0.0003000532393196943"
      ]
     },
     "execution_count": 64,
     "metadata": {},
     "output_type": "execute_result"
    }
   ],
   "source": [
    "# load the model from disk\n",
    "loaded_model = pickle.load(open(filename, 'rb'))\n",
    "y_pred=loaded_model.predict(x_test)\n",
    "y_pred=scaler.inverse_transform(y_pred)\n",
    "rmse = np.sqrt(np.mean(y_pred - y_test)**2)\n",
    "rmse"
   ]
  },
  {
   "cell_type": "markdown",
   "id": "cfeea39e",
   "metadata": {},
   "source": [
    "## plotting pred"
   ]
  },
  {
   "cell_type": "code",
   "execution_count": 67,
   "id": "1a1366da",
   "metadata": {},
   "outputs": [
    {
     "data": {
      "text/html": [
       "<div>\n",
       "<style scoped>\n",
       "    .dataframe tbody tr th:only-of-type {\n",
       "        vertical-align: middle;\n",
       "    }\n",
       "\n",
       "    .dataframe tbody tr th {\n",
       "        vertical-align: top;\n",
       "    }\n",
       "\n",
       "    .dataframe thead th {\n",
       "        text-align: right;\n",
       "    }\n",
       "</style>\n",
       "<table border=\"1\" class=\"dataframe\">\n",
       "  <thead>\n",
       "    <tr style=\"text-align: right;\">\n",
       "      <th></th>\n",
       "      <th>actual</th>\n",
       "      <th>pred</th>\n",
       "    </tr>\n",
       "  </thead>\n",
       "  <tbody>\n",
       "    <tr>\n",
       "      <th>0</th>\n",
       "      <td>12.872649</td>\n",
       "      <td>13.046602</td>\n",
       "    </tr>\n",
       "    <tr>\n",
       "      <th>1</th>\n",
       "      <td>12.844728</td>\n",
       "      <td>12.904233</td>\n",
       "    </tr>\n",
       "    <tr>\n",
       "      <th>2</th>\n",
       "      <td>12.923844</td>\n",
       "      <td>12.879879</td>\n",
       "    </tr>\n",
       "    <tr>\n",
       "      <th>3</th>\n",
       "      <td>13.296154</td>\n",
       "      <td>12.970886</td>\n",
       "    </tr>\n",
       "    <tr>\n",
       "      <th>4</th>\n",
       "      <td>13.473001</td>\n",
       "      <td>13.368048</td>\n",
       "    </tr>\n",
       "    <tr>\n",
       "      <th>...</th>\n",
       "      <td>...</td>\n",
       "      <td>...</td>\n",
       "    </tr>\n",
       "    <tr>\n",
       "      <th>788</th>\n",
       "      <td>23.990000</td>\n",
       "      <td>23.657970</td>\n",
       "    </tr>\n",
       "    <tr>\n",
       "      <th>789</th>\n",
       "      <td>25.120001</td>\n",
       "      <td>24.065165</td>\n",
       "    </tr>\n",
       "    <tr>\n",
       "      <th>790</th>\n",
       "      <td>24.940001</td>\n",
       "      <td>25.578207</td>\n",
       "    </tr>\n",
       "    <tr>\n",
       "      <th>791</th>\n",
       "      <td>25.110001</td>\n",
       "      <td>24.542372</td>\n",
       "    </tr>\n",
       "    <tr>\n",
       "      <th>792</th>\n",
       "      <td>24.799999</td>\n",
       "      <td>25.206127</td>\n",
       "    </tr>\n",
       "  </tbody>\n",
       "</table>\n",
       "<p>793 rows × 2 columns</p>\n",
       "</div>"
      ],
      "text/plain": [
       "        actual       pred\n",
       "0    12.872649  13.046602\n",
       "1    12.844728  12.904233\n",
       "2    12.923844  12.879879\n",
       "3    13.296154  12.970886\n",
       "4    13.473001  13.368048\n",
       "..         ...        ...\n",
       "788  23.990000  23.657970\n",
       "789  25.120001  24.065165\n",
       "790  24.940001  25.578207\n",
       "791  25.110001  24.542372\n",
       "792  24.799999  25.206127\n",
       "\n",
       "[793 rows x 2 columns]"
      ]
     },
     "execution_count": 67,
     "metadata": {},
     "output_type": "execute_result"
    }
   ],
   "source": [
    "predict = pd.DataFrame(y_test).rename(columns={0:'actual'})\n",
    "predict['pred']=pd.DataFrame(y_pred)\n",
    "predict"
   ]
  },
  {
   "cell_type": "code",
   "execution_count": 68,
   "id": "a053a4ed",
   "metadata": {},
   "outputs": [
    {
     "name": "stderr",
     "output_type": "stream",
     "text": [
      "/tmp/ipykernel_6047/4035412964.py:4: SettingWithCopyWarning: \n",
      "A value is trying to be set on a copy of a slice from a DataFrame.\n",
      "Try using .loc[row_indexer,col_indexer] = value instead\n",
      "\n",
      "See the caveats in the documentation: https://pandas.pydata.org/pandas-docs/stable/user_guide/indexing.html#returning-a-view-versus-a-copy\n",
      "  validation['Predictions'] = y_pred\n"
     ]
    },
    {
     "data": {
      "image/png": "[encoded data removed]",
      "text/plain": [
       "<Figure size 1152x576 with 1 Axes>"
      ]
     },
     "metadata": {
      "needs_background": "light"
     },
     "output_type": "display_data"
    }
   ],
   "source": [
    "data = dados.filter(['Close'])\n",
    "#train = data[:training_data_len]\n",
    "validation = data[training_data_len:]\n",
    "validation['Predictions'] = y_pred\n",
    "plt.figure(figsize=(16,8))\n",
    "plt.title('Model')\n",
    "plt.xlabel('Date')\n",
    "plt.ylabel('Close Price USD ($)')\n",
    "#plt.plot(train)\n",
    "plt.plot(validation[['Close', 'Predictions']])\n",
    "plt.legend(['Val', 'Predictions'], loc='lower right')\n",
    "plt.show()"
   ]
  },
  {
   "cell_type": "code",
   "execution_count": null,
   "id": "71840037",
   "metadata": {},
   "outputs": [],
   "source": []
  },
  {
   "cell_type": "code",
   "execution_count": null,
   "id": "4d006ee8",
   "metadata": {},
   "outputs": [],
   "source": []
  }
 ],
 "metadata": {
  "kernelspec": {
   "display_name": "Python 3 (ipykernel)",
   "language": "python",
   "name": "python3"
  },
  "language_info": {
   "codemirror_mode": {
    "name": "ipython",
    "version": 3
   },
   "file_extension": ".py",
   "mimetype": "text/x-python",
   "name": "python",
   "nbconvert_exporter": "python",
   "pygments_lexer": "ipython3",
   "version": "3.8.12"
  },
  "toc": {
   "base_numbering": 1,
   "nav_menu": {},
   "number_sections": true,
   "sideBar": true,
   "skip_h1_title": false,
   "title_cell": "Table of Contents",
   "title_sidebar": "Contents",
   "toc_cell": false,
   "toc_position": {
    "height": "calc(100% - 180px)",
    "left": "10px",
    "top": "150px",
    "width": "273.188px"
   },
   "toc_section_display": true,
   "toc_window_display": true
  }
 },
 "nbformat": 4,
 "nbformat_minor": 5
}
