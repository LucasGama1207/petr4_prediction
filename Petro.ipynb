{
 "cells": [
  {
   "cell_type": "markdown",
   "id": "41c47c21",
   "metadata": {},
   "source": [
    "# Goals"
   ]
  },
  {
   "cell_type": "markdown",
   "id": "3ee9d377",
   "metadata": {},
   "source": [
    "- The main goal of this project is to make a prediction of stock prices of PETR4.\n",
    "- Additionally, I would like to work with 2-month predictions in order to figure out a way to find out nice opportunities for options on this stock. PETR4 options are amidst the most traded in the world.\n",
    "- An extension to this project would be to build a bot to trade this stock."
   ]
  },
  {
   "cell_type": "markdown",
   "id": "5e4d2af5",
   "metadata": {},
   "source": [
    "## How"
   ]
  },
  {
   "cell_type": "markdown",
   "id": "1dc40f71",
   "metadata": {},
   "source": [
    "- First I'm going to make use of time series with the daily stock prices, probably LSTM or bidirectional LSTM, which are the most relevant. \n",
    "- Maybe I could try to put another variable like international price of oil or other oil stocks."
   ]
  },
  {
   "cell_type": "markdown",
   "id": "76e0900e",
   "metadata": {},
   "source": [
    "# Getting Data"
   ]
  },
  {
   "cell_type": "code",
   "execution_count": 1,
   "id": "4037ff09",
   "metadata": {},
   "outputs": [],
   "source": [
    "#!pip install yfinance"
   ]
  },
  {
   "cell_type": "code",
   "execution_count": 41,
   "id": "b5393592",
   "metadata": {},
   "outputs": [],
   "source": [
    "import yfinance as yf\n",
    "import pandas as pd\n",
    "from tensorflow.keras.models import Sequential\n",
    "from tensorflow.keras.layers import Dense, SimpleRNN, Flatten, LSTM\n",
    "from tensorflow.keras.callbacks import EarlyStopping\n",
    "import math\n",
    "from sklearn.preprocessing import MinMaxScaler \n",
    "import numpy as np\n",
    "import matplotlib.pyplot as plt"
   ]
  },
  {
   "cell_type": "code",
   "execution_count": 2,
   "id": "ff8c76dc",
   "metadata": {},
   "outputs": [
    {
     "data": {
      "text/plain": [
       "yfinance.Ticker object <PETR4.SA>"
      ]
     },
     "execution_count": 2,
     "metadata": {},
     "output_type": "execute_result"
    }
   ],
   "source": [
    "papel = yf.Ticker('PETR4.SA')\n",
    "papel"
   ]
  },
  {
   "cell_type": "code",
   "execution_count": 3,
   "id": "6eb2ad8e",
   "metadata": {},
   "outputs": [],
   "source": [
    "dados= papel.history(start= '2007-01-01', end='2022-12-29')"
   ]
  },
  {
   "cell_type": "code",
   "execution_count": 4,
   "id": "471ea214",
   "metadata": {},
   "outputs": [
    {
     "name": "stdout",
     "output_type": "stream",
     "text": [
      "<class 'pandas.core.frame.DataFrame'>\n",
      "DatetimeIndex: 3966 entries, 2007-01-02 00:00:00-02:00 to 2022-12-28 00:00:00-03:00\n",
      "Data columns (total 7 columns):\n",
      " #   Column        Non-Null Count  Dtype  \n",
      "---  ------        --------------  -----  \n",
      " 0   Open          3966 non-null   float64\n",
      " 1   High          3966 non-null   float64\n",
      " 2   Low           3966 non-null   float64\n",
      " 3   Close         3966 non-null   float64\n",
      " 4   Volume        3966 non-null   int64  \n",
      " 5   Dividends     3966 non-null   float64\n",
      " 6   Stock Splits  3966 non-null   float64\n",
      "dtypes: float64(6), int64(1)\n",
      "memory usage: 247.9 KB\n"
     ]
    }
   ],
   "source": [
    "dados.info()"
   ]
  },
  {
   "cell_type": "markdown",
   "id": "598977a9",
   "metadata": {},
   "source": [
    "# Exploratory Analysis"
   ]
  },
  {
   "cell_type": "code",
   "execution_count": 5,
   "id": "ca0c399e",
   "metadata": {},
   "outputs": [],
   "source": [
    "# Close price through the years"
   ]
  },
  {
   "cell_type": "code",
   "execution_count": 6,
   "id": "09138cb1",
   "metadata": {},
   "outputs": [
    {
     "data": {
      "text/plain": [
       "<AxesSubplot:xlabel='Date'>"
      ]
     },
     "execution_count": 6,
     "metadata": {},
     "output_type": "execute_result"
    },
    {
     "data": {
      "image/png": "[encoded data removed]",
      "text/plain": [
       "<Figure size 432x288 with 1 Axes>"
      ]
     },
     "metadata": {
      "needs_background": "light"
     },
     "output_type": "display_data"
    }
   ],
   "source": [
    "dados['Close'].plot()"
   ]
  },
  {
   "cell_type": "code",
   "execution_count": 7,
   "id": "81eb4bf7",
   "metadata": {},
   "outputs": [],
   "source": [
    "# dividend distribution"
   ]
  },
  {
   "cell_type": "code",
   "execution_count": 8,
   "id": "221818d9",
   "metadata": {},
   "outputs": [
    {
     "data": {
      "text/html": [
       "<div>\n",
       "<style scoped>\n",
       "    .dataframe tbody tr th:only-of-type {\n",
       "        vertical-align: middle;\n",
       "    }\n",
       "\n",
       "    .dataframe tbody tr th {\n",
       "        vertical-align: top;\n",
       "    }\n",
       "\n",
       "    .dataframe thead th {\n",
       "        text-align: right;\n",
       "    }\n",
       "</style>\n",
       "<table border=\"1\" class=\"dataframe\">\n",
       "  <thead>\n",
       "    <tr style=\"text-align: right;\">\n",
       "      <th></th>\n",
       "      <th>Dividends</th>\n",
       "    </tr>\n",
       "    <tr>\n",
       "      <th>Date</th>\n",
       "      <th></th>\n",
       "    </tr>\n",
       "  </thead>\n",
       "  <tbody>\n",
       "    <tr>\n",
       "      <th>2007-01-02 00:00:00-02:00</th>\n",
       "      <td>0.2250</td>\n",
       "    </tr>\n",
       "    <tr>\n",
       "      <th>2007-04-03 00:00:00-03:00</th>\n",
       "      <td>0.1750</td>\n",
       "    </tr>\n",
       "    <tr>\n",
       "      <th>2007-08-20 00:00:00-03:00</th>\n",
       "      <td>0.2517</td>\n",
       "    </tr>\n",
       "    <tr>\n",
       "      <th>2007-10-08 00:00:00-03:00</th>\n",
       "      <td>0.2565</td>\n",
       "    </tr>\n",
       "    <tr>\n",
       "      <th>2008-01-14 00:00:00-02:00</th>\n",
       "      <td>0.1553</td>\n",
       "    </tr>\n",
       "  </tbody>\n",
       "</table>\n",
       "</div>"
      ],
      "text/plain": [
       "                           Dividends\n",
       "Date                                \n",
       "2007-01-02 00:00:00-02:00     0.2250\n",
       "2007-04-03 00:00:00-03:00     0.1750\n",
       "2007-08-20 00:00:00-03:00     0.2517\n",
       "2007-10-08 00:00:00-03:00     0.2565\n",
       "2008-01-14 00:00:00-02:00     0.1553"
      ]
     },
     "execution_count": 8,
     "metadata": {},
     "output_type": "execute_result"
    }
   ],
   "source": [
    "div=dados[['Dividends']]\n",
    "div=div[div['Dividends']>0]\n",
    "div.head()"
   ]
  },
  {
   "cell_type": "code",
   "execution_count": 9,
   "id": "9d9e5e5a",
   "metadata": {},
   "outputs": [
    {
     "data": {
      "text/plain": [
       "DatetimeIndex(['2007-01-02 00:00:00-02:00', '2007-04-03 00:00:00-03:00',\n",
       "               '2007-08-20 00:00:00-03:00', '2007-10-08 00:00:00-03:00',\n",
       "               '2008-01-14 00:00:00-02:00', '2008-04-07 00:00:00-03:00',\n",
       "               '2008-12-29 00:00:00-02:00', '2009-04-09 00:00:00-03:00',\n",
       "               '2009-07-06 00:00:00-03:00', '2009-10-01 00:00:00-03:00',\n",
       "               '2009-12-21 00:00:00-02:00', '2010-04-23 00:00:00-03:00',\n",
       "               '2010-05-24 00:00:00-03:00', '2010-08-02 00:00:00-03:00',\n",
       "               '2010-11-03 00:00:00-02:00', '2010-12-22 00:00:00-02:00',\n",
       "               '2011-03-22 00:00:00-03:00', '2011-04-29 00:00:00-03:00',\n",
       "               '2011-05-12 00:00:00-03:00', '2011-08-03 00:00:00-03:00',\n",
       "               '2011-11-14 00:00:00-02:00', '2012-01-03 00:00:00-02:00',\n",
       "               '2012-03-20 00:00:00-03:00', '2012-05-14 00:00:00-03:00',\n",
       "               '2013-04-30 00:00:00-03:00', '2014-04-03 00:00:00-03:00',\n",
       "               '2018-05-22 00:00:00-03:00', '2018-08-14 00:00:00-03:00',\n",
       "               '2018-11-22 00:00:00-02:00', '2018-12-26 00:00:00-02:00',\n",
       "               '2019-04-26 00:00:00-03:00', '2019-05-22 00:00:00-03:00',\n",
       "               '2019-08-13 00:00:00-03:00', '2019-11-12 00:00:00-03:00',\n",
       "               '2019-12-27 00:00:00-03:00', '2020-04-23 00:00:00-03:00',\n",
       "               '2020-04-28 00:00:00-03:00', '2020-07-23 00:00:00-03:00',\n",
       "               '2021-04-15 00:00:00-03:00', '2021-08-17 00:00:00-03:00',\n",
       "               '2021-12-02 00:00:00-03:00', '2022-04-14 00:00:00-03:00',\n",
       "               '2022-05-24 00:00:00-03:00', '2022-08-12 00:00:00-03:00',\n",
       "               '2022-11-22 00:00:00-03:00'],\n",
       "              dtype='datetime64[ns, America/Sao_Paulo]', name='Date', freq=None)"
      ]
     },
     "execution_count": 9,
     "metadata": {},
     "output_type": "execute_result"
    }
   ],
   "source": [
    "div.index"
   ]
  },
  {
   "cell_type": "code",
   "execution_count": 10,
   "id": "b6e62334",
   "metadata": {},
   "outputs": [],
   "source": [
    "#for date in div.index:\n",
    "    #print(date)"
   ]
  },
  {
   "cell_type": "code",
   "execution_count": 11,
   "id": "7a8f6839",
   "metadata": {},
   "outputs": [
    {
     "data": {
      "text/plain": [
       "Timestamp('2007-01-02 00:00:00-0200', tz='America/Sao_Paulo')"
      ]
     },
     "execution_count": 11,
     "metadata": {},
     "output_type": "execute_result"
    }
   ],
   "source": [
    "div.index[0]"
   ]
  },
  {
   "cell_type": "code",
   "execution_count": 12,
   "id": "1f2ed465",
   "metadata": {},
   "outputs": [
    {
     "data": {
      "text/plain": [
       "157"
      ]
     },
     "execution_count": 12,
     "metadata": {},
     "output_type": "execute_result"
    }
   ],
   "source": [
    "dados.index.get_loc(div.index[2])"
   ]
  },
  {
   "cell_type": "code",
   "execution_count": 13,
   "id": "6200f710",
   "metadata": {},
   "outputs": [
    {
     "data": {
      "text/plain": [
       "157"
      ]
     },
     "execution_count": 13,
     "metadata": {},
     "output_type": "execute_result"
    }
   ],
   "source": [
    "dados.index.get_loc('2007-08-20 00:00:00-03:00')"
   ]
  },
  {
   "cell_type": "code",
   "execution_count": 14,
   "id": "11e1d370",
   "metadata": {},
   "outputs": [
    {
     "data": {
      "text/plain": [
       "Open            8.221955e+00\n",
       "High            8.241330e+00\n",
       "Low             8.031730e+00\n",
       "Close           8.149740e+00\n",
       "Volume          2.473800e+07\n",
       "Dividends       2.517000e-01\n",
       "Stock Splits    0.000000e+00\n",
       "Name: 2007-08-20 00:00:00-03:00, dtype: float64"
      ]
     },
     "execution_count": 14,
     "metadata": {},
     "output_type": "execute_result"
    }
   ],
   "source": [
    "dados.iloc[157]"
   ]
  },
  {
   "cell_type": "code",
   "execution_count": 15,
   "id": "b32985b2",
   "metadata": {},
   "outputs": [],
   "source": [
    "locations_div=[]\n",
    "for data in div.index:\n",
    "    locations_div.append(dados.index.get_loc(data))"
   ]
  },
  {
   "cell_type": "code",
   "execution_count": 16,
   "id": "f4e081cb",
   "metadata": {},
   "outputs": [],
   "source": [
    "close_div=[]\n",
    "for loc in locations_div:\n",
    "    close_div.append(dados.iloc[loc]['Close'])"
   ]
  },
  {
   "cell_type": "code",
   "execution_count": 17,
   "id": "074df7a8",
   "metadata": {},
   "outputs": [],
   "source": [
    "div['Price']=close_div"
   ]
  },
  {
   "cell_type": "code",
   "execution_count": 18,
   "id": "0701331b",
   "metadata": {},
   "outputs": [],
   "source": [
    "div['DY']=div['Dividends']/div['Price']"
   ]
  },
  {
   "cell_type": "code",
   "execution_count": 19,
   "id": "68af12c4",
   "metadata": {},
   "outputs": [
    {
     "data": {
      "text/html": [
       "<div>\n",
       "<style scoped>\n",
       "    .dataframe tbody tr th:only-of-type {\n",
       "        vertical-align: middle;\n",
       "    }\n",
       "\n",
       "    .dataframe tbody tr th {\n",
       "        vertical-align: top;\n",
       "    }\n",
       "\n",
       "    .dataframe thead th {\n",
       "        text-align: right;\n",
       "    }\n",
       "</style>\n",
       "<table border=\"1\" class=\"dataframe\">\n",
       "  <thead>\n",
       "    <tr style=\"text-align: right;\">\n",
       "      <th></th>\n",
       "      <th>Dividends</th>\n",
       "      <th>Price</th>\n",
       "      <th>DY</th>\n",
       "    </tr>\n",
       "    <tr>\n",
       "      <th>Date</th>\n",
       "      <th></th>\n",
       "      <th></th>\n",
       "      <th></th>\n",
       "    </tr>\n",
       "  </thead>\n",
       "  <tbody>\n",
       "    <tr>\n",
       "      <th>2007-01-02 00:00:00-02:00</th>\n",
       "      <td>0.225000</td>\n",
       "      <td>8.701064</td>\n",
       "      <td>0.025859</td>\n",
       "    </tr>\n",
       "    <tr>\n",
       "      <th>2007-04-03 00:00:00-03:00</th>\n",
       "      <td>0.175000</td>\n",
       "      <td>7.908744</td>\n",
       "      <td>0.022127</td>\n",
       "    </tr>\n",
       "    <tr>\n",
       "      <th>2007-08-20 00:00:00-03:00</th>\n",
       "      <td>0.251700</td>\n",
       "      <td>8.149740</td>\n",
       "      <td>0.030884</td>\n",
       "    </tr>\n",
       "    <tr>\n",
       "      <th>2007-10-08 00:00:00-03:00</th>\n",
       "      <td>0.256500</td>\n",
       "      <td>10.987377</td>\n",
       "      <td>0.023345</td>\n",
       "    </tr>\n",
       "    <tr>\n",
       "      <th>2008-01-14 00:00:00-02:00</th>\n",
       "      <td>0.155300</td>\n",
       "      <td>14.462688</td>\n",
       "      <td>0.010738</td>\n",
       "    </tr>\n",
       "    <tr>\n",
       "      <th>2008-04-07 00:00:00-03:00</th>\n",
       "      <td>0.102600</td>\n",
       "      <td>14.037206</td>\n",
       "      <td>0.007309</td>\n",
       "    </tr>\n",
       "    <tr>\n",
       "      <th>2008-12-29 00:00:00-02:00</th>\n",
       "      <td>0.042600</td>\n",
       "      <td>8.069036</td>\n",
       "      <td>0.005279</td>\n",
       "    </tr>\n",
       "    <tr>\n",
       "      <th>2009-04-09 00:00:00-03:00</th>\n",
       "      <td>0.351600</td>\n",
       "      <td>11.181715</td>\n",
       "      <td>0.031444</td>\n",
       "    </tr>\n",
       "    <tr>\n",
       "      <th>2009-07-06 00:00:00-03:00</th>\n",
       "      <td>0.300000</td>\n",
       "      <td>10.998055</td>\n",
       "      <td>0.027278</td>\n",
       "    </tr>\n",
       "    <tr>\n",
       "      <th>2009-10-01 00:00:00-03:00</th>\n",
       "      <td>0.200000</td>\n",
       "      <td>12.537810</td>\n",
       "      <td>0.015952</td>\n",
       "    </tr>\n",
       "    <tr>\n",
       "      <th>2009-12-21 00:00:00-02:00</th>\n",
       "      <td>0.200000</td>\n",
       "      <td>13.032520</td>\n",
       "      <td>0.015346</td>\n",
       "    </tr>\n",
       "    <tr>\n",
       "      <th>2010-04-23 00:00:00-03:00</th>\n",
       "      <td>0.133200</td>\n",
       "      <td>12.637945</td>\n",
       "      <td>0.010540</td>\n",
       "    </tr>\n",
       "    <tr>\n",
       "      <th>2010-05-24 00:00:00-03:00</th>\n",
       "      <td>0.170000</td>\n",
       "      <td>10.154363</td>\n",
       "      <td>0.016742</td>\n",
       "    </tr>\n",
       "    <tr>\n",
       "      <th>2010-08-02 00:00:00-03:00</th>\n",
       "      <td>0.170000</td>\n",
       "      <td>10.702162</td>\n",
       "      <td>0.015885</td>\n",
       "    </tr>\n",
       "    <tr>\n",
       "      <th>2010-11-03 00:00:00-02:00</th>\n",
       "      <td>0.140000</td>\n",
       "      <td>10.214262</td>\n",
       "      <td>0.013706</td>\n",
       "    </tr>\n",
       "    <tr>\n",
       "      <th>2010-12-22 00:00:00-02:00</th>\n",
       "      <td>0.200000</td>\n",
       "      <td>9.806134</td>\n",
       "      <td>0.020395</td>\n",
       "    </tr>\n",
       "    <tr>\n",
       "      <th>2011-03-22 00:00:00-03:00</th>\n",
       "      <td>0.173420</td>\n",
       "      <td>10.791514</td>\n",
       "      <td>0.016070</td>\n",
       "    </tr>\n",
       "    <tr>\n",
       "      <th>2011-04-29 00:00:00-03:00</th>\n",
       "      <td>0.126500</td>\n",
       "      <td>9.869990</td>\n",
       "      <td>0.012817</td>\n",
       "    </tr>\n",
       "    <tr>\n",
       "      <th>2011-05-12 00:00:00-03:00</th>\n",
       "      <td>0.213600</td>\n",
       "      <td>9.567517</td>\n",
       "      <td>0.022326</td>\n",
       "    </tr>\n",
       "    <tr>\n",
       "      <th>2011-08-03 00:00:00-03:00</th>\n",
       "      <td>0.207300</td>\n",
       "      <td>9.221042</td>\n",
       "      <td>0.022481</td>\n",
       "    </tr>\n",
       "    <tr>\n",
       "      <th>2011-11-14 00:00:00-02:00</th>\n",
       "      <td>0.200000</td>\n",
       "      <td>8.680129</td>\n",
       "      <td>0.023041</td>\n",
       "    </tr>\n",
       "    <tr>\n",
       "      <th>2012-01-03 00:00:00-02:00</th>\n",
       "      <td>0.177300</td>\n",
       "      <td>8.947166</td>\n",
       "      <td>0.019816</td>\n",
       "    </tr>\n",
       "    <tr>\n",
       "      <th>2012-03-20 00:00:00-03:00</th>\n",
       "      <td>0.124400</td>\n",
       "      <td>9.739527</td>\n",
       "      <td>0.012773</td>\n",
       "    </tr>\n",
       "    <tr>\n",
       "      <th>2012-05-14 00:00:00-03:00</th>\n",
       "      <td>0.200000</td>\n",
       "      <td>7.663025</td>\n",
       "      <td>0.026099</td>\n",
       "    </tr>\n",
       "    <tr>\n",
       "      <th>2013-04-30 00:00:00-03:00</th>\n",
       "      <td>0.386170</td>\n",
       "      <td>8.302523</td>\n",
       "      <td>0.046512</td>\n",
       "    </tr>\n",
       "    <tr>\n",
       "      <th>2014-04-03 00:00:00-03:00</th>\n",
       "      <td>0.967200</td>\n",
       "      <td>6.786125</td>\n",
       "      <td>0.142526</td>\n",
       "    </tr>\n",
       "    <tr>\n",
       "      <th>2018-05-22 00:00:00-03:00</th>\n",
       "      <td>0.050000</td>\n",
       "      <td>10.910424</td>\n",
       "      <td>0.004583</td>\n",
       "    </tr>\n",
       "    <tr>\n",
       "      <th>2018-08-14 00:00:00-03:00</th>\n",
       "      <td>0.050000</td>\n",
       "      <td>8.844011</td>\n",
       "      <td>0.005654</td>\n",
       "    </tr>\n",
       "    <tr>\n",
       "      <th>2018-11-22 00:00:00-02:00</th>\n",
       "      <td>0.100000</td>\n",
       "      <td>11.176881</td>\n",
       "      <td>0.008947</td>\n",
       "    </tr>\n",
       "    <tr>\n",
       "      <th>2018-12-26 00:00:00-02:00</th>\n",
       "      <td>0.716563</td>\n",
       "      <td>9.966169</td>\n",
       "      <td>0.071900</td>\n",
       "    </tr>\n",
       "    <tr>\n",
       "      <th>2019-04-26 00:00:00-03:00</th>\n",
       "      <td>0.019494</td>\n",
       "      <td>12.535457</td>\n",
       "      <td>0.001555</td>\n",
       "    </tr>\n",
       "    <tr>\n",
       "      <th>2019-05-22 00:00:00-03:00</th>\n",
       "      <td>0.100000</td>\n",
       "      <td>12.139669</td>\n",
       "      <td>0.008237</td>\n",
       "    </tr>\n",
       "    <tr>\n",
       "      <th>2019-08-13 00:00:00-03:00</th>\n",
       "      <td>0.200000</td>\n",
       "      <td>12.002375</td>\n",
       "      <td>0.016663</td>\n",
       "    </tr>\n",
       "    <tr>\n",
       "      <th>2019-11-12 00:00:00-03:00</th>\n",
       "      <td>0.200925</td>\n",
       "      <td>14.063768</td>\n",
       "      <td>0.014287</td>\n",
       "    </tr>\n",
       "    <tr>\n",
       "      <th>2019-12-27 00:00:00-03:00</th>\n",
       "      <td>0.421942</td>\n",
       "      <td>14.495887</td>\n",
       "      <td>0.029108</td>\n",
       "    </tr>\n",
       "    <tr>\n",
       "      <th>2020-04-23 00:00:00-03:00</th>\n",
       "      <td>0.000449</td>\n",
       "      <td>8.050848</td>\n",
       "      <td>0.000056</td>\n",
       "    </tr>\n",
       "    <tr>\n",
       "      <th>2020-04-28 00:00:00-03:00</th>\n",
       "      <td>0.000449</td>\n",
       "      <td>8.193564</td>\n",
       "      <td>0.000055</td>\n",
       "    </tr>\n",
       "    <tr>\n",
       "      <th>2020-07-23 00:00:00-03:00</th>\n",
       "      <td>0.000461</td>\n",
       "      <td>10.720721</td>\n",
       "      <td>0.000043</td>\n",
       "    </tr>\n",
       "    <tr>\n",
       "      <th>2021-04-15 00:00:00-03:00</th>\n",
       "      <td>0.792834</td>\n",
       "      <td>11.336847</td>\n",
       "      <td>0.069934</td>\n",
       "    </tr>\n",
       "    <tr>\n",
       "      <th>2021-08-17 00:00:00-03:00</th>\n",
       "      <td>1.609911</td>\n",
       "      <td>14.061769</td>\n",
       "      <td>0.114489</td>\n",
       "    </tr>\n",
       "    <tr>\n",
       "      <th>2021-12-02 00:00:00-03:00</th>\n",
       "      <td>3.250487</td>\n",
       "      <td>16.573692</td>\n",
       "      <td>0.196123</td>\n",
       "    </tr>\n",
       "    <tr>\n",
       "      <th>2022-04-14 00:00:00-03:00</th>\n",
       "      <td>2.970249</td>\n",
       "      <td>19.992018</td>\n",
       "      <td>0.148572</td>\n",
       "    </tr>\n",
       "    <tr>\n",
       "      <th>2022-05-24 00:00:00-03:00</th>\n",
       "      <td>3.715490</td>\n",
       "      <td>22.513762</td>\n",
       "      <td>0.165032</td>\n",
       "    </tr>\n",
       "    <tr>\n",
       "      <th>2022-08-12 00:00:00-03:00</th>\n",
       "      <td>6.732003</td>\n",
       "      <td>27.744591</td>\n",
       "      <td>0.242642</td>\n",
       "    </tr>\n",
       "    <tr>\n",
       "      <th>2022-11-22 00:00:00-03:00</th>\n",
       "      <td>3.348900</td>\n",
       "      <td>23.330000</td>\n",
       "      <td>0.143545</td>\n",
       "    </tr>\n",
       "  </tbody>\n",
       "</table>\n",
       "</div>"
      ],
      "text/plain": [
       "                           Dividends      Price        DY\n",
       "Date                                                     \n",
       "2007-01-02 00:00:00-02:00   0.225000   8.701064  0.025859\n",
       "2007-04-03 00:00:00-03:00   0.175000   7.908744  0.022127\n",
       "2007-08-20 00:00:00-03:00   0.251700   8.149740  0.030884\n",
       "2007-10-08 00:00:00-03:00   0.256500  10.987377  0.023345\n",
       "2008-01-14 00:00:00-02:00   0.155300  14.462688  0.010738\n",
       "2008-04-07 00:00:00-03:00   0.102600  14.037206  0.007309\n",
       "2008-12-29 00:00:00-02:00   0.042600   8.069036  0.005279\n",
       "2009-04-09 00:00:00-03:00   0.351600  11.181715  0.031444\n",
       "2009-07-06 00:00:00-03:00   0.300000  10.998055  0.027278\n",
       "2009-10-01 00:00:00-03:00   0.200000  12.537810  0.015952\n",
       "2009-12-21 00:00:00-02:00   0.200000  13.032520  0.015346\n",
       "2010-04-23 00:00:00-03:00   0.133200  12.637945  0.010540\n",
       "2010-05-24 00:00:00-03:00   0.170000  10.154363  0.016742\n",
       "2010-08-02 00:00:00-03:00   0.170000  10.702162  0.015885\n",
       "2010-11-03 00:00:00-02:00   0.140000  10.214262  0.013706\n",
       "2010-12-22 00:00:00-02:00   0.200000   9.806134  0.020395\n",
       "2011-03-22 00:00:00-03:00   0.173420  10.791514  0.016070\n",
       "2011-04-29 00:00:00-03:00   0.126500   9.869990  0.012817\n",
       "2011-05-12 00:00:00-03:00   0.213600   9.567517  0.022326\n",
       "2011-08-03 00:00:00-03:00   0.207300   9.221042  0.022481\n",
       "2011-11-14 00:00:00-02:00   0.200000   8.680129  0.023041\n",
       "2012-01-03 00:00:00-02:00   0.177300   8.947166  0.019816\n",
       "2012-03-20 00:00:00-03:00   0.124400   9.739527  0.012773\n",
       "2012-05-14 00:00:00-03:00   0.200000   7.663025  0.026099\n",
       "2013-04-30 00:00:00-03:00   0.386170   8.302523  0.046512\n",
       "2014-04-03 00:00:00-03:00   0.967200   6.786125  0.142526\n",
       "2018-05-22 00:00:00-03:00   0.050000  10.910424  0.004583\n",
       "2018-08-14 00:00:00-03:00   0.050000   8.844011  0.005654\n",
       "2018-11-22 00:00:00-02:00   0.100000  11.176881  0.008947\n",
       "2018-12-26 00:00:00-02:00   0.716563   9.966169  0.071900\n",
       "2019-04-26 00:00:00-03:00   0.019494  12.535457  0.001555\n",
       "2019-05-22 00:00:00-03:00   0.100000  12.139669  0.008237\n",
       "2019-08-13 00:00:00-03:00   0.200000  12.002375  0.016663\n",
       "2019-11-12 00:00:00-03:00   0.200925  14.063768  0.014287\n",
       "2019-12-27 00:00:00-03:00   0.421942  14.495887  0.029108\n",
       "2020-04-23 00:00:00-03:00   0.000449   8.050848  0.000056\n",
       "2020-04-28 00:00:00-03:00   0.000449   8.193564  0.000055\n",
       "2020-07-23 00:00:00-03:00   0.000461  10.720721  0.000043\n",
       "2021-04-15 00:00:00-03:00   0.792834  11.336847  0.069934\n",
       "2021-08-17 00:00:00-03:00   1.609911  14.061769  0.114489\n",
       "2021-12-02 00:00:00-03:00   3.250487  16.573692  0.196123\n",
       "2022-04-14 00:00:00-03:00   2.970249  19.992018  0.148572\n",
       "2022-05-24 00:00:00-03:00   3.715490  22.513762  0.165032\n",
       "2022-08-12 00:00:00-03:00   6.732003  27.744591  0.242642\n",
       "2022-11-22 00:00:00-03:00   3.348900  23.330000  0.143545"
      ]
     },
     "execution_count": 19,
     "metadata": {},
     "output_type": "execute_result"
    }
   ],
   "source": [
    "div"
   ]
  },
  {
   "cell_type": "code",
   "execution_count": 20,
   "id": "5306e653",
   "metadata": {},
   "outputs": [
    {
     "data": {
      "text/plain": [
       "<AxesSubplot:xlabel='Date'>"
      ]
     },
     "execution_count": 20,
     "metadata": {},
     "output_type": "execute_result"
    },
    {
     "data": {
      "image/png": "[encoded data removed]",
      "text/plain": [
       "<Figure size 432x288 with 1 Axes>"
      ]
     },
     "metadata": {
      "needs_background": "light"
     },
     "output_type": "display_data"
    }
   ],
   "source": [
    "div['DY'].plot()"
   ]
  },
  {
   "cell_type": "code",
   "execution_count": 21,
   "id": "72e57c4c",
   "metadata": {},
   "outputs": [],
   "source": [
    "#!git add .\n",
    "#!git commit -m 'petro analysis'\n",
    "#!git push origin main"
   ]
  },
  {
   "cell_type": "markdown",
   "id": "0c88dfb6",
   "metadata": {},
   "source": [
    "# Model example"
   ]
  },
  {
   "cell_type": "markdown",
   "id": "c0b7d989",
   "metadata": {},
   "source": [
    "## Previous time series project"
   ]
  },
  {
   "cell_type": "markdown",
   "id": "dd214910",
   "metadata": {},
   "source": [
    "- for information, i copied this from a previous rnn project"
   ]
  },
  {
   "cell_type": "code",
   "execution_count": 22,
   "id": "c4ff323b",
   "metadata": {},
   "outputs": [
    {
     "name": "stderr",
     "output_type": "stream",
     "text": [
      "2023-01-12 10:41:19.484069: W tensorflow/stream_executor/platform/default/dso_loader.cc:64] Could not load dynamic library 'libcudart.so.11.0'; dlerror: libcudart.so.11.0: cannot open shared object file: No such file or directory\n",
      "2023-01-12 10:41:19.484144: I tensorflow/stream_executor/cuda/cudart_stub.cc:29] Ignore above cudart dlerror if you do not have a GPU set up on your machine.\n"
     ]
    },
    {
     "name": "stdout",
     "output_type": "stream",
     "text": [
      "Model: \"sequential\"\n",
      "_________________________________________________________________\n",
      " Layer (type)                Output Shape              Param #   \n",
      "=================================================================\n",
      " simple_rnn (SimpleRNN)      (None, 20)                440       \n",
      "                                                                 \n",
      " dense (Dense)               (None, 10)                210       \n",
      "                                                                 \n",
      " dense_1 (Dense)             (None, 1)                 11        \n",
      "                                                                 \n",
      "=================================================================\n",
      "Total params: 661\n",
      "Trainable params: 661\n",
      "Non-trainable params: 0\n",
      "_________________________________________________________________\n"
     ]
    },
    {
     "name": "stderr",
     "output_type": "stream",
     "text": [
      "2023-01-12 10:41:27.458575: W tensorflow/stream_executor/platform/default/dso_loader.cc:64] Could not load dynamic library 'libcuda.so.1'; dlerror: libcuda.so.1: cannot open shared object file: No such file or directory\n",
      "2023-01-12 10:41:27.458706: W tensorflow/stream_executor/cuda/cuda_driver.cc:269] failed call to cuInit: UNKNOWN ERROR (303)\n",
      "2023-01-12 10:41:27.458916: I tensorflow/stream_executor/cuda/cuda_diagnostics.cc:156] kernel driver does not appear to be running on this host (DESKTOP-23E8V41): /proc/driver/nvidia/version does not exist\n",
      "2023-01-12 10:41:27.459227: I tensorflow/core/platform/cpu_feature_guard.cc:151] This TensorFlow binary is optimized with oneAPI Deep Neural Network Library (oneDNN) to use the following CPU instructions in performance-critical operations:  AVX2 FMA\n",
      "To enable them in other operations, rebuild TensorFlow with the appropriate compiler flags.\n"
     ]
    }
   ],
   "source": [
    "from tensorflow.keras.models import Sequential\n",
    "from tensorflow.keras.layers import Dense, SimpleRNN, Flatten, LSTM\n",
    "from tensorflow.keras.callbacks import EarlyStopping\n",
    "\n",
    "def initialize_model():\n",
    "    model = Sequential()\n",
    "    model.add(SimpleRNN(units=20,activation='tanh',input_shape=(3966, 1)))\n",
    "    model.add(Dense(10,activation='tanh'))\n",
    "    model.add(Dense(1,activation='linear'))\n",
    "    \n",
    "    return model\n",
    "\n",
    "model=initialize_model()\n",
    "model.summary()"
   ]
  },
  {
   "cell_type": "code",
   "execution_count": 23,
   "id": "bdcaca7b",
   "metadata": {},
   "outputs": [
    {
     "data": {
      "text/plain": [
       "\"\\ndef compile_model(model):\\n    model.compile(loss='mse',optimizer='rmsprop',metrics=['mae'])\\n    return model\\nmodel=compile_model(model)\\n\\nmodel = compile_model(initialize_model())\\n\\nmodel.fit(X_train,y_train, batch_size=32, epochs=30,verbose=1,validation_split=0.2,\\n          callbacks=[EarlyStopping(patience=5,restore_best_weights=True)]\\n)\\n\""
      ]
     },
     "execution_count": 23,
     "metadata": {},
     "output_type": "execute_result"
    }
   ],
   "source": [
    "'''\n",
    "def compile_model(model):\n",
    "    model.compile(loss='mse',optimizer='rmsprop',metrics=['mae'])\n",
    "    return model\n",
    "model=compile_model(model)\n",
    "\n",
    "model = compile_model(initialize_model())\n",
    "\n",
    "model.fit(X_train,y_train, batch_size=32, epochs=30,verbose=1,validation_split=0.2,\n",
    "          callbacks=[EarlyStopping(patience=5,restore_best_weights=True)]\n",
    ")\n",
    "'''"
   ]
  },
  {
   "cell_type": "markdown",
   "id": "db57b5d8",
   "metadata": {},
   "source": [
    "## LSTM for stocks"
   ]
  },
  {
   "cell_type": "markdown",
   "id": "7c0fa91d",
   "metadata": {},
   "source": [
    "- Found this on the internet. Very good base example of a LSTM stock prediction."
   ]
  },
  {
   "cell_type": "code",
   "execution_count": 24,
   "id": "9f75c4f6",
   "metadata": {},
   "outputs": [],
   "source": [
    "#https://medium.com/the-handbook-of-coding-in-finance/stock-prices-prediction-using-long-short-term-memory-lstm-model-in-python-734dd1ed6827"
   ]
  },
  {
   "cell_type": "code",
   "execution_count": 25,
   "id": "c7961d95",
   "metadata": {},
   "outputs": [],
   "source": [
    "import math\n",
    "from sklearn.preprocessing import MinMaxScaler \n",
    "import numpy as np\n",
    "\n",
    "close_prices = dados['Close']\n",
    "values = close_prices.values\n",
    "training_data_len = math.ceil(len(values)* 0.8)\n",
    "\n",
    "scaler = MinMaxScaler(feature_range=(0,1))\n",
    "scaled_data = scaler.fit_transform(values.reshape(-1,1))\n",
    "train_data = scaled_data[0: training_data_len, :]\n",
    "\n",
    "\n",
    "#train set\n",
    "\n",
    "x_train = []\n",
    "y_train = []\n",
    "\n",
    "for i in range(60, len(train_data)):\n",
    "    x_train.append(train_data[i-60:i, 0])\n",
    "    y_train.append(train_data[i, 0])\n",
    "    \n",
    "x_train, y_train = np.array(x_train), np.array(y_train)\n",
    "x_train = np.reshape(x_train, (x_train.shape[0], x_train.shape[1], 1))\n",
    "\n",
    "#test set\n",
    "test_data = scaled_data[training_data_len-60: , : ]\n",
    "x_test = []\n",
    "y_test = values[training_data_len:]\n",
    "\n",
    "for i in range(60, len(test_data)):\n",
    "  x_test.append(test_data[i-60:i, 0])\n",
    "\n",
    "x_test = np.array(x_test)\n",
    "x_test = np.reshape(x_test, (x_test.shape[0], x_test.shape[1], 1))"
   ]
  },
  {
   "cell_type": "code",
   "execution_count": 26,
   "id": "62c186ce",
   "metadata": {},
   "outputs": [
    {
     "name": "stdout",
     "output_type": "stream",
     "text": [
      "Model: \"sequential_1\"\n",
      "_________________________________________________________________\n",
      " Layer (type)                Output Shape              Param #   \n",
      "=================================================================\n",
      " lstm (LSTM)                 (None, 60, 100)           40800     \n",
      "                                                                 \n",
      " lstm_1 (LSTM)               (None, 100)               80400     \n",
      "                                                                 \n",
      " dense_2 (Dense)             (None, 25)                2525      \n",
      "                                                                 \n",
      " dense_3 (Dense)             (None, 1)                 26        \n",
      "                                                                 \n",
      "=================================================================\n",
      "Total params: 123,751\n",
      "Trainable params: 123,751\n",
      "Non-trainable params: 0\n",
      "_________________________________________________________________\n"
     ]
    }
   ],
   "source": [
    "#model\n",
    "model = Sequential()\n",
    "model.add(LSTM(100, return_sequences=True, input_shape=(x_train.shape[1], 1)))\n",
    "model.add(LSTM(100, return_sequences=False))\n",
    "model.add(Dense(25))\n",
    "model.add(Dense(1))\n",
    "model.summary()"
   ]
  },
  {
   "cell_type": "code",
   "execution_count": 27,
   "id": "a9c0318e",
   "metadata": {},
   "outputs": [
    {
     "name": "stdout",
     "output_type": "stream",
     "text": [
      "Epoch 1/3\n",
      "98/98 [==============================] - 17s 127ms/step - loss: 0.0024\n",
      "Epoch 2/3\n",
      "98/98 [==============================] - 11s 116ms/step - loss: 2.6413e-04\n",
      "Epoch 3/3\n",
      "98/98 [==============================] - 12s 117ms/step - loss: 2.5152e-04\n"
     ]
    },
    {
     "data": {
      "text/plain": [
       "<keras.callbacks.History at 0x7fc487b41730>"
      ]
     },
     "execution_count": 27,
     "metadata": {},
     "output_type": "execute_result"
    }
   ],
   "source": [
    "model.compile(optimizer='adam', loss='mean_squared_error')\n",
    "model.fit(x_train, y_train, batch_size= 32, epochs=3)"
   ]
  },
  {
   "cell_type": "code",
   "execution_count": 28,
   "id": "f9bdbab9",
   "metadata": {},
   "outputs": [
    {
     "data": {
      "text/plain": [
       "0.4298680535180572"
      ]
     },
     "execution_count": 28,
     "metadata": {},
     "output_type": "execute_result"
    }
   ],
   "source": [
    "predictions = model.predict(x_test)\n",
    "predictions = scaler.inverse_transform(predictions)\n",
    "rmse = np.sqrt(np.mean(predictions - y_test)**2)\n",
    "rmse"
   ]
  },
  {
   "cell_type": "code",
   "execution_count": 29,
   "id": "423939d5",
   "metadata": {},
   "outputs": [
    {
     "name": "stderr",
     "output_type": "stream",
     "text": [
      "/tmp/ipykernel_475/2686380006.py:6: SettingWithCopyWarning: \n",
      "A value is trying to be set on a copy of a slice from a DataFrame.\n",
      "Try using .loc[row_indexer,col_indexer] = value instead\n",
      "\n",
      "See the caveats in the documentation: https://pandas.pydata.org/pandas-docs/stable/user_guide/indexing.html#returning-a-view-versus-a-copy\n",
      "  validation['Predictions'] = predictions\n"
     ]
    },
    {
     "data": {
      "image/png": "[encoded data removed]",
      "text/plain": [
       "<Figure size 1152x576 with 1 Axes>"
      ]
     },
     "metadata": {
      "needs_background": "light"
     },
     "output_type": "display_data"
    }
   ],
   "source": [
    "import matplotlib.pyplot as plt\n",
    "\n",
    "data = dados.filter(['Close'])\n",
    "train = data[:training_data_len]\n",
    "validation = data[training_data_len:]\n",
    "validation['Predictions'] = predictions\n",
    "plt.figure(figsize=(16,8))\n",
    "plt.title('Model')\n",
    "plt.xlabel('Date')\n",
    "plt.ylabel('Close Price USD ($)')\n",
    "plt.plot(train)\n",
    "plt.plot(validation[['Close', 'Predictions']])\n",
    "plt.legend(['Train', 'Val', 'Predictions'], loc='lower right')\n",
    "plt.show()"
   ]
  },
  {
   "cell_type": "code",
   "execution_count": 30,
   "id": "f69472e5",
   "metadata": {},
   "outputs": [
    {
     "name": "stderr",
     "output_type": "stream",
     "text": [
      "/tmp/ipykernel_475/1626216995.py:4: SettingWithCopyWarning: \n",
      "A value is trying to be set on a copy of a slice from a DataFrame.\n",
      "Try using .loc[row_indexer,col_indexer] = value instead\n",
      "\n",
      "See the caveats in the documentation: https://pandas.pydata.org/pandas-docs/stable/user_guide/indexing.html#returning-a-view-versus-a-copy\n",
      "  validation['Predictions'] = predictions\n"
     ]
    },
    {
     "data": {
      "image/png": "[encoded data removed]",
      "text/plain": [
       "<Figure size 1152x576 with 1 Axes>"
      ]
     },
     "metadata": {
      "needs_background": "light"
     },
     "output_type": "display_data"
    }
   ],
   "source": [
    "data = dados.filter(['Close'])\n",
    "#train = data[:training_data_len]\n",
    "validation = data[training_data_len:]\n",
    "validation['Predictions'] = predictions\n",
    "plt.figure(figsize=(16,8))\n",
    "plt.title('Model')\n",
    "plt.xlabel('Date')\n",
    "plt.ylabel('Close Price USD ($)')\n",
    "#plt.plot(train)\n",
    "plt.plot(validation[['Close', 'Predictions']])\n",
    "plt.legend(['Val', 'Predictions'], loc='lower right')\n",
    "plt.show()"
   ]
  },
  {
   "cell_type": "code",
   "execution_count": 31,
   "id": "b0210437",
   "metadata": {},
   "outputs": [],
   "source": [
    "#according to comments there is data leakage in the scaling process."
   ]
  },
  {
   "cell_type": "markdown",
   "id": "aefa5991",
   "metadata": {},
   "source": [
    "# Fixing Data leaking"
   ]
  },
  {
   "cell_type": "code",
   "execution_count": 13,
   "id": "da9eea0b",
   "metadata": {},
   "outputs": [],
   "source": [
    "import math\n",
    "from sklearn.preprocessing import MinMaxScaler \n",
    "import numpy as np\n",
    "\n",
    "close_prices = dados['Close']\n",
    "values = close_prices.values\n",
    "training_data_len = math.ceil(len(values)* 0.8)\n",
    "\n",
    "values=values.reshape(-1,1)\n",
    "train_values=values[0: training_data_len]\n",
    "\n",
    "scaler = MinMaxScaler(feature_range=(0,1))\n",
    "train_data = scaler.fit_transform(train_values)\n",
    "\n",
    "x_train = []\n",
    "y_train = []\n",
    "\n",
    "for i in range(60, len(train_data)):\n",
    "    x_train.append(train_data[i-60:i, 0])\n",
    "    y_train.append(train_data[i, 0])\n",
    "    \n",
    "x_train, y_train = np.array(x_train), np.array(y_train)\n",
    "x_train = np.reshape(x_train, (x_train.shape[0], x_train.shape[1], 1))"
   ]
  },
  {
   "cell_type": "code",
   "execution_count": 14,
   "id": "4f94a67b",
   "metadata": {},
   "outputs": [],
   "source": [
    "test_values=values[training_data_len-60:]\n",
    "\n",
    "test_data = scaler.transform(test_values)\n",
    "x_test = []\n",
    "y_test = values[training_data_len:]\n",
    "\n",
    "for i in range(60, len(test_data)):\n",
    "  x_test.append(test_data[i-60:i, 0])\n",
    "\n",
    "x_test = np.array(x_test)\n",
    "x_test = np.reshape(x_test, (x_test.shape[0], x_test.shape[1], 1))"
   ]
  },
  {
   "cell_type": "code",
   "execution_count": 36,
   "id": "e7755cbd",
   "metadata": {},
   "outputs": [
    {
     "data": {
      "text/plain": [
       "(793, 60, 1)"
      ]
     },
     "execution_count": 36,
     "metadata": {},
     "output_type": "execute_result"
    }
   ],
   "source": [
    "x_test.shape"
   ]
  },
  {
   "cell_type": "code",
   "execution_count": 37,
   "id": "e63f3230",
   "metadata": {},
   "outputs": [
    {
     "data": {
      "text/plain": [
       "(793, 1)"
      ]
     },
     "execution_count": 37,
     "metadata": {},
     "output_type": "execute_result"
    }
   ],
   "source": [
    "y_test.shape"
   ]
  },
  {
   "cell_type": "code",
   "execution_count": 38,
   "id": "11b397d9",
   "metadata": {},
   "outputs": [
    {
     "name": "stdout",
     "output_type": "stream",
     "text": [
      "Epoch 1/3\n",
      "98/98 [==============================] - 18s 140ms/step - loss: 0.0062\n",
      "Epoch 2/3\n",
      "98/98 [==============================] - 12s 119ms/step - loss: 8.9274e-04\n",
      "Epoch 3/3\n",
      "98/98 [==============================] - 12s 118ms/step - loss: 8.2907e-04\n"
     ]
    },
    {
     "data": {
      "text/plain": [
       "<keras.callbacks.History at 0x7fc484155160>"
      ]
     },
     "execution_count": 38,
     "metadata": {},
     "output_type": "execute_result"
    }
   ],
   "source": [
    "model = Sequential()\n",
    "model.add(LSTM(100, return_sequences=True, input_shape=(x_train.shape[1], 1)))\n",
    "model.add(LSTM(100, return_sequences=False))\n",
    "model.add(Dense(25))\n",
    "model.add(Dense(1))\n",
    "\n",
    "model.compile(optimizer='adam', loss='mean_squared_error')\n",
    "model.fit(x_train, y_train, batch_size= 32, epochs=3)"
   ]
  },
  {
   "cell_type": "code",
   "execution_count": 39,
   "id": "a611688d",
   "metadata": {},
   "outputs": [
    {
     "data": {
      "text/plain": [
       "0.3701809694306998"
      ]
     },
     "execution_count": 39,
     "metadata": {},
     "output_type": "execute_result"
    }
   ],
   "source": [
    "predictions = model.predict(x_test)\n",
    "predictions = scaler.inverse_transform(predictions)\n",
    "rmse = np.sqrt(np.mean(predictions - y_test)**2)\n",
    "rmse"
   ]
  },
  {
   "cell_type": "code",
   "execution_count": 40,
   "id": "e6c91870",
   "metadata": {},
   "outputs": [
    {
     "name": "stderr",
     "output_type": "stream",
     "text": [
      "/tmp/ipykernel_475/4044787029.py:4: SettingWithCopyWarning: \n",
      "A value is trying to be set on a copy of a slice from a DataFrame.\n",
      "Try using .loc[row_indexer,col_indexer] = value instead\n",
      "\n",
      "See the caveats in the documentation: https://pandas.pydata.org/pandas-docs/stable/user_guide/indexing.html#returning-a-view-versus-a-copy\n",
      "  validation['Predictions'] = predictions\n"
     ]
    },
    {
     "data": {
      "image/png": "[encoded data removed]",
      "text/plain": [
       "<Figure size 1152x576 with 1 Axes>"
      ]
     },
     "metadata": {
      "needs_background": "light"
     },
     "output_type": "display_data"
    }
   ],
   "source": [
    "data = dados.filter(['Close'])\n",
    "train = data[:training_data_len]\n",
    "validation = data[training_data_len:]\n",
    "validation['Predictions'] = predictions\n",
    "plt.figure(figsize=(16,8))\n",
    "plt.title('Model')\n",
    "plt.xlabel('Date')\n",
    "plt.ylabel('Close Price USD ($)')\n",
    "plt.plot(train)\n",
    "plt.plot(validation[['Close', 'Predictions']])\n",
    "plt.legend(['Train', 'Val', 'Predictions'], loc='lower right')\n",
    "plt.show()"
   ]
  },
  {
   "cell_type": "code",
   "execution_count": 41,
   "id": "bc666b5d",
   "metadata": {},
   "outputs": [
    {
     "name": "stderr",
     "output_type": "stream",
     "text": [
      "/tmp/ipykernel_475/1626216995.py:4: SettingWithCopyWarning: \n",
      "A value is trying to be set on a copy of a slice from a DataFrame.\n",
      "Try using .loc[row_indexer,col_indexer] = value instead\n",
      "\n",
      "See the caveats in the documentation: https://pandas.pydata.org/pandas-docs/stable/user_guide/indexing.html#returning-a-view-versus-a-copy\n",
      "  validation['Predictions'] = predictions\n"
     ]
    },
    {
     "data": {
      "image/png": "[encoded data removed]",
      "text/plain": [
       "<Figure size 1152x576 with 1 Axes>"
      ]
     },
     "metadata": {
      "needs_background": "light"
     },
     "output_type": "display_data"
    }
   ],
   "source": [
    "data = dados.filter(['Close'])\n",
    "#train = data[:training_data_len]\n",
    "validation = data[training_data_len:]\n",
    "validation['Predictions'] = predictions\n",
    "plt.figure(figsize=(16,8))\n",
    "plt.title('Model')\n",
    "plt.xlabel('Date')\n",
    "plt.ylabel('Close Price USD ($)')\n",
    "#plt.plot(train)\n",
    "plt.plot(validation[['Close', 'Predictions']])\n",
    "plt.legend(['Val', 'Predictions'], loc='lower right')\n",
    "plt.show()"
   ]
  },
  {
   "cell_type": "code",
   "execution_count": 42,
   "id": "7c027c47",
   "metadata": {},
   "outputs": [],
   "source": [
    "#looks the same to me. But I'd say its better to not leak data."
   ]
  },
  {
   "cell_type": "code",
   "execution_count": 43,
   "id": "2a147570",
   "metadata": {},
   "outputs": [],
   "source": [
    "#!git add .\n",
    "#!git commit -m 'first lstm pred'\n",
    "#!git push origin main"
   ]
  },
  {
   "cell_type": "markdown",
   "id": "f3e23b8f",
   "metadata": {},
   "source": [
    "# Baseline model"
   ]
  },
  {
   "cell_type": "markdown",
   "id": "9dcb27e6",
   "metadata": {},
   "source": [
    "- I've figured out how to start building up a model with LSTM\n",
    "- Now, let's find a baseline to compare how good this actually is\n",
    "- An idea of baseline is to say that the price on d+1 is going to be the same price on d+0"
   ]
  },
  {
   "cell_type": "code",
   "execution_count": 44,
   "id": "9a0287f2",
   "metadata": {},
   "outputs": [
    {
     "data": {
      "text/html": [
       "<div>\n",
       "<style scoped>\n",
       "    .dataframe tbody tr th:only-of-type {\n",
       "        vertical-align: middle;\n",
       "    }\n",
       "\n",
       "    .dataframe tbody tr th {\n",
       "        vertical-align: top;\n",
       "    }\n",
       "\n",
       "    .dataframe thead th {\n",
       "        text-align: right;\n",
       "    }\n",
       "</style>\n",
       "<table border=\"1\" class=\"dataframe\">\n",
       "  <thead>\n",
       "    <tr style=\"text-align: right;\">\n",
       "      <th></th>\n",
       "      <th>d+0</th>\n",
       "    </tr>\n",
       "  </thead>\n",
       "  <tbody>\n",
       "    <tr>\n",
       "      <th>0</th>\n",
       "      <td>12.872649</td>\n",
       "    </tr>\n",
       "    <tr>\n",
       "      <th>1</th>\n",
       "      <td>12.844728</td>\n",
       "    </tr>\n",
       "    <tr>\n",
       "      <th>2</th>\n",
       "      <td>12.923843</td>\n",
       "    </tr>\n",
       "    <tr>\n",
       "      <th>3</th>\n",
       "      <td>13.296153</td>\n",
       "    </tr>\n",
       "    <tr>\n",
       "      <th>4</th>\n",
       "      <td>13.473003</td>\n",
       "    </tr>\n",
       "    <tr>\n",
       "      <th>...</th>\n",
       "      <td>...</td>\n",
       "    </tr>\n",
       "    <tr>\n",
       "      <th>788</th>\n",
       "      <td>23.990000</td>\n",
       "    </tr>\n",
       "    <tr>\n",
       "      <th>789</th>\n",
       "      <td>25.120001</td>\n",
       "    </tr>\n",
       "    <tr>\n",
       "      <th>790</th>\n",
       "      <td>24.940001</td>\n",
       "    </tr>\n",
       "    <tr>\n",
       "      <th>791</th>\n",
       "      <td>25.110001</td>\n",
       "    </tr>\n",
       "    <tr>\n",
       "      <th>792</th>\n",
       "      <td>24.799999</td>\n",
       "    </tr>\n",
       "  </tbody>\n",
       "</table>\n",
       "<p>793 rows × 1 columns</p>\n",
       "</div>"
      ],
      "text/plain": [
       "           d+0\n",
       "0    12.872649\n",
       "1    12.844728\n",
       "2    12.923843\n",
       "3    13.296153\n",
       "4    13.473003\n",
       "..         ...\n",
       "788  23.990000\n",
       "789  25.120001\n",
       "790  24.940001\n",
       "791  25.110001\n",
       "792  24.799999\n",
       "\n",
       "[793 rows x 1 columns]"
      ]
     },
     "execution_count": 44,
     "metadata": {},
     "output_type": "execute_result"
    }
   ],
   "source": [
    "baseline = pd.DataFrame(y_test).rename(columns={0:'d+0'})\n",
    "baseline"
   ]
  },
  {
   "cell_type": "code",
   "execution_count": 45,
   "id": "5f79bec6",
   "metadata": {},
   "outputs": [],
   "source": [
    "baseline['d-1']=pd.DataFrame(dados['Close'].values[-794:-1])"
   ]
  },
  {
   "cell_type": "code",
   "execution_count": 46,
   "id": "96227fd8",
   "metadata": {},
   "outputs": [
    {
     "data": {
      "text/html": [
       "<div>\n",
       "<style scoped>\n",
       "    .dataframe tbody tr th:only-of-type {\n",
       "        vertical-align: middle;\n",
       "    }\n",
       "\n",
       "    .dataframe tbody tr th {\n",
       "        vertical-align: top;\n",
       "    }\n",
       "\n",
       "    .dataframe thead th {\n",
       "        text-align: right;\n",
       "    }\n",
       "</style>\n",
       "<table border=\"1\" class=\"dataframe\">\n",
       "  <thead>\n",
       "    <tr style=\"text-align: right;\">\n",
       "      <th></th>\n",
       "      <th>d+0</th>\n",
       "      <th>d-1</th>\n",
       "    </tr>\n",
       "  </thead>\n",
       "  <tbody>\n",
       "    <tr>\n",
       "      <th>0</th>\n",
       "      <td>12.872649</td>\n",
       "      <td>12.998303</td>\n",
       "    </tr>\n",
       "    <tr>\n",
       "      <th>1</th>\n",
       "      <td>12.844728</td>\n",
       "      <td>12.872649</td>\n",
       "    </tr>\n",
       "    <tr>\n",
       "      <th>2</th>\n",
       "      <td>12.923843</td>\n",
       "      <td>12.844728</td>\n",
       "    </tr>\n",
       "    <tr>\n",
       "      <th>3</th>\n",
       "      <td>13.296153</td>\n",
       "      <td>12.923843</td>\n",
       "    </tr>\n",
       "    <tr>\n",
       "      <th>4</th>\n",
       "      <td>13.473003</td>\n",
       "      <td>13.296153</td>\n",
       "    </tr>\n",
       "    <tr>\n",
       "      <th>...</th>\n",
       "      <td>...</td>\n",
       "      <td>...</td>\n",
       "    </tr>\n",
       "    <tr>\n",
       "      <th>788</th>\n",
       "      <td>23.990000</td>\n",
       "      <td>23.570000</td>\n",
       "    </tr>\n",
       "    <tr>\n",
       "      <th>789</th>\n",
       "      <td>25.120001</td>\n",
       "      <td>23.990000</td>\n",
       "    </tr>\n",
       "    <tr>\n",
       "      <th>790</th>\n",
       "      <td>24.940001</td>\n",
       "      <td>25.120001</td>\n",
       "    </tr>\n",
       "    <tr>\n",
       "      <th>791</th>\n",
       "      <td>25.110001</td>\n",
       "      <td>24.940001</td>\n",
       "    </tr>\n",
       "    <tr>\n",
       "      <th>792</th>\n",
       "      <td>24.799999</td>\n",
       "      <td>25.110001</td>\n",
       "    </tr>\n",
       "  </tbody>\n",
       "</table>\n",
       "<p>793 rows × 2 columns</p>\n",
       "</div>"
      ],
      "text/plain": [
       "           d+0        d-1\n",
       "0    12.872649  12.998303\n",
       "1    12.844728  12.872649\n",
       "2    12.923843  12.844728\n",
       "3    13.296153  12.923843\n",
       "4    13.473003  13.296153\n",
       "..         ...        ...\n",
       "788  23.990000  23.570000\n",
       "789  25.120001  23.990000\n",
       "790  24.940001  25.120001\n",
       "791  25.110001  24.940001\n",
       "792  24.799999  25.110001\n",
       "\n",
       "[793 rows x 2 columns]"
      ]
     },
     "execution_count": 46,
     "metadata": {},
     "output_type": "execute_result"
    }
   ],
   "source": [
    "baseline"
   ]
  },
  {
   "cell_type": "markdown",
   "id": "76007caf",
   "metadata": {},
   "source": [
    "## calculate metrics to beat"
   ]
  },
  {
   "cell_type": "code",
   "execution_count": 47,
   "id": "7355dfa6",
   "metadata": {},
   "outputs": [
    {
     "data": {
      "text/plain": [
       "0.4619846356177066"
      ]
     },
     "execution_count": 47,
     "metadata": {},
     "output_type": "execute_result"
    }
   ],
   "source": [
    "rmse_base = np.sqrt(np.mean((baseline['d+0']-baseline['d-1'])**2))\n",
    "rmse_base"
   ]
  },
  {
   "cell_type": "code",
   "execution_count": 48,
   "id": "a05d35e9",
   "metadata": {},
   "outputs": [],
   "source": [
    "#!git add .\n",
    "#!git commit -m 'baseline'\n",
    "#!git push origin main"
   ]
  },
  {
   "cell_type": "markdown",
   "id": "bc708c70",
   "metadata": {},
   "source": [
    "# Tuning the model"
   ]
  },
  {
   "cell_type": "code",
   "execution_count": 52,
   "id": "5e842f04",
   "metadata": {},
   "outputs": [
    {
     "name": "stdout",
     "output_type": "stream",
     "text": [
      "Epoch 1/30\n",
      "78/78 [==============================] - 20s 187ms/step - loss: 0.0118 - val_loss: 0.0011\n",
      "Epoch 2/30\n",
      "78/78 [==============================] - 11s 140ms/step - loss: 9.2286e-04 - val_loss: 9.8158e-04\n",
      "Epoch 3/30\n",
      "78/78 [==============================] - 10s 131ms/step - loss: 8.4345e-04 - val_loss: 8.9050e-04\n",
      "Epoch 4/30\n",
      "78/78 [==============================] - 10s 129ms/step - loss: 7.4385e-04 - val_loss: 7.7596e-04\n",
      "Epoch 5/30\n",
      "78/78 [==============================] - 10s 132ms/step - loss: 7.6381e-04 - val_loss: 8.0452e-04\n",
      "Epoch 6/30\n",
      "78/78 [==============================] - 10s 129ms/step - loss: 6.8358e-04 - val_loss: 6.4221e-04\n",
      "Epoch 7/30\n",
      "78/78 [==============================] - 10s 133ms/step - loss: 6.4111e-04 - val_loss: 6.1409e-04\n",
      "Epoch 8/30\n",
      "78/78 [==============================] - 10s 131ms/step - loss: 5.8217e-04 - val_loss: 5.6382e-04\n",
      "Epoch 9/30\n",
      "78/78 [==============================] - 10s 130ms/step - loss: 5.8851e-04 - val_loss: 6.2490e-04\n",
      "Epoch 10/30\n",
      "78/78 [==============================] - 11s 137ms/step - loss: 5.3344e-04 - val_loss: 4.7923e-04\n",
      "Epoch 11/30\n",
      "78/78 [==============================] - 11s 140ms/step - loss: 4.9170e-04 - val_loss: 5.7881e-04\n",
      "Epoch 12/30\n",
      "78/78 [==============================] - 11s 139ms/step - loss: 4.6402e-04 - val_loss: 5.2362e-04\n",
      "Epoch 13/30\n",
      "78/78 [==============================] - 12s 148ms/step - loss: 4.5469e-04 - val_loss: 7.2881e-04\n",
      "Epoch 14/30\n",
      "78/78 [==============================] - 11s 141ms/step - loss: 5.1547e-04 - val_loss: 4.1132e-04\n",
      "Epoch 15/30\n",
      "78/78 [==============================] - 10s 135ms/step - loss: 4.1175e-04 - val_loss: 3.9358e-04\n",
      "Epoch 16/30\n",
      "78/78 [==============================] - 10s 132ms/step - loss: 3.8914e-04 - val_loss: 4.0949e-04\n",
      "Epoch 17/30\n",
      "78/78 [==============================] - 10s 132ms/step - loss: 4.0024e-04 - val_loss: 3.2079e-04\n",
      "Epoch 18/30\n",
      "78/78 [==============================] - 11s 137ms/step - loss: 3.5680e-04 - val_loss: 3.5654e-04\n",
      "Epoch 19/30\n",
      "78/78 [==============================] - 11s 139ms/step - loss: 3.3919e-04 - val_loss: 4.7631e-04\n",
      "Epoch 20/30\n",
      "78/78 [==============================] - 11s 140ms/step - loss: 3.5869e-04 - val_loss: 3.3181e-04\n",
      "Epoch 21/30\n",
      "78/78 [==============================] - 11s 139ms/step - loss: 3.0231e-04 - val_loss: 2.5889e-04\n",
      "Epoch 22/30\n",
      "78/78 [==============================] - 11s 138ms/step - loss: 2.7910e-04 - val_loss: 2.6099e-04\n",
      "Epoch 23/30\n",
      "78/78 [==============================] - 10s 133ms/step - loss: 2.9920e-04 - val_loss: 2.9943e-04\n",
      "Epoch 24/30\n",
      "78/78 [==============================] - 10s 134ms/step - loss: 2.6575e-04 - val_loss: 2.3994e-04\n",
      "Epoch 25/30\n",
      "78/78 [==============================] - 11s 145ms/step - loss: 2.4778e-04 - val_loss: 2.1980e-04\n",
      "Epoch 26/30\n",
      "78/78 [==============================] - 10s 131ms/step - loss: 2.4754e-04 - val_loss: 2.1382e-04\n",
      "Epoch 27/30\n",
      "78/78 [==============================] - 10s 130ms/step - loss: 2.6407e-04 - val_loss: 4.4832e-04\n",
      "Epoch 28/30\n",
      "78/78 [==============================] - 11s 148ms/step - loss: 3.3301e-04 - val_loss: 2.1327e-04\n",
      "Epoch 29/30\n",
      "78/78 [==============================] - 12s 155ms/step - loss: 2.5821e-04 - val_loss: 2.4003e-04\n",
      "Epoch 30/30\n",
      "78/78 [==============================] - 11s 135ms/step - loss: 2.6387e-04 - val_loss: 2.9849e-04\n"
     ]
    },
    {
     "data": {
      "text/plain": [
       "<keras.callbacks.History at 0x7fb5d04daee0>"
      ]
     },
     "execution_count": 52,
     "metadata": {},
     "output_type": "execute_result"
    }
   ],
   "source": [
    "model = Sequential()\n",
    "model.add(LSTM(100, return_sequences=True, input_shape=(x_train.shape[1], 1)))\n",
    "model.add(LSTM(100, return_sequences=False))\n",
    "model.add(Dense(25))\n",
    "model.add(Dense(1))\n",
    "\n",
    "model.compile(optimizer='adam', loss='mean_squared_error')\n",
    "\n",
    "model.fit(x_train,y_train, batch_size=32, epochs=30,verbose=1,validation_split=0.2,\n",
    "          callbacks=[EarlyStopping(patience=5,restore_best_weights=True)])"
   ]
  },
  {
   "cell_type": "code",
   "execution_count": 53,
   "id": "a98f4e81",
   "metadata": {},
   "outputs": [
    {
     "data": {
      "text/plain": [
       "0.35588165249529885"
      ]
     },
     "execution_count": 53,
     "metadata": {},
     "output_type": "execute_result"
    }
   ],
   "source": [
    "predictions = model.predict(x_test)\n",
    "predictions = scaler.inverse_transform(predictions)\n",
    "rmse = np.sqrt(np.mean(predictions - y_test)**2)\n",
    "rmse"
   ]
  },
  {
   "cell_type": "code",
   "execution_count": 54,
   "id": "2f09f0d2",
   "metadata": {},
   "outputs": [
    {
     "name": "stdout",
     "output_type": "stream",
     "text": [
      "Epoch 1/100\n",
      "78/78 [==============================] - 15s 144ms/step - loss: 0.0089 - val_loss: 0.0014\n",
      "Epoch 2/100\n",
      "78/78 [==============================] - 10s 129ms/step - loss: 8.8703e-04 - val_loss: 0.0010\n",
      "Epoch 3/100\n",
      "78/78 [==============================] - 10s 129ms/step - loss: 8.5167e-04 - val_loss: 9.0434e-04\n",
      "Epoch 4/100\n",
      "78/78 [==============================] - 11s 138ms/step - loss: 7.8797e-04 - val_loss: 9.0318e-04\n",
      "Epoch 5/100\n",
      "78/78 [==============================] - 10s 131ms/step - loss: 7.2772e-04 - val_loss: 7.4551e-04\n",
      "Epoch 6/100\n",
      "78/78 [==============================] - 10s 131ms/step - loss: 6.3948e-04 - val_loss: 7.5316e-04\n",
      "Epoch 7/100\n",
      "78/78 [==============================] - 10s 130ms/step - loss: 6.7882e-04 - val_loss: 6.0381e-04\n",
      "Epoch 8/100\n",
      "78/78 [==============================] - 10s 130ms/step - loss: 5.8213e-04 - val_loss: 5.6239e-04\n",
      "Epoch 9/100\n",
      "78/78 [==============================] - 10s 131ms/step - loss: 5.4426e-04 - val_loss: 5.0237e-04\n",
      "Epoch 10/100\n",
      "78/78 [==============================] - 10s 130ms/step - loss: 5.0656e-04 - val_loss: 6.2501e-04\n",
      "Epoch 11/100\n",
      "78/78 [==============================] - 10s 129ms/step - loss: 5.5524e-04 - val_loss: 5.0266e-04\n",
      "Epoch 12/100\n",
      "78/78 [==============================] - 10s 130ms/step - loss: 4.3641e-04 - val_loss: 4.3418e-04\n",
      "Epoch 13/100\n",
      "78/78 [==============================] - 10s 131ms/step - loss: 4.1551e-04 - val_loss: 3.7272e-04\n",
      "Epoch 14/100\n",
      "78/78 [==============================] - 10s 130ms/step - loss: 3.8186e-04 - val_loss: 3.4360e-04\n",
      "Epoch 15/100\n",
      "78/78 [==============================] - 11s 140ms/step - loss: 3.8073e-04 - val_loss: 3.2211e-04\n",
      "Epoch 16/100\n",
      "78/78 [==============================] - 10s 129ms/step - loss: 3.5545e-04 - val_loss: 3.2634e-04\n",
      "Epoch 17/100\n",
      "78/78 [==============================] - 10s 131ms/step - loss: 3.1719e-04 - val_loss: 2.9220e-04\n",
      "Epoch 18/100\n",
      "78/78 [==============================] - 10s 132ms/step - loss: 3.5218e-04 - val_loss: 3.4428e-04\n",
      "Epoch 19/100\n",
      "78/78 [==============================] - 11s 138ms/step - loss: 3.0848e-04 - val_loss: 2.6857e-04\n",
      "Epoch 20/100\n",
      "78/78 [==============================] - 11s 144ms/step - loss: 2.8822e-04 - val_loss: 3.1527e-04\n",
      "Epoch 21/100\n",
      "78/78 [==============================] - 11s 135ms/step - loss: 3.5352e-04 - val_loss: 2.4300e-04\n",
      "Epoch 22/100\n",
      "78/78 [==============================] - 10s 131ms/step - loss: 2.8733e-04 - val_loss: 2.7374e-04\n",
      "Epoch 23/100\n",
      "78/78 [==============================] - 10s 131ms/step - loss: 2.6466e-04 - val_loss: 4.1409e-04\n",
      "Epoch 24/100\n",
      "78/78 [==============================] - 11s 140ms/step - loss: 2.8154e-04 - val_loss: 2.4214e-04\n",
      "Epoch 25/100\n",
      "78/78 [==============================] - 10s 129ms/step - loss: 2.5030e-04 - val_loss: 2.2583e-04\n",
      "Epoch 26/100\n",
      "78/78 [==============================] - 10s 133ms/step - loss: 2.3815e-04 - val_loss: 2.3349e-04\n",
      "Epoch 27/100\n",
      "78/78 [==============================] - 11s 139ms/step - loss: 2.4540e-04 - val_loss: 2.3834e-04\n",
      "Epoch 28/100\n",
      "78/78 [==============================] - 10s 130ms/step - loss: 2.4584e-04 - val_loss: 2.1148e-04\n",
      "Epoch 29/100\n",
      "78/78 [==============================] - 10s 129ms/step - loss: 2.4912e-04 - val_loss: 3.0036e-04\n",
      "Epoch 30/100\n",
      "78/78 [==============================] - 10s 132ms/step - loss: 2.2952e-04 - val_loss: 3.0841e-04\n",
      "Epoch 31/100\n",
      "78/78 [==============================] - 10s 128ms/step - loss: 2.3475e-04 - val_loss: 2.0939e-04\n",
      "Epoch 32/100\n",
      "78/78 [==============================] - 10s 131ms/step - loss: 2.6084e-04 - val_loss: 2.9069e-04\n",
      "Epoch 33/100\n",
      "78/78 [==============================] - 10s 128ms/step - loss: 2.4196e-04 - val_loss: 2.5660e-04\n",
      "Epoch 34/100\n",
      "78/78 [==============================] - 11s 136ms/step - loss: 2.2241e-04 - val_loss: 2.2183e-04\n",
      "Epoch 35/100\n",
      "78/78 [==============================] - 10s 131ms/step - loss: 2.5678e-04 - val_loss: 2.7818e-04\n",
      "Epoch 36/100\n",
      "78/78 [==============================] - 10s 129ms/step - loss: 2.3278e-04 - val_loss: 4.2467e-04\n"
     ]
    },
    {
     "data": {
      "text/plain": [
       "<keras.callbacks.History at 0x7fb5b82ede80>"
      ]
     },
     "execution_count": 54,
     "metadata": {},
     "output_type": "execute_result"
    }
   ],
   "source": [
    "model = Sequential()\n",
    "model.add(LSTM(100, return_sequences=True, input_shape=(x_train.shape[1], 1)))\n",
    "model.add(LSTM(100, return_sequences=False))\n",
    "model.add(Dense(25))\n",
    "model.add(Dense(1))\n",
    "\n",
    "model.compile(optimizer='adam', loss='mean_squared_error')\n",
    "\n",
    "model.fit(x_train,y_train, batch_size=32, epochs=100,verbose=1,validation_split=0.2,\n",
    "          callbacks=[EarlyStopping(patience=5,restore_best_weights=True)])"
   ]
  },
  {
   "cell_type": "code",
   "execution_count": 55,
   "id": "d7b35963",
   "metadata": {},
   "outputs": [
    {
     "data": {
      "text/plain": [
       "0.11015652648136866"
      ]
     },
     "execution_count": 55,
     "metadata": {},
     "output_type": "execute_result"
    }
   ],
   "source": [
    "predictions = model.predict(x_test)\n",
    "predictions = scaler.inverse_transform(predictions)\n",
    "rmse = np.sqrt(np.mean(predictions - y_test)**2)\n",
    "rmse"
   ]
  },
  {
   "cell_type": "code",
   "execution_count": 56,
   "id": "07ec0d4a",
   "metadata": {},
   "outputs": [
    {
     "name": "stdout",
     "output_type": "stream",
     "text": [
      "Epoch 1/30\n",
      "156/156 [==============================] - 22s 114ms/step - loss: 0.0042 - val_loss: 9.1746e-04\n",
      "Epoch 2/30\n",
      "156/156 [==============================] - 17s 107ms/step - loss: 8.2186e-04 - val_loss: 0.0012\n",
      "Epoch 3/30\n",
      "156/156 [==============================] - 17s 108ms/step - loss: 8.4441e-04 - val_loss: 6.1654e-04\n",
      "Epoch 4/30\n",
      "156/156 [==============================] - 17s 107ms/step - loss: 6.5513e-04 - val_loss: 5.4560e-04\n",
      "Epoch 5/30\n",
      "156/156 [==============================] - 17s 107ms/step - loss: 5.9395e-04 - val_loss: 5.2214e-04\n",
      "Epoch 6/30\n",
      "156/156 [==============================] - 17s 106ms/step - loss: 5.2290e-04 - val_loss: 5.4951e-04\n",
      "Epoch 7/30\n",
      "156/156 [==============================] - 17s 108ms/step - loss: 4.7423e-04 - val_loss: 7.7003e-04\n",
      "Epoch 8/30\n",
      "156/156 [==============================] - 17s 107ms/step - loss: 5.4118e-04 - val_loss: 3.5692e-04\n",
      "Epoch 9/30\n",
      "156/156 [==============================] - 17s 107ms/step - loss: 3.8944e-04 - val_loss: 3.1891e-04\n",
      "Epoch 10/30\n",
      "156/156 [==============================] - 17s 108ms/step - loss: 3.7167e-04 - val_loss: 2.8433e-04\n",
      "Epoch 11/30\n",
      "156/156 [==============================] - 17s 106ms/step - loss: 3.0791e-04 - val_loss: 2.6818e-04\n",
      "Epoch 12/30\n",
      "156/156 [==============================] - 17s 107ms/step - loss: 2.8761e-04 - val_loss: 3.5390e-04\n",
      "Epoch 13/30\n",
      "156/156 [==============================] - 17s 107ms/step - loss: 3.0784e-04 - val_loss: 2.3115e-04\n",
      "Epoch 14/30\n",
      "156/156 [==============================] - 17s 108ms/step - loss: 2.9052e-04 - val_loss: 2.6281e-04\n",
      "Epoch 15/30\n",
      "156/156 [==============================] - 17s 106ms/step - loss: 2.6920e-04 - val_loss: 2.6753e-04\n",
      "Epoch 16/30\n",
      "156/156 [==============================] - 17s 107ms/step - loss: 2.9895e-04 - val_loss: 2.1379e-04\n",
      "Epoch 17/30\n",
      "156/156 [==============================] - 17s 107ms/step - loss: 2.6055e-04 - val_loss: 2.1510e-04\n",
      "Epoch 18/30\n",
      "156/156 [==============================] - 17s 108ms/step - loss: 3.1724e-04 - val_loss: 2.5935e-04\n",
      "Epoch 19/30\n",
      "156/156 [==============================] - 17s 107ms/step - loss: 2.3922e-04 - val_loss: 2.1149e-04\n",
      "Epoch 20/30\n",
      "156/156 [==============================] - 17s 107ms/step - loss: 2.4299e-04 - val_loss: 2.0771e-04\n",
      "Epoch 21/30\n",
      "156/156 [==============================] - 17s 106ms/step - loss: 2.6597e-04 - val_loss: 3.8409e-04\n",
      "Epoch 22/30\n",
      "156/156 [==============================] - 17s 106ms/step - loss: 2.8711e-04 - val_loss: 2.3967e-04\n",
      "Epoch 23/30\n",
      "156/156 [==============================] - 17s 107ms/step - loss: 2.6820e-04 - val_loss: 2.0979e-04\n",
      "Epoch 24/30\n",
      "156/156 [==============================] - 17s 108ms/step - loss: 2.2493e-04 - val_loss: 2.7662e-04\n",
      "Epoch 25/30\n",
      "156/156 [==============================] - 17s 112ms/step - loss: 3.1345e-04 - val_loss: 2.4366e-04\n"
     ]
    },
    {
     "data": {
      "text/plain": [
       "<keras.callbacks.History at 0x7fb597d0efa0>"
      ]
     },
     "execution_count": 56,
     "metadata": {},
     "output_type": "execute_result"
    }
   ],
   "source": [
    "model = Sequential()\n",
    "model.add(LSTM(100, return_sequences=True, input_shape=(x_train.shape[1], 1)))\n",
    "model.add(LSTM(100, return_sequences=False))\n",
    "model.add(Dense(25))\n",
    "model.add(Dense(1))\n",
    "\n",
    "model.compile(optimizer='adam', loss='mean_squared_error')\n",
    "\n",
    "model.fit(x_train,y_train, batch_size=16, epochs=30,verbose=1,validation_split=0.2,\n",
    "          callbacks=[EarlyStopping(patience=5,restore_best_weights=True)])"
   ]
  },
  {
   "cell_type": "code",
   "execution_count": 57,
   "id": "683dd8ec",
   "metadata": {},
   "outputs": [
    {
     "data": {
      "text/plain": [
       "0.12226908384325526"
      ]
     },
     "execution_count": 57,
     "metadata": {},
     "output_type": "execute_result"
    }
   ],
   "source": [
    "predictions = model.predict(x_test)\n",
    "predictions = scaler.inverse_transform(predictions)\n",
    "rmse = np.sqrt(np.mean(predictions - y_test)**2)\n",
    "rmse"
   ]
  },
  {
   "cell_type": "code",
   "execution_count": 49,
   "id": "97b1c926",
   "metadata": {},
   "outputs": [
    {
     "name": "stdout",
     "output_type": "stream",
     "text": [
      "Epoch 1/100\n",
      "156/156 [==============================] - 22s 115ms/step - loss: 0.0058 - val_loss: 9.9980e-04\n",
      "Epoch 2/100\n",
      "156/156 [==============================] - 16s 105ms/step - loss: 9.0083e-04 - val_loss: 9.0247e-04\n",
      "Epoch 3/100\n",
      "156/156 [==============================] - 16s 105ms/step - loss: 8.2640e-04 - val_loss: 8.6524e-04\n",
      "Epoch 4/100\n",
      "156/156 [==============================] - 17s 108ms/step - loss: 7.3999e-04 - val_loss: 9.7815e-04\n",
      "Epoch 5/100\n",
      "156/156 [==============================] - 17s 108ms/step - loss: 7.5139e-04 - val_loss: 5.6287e-04\n",
      "Epoch 6/100\n",
      "156/156 [==============================] - 17s 109ms/step - loss: 5.9002e-04 - val_loss: 5.2592e-04\n",
      "Epoch 7/100\n",
      "156/156 [==============================] - 17s 106ms/step - loss: 5.5462e-04 - val_loss: 4.9390e-04\n",
      "Epoch 8/100\n",
      "156/156 [==============================] - 17s 109ms/step - loss: 4.6327e-04 - val_loss: 3.8415e-04\n",
      "Epoch 9/100\n",
      "156/156 [==============================] - 16s 106ms/step - loss: 4.4826e-04 - val_loss: 3.7604e-04\n",
      "Epoch 10/100\n",
      "156/156 [==============================] - 17s 108ms/step - loss: 3.6672e-04 - val_loss: 3.2985e-04\n",
      "Epoch 11/100\n",
      "156/156 [==============================] - 17s 106ms/step - loss: 3.6211e-04 - val_loss: 3.9183e-04\n",
      "Epoch 12/100\n",
      "156/156 [==============================] - 16s 105ms/step - loss: 3.8068e-04 - val_loss: 2.7267e-04\n",
      "Epoch 13/100\n",
      "156/156 [==============================] - 16s 104ms/step - loss: 3.1510e-04 - val_loss: 2.7190e-04\n",
      "Epoch 14/100\n",
      "156/156 [==============================] - 17s 112ms/step - loss: 3.0599e-04 - val_loss: 5.5249e-04\n",
      "Epoch 15/100\n",
      "156/156 [==============================] - 17s 109ms/step - loss: 3.3973e-04 - val_loss: 2.6874e-04\n",
      "Epoch 16/100\n",
      "156/156 [==============================] - 16s 105ms/step - loss: 2.6994e-04 - val_loss: 2.2101e-04\n",
      "Epoch 17/100\n",
      "156/156 [==============================] - 16s 102ms/step - loss: 3.1582e-04 - val_loss: 4.5277e-04\n",
      "Epoch 18/100\n",
      "156/156 [==============================] - 16s 103ms/step - loss: 2.4388e-04 - val_loss: 2.2354e-04\n",
      "Epoch 19/100\n",
      "156/156 [==============================] - 16s 101ms/step - loss: 2.5025e-04 - val_loss: 2.7731e-04\n",
      "Epoch 20/100\n",
      "156/156 [==============================] - 16s 102ms/step - loss: 2.5798e-04 - val_loss: 2.8514e-04\n",
      "Epoch 21/100\n",
      "156/156 [==============================] - 16s 102ms/step - loss: 2.3503e-04 - val_loss: 2.2723e-04\n"
     ]
    },
    {
     "data": {
      "text/plain": [
       "<keras.callbacks.History at 0x7fc460f361c0>"
      ]
     },
     "execution_count": 49,
     "metadata": {},
     "output_type": "execute_result"
    }
   ],
   "source": [
    "model = Sequential()\n",
    "model.add(LSTM(100, return_sequences=True, input_shape=(x_train.shape[1], 1)))\n",
    "model.add(LSTM(100, return_sequences=False))\n",
    "model.add(Dense(25))\n",
    "model.add(Dense(1))\n",
    "\n",
    "model.compile(optimizer='adam', loss='mean_squared_error')\n",
    "\n",
    "model.fit(x_train,y_train, batch_size=16, epochs=100,verbose=1,validation_split=0.2,\n",
    "          callbacks=[EarlyStopping(patience=5,restore_best_weights=True)])"
   ]
  },
  {
   "cell_type": "code",
   "execution_count": 50,
   "id": "cd069999",
   "metadata": {},
   "outputs": [
    {
     "data": {
      "text/plain": [
       "0.17183584884316444"
      ]
     },
     "execution_count": 50,
     "metadata": {},
     "output_type": "execute_result"
    }
   ],
   "source": [
    "predictions = model.predict(x_test)\n",
    "predictions = scaler.inverse_transform(predictions)\n",
    "rmse = np.sqrt(np.mean(predictions - y_test)**2)\n",
    "rmse"
   ]
  },
  {
   "cell_type": "markdown",
   "id": "577f99ab",
   "metadata": {},
   "source": [
    "## saving best model"
   ]
  },
  {
   "cell_type": "code",
   "execution_count": null,
   "id": "f672b930",
   "metadata": {},
   "outputs": [],
   "source": [
    "#saving best model"
   ]
  },
  {
   "cell_type": "code",
   "execution_count": 52,
   "id": "980e127f",
   "metadata": {},
   "outputs": [],
   "source": [
    "import pickle\n",
    "filename = 'model1.sav'\n",
    "#pickle.dump(model, open(filename, 'wb'))"
   ]
  },
  {
   "cell_type": "code",
   "execution_count": 53,
   "id": "cfcab407",
   "metadata": {},
   "outputs": [
    {
     "data": {
      "text/plain": [
       "0.000299976271909543"
      ]
     },
     "execution_count": 53,
     "metadata": {},
     "output_type": "execute_result"
    }
   ],
   "source": [
    "# load the model from disk\n",
    "loaded_model = pickle.load(open(filename, 'rb'))\n",
    "y_pred=loaded_model.predict(x_test)\n",
    "y_pred=scaler.inverse_transform(y_pred)\n",
    "rmse = np.sqrt(np.mean(y_pred - y_test)**2)\n",
    "rmse"
   ]
  },
  {
   "cell_type": "markdown",
   "id": "78ce4460",
   "metadata": {},
   "source": [
    "## plotting prediction"
   ]
  },
  {
   "cell_type": "code",
   "execution_count": 54,
   "id": "66f34be8",
   "metadata": {},
   "outputs": [
    {
     "data": {
      "text/html": [
       "<div>\n",
       "<style scoped>\n",
       "    .dataframe tbody tr th:only-of-type {\n",
       "        vertical-align: middle;\n",
       "    }\n",
       "\n",
       "    .dataframe tbody tr th {\n",
       "        vertical-align: top;\n",
       "    }\n",
       "\n",
       "    .dataframe thead th {\n",
       "        text-align: right;\n",
       "    }\n",
       "</style>\n",
       "<table border=\"1\" class=\"dataframe\">\n",
       "  <thead>\n",
       "    <tr style=\"text-align: right;\">\n",
       "      <th></th>\n",
       "      <th>actual</th>\n",
       "      <th>pred</th>\n",
       "    </tr>\n",
       "  </thead>\n",
       "  <tbody>\n",
       "    <tr>\n",
       "      <th>0</th>\n",
       "      <td>12.872649</td>\n",
       "      <td>13.046600</td>\n",
       "    </tr>\n",
       "    <tr>\n",
       "      <th>1</th>\n",
       "      <td>12.844728</td>\n",
       "      <td>12.904234</td>\n",
       "    </tr>\n",
       "    <tr>\n",
       "      <th>2</th>\n",
       "      <td>12.923843</td>\n",
       "      <td>12.879878</td>\n",
       "    </tr>\n",
       "    <tr>\n",
       "      <th>3</th>\n",
       "      <td>13.296153</td>\n",
       "      <td>12.970884</td>\n",
       "    </tr>\n",
       "    <tr>\n",
       "      <th>4</th>\n",
       "      <td>13.473003</td>\n",
       "      <td>13.368046</td>\n",
       "    </tr>\n",
       "    <tr>\n",
       "      <th>...</th>\n",
       "      <td>...</td>\n",
       "      <td>...</td>\n",
       "    </tr>\n",
       "    <tr>\n",
       "      <th>788</th>\n",
       "      <td>23.990000</td>\n",
       "      <td>23.657974</td>\n",
       "    </tr>\n",
       "    <tr>\n",
       "      <th>789</th>\n",
       "      <td>25.120001</td>\n",
       "      <td>24.065161</td>\n",
       "    </tr>\n",
       "    <tr>\n",
       "      <th>790</th>\n",
       "      <td>24.940001</td>\n",
       "      <td>25.578205</td>\n",
       "    </tr>\n",
       "    <tr>\n",
       "      <th>791</th>\n",
       "      <td>25.110001</td>\n",
       "      <td>24.542374</td>\n",
       "    </tr>\n",
       "    <tr>\n",
       "      <th>792</th>\n",
       "      <td>24.799999</td>\n",
       "      <td>25.206127</td>\n",
       "    </tr>\n",
       "  </tbody>\n",
       "</table>\n",
       "<p>793 rows × 2 columns</p>\n",
       "</div>"
      ],
      "text/plain": [
       "        actual       pred\n",
       "0    12.872649  13.046600\n",
       "1    12.844728  12.904234\n",
       "2    12.923843  12.879878\n",
       "3    13.296153  12.970884\n",
       "4    13.473003  13.368046\n",
       "..         ...        ...\n",
       "788  23.990000  23.657974\n",
       "789  25.120001  24.065161\n",
       "790  24.940001  25.578205\n",
       "791  25.110001  24.542374\n",
       "792  24.799999  25.206127\n",
       "\n",
       "[793 rows x 2 columns]"
      ]
     },
     "execution_count": 54,
     "metadata": {},
     "output_type": "execute_result"
    }
   ],
   "source": [
    "predict = pd.DataFrame(y_test).rename(columns={0:'actual'})\n",
    "predict['pred']=pd.DataFrame(y_pred)\n",
    "predict"
   ]
  },
  {
   "cell_type": "code",
   "execution_count": 55,
   "id": "c8a4313a",
   "metadata": {},
   "outputs": [
    {
     "name": "stderr",
     "output_type": "stream",
     "text": [
      "/tmp/ipykernel_475/4035412964.py:4: SettingWithCopyWarning: \n",
      "A value is trying to be set on a copy of a slice from a DataFrame.\n",
      "Try using .loc[row_indexer,col_indexer] = value instead\n",
      "\n",
      "See the caveats in the documentation: https://pandas.pydata.org/pandas-docs/stable/user_guide/indexing.html#returning-a-view-versus-a-copy\n",
      "  validation['Predictions'] = y_pred\n"
     ]
    },
    {
     "data": {
      "image/png": "[encoded data removed]",
      "text/plain": [
       "<Figure size 1152x576 with 1 Axes>"
      ]
     },
     "metadata": {
      "needs_background": "light"
     },
     "output_type": "display_data"
    }
   ],
   "source": [
    "data = dados.filter(['Close'])\n",
    "#train = data[:training_data_len]\n",
    "validation = data[training_data_len:]\n",
    "validation['Predictions'] = y_pred\n",
    "plt.figure(figsize=(16,8))\n",
    "plt.title('Model')\n",
    "plt.xlabel('Date')\n",
    "plt.ylabel('Close Price USD ($)')\n",
    "#plt.plot(train)\n",
    "plt.plot(validation[['Close', 'Predictions']])\n",
    "plt.legend(['Val', 'Predictions'], loc='lower right')\n",
    "plt.show()"
   ]
  },
  {
   "cell_type": "code",
   "execution_count": 77,
   "id": "34216b68",
   "metadata": {},
   "outputs": [],
   "source": [
    "#!git add .\n",
    "#!git commit -m 'Nice model'\n",
    "#!git push origin main"
   ]
  },
  {
   "cell_type": "markdown",
   "id": "487213f9",
   "metadata": {},
   "source": [
    "# Building up on that model"
   ]
  },
  {
   "cell_type": "code",
   "execution_count": 56,
   "id": "69a4febb",
   "metadata": {},
   "outputs": [],
   "source": [
    "#There are two things I could do right now. Change the output and increase the input data\n",
    "#Increasing the input data from 60 days to something else should be easier, so lets start by that."
   ]
  },
  {
   "cell_type": "markdown",
   "id": "0bb836c9",
   "metadata": {},
   "source": [
    "## Increasing input data"
   ]
  },
  {
   "cell_type": "code",
   "execution_count": 57,
   "id": "505070b6",
   "metadata": {},
   "outputs": [],
   "source": [
    "#Currently the model takes the 60 previous days to make a prediction of the following day.\n",
    "#This might not be enough if we think about a prediction of a week or a prediction of 2 months.\n",
    "#So lets start by making it 90 days."
   ]
  },
  {
   "cell_type": "code",
   "execution_count": 15,
   "id": "8a29163b",
   "metadata": {},
   "outputs": [],
   "source": [
    "close_prices = dados['Close']\n",
    "values = close_prices.values\n",
    "training_data_len = math.ceil(len(values)* 0.8)"
   ]
  },
  {
   "cell_type": "code",
   "execution_count": 16,
   "id": "a472a076",
   "metadata": {},
   "outputs": [
    {
     "name": "stdout",
     "output_type": "stream",
     "text": [
      "(3966,)\n"
     ]
    },
    {
     "data": {
      "text/plain": [
       "array([ 8.7010622 ,  8.43650341,  8.24802589, ..., 24.94000053,\n",
       "       25.11000061, 24.79999924])"
      ]
     },
     "execution_count": 16,
     "metadata": {},
     "output_type": "execute_result"
    }
   ],
   "source": [
    "print(values.shape)\n",
    "values"
   ]
  },
  {
   "cell_type": "code",
   "execution_count": 17,
   "id": "8fd6c3df",
   "metadata": {},
   "outputs": [
    {
     "name": "stdout",
     "output_type": "stream",
     "text": [
      "(3966, 1)\n"
     ]
    },
    {
     "data": {
      "text/plain": [
       "array([[ 8.7010622 ],\n",
       "       [ 8.43650341],\n",
       "       [ 8.24802589],\n",
       "       ...,\n",
       "       [24.94000053],\n",
       "       [25.11000061],\n",
       "       [24.79999924]])"
      ]
     },
     "execution_count": 17,
     "metadata": {},
     "output_type": "execute_result"
    }
   ],
   "source": [
    "values=values.reshape(-1,1)\n",
    "print(values.shape)\n",
    "values"
   ]
  },
  {
   "cell_type": "code",
   "execution_count": 18,
   "id": "e6eed76d",
   "metadata": {},
   "outputs": [],
   "source": [
    "train_values=values[0: training_data_len]\n",
    "#test_values=values[training_data_len:]"
   ]
  },
  {
   "cell_type": "code",
   "execution_count": 19,
   "id": "4cad90f2",
   "metadata": {},
   "outputs": [
    {
     "data": {
      "text/plain": [
       "(3173, 1)"
      ]
     },
     "execution_count": 19,
     "metadata": {},
     "output_type": "execute_result"
    }
   ],
   "source": [
    "train_values.shape"
   ]
  },
  {
   "cell_type": "code",
   "execution_count": 20,
   "id": "df282396",
   "metadata": {},
   "outputs": [],
   "source": [
    "#test_values.shape"
   ]
  },
  {
   "cell_type": "code",
   "execution_count": 21,
   "id": "820f5e36",
   "metadata": {},
   "outputs": [],
   "source": [
    "#Scaling data\n",
    "scaler = MinMaxScaler()\n",
    "train_data = scaler.fit_transform(train_values)"
   ]
  },
  {
   "cell_type": "code",
   "execution_count": 22,
   "id": "912249be",
   "metadata": {},
   "outputs": [],
   "source": [
    "#training data\n",
    "x_train = []\n",
    "y_train = []\n",
    "\n",
    "for i in range(90, len(train_data)):\n",
    "    #cada resultado i tem 90 dias pra trás como features\n",
    "    x_train.append(train_data[i-90:i, 0])\n",
    "    y_train.append(train_data[i, 0])"
   ]
  },
  {
   "cell_type": "code",
   "execution_count": 23,
   "id": "07ee4597",
   "metadata": {},
   "outputs": [
    {
     "data": {
      "text/plain": [
       "(3083, 90)"
      ]
     },
     "execution_count": 23,
     "metadata": {},
     "output_type": "execute_result"
    }
   ],
   "source": [
    "x_train, y_train = np.array(x_train), np.array(y_train)\n",
    "#x_train = np.reshape(x_train, (x_train.shape[0], x_train.shape[1], 1))\n",
    "x_train.shape #(3173-90)"
   ]
  },
  {
   "cell_type": "code",
   "execution_count": 24,
   "id": "682df5e1",
   "metadata": {},
   "outputs": [
    {
     "data": {
      "text/plain": [
       "(3083, 90, 1)"
      ]
     },
     "execution_count": 24,
     "metadata": {},
     "output_type": "execute_result"
    }
   ],
   "source": [
    "x_train = np.reshape(x_train, (x_train.shape[0], x_train.shape[1], 1)) #expand dims pra entrar no modelo\n",
    "x_train.shape"
   ]
  },
  {
   "cell_type": "code",
   "execution_count": 25,
   "id": "7630c678",
   "metadata": {},
   "outputs": [],
   "source": [
    "#test data"
   ]
  },
  {
   "cell_type": "code",
   "execution_count": 26,
   "id": "1c234e66",
   "metadata": {},
   "outputs": [],
   "source": [
    "test_values=values[training_data_len-90:] #vou precisar de 90 dias antes pra fazer o modelo\n",
    "\n",
    "test_data = scaler.transform(test_values)\n",
    "\n",
    "x_test = []\n",
    "y_test = values[training_data_len:] #shape diferente pra passar no scaler\n",
    "\n",
    "for i in range(90, len(test_data)):\n",
    "  x_test.append(test_data[i-90:i, 0])\n",
    "\n",
    "x_test = np.array(x_test)\n",
    "x_test = np.reshape(x_test, (x_test.shape[0], x_test.shape[1], 1))"
   ]
  },
  {
   "cell_type": "code",
   "execution_count": 27,
   "id": "96a3070a",
   "metadata": {},
   "outputs": [
    {
     "data": {
      "text/plain": [
       "(793, 1)"
      ]
     },
     "execution_count": 27,
     "metadata": {},
     "output_type": "execute_result"
    }
   ],
   "source": [
    "y_test.shape"
   ]
  },
  {
   "cell_type": "code",
   "execution_count": 28,
   "id": "d6a55ec4",
   "metadata": {},
   "outputs": [
    {
     "data": {
      "text/plain": [
       "(3083,)"
      ]
     },
     "execution_count": 28,
     "metadata": {},
     "output_type": "execute_result"
    }
   ],
   "source": [
    "y_train.shape"
   ]
  },
  {
   "cell_type": "code",
   "execution_count": 29,
   "id": "6f9b4f96",
   "metadata": {},
   "outputs": [
    {
     "data": {
      "text/plain": [
       "(3083, 1)"
      ]
     },
     "execution_count": 29,
     "metadata": {},
     "output_type": "execute_result"
    }
   ],
   "source": [
    "y_train_2=values[90:training_data_len]\n",
    "y_train_2.shape #both work"
   ]
  },
  {
   "cell_type": "code",
   "execution_count": 30,
   "id": "eabc5a05",
   "metadata": {},
   "outputs": [
    {
     "data": {
      "text/plain": [
       "(793, 90, 1)"
      ]
     },
     "execution_count": 30,
     "metadata": {},
     "output_type": "execute_result"
    }
   ],
   "source": [
    "x_test.shape"
   ]
  },
  {
   "cell_type": "code",
   "execution_count": null,
   "id": "22c2555c",
   "metadata": {},
   "outputs": [],
   "source": [
    "#lets run a model with more input data"
   ]
  },
  {
   "cell_type": "code",
   "execution_count": 101,
   "id": "dcff6654",
   "metadata": {},
   "outputs": [
    {
     "name": "stdout",
     "output_type": "stream",
     "text": [
      "Epoch 1/100\n",
      "155/155 [==============================] - 31s 173ms/step - loss: 0.0035 - val_loss: 9.2399e-04\n",
      "Epoch 2/100\n",
      "155/155 [==============================] - 25s 160ms/step - loss: 8.0585e-04 - val_loss: 7.3247e-04\n",
      "Epoch 3/100\n",
      "155/155 [==============================] - 25s 160ms/step - loss: 7.1075e-04 - val_loss: 0.0021\n",
      "Epoch 4/100\n",
      "155/155 [==============================] - 25s 160ms/step - loss: 6.3230e-04 - val_loss: 9.1949e-04\n",
      "Epoch 5/100\n",
      "155/155 [==============================] - 24s 153ms/step - loss: 5.2162e-04 - val_loss: 4.5046e-04\n",
      "Epoch 6/100\n",
      "155/155 [==============================] - 24s 156ms/step - loss: 4.7804e-04 - val_loss: 6.3618e-04\n",
      "Epoch 7/100\n",
      "155/155 [==============================] - 24s 153ms/step - loss: 4.6510e-04 - val_loss: 3.5192e-04\n",
      "Epoch 8/100\n",
      "155/155 [==============================] - 24s 154ms/step - loss: 3.8855e-04 - val_loss: 3.1697e-04\n",
      "Epoch 9/100\n",
      "155/155 [==============================] - 24s 152ms/step - loss: 3.8481e-04 - val_loss: 3.8900e-04\n",
      "Epoch 10/100\n",
      "155/155 [==============================] - 23s 151ms/step - loss: 3.6332e-04 - val_loss: 3.0831e-04\n",
      "Epoch 11/100\n",
      "155/155 [==============================] - 24s 153ms/step - loss: 3.2502e-04 - val_loss: 2.6323e-04\n",
      "Epoch 12/100\n",
      "155/155 [==============================] - 24s 153ms/step - loss: 3.0718e-04 - val_loss: 2.4292e-04\n",
      "Epoch 13/100\n",
      "155/155 [==============================] - 24s 155ms/step - loss: 2.8704e-04 - val_loss: 3.2875e-04\n",
      "Epoch 14/100\n",
      "155/155 [==============================] - 23s 150ms/step - loss: 2.5272e-04 - val_loss: 2.1631e-04\n",
      "Epoch 15/100\n",
      "155/155 [==============================] - 24s 156ms/step - loss: 2.5890e-04 - val_loss: 2.2174e-04\n",
      "Epoch 16/100\n",
      "155/155 [==============================] - 23s 150ms/step - loss: 2.7763e-04 - val_loss: 4.9299e-04\n",
      "Epoch 17/100\n",
      "155/155 [==============================] - 23s 149ms/step - loss: 2.7826e-04 - val_loss: 3.4813e-04\n",
      "Epoch 18/100\n",
      "155/155 [==============================] - 23s 150ms/step - loss: 3.4414e-04 - val_loss: 2.1106e-04\n",
      "Epoch 19/100\n",
      "155/155 [==============================] - 24s 156ms/step - loss: 2.7787e-04 - val_loss: 2.3390e-04\n",
      "Epoch 20/100\n",
      "155/155 [==============================] - 24s 156ms/step - loss: 2.4955e-04 - val_loss: 2.7376e-04\n",
      "Epoch 21/100\n",
      "155/155 [==============================] - 26s 166ms/step - loss: 2.3576e-04 - val_loss: 2.3448e-04\n",
      "Epoch 22/100\n",
      "155/155 [==============================] - 24s 154ms/step - loss: 2.2970e-04 - val_loss: 2.2937e-04\n",
      "Epoch 23/100\n",
      "155/155 [==============================] - 24s 158ms/step - loss: 2.7722e-04 - val_loss: 4.4403e-04\n"
     ]
    },
    {
     "data": {
      "text/plain": [
       "<keras.callbacks.History at 0x7fc42ed5db50>"
      ]
     },
     "execution_count": 101,
     "metadata": {},
     "output_type": "execute_result"
    }
   ],
   "source": [
    "model = Sequential()\n",
    "model.add(LSTM(100, return_sequences=True, input_shape=(x_train.shape[1], 1)))\n",
    "model.add(LSTM(100, return_sequences=False))\n",
    "model.add(Dense(25))\n",
    "model.add(Dense(1))\n",
    "\n",
    "model.compile(optimizer='adam', loss='mean_squared_error')\n",
    "\n",
    "model.fit(x_train,y_train, batch_size=16, epochs=100,verbose=1,validation_split=0.2,\n",
    "          callbacks=[EarlyStopping(patience=5,restore_best_weights=True)])"
   ]
  },
  {
   "cell_type": "code",
   "execution_count": 102,
   "id": "f142fa5e",
   "metadata": {},
   "outputs": [
    {
     "data": {
      "text/plain": [
       "0.13690735142288113"
      ]
     },
     "execution_count": 102,
     "metadata": {},
     "output_type": "execute_result"
    }
   ],
   "source": [
    "predictions = model.predict(x_test)\n",
    "predictions = scaler.inverse_transform(predictions)\n",
    "rmse = np.sqrt(np.mean(predictions - y_test)**2)\n",
    "rmse"
   ]
  },
  {
   "cell_type": "code",
   "execution_count": 103,
   "id": "22a073ad",
   "metadata": {},
   "outputs": [],
   "source": [
    "#ok, so making it 90 days or whatever days is pretty forward.\n",
    "#lets work on changing the output"
   ]
  },
  {
   "cell_type": "code",
   "execution_count": 167,
   "id": "4b4b4feb",
   "metadata": {},
   "outputs": [],
   "source": [
    "#!git add .\n",
    "#!git commit -m '90 days input'\n",
    "#!git push origin main"
   ]
  },
  {
   "cell_type": "markdown",
   "id": "478e4c7f",
   "metadata": {},
   "source": [
    "## Changing output"
   ]
  },
  {
   "cell_type": "code",
   "execution_count": 104,
   "id": "8319ee66",
   "metadata": {},
   "outputs": [],
   "source": [
    "#there is two ways to change the output. One is a single day in a week or a month.\n",
    "#the other is the full range of weeks. I could try that, but I think its more complicated and pointless.\n",
    "#maybe just to practice my lstm skills."
   ]
  },
  {
   "cell_type": "code",
   "execution_count": 31,
   "id": "b4884ee5",
   "metadata": {},
   "outputs": [
    {
     "name": "stdout",
     "output_type": "stream",
     "text": [
      "(3077, 90, 1)\n",
      "(3077,)\n"
     ]
    }
   ],
   "source": [
    "#changing the output is basically changing the ytrain and ytest\n",
    "\n",
    "#training data\n",
    "x_train = []\n",
    "y_train = []\n",
    "\n",
    "for i in range(90, (len(train_data)-6)):\n",
    "    #cada resultado i tem 90 dias pra trás como features\n",
    "    x_train.append(train_data[i-90:i, 0])\n",
    "    y_train.append(train_data[i+6, 0])\n",
    "    \n",
    "x_train, y_train = np.array(x_train), np.array(y_train)\n",
    "x_train = np.reshape(x_train, (x_train.shape[0], x_train.shape[1], 1)) #expand dims pra entrar no modelo\n",
    "print(x_train.shape)\n",
    "print(y_train.shape)"
   ]
  },
  {
   "cell_type": "code",
   "execution_count": 32,
   "id": "2a349f61",
   "metadata": {},
   "outputs": [
    {
     "name": "stdout",
     "output_type": "stream",
     "text": [
      "(787, 90, 1)\n",
      "(787, 1)\n"
     ]
    }
   ],
   "source": [
    "test_values=values[training_data_len-90:] #vou precisar de 90 dias antes pra fazer o modelo\n",
    "\n",
    "test_data = scaler.transform(test_values)\n",
    "\n",
    "x_test = []\n",
    "y_test = values[training_data_len:-6] \n",
    "\n",
    "for i in range(90, (len(test_data)-6)):\n",
    "  x_test.append(test_data[i-90:i, 0])\n",
    "\n",
    "x_test = np.array(x_test)\n",
    "x_test = np.reshape(x_test, (x_test.shape[0], x_test.shape[1], 1))\n",
    "print(x_test.shape)\n",
    "print(y_test.shape)"
   ]
  },
  {
   "cell_type": "code",
   "execution_count": 33,
   "id": "5d0714ca",
   "metadata": {},
   "outputs": [
    {
     "data": {
      "text/plain": [
       "array([8.2066927])"
      ]
     },
     "execution_count": 33,
     "metadata": {},
     "output_type": "execute_result"
    }
   ],
   "source": [
    "values[89+7]"
   ]
  },
  {
   "cell_type": "code",
   "execution_count": 34,
   "id": "7fde4b0c",
   "metadata": {},
   "outputs": [
    {
     "data": {
      "text/plain": [
       "array([[0.37545301],\n",
       "       [0.36495452],\n",
       "       [0.37133595],\n",
       "       ...,\n",
       "       [0.64145524],\n",
       "       [0.64942768],\n",
       "       [0.65849978]])"
      ]
     },
     "execution_count": 34,
     "metadata": {},
     "output_type": "execute_result"
    }
   ],
   "source": [
    "y_train.reshape(-1,1)"
   ]
  },
  {
   "cell_type": "code",
   "execution_count": 35,
   "id": "44dd3eae",
   "metadata": {},
   "outputs": [
    {
     "data": {
      "text/plain": [
       "array([[ 8.2066927 ],\n",
       "       [ 8.0289669 ],\n",
       "       [ 8.13699627],\n",
       "       ...,\n",
       "       [12.70976448],\n",
       "       [12.84472752],\n",
       "       [12.99830627]])"
      ]
     },
     "execution_count": 35,
     "metadata": {},
     "output_type": "execute_result"
    }
   ],
   "source": [
    "scaler.inverse_transform(y_train.reshape(-1,1))"
   ]
  },
  {
   "cell_type": "code",
   "execution_count": 150,
   "id": "395c5f8a",
   "metadata": {},
   "outputs": [
    {
     "name": "stdout",
     "output_type": "stream",
     "text": [
      "Epoch 1/100\n",
      "154/154 [==============================] - 28s 155ms/step - loss: 0.0059 - val_loss: 0.0026\n",
      "Epoch 2/100\n",
      "154/154 [==============================] - 23s 148ms/step - loss: 0.0021 - val_loss: 0.0027\n",
      "Epoch 3/100\n",
      "154/154 [==============================] - 25s 164ms/step - loss: 0.0019 - val_loss: 0.0023\n",
      "Epoch 4/100\n",
      "154/154 [==============================] - 23s 152ms/step - loss: 0.0020 - val_loss: 0.0020\n",
      "Epoch 5/100\n",
      "154/154 [==============================] - 23s 149ms/step - loss: 0.0019 - val_loss: 0.0019\n",
      "Epoch 6/100\n",
      "154/154 [==============================] - 24s 156ms/step - loss: 0.0017 - val_loss: 0.0020\n",
      "Epoch 7/100\n",
      "154/154 [==============================] - 24s 154ms/step - loss: 0.0017 - val_loss: 0.0020\n",
      "Epoch 8/100\n",
      "154/154 [==============================] - 24s 155ms/step - loss: 0.0016 - val_loss: 0.0019\n",
      "Epoch 9/100\n",
      "154/154 [==============================] - 23s 150ms/step - loss: 0.0017 - val_loss: 0.0019\n",
      "Epoch 10/100\n",
      "154/154 [==============================] - 24s 155ms/step - loss: 0.0016 - val_loss: 0.0018\n",
      "Epoch 11/100\n",
      "154/154 [==============================] - 24s 153ms/step - loss: 0.0017 - val_loss: 0.0020\n",
      "Epoch 12/100\n",
      "154/154 [==============================] - 25s 164ms/step - loss: 0.0015 - val_loss: 0.0017\n",
      "Epoch 13/100\n",
      "154/154 [==============================] - 26s 169ms/step - loss: 0.0016 - val_loss: 0.0017\n",
      "Epoch 14/100\n",
      "154/154 [==============================] - 26s 169ms/step - loss: 0.0015 - val_loss: 0.0019\n",
      "Epoch 15/100\n",
      "154/154 [==============================] - 24s 157ms/step - loss: 0.0015 - val_loss: 0.0018\n",
      "Epoch 16/100\n",
      "154/154 [==============================] - 27s 176ms/step - loss: 0.0015 - val_loss: 0.0017\n",
      "Epoch 17/100\n",
      "154/154 [==============================] - 26s 169ms/step - loss: 0.0015 - val_loss: 0.0019\n",
      "Epoch 18/100\n",
      "154/154 [==============================] - 25s 160ms/step - loss: 0.0015 - val_loss: 0.0016\n",
      "Epoch 19/100\n",
      "154/154 [==============================] - 25s 162ms/step - loss: 0.0015 - val_loss: 0.0016\n",
      "Epoch 20/100\n",
      "154/154 [==============================] - 25s 162ms/step - loss: 0.0016 - val_loss: 0.0017\n",
      "Epoch 21/100\n",
      "154/154 [==============================] - 25s 161ms/step - loss: 0.0014 - val_loss: 0.0017\n",
      "Epoch 22/100\n",
      "154/154 [==============================] - 25s 160ms/step - loss: 0.0015 - val_loss: 0.0017\n",
      "Epoch 23/100\n",
      "154/154 [==============================] - 24s 153ms/step - loss: 0.0015 - val_loss: 0.0017\n"
     ]
    },
    {
     "data": {
      "text/plain": [
       "<keras.callbacks.History at 0x7fc49722ca30>"
      ]
     },
     "execution_count": 150,
     "metadata": {},
     "output_type": "execute_result"
    }
   ],
   "source": [
    "model = Sequential()\n",
    "model.add(LSTM(100, return_sequences=True, input_shape=(x_train.shape[1], 1)))\n",
    "model.add(LSTM(100, return_sequences=False))\n",
    "model.add(Dense(25))\n",
    "model.add(Dense(1))\n",
    "\n",
    "model.compile(optimizer='adam', loss='mean_squared_error')\n",
    "\n",
    "model.fit(x_train,y_train, batch_size=16, epochs=100,verbose=1,validation_split=0.2,\n",
    "          callbacks=[EarlyStopping(patience=5,restore_best_weights=True)])\n"
   ]
  },
  {
   "cell_type": "code",
   "execution_count": 151,
   "id": "c842e7c0",
   "metadata": {},
   "outputs": [
    {
     "data": {
      "text/plain": [
       "0.2691821015926298"
      ]
     },
     "execution_count": 151,
     "metadata": {},
     "output_type": "execute_result"
    }
   ],
   "source": [
    "predictions = model.predict(x_test)\n",
    "predictions = scaler.inverse_transform(predictions)\n",
    "rmse = np.sqrt(np.mean(predictions - y_test)**2)\n",
    "rmse"
   ]
  },
  {
   "cell_type": "code",
   "execution_count": 168,
   "id": "c6004fd8",
   "metadata": {},
   "outputs": [],
   "source": [
    "#!git add .\n",
    "#!git commit -m '7 day prediction'\n",
    "#!git push origin main"
   ]
  },
  {
   "cell_type": "markdown",
   "id": "549b1931",
   "metadata": {},
   "source": [
    "## How many days do I really want?"
   ]
  },
  {
   "cell_type": "markdown",
   "id": "905fac95",
   "metadata": {},
   "source": [
    "- we could go for a monthly rate of the stock, that would be interesting\n",
    "- but the main goal was to predict the price of the options of petr4, which happen every two months.\n"
   ]
  },
  {
   "cell_type": "markdown",
   "id": "ae9339a2",
   "metadata": {},
   "source": [
    "- how many days are there between options?\n",
    "https://www.b3.com.br/data/files/30/C3/24/BA/4FA6161025668616790D8AA8/PREGOES.pdf\n",
    "- 46 pregoes (data points)"
   ]
  },
  {
   "cell_type": "code",
   "execution_count": 153,
   "id": "160be9bc",
   "metadata": {},
   "outputs": [
    {
     "data": {
      "text/plain": [
       "272.2"
      ]
     },
     "execution_count": 153,
     "metadata": {},
     "output_type": "execute_result"
    }
   ],
   "source": [
    "#media de pregoes\n",
    "preg = (248+249+247+248+248+245+246+249+246+248+248)/10\n",
    "preg"
   ]
  },
  {
   "cell_type": "code",
   "execution_count": 155,
   "id": "94f3df86",
   "metadata": {},
   "outputs": [
    {
     "data": {
      "text/plain": [
       "23"
      ]
     },
     "execution_count": 155,
     "metadata": {},
     "output_type": "execute_result"
    }
   ],
   "source": [
    "round(preg/12)"
   ]
  },
  {
   "cell_type": "markdown",
   "id": "cd8921a3",
   "metadata": {},
   "source": [
    "- Increasing the input as well for a year seems correct.\n",
    "- 272 Pregoes (data points)"
   ]
  },
  {
   "cell_type": "markdown",
   "id": "83b8516f",
   "metadata": {},
   "source": [
    "# Prediction 60 days"
   ]
  },
  {
   "cell_type": "code",
   "execution_count": 51,
   "id": "4fdf9734",
   "metadata": {},
   "outputs": [
    {
     "name": "stdout",
     "output_type": "stream",
     "text": [
      "(2856, 272, 1)\n",
      "(2856,)\n",
      "(748, 272, 1)\n",
      "(748, 1)\n"
     ]
    }
   ],
   "source": [
    "close_prices = dados['Close']\n",
    "values = close_prices.values\n",
    "training_data_len = math.ceil(len(values)* 0.8)\n",
    "\n",
    "values=values.reshape(-1,1)\n",
    "train_values=values[0: training_data_len]\n",
    "\n",
    "#Scaling data\n",
    "scaler = MinMaxScaler()\n",
    "train_data = scaler.fit_transform(train_values)\n",
    "\n",
    "#training data\n",
    "x_train = []\n",
    "y_train = []\n",
    "\n",
    "for i in range(272, len(train_data)-45):\n",
    "    #cada resultado i tem 272 dias pra trás como features\n",
    "    x_train.append(train_data[i-272:i, 0])\n",
    "    y_train.append(train_data[i+45, 0])\n",
    "    \n",
    "x_train, y_train = np.array(x_train), np.array(y_train)\n",
    "x_train = np.reshape(x_train, (x_train.shape[0], x_train.shape[1], 1)) #expand dims pra entrar no modelo\n",
    "print(x_train.shape)\n",
    "print(y_train.shape)\n",
    "\n",
    "\n",
    "\n",
    "test_values=values[training_data_len-272:] #vou precisar de 90 dias antes pra fazer o modelo\n",
    "\n",
    "test_data = scaler.transform(test_values)\n",
    "\n",
    "x_test = []\n",
    "y_test = values[training_data_len:-45] \n",
    "\n",
    "for i in range(272, (len(test_data)-45)):\n",
    "  x_test.append(test_data[i-272:i, 0])\n",
    "\n",
    "x_test = np.array(x_test)\n",
    "x_test = np.reshape(x_test, (x_test.shape[0], x_test.shape[1], 1))\n",
    "print(x_test.shape)\n",
    "print(y_test.shape)"
   ]
  },
  {
   "cell_type": "code",
   "execution_count": 37,
   "id": "b85823cd",
   "metadata": {},
   "outputs": [
    {
     "name": "stderr",
     "output_type": "stream",
     "text": [
      "2023-01-19 11:51:20.096625: W tensorflow/stream_executor/platform/default/dso_loader.cc:64] Could not load dynamic library 'libcuda.so.1'; dlerror: libcuda.so.1: cannot open shared object file: No such file or directory\n",
      "2023-01-19 11:51:20.097590: W tensorflow/stream_executor/cuda/cuda_driver.cc:269] failed call to cuInit: UNKNOWN ERROR (303)\n",
      "2023-01-19 11:51:20.098225: I tensorflow/stream_executor/cuda/cuda_diagnostics.cc:156] kernel driver does not appear to be running on this host (DESKTOP-23E8V41): /proc/driver/nvidia/version does not exist\n",
      "2023-01-19 11:51:20.105671: I tensorflow/core/platform/cpu_feature_guard.cc:151] This TensorFlow binary is optimized with oneAPI Deep Neural Network Library (oneDNN) to use the following CPU instructions in performance-critical operations:  AVX2 FMA\n",
      "To enable them in other operations, rebuild TensorFlow with the appropriate compiler flags.\n"
     ]
    },
    {
     "name": "stdout",
     "output_type": "stream",
     "text": [
      "Epoch 1/100\n",
      "143/143 [==============================] - 69s 451ms/step - loss: 0.0123 - val_loss: 0.0086\n",
      "Epoch 2/100\n",
      "143/143 [==============================] - 76s 530ms/step - loss: 0.0087 - val_loss: 0.0121\n",
      "Epoch 3/100\n",
      "143/143 [==============================] - 62s 434ms/step - loss: 0.0090 - val_loss: 0.0127\n",
      "Epoch 4/100\n",
      "143/143 [==============================] - 62s 430ms/step - loss: 0.0088 - val_loss: 0.0087\n",
      "Epoch 5/100\n",
      "143/143 [==============================] - 62s 431ms/step - loss: 0.0086 - val_loss: 0.0112\n",
      "Epoch 6/100\n",
      "143/143 [==============================] - 62s 431ms/step - loss: 0.0085 - val_loss: 0.0087\n"
     ]
    },
    {
     "data": {
      "text/plain": [
       "<keras.callbacks.History at 0x7fd72d93f040>"
      ]
     },
     "execution_count": 37,
     "metadata": {},
     "output_type": "execute_result"
    }
   ],
   "source": [
    "model = Sequential()\n",
    "model.add(LSTM(100, return_sequences=True, input_shape=(x_train.shape[1], 1)))\n",
    "model.add(LSTM(100, return_sequences=False))\n",
    "model.add(Dense(25))\n",
    "model.add(Dense(1))\n",
    "\n",
    "model.compile(optimizer='adam', loss='mean_squared_error')\n",
    "\n",
    "model.fit(x_train,y_train, batch_size=16, epochs=100,verbose=1,validation_split=0.2,\n",
    "          callbacks=[EarlyStopping(patience=5,restore_best_weights=True)])"
   ]
  },
  {
   "cell_type": "code",
   "execution_count": 43,
   "id": "416bff2a",
   "metadata": {},
   "outputs": [
    {
     "data": {
      "text/plain": [
       "1.9912195416057812"
      ]
     },
     "execution_count": 43,
     "metadata": {},
     "output_type": "execute_result"
    }
   ],
   "source": [
    "predictions = model.predict(x_test)\n",
    "predictions = scaler.inverse_transform(predictions)\n",
    "rmse = np.sqrt(np.mean(predictions - y_test)**2)\n",
    "rmse"
   ]
  },
  {
   "cell_type": "code",
   "execution_count": 44,
   "id": "979f2319",
   "metadata": {},
   "outputs": [
    {
     "data": {
      "text/plain": [
       "array([[11.421278 ],\n",
       "       [11.457005 ],\n",
       "       [11.490691 ],\n",
       "       [11.5243025],\n",
       "       [11.571546 ],\n",
       "       [11.632471 ],\n",
       "       [11.686466 ],\n",
       "       [11.750777 ],\n",
       "       [11.825025 ],\n",
       "       [11.905729 ],\n",
       "       [11.990977 ],\n",
       "       [12.08024  ],\n",
       "       [12.167716 ],\n",
       "       [12.247586 ],\n",
       "       [12.304134 ],\n",
       "       [12.343417 ],\n",
       "       [12.392508 ],\n",
       "       [12.428495 ],\n",
       "       [12.46221  ],\n",
       "       [12.488229 ],\n",
       "       [12.505482 ],\n",
       "       [12.504452 ],\n",
       "       [12.487354 ],\n",
       "       [12.455095 ],\n",
       "       [12.435873 ],\n",
       "       [12.429132 ],\n",
       "       [12.426069 ],\n",
       "       [12.414928 ],\n",
       "       [12.4017515],\n",
       "       [12.39193  ],\n",
       "       [12.377483 ],\n",
       "       [12.359231 ],\n",
       "       [12.337797 ],\n",
       "       [12.32882  ],\n",
       "       [12.336203 ],\n",
       "       [12.359642 ],\n",
       "       [12.389327 ],\n",
       "       [12.425626 ],\n",
       "       [12.46323  ],\n",
       "       [12.510494 ],\n",
       "       [12.542032 ],\n",
       "       [12.550212 ],\n",
       "       [12.551297 ],\n",
       "       [12.561408 ],\n",
       "       [12.578433 ],\n",
       "       [12.592201 ],\n",
       "       [12.607656 ],\n",
       "       [12.631331 ],\n",
       "       [12.659658 ],\n",
       "       [12.682621 ],\n",
       "       [12.710918 ],\n",
       "       [12.736191 ],\n",
       "       [12.765081 ],\n",
       "       [12.792343 ],\n",
       "       [12.813208 ],\n",
       "       [12.826729 ],\n",
       "       [12.832186 ],\n",
       "       [12.83334  ],\n",
       "       [12.82525  ],\n",
       "       [12.802806 ],\n",
       "       [12.771783 ],\n",
       "       [12.743621 ],\n",
       "       [12.722084 ],\n",
       "       [12.698672 ],\n",
       "       [12.668806 ],\n",
       "       [12.643503 ],\n",
       "       [12.615793 ],\n",
       "       [12.562967 ],\n",
       "       [12.511861 ],\n",
       "       [12.466048 ],\n",
       "       [12.428178 ],\n",
       "       [12.387955 ],\n",
       "       [12.343024 ],\n",
       "       [12.306441 ],\n",
       "       [12.272698 ],\n",
       "       [12.258297 ],\n",
       "       [12.252401 ],\n",
       "       [12.25614  ],\n",
       "       [12.272726 ],\n",
       "       [12.309471 ],\n",
       "       [12.349005 ],\n",
       "       [12.38186  ],\n",
       "       [12.407113 ],\n",
       "       [12.433648 ],\n",
       "       [12.475404 ],\n",
       "       [12.51233  ],\n",
       "       [12.52843  ],\n",
       "       [12.472048 ],\n",
       "       [12.353404 ],\n",
       "       [12.202125 ],\n",
       "       [12.062507 ],\n",
       "       [11.929684 ],\n",
       "       [11.825733 ],\n",
       "       [11.714833 ],\n",
       "       [11.556167 ],\n",
       "       [11.239066 ],\n",
       "       [10.865026 ],\n",
       "       [10.441105 ],\n",
       "       [ 9.94271  ],\n",
       "       [ 9.479502 ],\n",
       "       [ 9.019237 ],\n",
       "       [ 8.58411  ],\n",
       "       [ 8.154393 ],\n",
       "       [ 7.7700176],\n",
       "       [ 7.4322143],\n",
       "       [ 7.132896 ],\n",
       "       [ 6.910741 ],\n",
       "       [ 6.7735157],\n",
       "       [ 6.7007227],\n",
       "       [ 6.6509147],\n",
       "       [ 6.6194196],\n",
       "       [ 6.613556 ],\n",
       "       [ 6.6308627],\n",
       "       [ 6.6870856],\n",
       "       [ 6.762116 ],\n",
       "       [ 6.853776 ],\n",
       "       [ 6.9639773],\n",
       "       [ 7.099021 ],\n",
       "       [ 7.232419 ],\n",
       "       [ 7.3591933],\n",
       "       [ 7.470273 ],\n",
       "       [ 7.557585 ],\n",
       "       [ 7.610886 ],\n",
       "       [ 7.647426 ],\n",
       "       [ 7.6676393],\n",
       "       [ 7.692764 ],\n",
       "       [ 7.7242756],\n",
       "       [ 7.7378793],\n",
       "       [ 7.7491236],\n",
       "       [ 7.774837 ],\n",
       "       [ 7.8283763],\n",
       "       [ 7.8942537],\n",
       "       [ 7.9505873],\n",
       "       [ 8.008693 ],\n",
       "       [ 8.051185 ],\n",
       "       [ 8.084202 ],\n",
       "       [ 8.130584 ],\n",
       "       [ 8.176661 ],\n",
       "       [ 8.219714 ],\n",
       "       [ 8.247097 ],\n",
       "       [ 8.2587   ],\n",
       "       [ 8.254249 ],\n",
       "       [ 8.268111 ],\n",
       "       [ 8.296514 ],\n",
       "       [ 8.345625 ],\n",
       "       [ 8.403327 ],\n",
       "       [ 8.452588 ],\n",
       "       [ 8.509872 ],\n",
       "       [ 8.573161 ],\n",
       "       [ 8.642124 ],\n",
       "       [ 8.707635 ],\n",
       "       [ 8.778751 ],\n",
       "       [ 8.849405 ],\n",
       "       [ 8.937587 ],\n",
       "       [ 9.03385  ],\n",
       "       [ 9.129073 ],\n",
       "       [ 9.231762 ],\n",
       "       [ 9.342327 ],\n",
       "       [ 9.435327 ],\n",
       "       [ 9.50489  ],\n",
       "       [ 9.53897  ],\n",
       "       [ 9.55003  ],\n",
       "       [ 9.559378 ],\n",
       "       [ 9.568973 ],\n",
       "       [ 9.58169  ],\n",
       "       [ 9.59325  ],\n",
       "       [ 9.592873 ],\n",
       "       [ 9.598863 ],\n",
       "       [ 9.5956745],\n",
       "       [ 9.59612  ],\n",
       "       [ 9.586254 ],\n",
       "       [ 9.5867605],\n",
       "       [ 9.591982 ],\n",
       "       [ 9.603209 ],\n",
       "       [ 9.624811 ],\n",
       "       [ 9.650348 ],\n",
       "       [ 9.687648 ],\n",
       "       [ 9.724852 ],\n",
       "       [ 9.768244 ],\n",
       "       [ 9.802882 ],\n",
       "       [ 9.837192 ],\n",
       "       [ 9.862327 ],\n",
       "       [ 9.895    ],\n",
       "       [ 9.939851 ],\n",
       "       [ 9.977649 ],\n",
       "       [10.008942 ],\n",
       "       [10.034207 ],\n",
       "       [10.0669   ],\n",
       "       [10.096292 ],\n",
       "       [10.112129 ],\n",
       "       [10.12139  ],\n",
       "       [10.135453 ],\n",
       "       [10.143953 ],\n",
       "       [10.155793 ],\n",
       "       [10.162179 ],\n",
       "       [10.152067 ],\n",
       "       [10.123593 ],\n",
       "       [10.084371 ],\n",
       "       [10.068831 ],\n",
       "       [10.070865 ],\n",
       "       [10.075547 ],\n",
       "       [10.094823 ],\n",
       "       [10.1150465],\n",
       "       [10.142618 ],\n",
       "       [10.160455 ],\n",
       "       [10.16729  ],\n",
       "       [10.165109 ],\n",
       "       [10.165714 ],\n",
       "       [10.165652 ],\n",
       "       [10.161963 ],\n",
       "       [10.1526785],\n",
       "       [10.14856  ],\n",
       "       [10.146151 ],\n",
       "       [10.131844 ],\n",
       "       [10.109036 ],\n",
       "       [10.0898905],\n",
       "       [10.061226 ],\n",
       "       [10.04771  ],\n",
       "       [10.043667 ],\n",
       "       [10.047609 ],\n",
       "       [10.057267 ],\n",
       "       [10.056664 ],\n",
       "       [10.058683 ],\n",
       "       [10.050037 ],\n",
       "       [10.029951 ],\n",
       "       [ 9.999487 ],\n",
       "       [ 9.963826 ],\n",
       "       [ 9.928118 ],\n",
       "       [ 9.903012 ],\n",
       "       [ 9.876261 ],\n",
       "       [ 9.834629 ],\n",
       "       [ 9.783422 ],\n",
       "       [ 9.717317 ],\n",
       "       [ 9.648621 ],\n",
       "       [ 9.576773 ],\n",
       "       [ 9.496788 ],\n",
       "       [ 9.409426 ],\n",
       "       [ 9.3282385],\n",
       "       [ 9.260654 ],\n",
       "       [ 9.188925 ],\n",
       "       [ 9.138828 ],\n",
       "       [ 9.103797 ],\n",
       "       [ 9.077584 ],\n",
       "       [ 9.07164  ],\n",
       "       [ 9.0661955],\n",
       "       [ 9.067778 ],\n",
       "       [ 9.070515 ],\n",
       "       [ 9.069226 ],\n",
       "       [ 9.056699 ],\n",
       "       [ 9.041294 ],\n",
       "       [ 9.038413 ],\n",
       "       [ 9.043665 ],\n",
       "       [ 9.067779 ],\n",
       "       [ 9.097422 ],\n",
       "       [ 9.122302 ],\n",
       "       [ 9.134939 ],\n",
       "       [ 9.114089 ],\n",
       "       [ 9.084948 ],\n",
       "       [ 9.045204 ],\n",
       "       [ 9.01537  ],\n",
       "       [ 8.995429 ],\n",
       "       [ 8.986629 ],\n",
       "       [ 8.982752 ],\n",
       "       [ 9.020122 ],\n",
       "       [ 9.112554 ],\n",
       "       [ 9.231653 ],\n",
       "       [ 9.341159 ],\n",
       "       [ 9.452183 ],\n",
       "       [ 9.571194 ],\n",
       "       [ 9.696783 ],\n",
       "       [ 9.816667 ],\n",
       "       [ 9.93139  ],\n",
       "       [10.062162 ],\n",
       "       [10.218816 ],\n",
       "       [10.384108 ],\n",
       "       [10.53673  ],\n",
       "       [10.66572  ],\n",
       "       [10.759853 ],\n",
       "       [10.840069 ],\n",
       "       [10.913322 ],\n",
       "       [10.992875 ],\n",
       "       [11.090166 ],\n",
       "       [11.18305  ],\n",
       "       [11.2608185],\n",
       "       [11.329845 ],\n",
       "       [11.406961 ],\n",
       "       [11.4801855],\n",
       "       [11.547683 ],\n",
       "       [11.612225 ],\n",
       "       [11.678021 ],\n",
       "       [11.741979 ],\n",
       "       [11.798325 ],\n",
       "       [11.825022 ],\n",
       "       [11.836006 ],\n",
       "       [11.849743 ],\n",
       "       [11.869413 ],\n",
       "       [11.893775 ],\n",
       "       [11.921224 ],\n",
       "       [11.9604225],\n",
       "       [12.027498 ],\n",
       "       [12.110068 ],\n",
       "       [12.21554  ],\n",
       "       [12.332026 ],\n",
       "       [12.443519 ],\n",
       "       [12.540526 ],\n",
       "       [12.593235 ],\n",
       "       [12.61996  ],\n",
       "       [12.602425 ],\n",
       "       [12.556367 ],\n",
       "       [12.507163 ],\n",
       "       [12.449817 ],\n",
       "       [12.377613 ],\n",
       "       [12.290841 ],\n",
       "       [12.197864 ],\n",
       "       [12.114248 ],\n",
       "       [12.048839 ],\n",
       "       [11.977802 ],\n",
       "       [11.923547 ],\n",
       "       [11.90584  ],\n",
       "       [11.91852  ],\n",
       "       [11.947556 ],\n",
       "       [11.985535 ],\n",
       "       [12.01231  ],\n",
       "       [12.018593 ],\n",
       "       [12.016206 ],\n",
       "       [12.014034 ],\n",
       "       [12.019453 ],\n",
       "       [12.052468 ],\n",
       "       [12.095333 ],\n",
       "       [12.10343  ],\n",
       "       [11.975549 ],\n",
       "       [11.8130245],\n",
       "       [11.645129 ],\n",
       "       [11.459897 ],\n",
       "       [11.255018 ],\n",
       "       [11.044146 ],\n",
       "       [10.841208 ],\n",
       "       [10.638911 ],\n",
       "       [10.468995 ],\n",
       "       [10.333385 ],\n",
       "       [10.201586 ],\n",
       "       [10.088971 ],\n",
       "       [10.0102   ],\n",
       "       [ 9.977076 ],\n",
       "       [ 9.9730215],\n",
       "       [ 9.997374 ],\n",
       "       [10.030997 ],\n",
       "       [10.084426 ],\n",
       "       [10.13057  ],\n",
       "       [10.184281 ],\n",
       "       [10.230179 ],\n",
       "       [10.253676 ],\n",
       "       [10.26151  ],\n",
       "       [10.266499 ],\n",
       "       [10.274868 ],\n",
       "       [10.292634 ],\n",
       "       [10.3156595],\n",
       "       [10.346241 ],\n",
       "       [10.37578  ],\n",
       "       [10.40588  ],\n",
       "       [10.43422  ],\n",
       "       [10.459382 ],\n",
       "       [10.474995 ],\n",
       "       [10.482465 ],\n",
       "       [10.489099 ],\n",
       "       [10.496567 ],\n",
       "       [10.511896 ],\n",
       "       [10.521852 ],\n",
       "       [10.524716 ],\n",
       "       [10.550471 ],\n",
       "       [10.58039  ],\n",
       "       [10.608864 ],\n",
       "       [10.634245 ],\n",
       "       [10.657987 ],\n",
       "       [10.665184 ],\n",
       "       [10.678555 ],\n",
       "       [10.688785 ],\n",
       "       [10.696379 ],\n",
       "       [10.6979065],\n",
       "       [10.684172 ],\n",
       "       [10.680773 ],\n",
       "       [10.677732 ],\n",
       "       [10.693369 ],\n",
       "       [10.727088 ],\n",
       "       [10.779968 ],\n",
       "       [10.834521 ],\n",
       "       [10.891127 ],\n",
       "       [10.972893 ],\n",
       "       [11.073938 ],\n",
       "       [11.175187 ],\n",
       "       [11.26635  ],\n",
       "       [11.341023 ],\n",
       "       [11.401087 ],\n",
       "       [11.457427 ],\n",
       "       [11.4970255],\n",
       "       [11.528693 ],\n",
       "       [11.549905 ],\n",
       "       [11.585524 ],\n",
       "       [11.626333 ],\n",
       "       [11.676831 ],\n",
       "       [11.742699 ],\n",
       "       [11.827734 ],\n",
       "       [11.915958 ],\n",
       "       [12.00854  ],\n",
       "       [12.098532 ],\n",
       "       [12.18198  ],\n",
       "       [12.254103 ],\n",
       "       [12.318435 ],\n",
       "       [12.379874 ],\n",
       "       [12.438318 ],\n",
       "       [12.470941 ],\n",
       "       [12.4887495],\n",
       "       [12.509027 ],\n",
       "       [12.533135 ],\n",
       "       [12.562571 ],\n",
       "       [12.600974 ],\n",
       "       [12.631806 ],\n",
       "       [12.654781 ],\n",
       "       [12.673985 ],\n",
       "       [12.694818 ],\n",
       "       [12.708069 ],\n",
       "       [12.718057 ],\n",
       "       [12.718713 ],\n",
       "       [12.689238 ],\n",
       "       [12.649543 ],\n",
       "       [12.594357 ],\n",
       "       [12.537286 ],\n",
       "       [12.485981 ],\n",
       "       [12.436806 ],\n",
       "       [12.37975  ],\n",
       "       [12.312527 ],\n",
       "       [12.233468 ],\n",
       "       [12.15839  ],\n",
       "       [12.097938 ],\n",
       "       [12.0493145],\n",
       "       [12.007778 ],\n",
       "       [11.9880495],\n",
       "       [11.977038 ],\n",
       "       [11.983557 ],\n",
       "       [12.00304  ],\n",
       "       [12.011158 ],\n",
       "       [12.0008   ],\n",
       "       [11.987927 ],\n",
       "       [11.962613 ],\n",
       "       [11.973181 ],\n",
       "       [12.007734 ],\n",
       "       [12.051648 ],\n",
       "       [12.100678 ],\n",
       "       [12.158007 ],\n",
       "       [12.226139 ],\n",
       "       [12.302415 ],\n",
       "       [12.364964 ],\n",
       "       [12.414774 ],\n",
       "       [12.44829  ],\n",
       "       [12.466137 ],\n",
       "       [12.472082 ],\n",
       "       [12.479266 ],\n",
       "       [12.499233 ],\n",
       "       [12.529798 ],\n",
       "       [12.56029  ],\n",
       "       [12.610464 ],\n",
       "       [12.666508 ],\n",
       "       [12.698985 ],\n",
       "       [12.710762 ],\n",
       "       [12.698991 ],\n",
       "       [12.666903 ],\n",
       "       [12.626496 ],\n",
       "       [12.551078 ],\n",
       "       [12.468642 ],\n",
       "       [12.383291 ],\n",
       "       [12.320431 ],\n",
       "       [12.268481 ],\n",
       "       [12.236227 ],\n",
       "       [12.21356  ],\n",
       "       [12.172763 ],\n",
       "       [12.116008 ],\n",
       "       [12.064226 ],\n",
       "       [12.032756 ],\n",
       "       [12.03797  ],\n",
       "       [12.068079 ],\n",
       "       [12.117542 ],\n",
       "       [12.172503 ],\n",
       "       [12.236843 ],\n",
       "       [12.299946 ],\n",
       "       [12.375099 ],\n",
       "       [12.470867 ],\n",
       "       [12.588082 ],\n",
       "       [12.695472 ],\n",
       "       [12.789062 ],\n",
       "       [12.879433 ],\n",
       "       [12.966952 ],\n",
       "       [13.054341 ],\n",
       "       [13.137779 ],\n",
       "       [13.212179 ],\n",
       "       [13.273259 ],\n",
       "       [13.2914   ],\n",
       "       [13.291135 ],\n",
       "       [13.256881 ],\n",
       "       [13.196943 ],\n",
       "       [13.164129 ],\n",
       "       [13.145471 ],\n",
       "       [13.135572 ],\n",
       "       [13.1376095],\n",
       "       [13.108291 ],\n",
       "       [13.078151 ],\n",
       "       [13.024698 ],\n",
       "       [12.940761 ],\n",
       "       [12.838614 ],\n",
       "       [12.736557 ],\n",
       "       [12.651956 ],\n",
       "       [12.579234 ],\n",
       "       [12.518745 ],\n",
       "       [12.48123  ],\n",
       "       [12.466777 ],\n",
       "       [12.452987 ],\n",
       "       [12.43913  ],\n",
       "       [12.416298 ],\n",
       "       [12.394397 ],\n",
       "       [12.405604 ],\n",
       "       [12.450233 ],\n",
       "       [12.540878 ],\n",
       "       [12.631108 ],\n",
       "       [12.736739 ],\n",
       "       [12.845222 ],\n",
       "       [12.952677 ],\n",
       "       [13.101622 ],\n",
       "       [13.278568 ],\n",
       "       [13.466122 ],\n",
       "       [13.660441 ],\n",
       "       [13.847292 ],\n",
       "       [14.016777 ],\n",
       "       [14.173676 ],\n",
       "       [14.309187 ],\n",
       "       [14.41485  ],\n",
       "       [14.499598 ],\n",
       "       [14.575562 ],\n",
       "       [14.625288 ],\n",
       "       [14.635719 ],\n",
       "       [14.621331 ],\n",
       "       [14.591277 ],\n",
       "       [14.557304 ],\n",
       "       [14.533096 ],\n",
       "       [14.517587 ],\n",
       "       [14.50294  ],\n",
       "       [14.487463 ],\n",
       "       [14.487474 ],\n",
       "       [14.500164 ],\n",
       "       [14.493394 ],\n",
       "       [14.473619 ],\n",
       "       [14.449704 ],\n",
       "       [14.42061  ],\n",
       "       [14.40964  ],\n",
       "       [14.432122 ],\n",
       "       [14.489171 ],\n",
       "       [14.591711 ],\n",
       "       [14.718449 ],\n",
       "       [14.856045 ],\n",
       "       [14.988533 ],\n",
       "       [15.114995 ],\n",
       "       [15.231223 ],\n",
       "       [15.338257 ],\n",
       "       [15.457513 ],\n",
       "       [15.598363 ],\n",
       "       [15.745049 ],\n",
       "       [15.855509 ],\n",
       "       [15.9314995],\n",
       "       [15.996174 ],\n",
       "       [16.039131 ],\n",
       "       [16.055428 ],\n",
       "       [16.066887 ],\n",
       "       [16.063887 ],\n",
       "       [16.04452  ],\n",
       "       [16.018719 ],\n",
       "       [16.001934 ],\n",
       "       [16.022799 ],\n",
       "       [16.049198 ],\n",
       "       [16.06516  ],\n",
       "       [16.083635 ],\n",
       "       [16.099657 ],\n",
       "       [16.117752 ],\n",
       "       [16.15582  ],\n",
       "       [16.202026 ],\n",
       "       [16.261642 ],\n",
       "       [16.307095 ],\n",
       "       [16.354578 ],\n",
       "       [16.416098 ],\n",
       "       [16.473171 ],\n",
       "       [16.523638 ],\n",
       "       [16.510921 ],\n",
       "       [16.473307 ],\n",
       "       [16.42479  ],\n",
       "       [16.398914 ],\n",
       "       [16.361643 ],\n",
       "       [16.304718 ],\n",
       "       [16.220608 ],\n",
       "       [16.11768  ],\n",
       "       [15.989776 ],\n",
       "       [15.867299 ],\n",
       "       [15.782666 ],\n",
       "       [15.724382 ],\n",
       "       [15.69626  ],\n",
       "       [15.697542 ],\n",
       "       [15.714516 ],\n",
       "       [15.723808 ],\n",
       "       [15.743464 ],\n",
       "       [15.784665 ],\n",
       "       [15.84794  ],\n",
       "       [15.911271 ],\n",
       "       [15.963368 ],\n",
       "       [15.997804 ],\n",
       "       [16.018156 ],\n",
       "       [16.06737  ],\n",
       "       [16.136555 ],\n",
       "       [16.208366 ],\n",
       "       [16.275066 ],\n",
       "       [16.351019 ],\n",
       "       [16.420166 ],\n",
       "       [16.466892 ],\n",
       "       [16.51985  ],\n",
       "       [16.577755 ],\n",
       "       [16.604322 ],\n",
       "       [16.597715 ],\n",
       "       [16.569113 ],\n",
       "       [16.52843  ],\n",
       "       [16.487793 ],\n",
       "       [16.450378 ],\n",
       "       [16.409801 ],\n",
       "       [16.376383 ],\n",
       "       [16.395548 ],\n",
       "       [16.44602  ],\n",
       "       [16.53954  ],\n",
       "       [16.632122 ],\n",
       "       [16.72493  ],\n",
       "       [16.840378 ],\n",
       "       [16.969898 ],\n",
       "       [17.111408 ],\n",
       "       [17.260353 ],\n",
       "       [17.393805 ],\n",
       "       [17.495344 ],\n",
       "       [17.584541 ],\n",
       "       [17.677195 ],\n",
       "       [17.800562 ],\n",
       "       [17.912138 ],\n",
       "       [18.021523 ],\n",
       "       [18.125177 ],\n",
       "       [18.177332 ],\n",
       "       [18.176758 ],\n",
       "       [18.144808 ],\n",
       "       [18.094267 ],\n",
       "       [18.028278 ],\n",
       "       [17.970959 ],\n",
       "       [17.923536 ],\n",
       "       [17.895226 ],\n",
       "       [17.87671  ],\n",
       "       [17.853273 ],\n",
       "       [17.816286 ],\n",
       "       [17.76223  ],\n",
       "       [17.709526 ],\n",
       "       [17.64668  ],\n",
       "       [17.532095 ],\n",
       "       [17.39938  ],\n",
       "       [17.247946 ],\n",
       "       [17.091335 ],\n",
       "       [16.92682  ],\n",
       "       [16.761261 ],\n",
       "       [16.652182 ],\n",
       "       [16.59599  ],\n",
       "       [16.569714 ],\n",
       "       [16.559303 ],\n",
       "       [16.575907 ],\n",
       "       [16.6256   ],\n",
       "       [16.66218  ],\n",
       "       [16.677458 ],\n",
       "       [16.700642 ],\n",
       "       [16.736704 ],\n",
       "       [16.775038 ],\n",
       "       [16.80043  ],\n",
       "       [16.816465 ],\n",
       "       [16.804394 ],\n",
       "       [16.788143 ],\n",
       "       [16.788414 ],\n",
       "       [16.815752 ],\n",
       "       [16.858585 ],\n",
       "       [16.90439  ],\n",
       "       [16.957754 ],\n",
       "       [17.050768 ],\n",
       "       [17.172209 ],\n",
       "       [17.313576 ],\n",
       "       [17.48467  ],\n",
       "       [17.715069 ],\n",
       "       [17.956062 ],\n",
       "       [18.19245  ],\n",
       "       [18.411655 ],\n",
       "       [18.61621  ],\n",
       "       [18.816889 ],\n",
       "       [19.050133 ],\n",
       "       [19.305809 ],\n",
       "       [19.556551 ],\n",
       "       [19.765825 ],\n",
       "       [20.006506 ],\n",
       "       [20.252836 ],\n",
       "       [20.496584 ],\n",
       "       [20.74719  ],\n",
       "       [21.00725  ],\n",
       "       [21.204126 ],\n",
       "       [21.370247 ],\n",
       "       [21.539385 ],\n",
       "       [21.706715 ],\n",
       "       [21.851645 ],\n",
       "       [21.984762 ],\n",
       "       [22.128288 ],\n",
       "       [22.2069   ],\n",
       "       [22.264385 ],\n",
       "       [22.324648 ],\n",
       "       [22.370337 ],\n",
       "       [22.401787 ],\n",
       "       [22.384596 ],\n",
       "       [22.328749 ],\n",
       "       [22.252085 ],\n",
       "       [22.157934 ],\n",
       "       [22.033108 ],\n",
       "       [21.911251 ],\n",
       "       [21.797188 ],\n",
       "       [21.686352 ],\n",
       "       [21.599514 ],\n",
       "       [21.527472 ],\n",
       "       [21.471388 ],\n",
       "       [21.452654 ],\n",
       "       [21.395758 ],\n",
       "       [21.29698  ],\n",
       "       [21.189548 ],\n",
       "       [21.07085  ],\n",
       "       [20.953588 ],\n",
       "       [20.860062 ],\n",
       "       [20.86291  ],\n",
       "       [20.900915 ],\n",
       "       [20.995026 ],\n",
       "       [21.152782 ],\n",
       "       [21.338984 ],\n",
       "       [21.518675 ],\n",
       "       [21.674644 ],\n",
       "       [21.834846 ],\n",
       "       [21.971899 ],\n",
       "       [22.085045 ],\n",
       "       [22.201563 ],\n",
       "       [22.350262 ],\n",
       "       [22.54176  ],\n",
       "       [22.785202 ]], dtype=float32)"
      ]
     },
     "execution_count": 44,
     "metadata": {},
     "output_type": "execute_result"
    }
   ],
   "source": [
    "predictions"
   ]
  },
  {
   "cell_type": "code",
   "execution_count": 50,
   "id": "bc19013d",
   "metadata": {},
   "outputs": [
    {
     "data": {
      "text/html": [
       "<div>\n",
       "<style scoped>\n",
       "    .dataframe tbody tr th:only-of-type {\n",
       "        vertical-align: middle;\n",
       "    }\n",
       "\n",
       "    .dataframe tbody tr th {\n",
       "        vertical-align: top;\n",
       "    }\n",
       "\n",
       "    .dataframe thead th {\n",
       "        text-align: right;\n",
       "    }\n",
       "</style>\n",
       "<table border=\"1\" class=\"dataframe\">\n",
       "  <thead>\n",
       "    <tr style=\"text-align: right;\">\n",
       "      <th></th>\n",
       "      <th>actual</th>\n",
       "      <th>pred</th>\n",
       "    </tr>\n",
       "  </thead>\n",
       "  <tbody>\n",
       "    <tr>\n",
       "      <th>0</th>\n",
       "      <td>12.872652</td>\n",
       "      <td>11.421278</td>\n",
       "    </tr>\n",
       "    <tr>\n",
       "      <th>1</th>\n",
       "      <td>12.844728</td>\n",
       "      <td>11.457005</td>\n",
       "    </tr>\n",
       "    <tr>\n",
       "      <th>2</th>\n",
       "      <td>12.923843</td>\n",
       "      <td>11.490691</td>\n",
       "    </tr>\n",
       "    <tr>\n",
       "      <th>3</th>\n",
       "      <td>13.296152</td>\n",
       "      <td>11.524302</td>\n",
       "    </tr>\n",
       "    <tr>\n",
       "      <th>4</th>\n",
       "      <td>13.473003</td>\n",
       "      <td>11.571546</td>\n",
       "    </tr>\n",
       "    <tr>\n",
       "      <th>...</th>\n",
       "      <td>...</td>\n",
       "      <td>...</td>\n",
       "    </tr>\n",
       "    <tr>\n",
       "      <th>743</th>\n",
       "      <td>29.931961</td>\n",
       "      <td>22.085045</td>\n",
       "    </tr>\n",
       "    <tr>\n",
       "      <th>744</th>\n",
       "      <td>30.990646</td>\n",
       "      <td>22.201563</td>\n",
       "    </tr>\n",
       "    <tr>\n",
       "      <th>745</th>\n",
       "      <td>31.909344</td>\n",
       "      <td>22.350262</td>\n",
       "    </tr>\n",
       "    <tr>\n",
       "      <th>746</th>\n",
       "      <td>33.003029</td>\n",
       "      <td>22.541759</td>\n",
       "    </tr>\n",
       "    <tr>\n",
       "      <th>747</th>\n",
       "      <td>29.966959</td>\n",
       "      <td>22.785202</td>\n",
       "    </tr>\n",
       "  </tbody>\n",
       "</table>\n",
       "<p>748 rows × 2 columns</p>\n",
       "</div>"
      ],
      "text/plain": [
       "        actual       pred\n",
       "0    12.872652  11.421278\n",
       "1    12.844728  11.457005\n",
       "2    12.923843  11.490691\n",
       "3    13.296152  11.524302\n",
       "4    13.473003  11.571546\n",
       "..         ...        ...\n",
       "743  29.931961  22.085045\n",
       "744  30.990646  22.201563\n",
       "745  31.909344  22.350262\n",
       "746  33.003029  22.541759\n",
       "747  29.966959  22.785202\n",
       "\n",
       "[748 rows x 2 columns]"
      ]
     },
     "execution_count": 50,
     "metadata": {},
     "output_type": "execute_result"
    }
   ],
   "source": [
    "pred1 = pd.DataFrame(y_test).rename(columns={0:'actual'})\n",
    "pred1['pred']=pd.DataFrame(predictions)\n",
    "pred1"
   ]
  },
  {
   "cell_type": "code",
   "execution_count": 48,
   "id": "48f5adea",
   "metadata": {},
   "outputs": [
    {
     "name": "stderr",
     "output_type": "stream",
     "text": [
      "/tmp/ipykernel_24260/2387409059.py:4: SettingWithCopyWarning: \n",
      "A value is trying to be set on a copy of a slice from a DataFrame.\n",
      "Try using .loc[row_indexer,col_indexer] = value instead\n",
      "\n",
      "See the caveats in the documentation: https://pandas.pydata.org/pandas-docs/stable/user_guide/indexing.html#returning-a-view-versus-a-copy\n",
      "  validation['Predictions'] = predictions\n"
     ]
    },
    {
     "data": {
      "image/png": "[encoded data removed]",
      "text/plain": [
       "<Figure size 1152x576 with 1 Axes>"
      ]
     },
     "metadata": {
      "needs_background": "light"
     },
     "output_type": "display_data"
    }
   ],
   "source": [
    "data = dados.filter(['Close'])\n",
    "#train = data[:training_data_len]\n",
    "validation = data[training_data_len+45:]\n",
    "validation['Predictions'] = predictions\n",
    "plt.figure(figsize=(16,8))\n",
    "plt.title('Model')\n",
    "plt.xlabel('Date')\n",
    "plt.ylabel('Close Price USD ($)')\n",
    "#plt.plot(train)\n",
    "plt.plot(validation[['Close', 'Predictions']])\n",
    "plt.legend(['Val', 'Predictions'], loc='lower right')\n",
    "plt.show()"
   ]
  },
  {
   "cell_type": "code",
   "execution_count": 52,
   "id": "b7f89573",
   "metadata": {},
   "outputs": [],
   "source": [
    "#Its not good. The model is not able to correctly predict the next 45 days based on the last year.\n",
    "#improve the model\n",
    "#increase variables"
   ]
  },
  {
   "cell_type": "code",
   "execution_count": 169,
   "id": "402580db",
   "metadata": {},
   "outputs": [],
   "source": [
    "#!git add .\n",
    "#!git commit -m '60days'\n",
    "#!git push origin main"
   ]
  },
  {
   "cell_type": "markdown",
   "id": "7b030205",
   "metadata": {},
   "source": [
    "# Improving new model"
   ]
  },
  {
   "cell_type": "code",
   "execution_count": 61,
   "id": "95bf84c8",
   "metadata": {},
   "outputs": [
    {
     "name": "stdout",
     "output_type": "stream",
     "text": [
      "Epoch 1/100\n",
      "143/143 [==============================] - 240s 2s/step - loss: 0.0109 - val_loss: 0.0103\n",
      "Epoch 2/100\n",
      "143/143 [==============================] - 179s 1s/step - loss: 0.0090 - val_loss: 0.0066\n",
      "Epoch 3/100\n",
      "143/143 [==============================] - 159s 1s/step - loss: 0.0087 - val_loss: 0.0059\n",
      "Epoch 4/100\n",
      "143/143 [==============================] - 161s 1s/step - loss: 0.0088 - val_loss: 0.0119\n",
      "Epoch 5/100\n",
      "143/143 [==============================] - 158s 1s/step - loss: 0.0089 - val_loss: 0.0078\n",
      "Epoch 6/100\n",
      "143/143 [==============================] - 157s 1s/step - loss: 0.0085 - val_loss: 0.0104\n",
      "Epoch 7/100\n",
      "143/143 [==============================] - 161s 1s/step - loss: 0.0088 - val_loss: 0.0090\n",
      "Epoch 8/100\n",
      "143/143 [==============================] - 158s 1s/step - loss: 0.0085 - val_loss: 0.0087\n"
     ]
    },
    {
     "data": {
      "text/plain": [
       "<keras.callbacks.History at 0x7fd6ecb53cd0>"
      ]
     },
     "execution_count": 61,
     "metadata": {},
     "output_type": "execute_result"
    }
   ],
   "source": [
    "#Lets try to finetune the existing model to improve our results\n",
    "\n",
    "model = Sequential()\n",
    "model.add(LSTM(300, return_sequences=True, input_shape=(x_train.shape[1], 1)))\n",
    "model.add(LSTM(200, return_sequences=False))\n",
    "model.add(Dense(75))\n",
    "model.add(Dense(25))\n",
    "model.add(Dense(1))\n",
    "\n",
    "model.compile(optimizer='adam', loss='mean_squared_error')\n",
    "\n",
    "model.fit(x_train,y_train, batch_size=16, epochs=100,verbose=1,validation_split=0.2,\n",
    "          callbacks=[EarlyStopping(patience=5,restore_best_weights=True)])"
   ]
  },
  {
   "cell_type": "code",
   "execution_count": 62,
   "id": "6e8bd50b",
   "metadata": {},
   "outputs": [
    {
     "data": {
      "text/plain": [
       "0.8751134056458498"
      ]
     },
     "execution_count": 62,
     "metadata": {},
     "output_type": "execute_result"
    }
   ],
   "source": [
    "predictions = model.predict(x_test)\n",
    "predictions = scaler.inverse_transform(predictions)\n",
    "rmse = np.sqrt(np.mean(predictions - y_test)**2)\n",
    "rmse"
   ]
  },
  {
   "cell_type": "code",
   "execution_count": 68,
   "id": "678ea239",
   "metadata": {},
   "outputs": [
    {
     "name": "stdout",
     "output_type": "stream",
     "text": [
      "Epoch 1/100\n",
      "143/143 [==============================] - 339s 2s/step - loss: 0.0109 - val_loss: 0.0123\n",
      "Epoch 2/100\n",
      "143/143 [==============================] - 299s 2s/step - loss: 0.0088 - val_loss: 0.0092\n",
      "Epoch 3/100\n",
      "143/143 [==============================] - 295s 2s/step - loss: 0.0082 - val_loss: 0.0116\n",
      "Epoch 4/100\n",
      "143/143 [==============================] - 298s 2s/step - loss: 0.0083 - val_loss: 0.0139\n",
      "Epoch 5/100\n",
      "143/143 [==============================] - 300s 2s/step - loss: 0.0086 - val_loss: 0.0111\n",
      "Epoch 6/100\n",
      "143/143 [==============================] - 295s 2s/step - loss: 0.0081 - val_loss: 0.0154\n",
      "Epoch 7/100\n",
      "143/143 [==============================] - 297s 2s/step - loss: 0.0080 - val_loss: 0.0070\n",
      "Epoch 8/100\n",
      "143/143 [==============================] - 308s 2s/step - loss: 0.0079 - val_loss: 0.0119\n",
      "Epoch 9/100\n",
      "143/143 [==============================] - 294s 2s/step - loss: 0.0077 - val_loss: 0.0145\n",
      "Epoch 10/100\n",
      "143/143 [==============================] - 299s 2s/step - loss: 0.0077 - val_loss: 0.0107\n",
      "Epoch 11/100\n",
      "143/143 [==============================] - 295s 2s/step - loss: 0.0076 - val_loss: 0.0116\n",
      "Epoch 12/100\n",
      "143/143 [==============================] - 297s 2s/step - loss: 0.0077 - val_loss: 0.0082\n"
     ]
    },
    {
     "data": {
      "text/plain": [
       "<keras.callbacks.History at 0x7fd6c5772cd0>"
      ]
     },
     "execution_count": 68,
     "metadata": {},
     "output_type": "execute_result"
    }
   ],
   "source": [
    "#biderectional\n",
    "from tensorflow.keras.layers import Bidirectional\n",
    "\n",
    "#Lets try to finetune the existing model to improve our results\n",
    "\n",
    "model = Sequential()\n",
    "model.add(Bidirectional(LSTM(300, return_sequences=True, input_shape=(x_train.shape[1], 1))))\n",
    "model.add(Bidirectional(LSTM(200, return_sequences=False)))\n",
    "model.add(Dense(75))\n",
    "model.add(Dense(25))\n",
    "model.add(Dense(1))\n",
    "\n",
    "model.compile(optimizer='adam', loss='mean_squared_error')\n",
    "\n",
    "model.fit(x_train,y_train, batch_size=16, epochs=100,verbose=1,validation_split=0.2,\n",
    "          callbacks=[EarlyStopping(patience=5,restore_best_weights=True)])"
   ]
  },
  {
   "cell_type": "code",
   "execution_count": 69,
   "id": "d89e5470",
   "metadata": {},
   "outputs": [
    {
     "data": {
      "text/plain": [
       "0.5670996815125573"
      ]
     },
     "execution_count": 69,
     "metadata": {},
     "output_type": "execute_result"
    }
   ],
   "source": [
    "predictions = model.predict(x_test)\n",
    "predictions = scaler.inverse_transform(predictions)\n",
    "rmse = np.sqrt(np.mean(predictions - y_test)**2)\n",
    "rmse"
   ]
  },
  {
   "cell_type": "code",
   "execution_count": 70,
   "id": "e5bce852",
   "metadata": {},
   "outputs": [
    {
     "name": "stderr",
     "output_type": "stream",
     "text": [
      "/tmp/ipykernel_24260/2387409059.py:4: SettingWithCopyWarning: \n",
      "A value is trying to be set on a copy of a slice from a DataFrame.\n",
      "Try using .loc[row_indexer,col_indexer] = value instead\n",
      "\n",
      "See the caveats in the documentation: https://pandas.pydata.org/pandas-docs/stable/user_guide/indexing.html#returning-a-view-versus-a-copy\n",
      "  validation['Predictions'] = predictions\n"
     ]
    },
    {
     "data": {
      "image/png": "[encoded data removed]",
      "text/plain": [
       "<Figure size 1152x576 with 1 Axes>"
      ]
     },
     "metadata": {
      "needs_background": "light"
     },
     "output_type": "display_data"
    }
   ],
   "source": [
    "data = dados.filter(['Close'])\n",
    "#train = data[:training_data_len]\n",
    "validation = data[training_data_len+45:]\n",
    "validation['Predictions'] = predictions\n",
    "plt.figure(figsize=(16,8))\n",
    "plt.title('Model')\n",
    "plt.xlabel('Date')\n",
    "plt.ylabel('Close Price USD ($)')\n",
    "#plt.plot(train)\n",
    "plt.plot(validation[['Close', 'Predictions']])\n",
    "plt.legend(['Val', 'Predictions'], loc='lower right')\n",
    "plt.show()"
   ]
  },
  {
   "cell_type": "code",
   "execution_count": null,
   "id": "d04adc2f",
   "metadata": {},
   "outputs": [
    {
     "name": "stderr",
     "output_type": "stream",
     "text": [
      "2023-01-19 15:13:20.446279: W tensorflow/python/util/util.cc:368] Sets are not currently considered sequences, but this may change in the future, so consider avoiding using them.\n"
     ]
    }
   ],
   "source": [
    "import pickle\n",
    "filename = 'modelbidirectional.sav'\n",
    "pickle.dump(model, open(filename, 'wb'))"
   ]
  },
  {
   "cell_type": "code",
   "execution_count": null,
   "id": "9d91e6ea",
   "metadata": {},
   "outputs": [],
   "source": [
    "# load the model from disk\n",
    "loaded_model = pickle.load(open(filename, 'rb'))\n",
    "y_pred=loaded_model.predict(x_test)\n",
    "y_pred=scaler.inverse_transform(y_pred)\n",
    "rmse = np.sqrt(np.mean(y_pred - y_test)**2)\n",
    "rmse"
   ]
  },
  {
   "cell_type": "code",
   "execution_count": null,
   "id": "2d6bd03c",
   "metadata": {},
   "outputs": [],
   "source": []
  }
 ],
 "metadata": {
  "kernelspec": {
   "display_name": "Python 3 (ipykernel)",
   "language": "python",
   "name": "python3"
  },
  "language_info": {
   "codemirror_mode": {
    "name": "ipython",
    "version": 3
   },
   "file_extension": ".py",
   "mimetype": "text/x-python",
   "name": "python",
   "nbconvert_exporter": "python",
   "pygments_lexer": "ipython3",
   "version": "3.8.12"
  },
  "toc": {
   "base_numbering": 1,
   "nav_menu": {},
   "number_sections": true,
   "sideBar": true,
   "skip_h1_title": false,
   "title_cell": "Table of Contents",
   "title_sidebar": "Contents",
   "toc_cell": false,
   "toc_position": {
    "height": "calc(100% - 180px)",
    "left": "10px",
    "top": "150px",
    "width": "273.188px"
   },
   "toc_section_display": true,
   "toc_window_display": true
  }
 },
 "nbformat": 4,
 "nbformat_minor": 5
}
