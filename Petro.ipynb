{
 "cells": [
  {
   "cell_type": "markdown",
   "id": "41c47c21",
   "metadata": {},
   "source": [
    "# Goals"
   ]
  },
  {
   "cell_type": "markdown",
   "id": "3ee9d377",
   "metadata": {},
   "source": [
    "- The main goal of this project is to make a prediction of stock prices of PETR4.\n",
    "- Additionally, I would like to work with 2-month predictions in order to figure out a way to find out nice opportunities for options on this stock. PETR4 options are amidst the most traded in the world.\n",
    "- An extension to this project would be to build a bot to trade this stock."
   ]
  },
  {
   "cell_type": "markdown",
   "id": "5e4d2af5",
   "metadata": {},
   "source": [
    "## How"
   ]
  },
  {
   "cell_type": "markdown",
   "id": "1dc40f71",
   "metadata": {},
   "source": [
    "- First I'm going to make use of time series with the daily stock prices, probably LSTM or bidirectional LSTM, which are the most relevant. \n",
    "- Maybe I could try to put another variable like international price of oil or other oil stocks."
   ]
  },
  {
   "cell_type": "markdown",
   "id": "76e0900e",
   "metadata": {},
   "source": [
    "# Getting Data"
   ]
  },
  {
   "cell_type": "code",
   "execution_count": 4,
   "id": "4037ff09",
   "metadata": {},
   "outputs": [],
   "source": [
    "#!pip install yfinance"
   ]
  },
  {
   "cell_type": "code",
   "execution_count": 2,
   "id": "b5393592",
   "metadata": {},
   "outputs": [],
   "source": [
    "import yfinance as yf"
   ]
  },
  {
   "cell_type": "code",
   "execution_count": 3,
   "id": "ff8c76dc",
   "metadata": {},
   "outputs": [
    {
     "data": {
      "text/plain": [
       "yfinance.Ticker object <PETR4.SA>"
      ]
     },
     "execution_count": 3,
     "metadata": {},
     "output_type": "execute_result"
    }
   ],
   "source": [
    "papel = yf.Ticker('PETR4.SA')\n",
    "papel"
   ]
  },
  {
   "cell_type": "code",
   "execution_count": 4,
   "id": "6eb2ad8e",
   "metadata": {},
   "outputs": [],
   "source": [
    "dados= papel.history(start= '2007-01-01', end='2022-12-29')"
   ]
  },
  {
   "cell_type": "code",
   "execution_count": 5,
   "id": "471ea214",
   "metadata": {},
   "outputs": [
    {
     "name": "stdout",
     "output_type": "stream",
     "text": [
      "<class 'pandas.core.frame.DataFrame'>\n",
      "DatetimeIndex: 3966 entries, 2007-01-02 00:00:00-02:00 to 2022-12-28 00:00:00-03:00\n",
      "Data columns (total 7 columns):\n",
      " #   Column        Non-Null Count  Dtype  \n",
      "---  ------        --------------  -----  \n",
      " 0   Open          3966 non-null   float64\n",
      " 1   High          3966 non-null   float64\n",
      " 2   Low           3966 non-null   float64\n",
      " 3   Close         3966 non-null   float64\n",
      " 4   Volume        3966 non-null   int64  \n",
      " 5   Dividends     3966 non-null   float64\n",
      " 6   Stock Splits  3966 non-null   float64\n",
      "dtypes: float64(6), int64(1)\n",
      "memory usage: 247.9 KB\n"
     ]
    }
   ],
   "source": [
    "dados.info()"
   ]
  },
  {
   "cell_type": "markdown",
   "id": "598977a9",
   "metadata": {},
   "source": [
    "# Exploratory Analysis"
   ]
  },
  {
   "cell_type": "code",
   "execution_count": 6,
   "id": "ca0c399e",
   "metadata": {},
   "outputs": [],
   "source": [
    "# Close price through the years"
   ]
  },
  {
   "cell_type": "code",
   "execution_count": 7,
   "id": "09138cb1",
   "metadata": {},
   "outputs": [
    {
     "data": {
      "text/plain": [
       "<AxesSubplot:xlabel='Date'>"
      ]
     },
     "execution_count": 7,
     "metadata": {},
     "output_type": "execute_result"
    },
    {
     "data": {
      "image/png": "[encoded data removed]",
      "text/plain": [
       "<Figure size 432x288 with 1 Axes>"
      ]
     },
     "metadata": {
      "needs_background": "light"
     },
     "output_type": "display_data"
    }
   ],
   "source": [
    "dados['Close'].plot()"
   ]
  },
  {
   "cell_type": "code",
   "execution_count": 8,
   "id": "81eb4bf7",
   "metadata": {},
   "outputs": [],
   "source": [
    "# dividend distribution"
   ]
  },
  {
   "cell_type": "code",
   "execution_count": 9,
   "id": "221818d9",
   "metadata": {},
   "outputs": [
    {
     "data": {
      "text/html": [
       "<div>\n",
       "<style scoped>\n",
       "    .dataframe tbody tr th:only-of-type {\n",
       "        vertical-align: middle;\n",
       "    }\n",
       "\n",
       "    .dataframe tbody tr th {\n",
       "        vertical-align: top;\n",
       "    }\n",
       "\n",
       "    .dataframe thead th {\n",
       "        text-align: right;\n",
       "    }\n",
       "</style>\n",
       "<table border=\"1\" class=\"dataframe\">\n",
       "  <thead>\n",
       "    <tr style=\"text-align: right;\">\n",
       "      <th></th>\n",
       "      <th>Dividends</th>\n",
       "    </tr>\n",
       "    <tr>\n",
       "      <th>Date</th>\n",
       "      <th></th>\n",
       "    </tr>\n",
       "  </thead>\n",
       "  <tbody>\n",
       "    <tr>\n",
       "      <th>2007-01-02 00:00:00-02:00</th>\n",
       "      <td>0.2250</td>\n",
       "    </tr>\n",
       "    <tr>\n",
       "      <th>2007-04-03 00:00:00-03:00</th>\n",
       "      <td>0.1750</td>\n",
       "    </tr>\n",
       "    <tr>\n",
       "      <th>2007-08-20 00:00:00-03:00</th>\n",
       "      <td>0.2517</td>\n",
       "    </tr>\n",
       "    <tr>\n",
       "      <th>2007-10-08 00:00:00-03:00</th>\n",
       "      <td>0.2565</td>\n",
       "    </tr>\n",
       "    <tr>\n",
       "      <th>2008-01-14 00:00:00-02:00</th>\n",
       "      <td>0.1553</td>\n",
       "    </tr>\n",
       "  </tbody>\n",
       "</table>\n",
       "</div>"
      ],
      "text/plain": [
       "                           Dividends\n",
       "Date                                \n",
       "2007-01-02 00:00:00-02:00     0.2250\n",
       "2007-04-03 00:00:00-03:00     0.1750\n",
       "2007-08-20 00:00:00-03:00     0.2517\n",
       "2007-10-08 00:00:00-03:00     0.2565\n",
       "2008-01-14 00:00:00-02:00     0.1553"
      ]
     },
     "execution_count": 9,
     "metadata": {},
     "output_type": "execute_result"
    }
   ],
   "source": [
    "div=dados[['Dividends']]\n",
    "div=div[div['Dividends']>0]\n",
    "div.head()"
   ]
  },
  {
   "cell_type": "code",
   "execution_count": 10,
   "id": "9d9e5e5a",
   "metadata": {},
   "outputs": [
    {
     "data": {
      "text/plain": [
       "DatetimeIndex(['2007-01-02 00:00:00-02:00', '2007-04-03 00:00:00-03:00',\n",
       "               '2007-08-20 00:00:00-03:00', '2007-10-08 00:00:00-03:00',\n",
       "               '2008-01-14 00:00:00-02:00', '2008-04-07 00:00:00-03:00',\n",
       "               '2008-12-29 00:00:00-02:00', '2009-04-09 00:00:00-03:00',\n",
       "               '2009-07-06 00:00:00-03:00', '2009-10-01 00:00:00-03:00',\n",
       "               '2009-12-21 00:00:00-02:00', '2010-04-23 00:00:00-03:00',\n",
       "               '2010-05-24 00:00:00-03:00', '2010-08-02 00:00:00-03:00',\n",
       "               '2010-11-03 00:00:00-02:00', '2010-12-22 00:00:00-02:00',\n",
       "               '2011-03-22 00:00:00-03:00', '2011-04-29 00:00:00-03:00',\n",
       "               '2011-05-12 00:00:00-03:00', '2011-08-03 00:00:00-03:00',\n",
       "               '2011-11-14 00:00:00-02:00', '2012-01-03 00:00:00-02:00',\n",
       "               '2012-03-20 00:00:00-03:00', '2012-05-14 00:00:00-03:00',\n",
       "               '2013-04-30 00:00:00-03:00', '2014-04-03 00:00:00-03:00',\n",
       "               '2018-05-22 00:00:00-03:00', '2018-08-14 00:00:00-03:00',\n",
       "               '2018-11-22 00:00:00-02:00', '2018-12-26 00:00:00-02:00',\n",
       "               '2019-04-26 00:00:00-03:00', '2019-05-22 00:00:00-03:00',\n",
       "               '2019-08-13 00:00:00-03:00', '2019-11-12 00:00:00-03:00',\n",
       "               '2019-12-27 00:00:00-03:00', '2020-04-23 00:00:00-03:00',\n",
       "               '2020-04-28 00:00:00-03:00', '2020-07-23 00:00:00-03:00',\n",
       "               '2021-04-15 00:00:00-03:00', '2021-08-17 00:00:00-03:00',\n",
       "               '2021-12-02 00:00:00-03:00', '2022-04-14 00:00:00-03:00',\n",
       "               '2022-05-24 00:00:00-03:00', '2022-08-12 00:00:00-03:00',\n",
       "               '2022-11-22 00:00:00-03:00'],\n",
       "              dtype='datetime64[ns, America/Sao_Paulo]', name='Date', freq=None)"
      ]
     },
     "execution_count": 10,
     "metadata": {},
     "output_type": "execute_result"
    }
   ],
   "source": [
    "div.index"
   ]
  },
  {
   "cell_type": "code",
   "execution_count": 11,
   "id": "b6e62334",
   "metadata": {},
   "outputs": [],
   "source": [
    "#for date in div.index:\n",
    "    #print(date)"
   ]
  },
  {
   "cell_type": "code",
   "execution_count": 12,
   "id": "7a8f6839",
   "metadata": {},
   "outputs": [
    {
     "data": {
      "text/plain": [
       "Timestamp('2007-01-02 00:00:00-0200', tz='America/Sao_Paulo')"
      ]
     },
     "execution_count": 12,
     "metadata": {},
     "output_type": "execute_result"
    }
   ],
   "source": [
    "div.index[0]"
   ]
  },
  {
   "cell_type": "code",
   "execution_count": 13,
   "id": "1f2ed465",
   "metadata": {},
   "outputs": [
    {
     "data": {
      "text/plain": [
       "157"
      ]
     },
     "execution_count": 13,
     "metadata": {},
     "output_type": "execute_result"
    }
   ],
   "source": [
    "dados.index.get_loc(div.index[2])"
   ]
  },
  {
   "cell_type": "code",
   "execution_count": 14,
   "id": "6200f710",
   "metadata": {},
   "outputs": [
    {
     "data": {
      "text/plain": [
       "157"
      ]
     },
     "execution_count": 14,
     "metadata": {},
     "output_type": "execute_result"
    }
   ],
   "source": [
    "dados.index.get_loc('2007-08-20 00:00:00-03:00')"
   ]
  },
  {
   "cell_type": "code",
   "execution_count": 15,
   "id": "11e1d370",
   "metadata": {},
   "outputs": [
    {
     "data": {
      "text/plain": [
       "Open            8.221954e+00\n",
       "High            8.241329e+00\n",
       "Low             8.031729e+00\n",
       "Close           8.149739e+00\n",
       "Volume          2.473800e+07\n",
       "Dividends       2.517000e-01\n",
       "Stock Splits    0.000000e+00\n",
       "Name: 2007-08-20 00:00:00-03:00, dtype: float64"
      ]
     },
     "execution_count": 15,
     "metadata": {},
     "output_type": "execute_result"
    }
   ],
   "source": [
    "dados.iloc[157]"
   ]
  },
  {
   "cell_type": "code",
   "execution_count": 16,
   "id": "b32985b2",
   "metadata": {},
   "outputs": [],
   "source": [
    "locations_div=[]\n",
    "for data in div.index:\n",
    "    locations_div.append(dados.index.get_loc(data))"
   ]
  },
  {
   "cell_type": "code",
   "execution_count": 17,
   "id": "f4e081cb",
   "metadata": {},
   "outputs": [],
   "source": [
    "close_div=[]\n",
    "for loc in locations_div:\n",
    "    close_div.append(dados.iloc[loc]['Close'])"
   ]
  },
  {
   "cell_type": "code",
   "execution_count": 18,
   "id": "074df7a8",
   "metadata": {},
   "outputs": [],
   "source": [
    "div['Price']=close_div"
   ]
  },
  {
   "cell_type": "code",
   "execution_count": 19,
   "id": "0701331b",
   "metadata": {},
   "outputs": [],
   "source": [
    "div['DY']=div['Dividends']/div['Price']"
   ]
  },
  {
   "cell_type": "code",
   "execution_count": 20,
   "id": "68af12c4",
   "metadata": {},
   "outputs": [
    {
     "data": {
      "text/html": [
       "<div>\n",
       "<style scoped>\n",
       "    .dataframe tbody tr th:only-of-type {\n",
       "        vertical-align: middle;\n",
       "    }\n",
       "\n",
       "    .dataframe tbody tr th {\n",
       "        vertical-align: top;\n",
       "    }\n",
       "\n",
       "    .dataframe thead th {\n",
       "        text-align: right;\n",
       "    }\n",
       "</style>\n",
       "<table border=\"1\" class=\"dataframe\">\n",
       "  <thead>\n",
       "    <tr style=\"text-align: right;\">\n",
       "      <th></th>\n",
       "      <th>Dividends</th>\n",
       "      <th>Price</th>\n",
       "      <th>DY</th>\n",
       "    </tr>\n",
       "    <tr>\n",
       "      <th>Date</th>\n",
       "      <th></th>\n",
       "      <th></th>\n",
       "      <th></th>\n",
       "    </tr>\n",
       "  </thead>\n",
       "  <tbody>\n",
       "    <tr>\n",
       "      <th>2007-01-02 00:00:00-02:00</th>\n",
       "      <td>0.225000</td>\n",
       "      <td>8.701063</td>\n",
       "      <td>0.025859</td>\n",
       "    </tr>\n",
       "    <tr>\n",
       "      <th>2007-04-03 00:00:00-03:00</th>\n",
       "      <td>0.175000</td>\n",
       "      <td>7.908743</td>\n",
       "      <td>0.022127</td>\n",
       "    </tr>\n",
       "    <tr>\n",
       "      <th>2007-08-20 00:00:00-03:00</th>\n",
       "      <td>0.251700</td>\n",
       "      <td>8.149739</td>\n",
       "      <td>0.030884</td>\n",
       "    </tr>\n",
       "    <tr>\n",
       "      <th>2007-10-08 00:00:00-03:00</th>\n",
       "      <td>0.256500</td>\n",
       "      <td>10.987376</td>\n",
       "      <td>0.023345</td>\n",
       "    </tr>\n",
       "    <tr>\n",
       "      <th>2008-01-14 00:00:00-02:00</th>\n",
       "      <td>0.155300</td>\n",
       "      <td>14.462685</td>\n",
       "      <td>0.010738</td>\n",
       "    </tr>\n",
       "    <tr>\n",
       "      <th>2008-04-07 00:00:00-03:00</th>\n",
       "      <td>0.102600</td>\n",
       "      <td>14.037210</td>\n",
       "      <td>0.007309</td>\n",
       "    </tr>\n",
       "    <tr>\n",
       "      <th>2008-12-29 00:00:00-02:00</th>\n",
       "      <td>0.042600</td>\n",
       "      <td>8.069037</td>\n",
       "      <td>0.005279</td>\n",
       "    </tr>\n",
       "    <tr>\n",
       "      <th>2009-04-09 00:00:00-03:00</th>\n",
       "      <td>0.351600</td>\n",
       "      <td>11.181713</td>\n",
       "      <td>0.031444</td>\n",
       "    </tr>\n",
       "    <tr>\n",
       "      <th>2009-07-06 00:00:00-03:00</th>\n",
       "      <td>0.300000</td>\n",
       "      <td>10.998056</td>\n",
       "      <td>0.027278</td>\n",
       "    </tr>\n",
       "    <tr>\n",
       "      <th>2009-10-01 00:00:00-03:00</th>\n",
       "      <td>0.200000</td>\n",
       "      <td>12.537814</td>\n",
       "      <td>0.015952</td>\n",
       "    </tr>\n",
       "    <tr>\n",
       "      <th>2009-12-21 00:00:00-02:00</th>\n",
       "      <td>0.200000</td>\n",
       "      <td>13.032519</td>\n",
       "      <td>0.015346</td>\n",
       "    </tr>\n",
       "    <tr>\n",
       "      <th>2010-04-23 00:00:00-03:00</th>\n",
       "      <td>0.133200</td>\n",
       "      <td>12.637947</td>\n",
       "      <td>0.010540</td>\n",
       "    </tr>\n",
       "    <tr>\n",
       "      <th>2010-05-24 00:00:00-03:00</th>\n",
       "      <td>0.170000</td>\n",
       "      <td>10.154361</td>\n",
       "      <td>0.016742</td>\n",
       "    </tr>\n",
       "    <tr>\n",
       "      <th>2010-08-02 00:00:00-03:00</th>\n",
       "      <td>0.170000</td>\n",
       "      <td>10.702161</td>\n",
       "      <td>0.015885</td>\n",
       "    </tr>\n",
       "    <tr>\n",
       "      <th>2010-11-03 00:00:00-02:00</th>\n",
       "      <td>0.140000</td>\n",
       "      <td>10.214263</td>\n",
       "      <td>0.013706</td>\n",
       "    </tr>\n",
       "    <tr>\n",
       "      <th>2010-12-22 00:00:00-02:00</th>\n",
       "      <td>0.200000</td>\n",
       "      <td>9.806135</td>\n",
       "      <td>0.020395</td>\n",
       "    </tr>\n",
       "    <tr>\n",
       "      <th>2011-03-22 00:00:00-03:00</th>\n",
       "      <td>0.173420</td>\n",
       "      <td>10.791512</td>\n",
       "      <td>0.016070</td>\n",
       "    </tr>\n",
       "    <tr>\n",
       "      <th>2011-04-29 00:00:00-03:00</th>\n",
       "      <td>0.126500</td>\n",
       "      <td>9.869988</td>\n",
       "      <td>0.012817</td>\n",
       "    </tr>\n",
       "    <tr>\n",
       "      <th>2011-05-12 00:00:00-03:00</th>\n",
       "      <td>0.213600</td>\n",
       "      <td>9.567515</td>\n",
       "      <td>0.022326</td>\n",
       "    </tr>\n",
       "    <tr>\n",
       "      <th>2011-08-03 00:00:00-03:00</th>\n",
       "      <td>0.207300</td>\n",
       "      <td>9.221043</td>\n",
       "      <td>0.022481</td>\n",
       "    </tr>\n",
       "    <tr>\n",
       "      <th>2011-11-14 00:00:00-02:00</th>\n",
       "      <td>0.200000</td>\n",
       "      <td>8.680128</td>\n",
       "      <td>0.023041</td>\n",
       "    </tr>\n",
       "    <tr>\n",
       "      <th>2012-01-03 00:00:00-02:00</th>\n",
       "      <td>0.177300</td>\n",
       "      <td>8.947165</td>\n",
       "      <td>0.019816</td>\n",
       "    </tr>\n",
       "    <tr>\n",
       "      <th>2012-03-20 00:00:00-03:00</th>\n",
       "      <td>0.124400</td>\n",
       "      <td>9.739528</td>\n",
       "      <td>0.012773</td>\n",
       "    </tr>\n",
       "    <tr>\n",
       "      <th>2012-05-14 00:00:00-03:00</th>\n",
       "      <td>0.200000</td>\n",
       "      <td>7.663025</td>\n",
       "      <td>0.026099</td>\n",
       "    </tr>\n",
       "    <tr>\n",
       "      <th>2013-04-30 00:00:00-03:00</th>\n",
       "      <td>0.386170</td>\n",
       "      <td>8.302524</td>\n",
       "      <td>0.046512</td>\n",
       "    </tr>\n",
       "    <tr>\n",
       "      <th>2014-04-03 00:00:00-03:00</th>\n",
       "      <td>0.967200</td>\n",
       "      <td>6.786125</td>\n",
       "      <td>0.142526</td>\n",
       "    </tr>\n",
       "    <tr>\n",
       "      <th>2018-05-22 00:00:00-03:00</th>\n",
       "      <td>0.050000</td>\n",
       "      <td>10.910421</td>\n",
       "      <td>0.004583</td>\n",
       "    </tr>\n",
       "    <tr>\n",
       "      <th>2018-08-14 00:00:00-03:00</th>\n",
       "      <td>0.050000</td>\n",
       "      <td>8.844010</td>\n",
       "      <td>0.005654</td>\n",
       "    </tr>\n",
       "    <tr>\n",
       "      <th>2018-11-22 00:00:00-02:00</th>\n",
       "      <td>0.100000</td>\n",
       "      <td>11.176881</td>\n",
       "      <td>0.008947</td>\n",
       "    </tr>\n",
       "    <tr>\n",
       "      <th>2018-12-26 00:00:00-02:00</th>\n",
       "      <td>0.716563</td>\n",
       "      <td>9.966169</td>\n",
       "      <td>0.071900</td>\n",
       "    </tr>\n",
       "    <tr>\n",
       "      <th>2019-04-26 00:00:00-03:00</th>\n",
       "      <td>0.019494</td>\n",
       "      <td>12.535458</td>\n",
       "      <td>0.001555</td>\n",
       "    </tr>\n",
       "    <tr>\n",
       "      <th>2019-05-22 00:00:00-03:00</th>\n",
       "      <td>0.100000</td>\n",
       "      <td>12.139669</td>\n",
       "      <td>0.008237</td>\n",
       "    </tr>\n",
       "    <tr>\n",
       "      <th>2019-08-13 00:00:00-03:00</th>\n",
       "      <td>0.200000</td>\n",
       "      <td>12.002370</td>\n",
       "      <td>0.016663</td>\n",
       "    </tr>\n",
       "    <tr>\n",
       "      <th>2019-11-12 00:00:00-03:00</th>\n",
       "      <td>0.200925</td>\n",
       "      <td>14.063768</td>\n",
       "      <td>0.014287</td>\n",
       "    </tr>\n",
       "    <tr>\n",
       "      <th>2019-12-27 00:00:00-03:00</th>\n",
       "      <td>0.421942</td>\n",
       "      <td>14.495885</td>\n",
       "      <td>0.029108</td>\n",
       "    </tr>\n",
       "    <tr>\n",
       "      <th>2020-04-23 00:00:00-03:00</th>\n",
       "      <td>0.000449</td>\n",
       "      <td>8.050848</td>\n",
       "      <td>0.000056</td>\n",
       "    </tr>\n",
       "    <tr>\n",
       "      <th>2020-04-28 00:00:00-03:00</th>\n",
       "      <td>0.000449</td>\n",
       "      <td>8.193564</td>\n",
       "      <td>0.000055</td>\n",
       "    </tr>\n",
       "    <tr>\n",
       "      <th>2020-07-23 00:00:00-03:00</th>\n",
       "      <td>0.000461</td>\n",
       "      <td>10.720721</td>\n",
       "      <td>0.000043</td>\n",
       "    </tr>\n",
       "    <tr>\n",
       "      <th>2021-04-15 00:00:00-03:00</th>\n",
       "      <td>0.792834</td>\n",
       "      <td>11.336847</td>\n",
       "      <td>0.069934</td>\n",
       "    </tr>\n",
       "    <tr>\n",
       "      <th>2021-08-17 00:00:00-03:00</th>\n",
       "      <td>1.609911</td>\n",
       "      <td>14.061770</td>\n",
       "      <td>0.114488</td>\n",
       "    </tr>\n",
       "    <tr>\n",
       "      <th>2021-12-02 00:00:00-03:00</th>\n",
       "      <td>3.250487</td>\n",
       "      <td>16.573690</td>\n",
       "      <td>0.196123</td>\n",
       "    </tr>\n",
       "    <tr>\n",
       "      <th>2022-04-14 00:00:00-03:00</th>\n",
       "      <td>2.970249</td>\n",
       "      <td>19.992018</td>\n",
       "      <td>0.148572</td>\n",
       "    </tr>\n",
       "    <tr>\n",
       "      <th>2022-05-24 00:00:00-03:00</th>\n",
       "      <td>3.715490</td>\n",
       "      <td>22.513762</td>\n",
       "      <td>0.165032</td>\n",
       "    </tr>\n",
       "    <tr>\n",
       "      <th>2022-08-12 00:00:00-03:00</th>\n",
       "      <td>6.732003</td>\n",
       "      <td>27.744591</td>\n",
       "      <td>0.242642</td>\n",
       "    </tr>\n",
       "    <tr>\n",
       "      <th>2022-11-22 00:00:00-03:00</th>\n",
       "      <td>3.348900</td>\n",
       "      <td>23.330000</td>\n",
       "      <td>0.143545</td>\n",
       "    </tr>\n",
       "  </tbody>\n",
       "</table>\n",
       "</div>"
      ],
      "text/plain": [
       "                           Dividends      Price        DY\n",
       "Date                                                     \n",
       "2007-01-02 00:00:00-02:00   0.225000   8.701063  0.025859\n",
       "2007-04-03 00:00:00-03:00   0.175000   7.908743  0.022127\n",
       "2007-08-20 00:00:00-03:00   0.251700   8.149739  0.030884\n",
       "2007-10-08 00:00:00-03:00   0.256500  10.987376  0.023345\n",
       "2008-01-14 00:00:00-02:00   0.155300  14.462685  0.010738\n",
       "2008-04-07 00:00:00-03:00   0.102600  14.037210  0.007309\n",
       "2008-12-29 00:00:00-02:00   0.042600   8.069037  0.005279\n",
       "2009-04-09 00:00:00-03:00   0.351600  11.181713  0.031444\n",
       "2009-07-06 00:00:00-03:00   0.300000  10.998056  0.027278\n",
       "2009-10-01 00:00:00-03:00   0.200000  12.537814  0.015952\n",
       "2009-12-21 00:00:00-02:00   0.200000  13.032519  0.015346\n",
       "2010-04-23 00:00:00-03:00   0.133200  12.637947  0.010540\n",
       "2010-05-24 00:00:00-03:00   0.170000  10.154361  0.016742\n",
       "2010-08-02 00:00:00-03:00   0.170000  10.702161  0.015885\n",
       "2010-11-03 00:00:00-02:00   0.140000  10.214263  0.013706\n",
       "2010-12-22 00:00:00-02:00   0.200000   9.806135  0.020395\n",
       "2011-03-22 00:00:00-03:00   0.173420  10.791512  0.016070\n",
       "2011-04-29 00:00:00-03:00   0.126500   9.869988  0.012817\n",
       "2011-05-12 00:00:00-03:00   0.213600   9.567515  0.022326\n",
       "2011-08-03 00:00:00-03:00   0.207300   9.221043  0.022481\n",
       "2011-11-14 00:00:00-02:00   0.200000   8.680128  0.023041\n",
       "2012-01-03 00:00:00-02:00   0.177300   8.947165  0.019816\n",
       "2012-03-20 00:00:00-03:00   0.124400   9.739528  0.012773\n",
       "2012-05-14 00:00:00-03:00   0.200000   7.663025  0.026099\n",
       "2013-04-30 00:00:00-03:00   0.386170   8.302524  0.046512\n",
       "2014-04-03 00:00:00-03:00   0.967200   6.786125  0.142526\n",
       "2018-05-22 00:00:00-03:00   0.050000  10.910421  0.004583\n",
       "2018-08-14 00:00:00-03:00   0.050000   8.844010  0.005654\n",
       "2018-11-22 00:00:00-02:00   0.100000  11.176881  0.008947\n",
       "2018-12-26 00:00:00-02:00   0.716563   9.966169  0.071900\n",
       "2019-04-26 00:00:00-03:00   0.019494  12.535458  0.001555\n",
       "2019-05-22 00:00:00-03:00   0.100000  12.139669  0.008237\n",
       "2019-08-13 00:00:00-03:00   0.200000  12.002370  0.016663\n",
       "2019-11-12 00:00:00-03:00   0.200925  14.063768  0.014287\n",
       "2019-12-27 00:00:00-03:00   0.421942  14.495885  0.029108\n",
       "2020-04-23 00:00:00-03:00   0.000449   8.050848  0.000056\n",
       "2020-04-28 00:00:00-03:00   0.000449   8.193564  0.000055\n",
       "2020-07-23 00:00:00-03:00   0.000461  10.720721  0.000043\n",
       "2021-04-15 00:00:00-03:00   0.792834  11.336847  0.069934\n",
       "2021-08-17 00:00:00-03:00   1.609911  14.061770  0.114488\n",
       "2021-12-02 00:00:00-03:00   3.250487  16.573690  0.196123\n",
       "2022-04-14 00:00:00-03:00   2.970249  19.992018  0.148572\n",
       "2022-05-24 00:00:00-03:00   3.715490  22.513762  0.165032\n",
       "2022-08-12 00:00:00-03:00   6.732003  27.744591  0.242642\n",
       "2022-11-22 00:00:00-03:00   3.348900  23.330000  0.143545"
      ]
     },
     "execution_count": 20,
     "metadata": {},
     "output_type": "execute_result"
    }
   ],
   "source": [
    "div"
   ]
  },
  {
   "cell_type": "code",
   "execution_count": 21,
   "id": "5306e653",
   "metadata": {},
   "outputs": [
    {
     "data": {
      "text/plain": [
       "<AxesSubplot:xlabel='Date'>"
      ]
     },
     "execution_count": 21,
     "metadata": {},
     "output_type": "execute_result"
    },
    {
     "data": {
      "image/png": "[encoded data removed]",
      "text/plain": [
       "<Figure size 432x288 with 1 Axes>"
      ]
     },
     "metadata": {
      "needs_background": "light"
     },
     "output_type": "display_data"
    }
   ],
   "source": [
    "div['DY'].plot()"
   ]
  },
  {
   "cell_type": "code",
   "execution_count": 22,
   "id": "72e57c4c",
   "metadata": {},
   "outputs": [],
   "source": [
    "#!git add .\n",
    "#!git commit -m 'petro analysis'\n",
    "#!git push origin main"
   ]
  },
  {
   "cell_type": "markdown",
   "id": "b43cb423",
   "metadata": {},
   "source": [
    "# Prediction"
   ]
  },
  {
   "cell_type": "markdown",
   "id": "0ba190ab",
   "metadata": {},
   "source": [
    "- Lets try to use LSTM to predict the price of stocks"
   ]
  },
  {
   "cell_type": "code",
   "execution_count": 26,
   "id": "bead8b75",
   "metadata": {},
   "outputs": [
    {
     "data": {
      "text/plain": [
       "(3966, 1)"
      ]
     },
     "execution_count": 26,
     "metadata": {},
     "output_type": "execute_result"
    }
   ],
   "source": [
    "dados[['Close']].shape"
   ]
  },
  {
   "cell_type": "code",
   "execution_count": 55,
   "id": "c4ff323b",
   "metadata": {},
   "outputs": [],
   "source": [
    "from tensorflow.keras.models import Sequential\n",
    "from tensorflow.keras.layers import Dense, SimpleRNN, Flatten, LSTM\n"
   ]
  },
  {
   "cell_type": "code",
   "execution_count": 37,
   "id": "dfb07f7f",
   "metadata": {},
   "outputs": [],
   "source": [
    "def initialize_model():\n",
    "    model = Sequential()\n",
    "    model.add(SimpleRNN(units=20,activation='tanh',input_shape=(3966, 1)))\n",
    "    model.add(Dense(10,activation='tanh'))\n",
    "    model.add(Dense(1,activation='linear'))\n",
    "    \n",
    "    return model"
   ]
  },
  {
   "cell_type": "code",
   "execution_count": 38,
   "id": "88b37f6d",
   "metadata": {},
   "outputs": [
    {
     "name": "stdout",
     "output_type": "stream",
     "text": [
      "Model: \"sequential_4\"\n",
      "_________________________________________________________________\n",
      " Layer (type)                Output Shape              Param #   \n",
      "=================================================================\n",
      " simple_rnn_4 (SimpleRNN)    (None, 20)                440       \n",
      "                                                                 \n",
      " dense_2 (Dense)             (None, 10)                210       \n",
      "                                                                 \n",
      " dense_3 (Dense)             (None, 1)                 11        \n",
      "                                                                 \n",
      "=================================================================\n",
      "Total params: 661\n",
      "Trainable params: 661\n",
      "Non-trainable params: 0\n",
      "_________________________________________________________________\n"
     ]
    }
   ],
   "source": [
    "model=initialize_model()\n",
    "model.summary()"
   ]
  },
  {
   "cell_type": "code",
   "execution_count": 39,
   "id": "12722f29",
   "metadata": {},
   "outputs": [],
   "source": [
    "def compile_model(model):\n",
    "    model.compile(loss='mse',optimizer='rmsprop',metrics=['mae'])\n",
    "    return model"
   ]
  },
  {
   "cell_type": "code",
   "execution_count": 41,
   "id": "16d50146",
   "metadata": {},
   "outputs": [],
   "source": [
    "model=compile_model(model)"
   ]
  },
  {
   "cell_type": "code",
   "execution_count": null,
   "id": "b3ca407f",
   "metadata": {},
   "outputs": [],
   "source": [
    "# YOUR CODE HERE\n",
    "from tensorflow.keras.callbacks import EarlyStopping\n",
    "\n",
    "model = compile_model(initialize_model())\n",
    "\n",
    "model.fit(X_train,y_train, batch_size=32, epochs=30,verbose=1,validation_split=0.2,\n",
    "          callbacks=[EarlyStopping(patience=5,restore_best_weights=True)]\n",
    ")\n"
   ]
  },
  {
   "cell_type": "markdown",
   "id": "c671663d",
   "metadata": {},
   "source": [
    "# Data Preprocessing"
   ]
  },
  {
   "cell_type": "code",
   "execution_count": 61,
   "id": "ff963cf1",
   "metadata": {},
   "outputs": [],
   "source": [
    "#https://medium.com/the-handbook-of-coding-in-finance/stock-prices-prediction-using-long-short-term-memory-lstm-model-in-python-734dd1ed6827"
   ]
  },
  {
   "cell_type": "code",
   "execution_count": 148,
   "id": "b263503c",
   "metadata": {},
   "outputs": [],
   "source": [
    "import math\n",
    "from sklearn.preprocessing import MinMaxScaler \n",
    "import numpy as np\n",
    "\n",
    "close_prices = dados['Close']\n",
    "values = close_prices.values\n",
    "training_data_len = math.ceil(len(values)* 0.8)\n",
    "\n",
    "scaler = MinMaxScaler(feature_range=(0,1))\n",
    "scaled_data = scaler.fit_transform(values.reshape(-1,1))\n",
    "train_data = scaled_data[0: training_data_len, :]\n",
    "\n",
    "x_train = []\n",
    "y_train = []\n",
    "\n",
    "for i in range(60, len(train_data)):\n",
    "    x_train.append(train_data[i-60:i, 0])\n",
    "    y_train.append(train_data[i, 0])\n",
    "    \n",
    "x_train, y_train = np.array(x_train), np.array(y_train)\n",
    "x_train = np.reshape(x_train, (x_train.shape[0], x_train.shape[1], 1))"
   ]
  },
  {
   "cell_type": "code",
   "execution_count": 46,
   "id": "c2a43fb9",
   "metadata": {},
   "outputs": [
    {
     "data": {
      "text/plain": [
       "(3966,)"
      ]
     },
     "execution_count": 46,
     "metadata": {},
     "output_type": "execute_result"
    }
   ],
   "source": [
    "values.shape"
   ]
  },
  {
   "cell_type": "code",
   "execution_count": 47,
   "id": "91a0687e",
   "metadata": {},
   "outputs": [
    {
     "data": {
      "text/plain": [
       "3173"
      ]
     },
     "execution_count": 47,
     "metadata": {},
     "output_type": "execute_result"
    }
   ],
   "source": [
    "training_data_len"
   ]
  },
  {
   "cell_type": "code",
   "execution_count": 49,
   "id": "c48d8223",
   "metadata": {},
   "outputs": [
    {
     "data": {
      "text/plain": [
       "(3173, 1)"
      ]
     },
     "execution_count": 49,
     "metadata": {},
     "output_type": "execute_result"
    }
   ],
   "source": [
    "train_data.shape"
   ]
  },
  {
   "cell_type": "code",
   "execution_count": 51,
   "id": "975e2e42",
   "metadata": {},
   "outputs": [
    {
     "data": {
      "text/plain": [
       "(3113, 60, 1)"
      ]
     },
     "execution_count": 51,
     "metadata": {},
     "output_type": "execute_result"
    }
   ],
   "source": [
    "x_train.shape"
   ]
  },
  {
   "cell_type": "code",
   "execution_count": 63,
   "id": "2ea7f200",
   "metadata": {},
   "outputs": [
    {
     "data": {
      "text/plain": [
       "(3113,)"
      ]
     },
     "execution_count": 63,
     "metadata": {},
     "output_type": "execute_result"
    }
   ],
   "source": [
    "y_train.shape"
   ]
  },
  {
   "cell_type": "code",
   "execution_count": 69,
   "id": "85d224e2",
   "metadata": {},
   "outputs": [
    {
     "data": {
      "text/html": [
       "<div>\n",
       "<style scoped>\n",
       "    .dataframe tbody tr th:only-of-type {\n",
       "        vertical-align: middle;\n",
       "    }\n",
       "\n",
       "    .dataframe tbody tr th {\n",
       "        vertical-align: top;\n",
       "    }\n",
       "\n",
       "    .dataframe thead th {\n",
       "        text-align: right;\n",
       "    }\n",
       "</style>\n",
       "<table border=\"1\" class=\"dataframe\">\n",
       "  <thead>\n",
       "    <tr style=\"text-align: right;\">\n",
       "      <th></th>\n",
       "      <th>0</th>\n",
       "      <th>1</th>\n",
       "      <th>2</th>\n",
       "      <th>3</th>\n",
       "      <th>4</th>\n",
       "      <th>5</th>\n",
       "      <th>6</th>\n",
       "      <th>7</th>\n",
       "      <th>8</th>\n",
       "      <th>9</th>\n",
       "      <th>...</th>\n",
       "      <th>50</th>\n",
       "      <th>51</th>\n",
       "      <th>52</th>\n",
       "      <th>53</th>\n",
       "      <th>54</th>\n",
       "      <th>55</th>\n",
       "      <th>56</th>\n",
       "      <th>57</th>\n",
       "      <th>58</th>\n",
       "      <th>59</th>\n",
       "    </tr>\n",
       "  </thead>\n",
       "  <tbody>\n",
       "    <tr>\n",
       "      <th>0</th>\n",
       "      <td>0.219897</td>\n",
       "      <td>0.211405</td>\n",
       "      <td>0.205355</td>\n",
       "      <td>0.197306</td>\n",
       "      <td>0.200304</td>\n",
       "      <td>0.192366</td>\n",
       "      <td>0.191756</td>\n",
       "      <td>0.191367</td>\n",
       "      <td>0.191534</td>\n",
       "      <td>0.189758</td>\n",
       "      <td>...</td>\n",
       "      <td>0.164835</td>\n",
       "      <td>0.168776</td>\n",
       "      <td>0.173161</td>\n",
       "      <td>0.181154</td>\n",
       "      <td>0.184817</td>\n",
       "      <td>0.186205</td>\n",
       "      <td>0.188425</td>\n",
       "      <td>0.187093</td>\n",
       "      <td>0.185928</td>\n",
       "      <td>0.197473</td>\n",
       "    </tr>\n",
       "    <tr>\n",
       "      <th>1</th>\n",
       "      <td>0.211405</td>\n",
       "      <td>0.205355</td>\n",
       "      <td>0.197306</td>\n",
       "      <td>0.200304</td>\n",
       "      <td>0.192366</td>\n",
       "      <td>0.191756</td>\n",
       "      <td>0.191367</td>\n",
       "      <td>0.191534</td>\n",
       "      <td>0.189758</td>\n",
       "      <td>0.186427</td>\n",
       "      <td>...</td>\n",
       "      <td>0.168776</td>\n",
       "      <td>0.173161</td>\n",
       "      <td>0.181154</td>\n",
       "      <td>0.184817</td>\n",
       "      <td>0.186205</td>\n",
       "      <td>0.188425</td>\n",
       "      <td>0.187093</td>\n",
       "      <td>0.185928</td>\n",
       "      <td>0.197473</td>\n",
       "      <td>0.197140</td>\n",
       "    </tr>\n",
       "    <tr>\n",
       "      <th>2</th>\n",
       "      <td>0.205355</td>\n",
       "      <td>0.197306</td>\n",
       "      <td>0.200304</td>\n",
       "      <td>0.192366</td>\n",
       "      <td>0.191756</td>\n",
       "      <td>0.191367</td>\n",
       "      <td>0.191534</td>\n",
       "      <td>0.189758</td>\n",
       "      <td>0.186427</td>\n",
       "      <td>0.185151</td>\n",
       "      <td>...</td>\n",
       "      <td>0.173161</td>\n",
       "      <td>0.181154</td>\n",
       "      <td>0.184817</td>\n",
       "      <td>0.186205</td>\n",
       "      <td>0.188425</td>\n",
       "      <td>0.187093</td>\n",
       "      <td>0.185928</td>\n",
       "      <td>0.197473</td>\n",
       "      <td>0.197140</td>\n",
       "      <td>0.196030</td>\n",
       "    </tr>\n",
       "    <tr>\n",
       "      <th>3</th>\n",
       "      <td>0.197306</td>\n",
       "      <td>0.200304</td>\n",
       "      <td>0.192366</td>\n",
       "      <td>0.191756</td>\n",
       "      <td>0.191367</td>\n",
       "      <td>0.191534</td>\n",
       "      <td>0.189758</td>\n",
       "      <td>0.186427</td>\n",
       "      <td>0.185151</td>\n",
       "      <td>0.181209</td>\n",
       "      <td>...</td>\n",
       "      <td>0.181154</td>\n",
       "      <td>0.184817</td>\n",
       "      <td>0.186205</td>\n",
       "      <td>0.188425</td>\n",
       "      <td>0.187093</td>\n",
       "      <td>0.185928</td>\n",
       "      <td>0.197473</td>\n",
       "      <td>0.197140</td>\n",
       "      <td>0.196030</td>\n",
       "      <td>0.194464</td>\n",
       "    </tr>\n",
       "    <tr>\n",
       "      <th>4</th>\n",
       "      <td>0.200304</td>\n",
       "      <td>0.192366</td>\n",
       "      <td>0.191756</td>\n",
       "      <td>0.191367</td>\n",
       "      <td>0.191534</td>\n",
       "      <td>0.189758</td>\n",
       "      <td>0.186427</td>\n",
       "      <td>0.185151</td>\n",
       "      <td>0.181209</td>\n",
       "      <td>0.192255</td>\n",
       "      <td>...</td>\n",
       "      <td>0.184817</td>\n",
       "      <td>0.186205</td>\n",
       "      <td>0.188425</td>\n",
       "      <td>0.187093</td>\n",
       "      <td>0.185928</td>\n",
       "      <td>0.197473</td>\n",
       "      <td>0.197140</td>\n",
       "      <td>0.196030</td>\n",
       "      <td>0.194464</td>\n",
       "      <td>0.197036</td>\n",
       "    </tr>\n",
       "    <tr>\n",
       "      <th>...</th>\n",
       "      <td>...</td>\n",
       "      <td>...</td>\n",
       "      <td>...</td>\n",
       "      <td>...</td>\n",
       "      <td>...</td>\n",
       "      <td>...</td>\n",
       "      <td>...</td>\n",
       "      <td>...</td>\n",
       "      <td>...</td>\n",
       "      <td>...</td>\n",
       "      <td>...</td>\n",
       "      <td>...</td>\n",
       "      <td>...</td>\n",
       "      <td>...</td>\n",
       "      <td>...</td>\n",
       "      <td>...</td>\n",
       "      <td>...</td>\n",
       "      <td>...</td>\n",
       "      <td>...</td>\n",
       "      <td>...</td>\n",
       "      <td>...</td>\n",
       "    </tr>\n",
       "    <tr>\n",
       "      <th>3108</th>\n",
       "      <td>0.348362</td>\n",
       "      <td>0.347324</td>\n",
       "      <td>0.348065</td>\n",
       "      <td>0.348510</td>\n",
       "      <td>0.345990</td>\n",
       "      <td>0.339172</td>\n",
       "      <td>0.328055</td>\n",
       "      <td>0.331612</td>\n",
       "      <td>0.329537</td>\n",
       "      <td>0.327165</td>\n",
       "      <td>...</td>\n",
       "      <td>0.354404</td>\n",
       "      <td>0.353807</td>\n",
       "      <td>0.352164</td>\n",
       "      <td>0.351566</td>\n",
       "      <td>0.339764</td>\n",
       "      <td>0.340063</td>\n",
       "      <td>0.336627</td>\n",
       "      <td>0.331548</td>\n",
       "      <td>0.329307</td>\n",
       "      <td>0.336776</td>\n",
       "    </tr>\n",
       "    <tr>\n",
       "      <th>3109</th>\n",
       "      <td>0.347324</td>\n",
       "      <td>0.348065</td>\n",
       "      <td>0.348510</td>\n",
       "      <td>0.345990</td>\n",
       "      <td>0.339172</td>\n",
       "      <td>0.328055</td>\n",
       "      <td>0.331612</td>\n",
       "      <td>0.329537</td>\n",
       "      <td>0.327165</td>\n",
       "      <td>0.329685</td>\n",
       "      <td>...</td>\n",
       "      <td>0.353807</td>\n",
       "      <td>0.352164</td>\n",
       "      <td>0.351566</td>\n",
       "      <td>0.339764</td>\n",
       "      <td>0.340063</td>\n",
       "      <td>0.336627</td>\n",
       "      <td>0.331548</td>\n",
       "      <td>0.329307</td>\n",
       "      <td>0.336776</td>\n",
       "      <td>0.340063</td>\n",
       "    </tr>\n",
       "    <tr>\n",
       "      <th>3110</th>\n",
       "      <td>0.348065</td>\n",
       "      <td>0.348510</td>\n",
       "      <td>0.345990</td>\n",
       "      <td>0.339172</td>\n",
       "      <td>0.328055</td>\n",
       "      <td>0.331612</td>\n",
       "      <td>0.329537</td>\n",
       "      <td>0.327165</td>\n",
       "      <td>0.329685</td>\n",
       "      <td>0.333687</td>\n",
       "      <td>...</td>\n",
       "      <td>0.352164</td>\n",
       "      <td>0.351566</td>\n",
       "      <td>0.339764</td>\n",
       "      <td>0.340063</td>\n",
       "      <td>0.336627</td>\n",
       "      <td>0.331548</td>\n",
       "      <td>0.329307</td>\n",
       "      <td>0.336776</td>\n",
       "      <td>0.340063</td>\n",
       "      <td>0.347831</td>\n",
       "    </tr>\n",
       "    <tr>\n",
       "      <th>3111</th>\n",
       "      <td>0.348510</td>\n",
       "      <td>0.345990</td>\n",
       "      <td>0.339172</td>\n",
       "      <td>0.328055</td>\n",
       "      <td>0.331612</td>\n",
       "      <td>0.329537</td>\n",
       "      <td>0.327165</td>\n",
       "      <td>0.329685</td>\n",
       "      <td>0.333687</td>\n",
       "      <td>0.319309</td>\n",
       "      <td>...</td>\n",
       "      <td>0.351566</td>\n",
       "      <td>0.339764</td>\n",
       "      <td>0.340063</td>\n",
       "      <td>0.336627</td>\n",
       "      <td>0.331548</td>\n",
       "      <td>0.329307</td>\n",
       "      <td>0.336776</td>\n",
       "      <td>0.340063</td>\n",
       "      <td>0.347831</td>\n",
       "      <td>0.348578</td>\n",
       "    </tr>\n",
       "    <tr>\n",
       "      <th>3112</th>\n",
       "      <td>0.345990</td>\n",
       "      <td>0.339172</td>\n",
       "      <td>0.328055</td>\n",
       "      <td>0.331612</td>\n",
       "      <td>0.329537</td>\n",
       "      <td>0.327165</td>\n",
       "      <td>0.329685</td>\n",
       "      <td>0.333687</td>\n",
       "      <td>0.319309</td>\n",
       "      <td>0.324201</td>\n",
       "      <td>...</td>\n",
       "      <td>0.339764</td>\n",
       "      <td>0.340063</td>\n",
       "      <td>0.336627</td>\n",
       "      <td>0.331548</td>\n",
       "      <td>0.329307</td>\n",
       "      <td>0.336776</td>\n",
       "      <td>0.340063</td>\n",
       "      <td>0.347831</td>\n",
       "      <td>0.348578</td>\n",
       "      <td>0.352911</td>\n",
       "    </tr>\n",
       "  </tbody>\n",
       "</table>\n",
       "<p>3113 rows × 60 columns</p>\n",
       "</div>"
      ],
      "text/plain": [
       "            0         1         2         3         4         5         6   \\\n",
       "0     0.219897  0.211405  0.205355  0.197306  0.200304  0.192366  0.191756   \n",
       "1     0.211405  0.205355  0.197306  0.200304  0.192366  0.191756  0.191367   \n",
       "2     0.205355  0.197306  0.200304  0.192366  0.191756  0.191367  0.191534   \n",
       "3     0.197306  0.200304  0.192366  0.191756  0.191367  0.191534  0.189758   \n",
       "4     0.200304  0.192366  0.191756  0.191367  0.191534  0.189758  0.186427   \n",
       "...        ...       ...       ...       ...       ...       ...       ...   \n",
       "3108  0.348362  0.347324  0.348065  0.348510  0.345990  0.339172  0.328055   \n",
       "3109  0.347324  0.348065  0.348510  0.345990  0.339172  0.328055  0.331612   \n",
       "3110  0.348065  0.348510  0.345990  0.339172  0.328055  0.331612  0.329537   \n",
       "3111  0.348510  0.345990  0.339172  0.328055  0.331612  0.329537  0.327165   \n",
       "3112  0.345990  0.339172  0.328055  0.331612  0.329537  0.327165  0.329685   \n",
       "\n",
       "            7         8         9   ...        50        51        52  \\\n",
       "0     0.191367  0.191534  0.189758  ...  0.164835  0.168776  0.173161   \n",
       "1     0.191534  0.189758  0.186427  ...  0.168776  0.173161  0.181154   \n",
       "2     0.189758  0.186427  0.185151  ...  0.173161  0.181154  0.184817   \n",
       "3     0.186427  0.185151  0.181209  ...  0.181154  0.184817  0.186205   \n",
       "4     0.185151  0.181209  0.192255  ...  0.184817  0.186205  0.188425   \n",
       "...        ...       ...       ...  ...       ...       ...       ...   \n",
       "3108  0.331612  0.329537  0.327165  ...  0.354404  0.353807  0.352164   \n",
       "3109  0.329537  0.327165  0.329685  ...  0.353807  0.352164  0.351566   \n",
       "3110  0.327165  0.329685  0.333687  ...  0.352164  0.351566  0.339764   \n",
       "3111  0.329685  0.333687  0.319309  ...  0.351566  0.339764  0.340063   \n",
       "3112  0.333687  0.319309  0.324201  ...  0.339764  0.340063  0.336627   \n",
       "\n",
       "            53        54        55        56        57        58        59  \n",
       "0     0.181154  0.184817  0.186205  0.188425  0.187093  0.185928  0.197473  \n",
       "1     0.184817  0.186205  0.188425  0.187093  0.185928  0.197473  0.197140  \n",
       "2     0.186205  0.188425  0.187093  0.185928  0.197473  0.197140  0.196030  \n",
       "3     0.188425  0.187093  0.185928  0.197473  0.197140  0.196030  0.194464  \n",
       "4     0.187093  0.185928  0.197473  0.197140  0.196030  0.194464  0.197036  \n",
       "...        ...       ...       ...       ...       ...       ...       ...  \n",
       "3108  0.351566  0.339764  0.340063  0.336627  0.331548  0.329307  0.336776  \n",
       "3109  0.339764  0.340063  0.336627  0.331548  0.329307  0.336776  0.340063  \n",
       "3110  0.340063  0.336627  0.331548  0.329307  0.336776  0.340063  0.347831  \n",
       "3111  0.336627  0.331548  0.329307  0.336776  0.340063  0.347831  0.348578  \n",
       "3112  0.331548  0.329307  0.336776  0.340063  0.347831  0.348578  0.352911  \n",
       "\n",
       "[3113 rows x 60 columns]"
      ]
     },
     "execution_count": 69,
     "metadata": {},
     "output_type": "execute_result"
    }
   ],
   "source": [
    "pd.DataFrame(x_train)"
   ]
  },
  {
   "cell_type": "code",
   "execution_count": 68,
   "id": "64e301c6",
   "metadata": {},
   "outputs": [
    {
     "data": {
      "text/html": [
       "<div>\n",
       "<style scoped>\n",
       "    .dataframe tbody tr th:only-of-type {\n",
       "        vertical-align: middle;\n",
       "    }\n",
       "\n",
       "    .dataframe tbody tr th {\n",
       "        vertical-align: top;\n",
       "    }\n",
       "\n",
       "    .dataframe thead th {\n",
       "        text-align: right;\n",
       "    }\n",
       "</style>\n",
       "<table border=\"1\" class=\"dataframe\">\n",
       "  <thead>\n",
       "    <tr style=\"text-align: right;\">\n",
       "      <th></th>\n",
       "      <th>0</th>\n",
       "    </tr>\n",
       "  </thead>\n",
       "  <tbody>\n",
       "    <tr>\n",
       "      <th>0</th>\n",
       "      <td>0.197140</td>\n",
       "    </tr>\n",
       "    <tr>\n",
       "      <th>1</th>\n",
       "      <td>0.196030</td>\n",
       "    </tr>\n",
       "    <tr>\n",
       "      <th>2</th>\n",
       "      <td>0.194464</td>\n",
       "    </tr>\n",
       "    <tr>\n",
       "      <th>3</th>\n",
       "      <td>0.197036</td>\n",
       "    </tr>\n",
       "    <tr>\n",
       "      <th>4</th>\n",
       "      <td>0.198994</td>\n",
       "    </tr>\n",
       "    <tr>\n",
       "      <th>...</th>\n",
       "      <td>...</td>\n",
       "    </tr>\n",
       "    <tr>\n",
       "      <th>3108</th>\n",
       "      <td>0.340063</td>\n",
       "    </tr>\n",
       "    <tr>\n",
       "      <th>3109</th>\n",
       "      <td>0.347831</td>\n",
       "    </tr>\n",
       "    <tr>\n",
       "      <th>3110</th>\n",
       "      <td>0.348578</td>\n",
       "    </tr>\n",
       "    <tr>\n",
       "      <th>3111</th>\n",
       "      <td>0.352911</td>\n",
       "    </tr>\n",
       "    <tr>\n",
       "      <th>3112</th>\n",
       "      <td>0.357841</td>\n",
       "    </tr>\n",
       "  </tbody>\n",
       "</table>\n",
       "<p>3113 rows × 1 columns</p>\n",
       "</div>"
      ],
      "text/plain": [
       "             0\n",
       "0     0.197140\n",
       "1     0.196030\n",
       "2     0.194464\n",
       "3     0.197036\n",
       "4     0.198994\n",
       "...        ...\n",
       "3108  0.340063\n",
       "3109  0.347831\n",
       "3110  0.348578\n",
       "3111  0.352911\n",
       "3112  0.357841\n",
       "\n",
       "[3113 rows x 1 columns]"
      ]
     },
     "execution_count": 68,
     "metadata": {},
     "output_type": "execute_result"
    }
   ],
   "source": [
    "import pandas as pd\n",
    "pd.DataFrame(y_train)"
   ]
  },
  {
   "cell_type": "markdown",
   "id": "a10f28f1",
   "metadata": {},
   "source": [
    "## test set"
   ]
  },
  {
   "cell_type": "code",
   "execution_count": 149,
   "id": "ba61438f",
   "metadata": {},
   "outputs": [],
   "source": [
    "test_data = scaled_data[training_data_len-60: , : ]\n",
    "x_test = []\n",
    "y_test = values[training_data_len:]\n",
    "\n",
    "for i in range(60, len(test_data)):\n",
    "  x_test.append(test_data[i-60:i, 0])\n",
    "\n",
    "x_test = np.array(x_test)\n",
    "x_test = np.reshape(x_test, (x_test.shape[0], x_test.shape[1], 1))"
   ]
  },
  {
   "cell_type": "code",
   "execution_count": 111,
   "id": "abb1ce75",
   "metadata": {},
   "outputs": [
    {
     "data": {
      "text/plain": [
       "(3966, 1)"
      ]
     },
     "execution_count": 111,
     "metadata": {},
     "output_type": "execute_result"
    }
   ],
   "source": [
    "scaled_data.shape"
   ]
  },
  {
   "cell_type": "code",
   "execution_count": 110,
   "id": "a31ecbc3",
   "metadata": {},
   "outputs": [
    {
     "data": {
      "text/plain": [
       "(853, 1)"
      ]
     },
     "execution_count": 110,
     "metadata": {},
     "output_type": "execute_result"
    }
   ],
   "source": [
    "test_data.shape"
   ]
  },
  {
   "cell_type": "code",
   "execution_count": 109,
   "id": "e5f3e435",
   "metadata": {},
   "outputs": [
    {
     "data": {
      "text/plain": [
       "(793, 60, 1)"
      ]
     },
     "execution_count": 109,
     "metadata": {},
     "output_type": "execute_result"
    }
   ],
   "source": [
    "x_test.shape"
   ]
  },
  {
   "cell_type": "code",
   "execution_count": 150,
   "id": "ee421f15",
   "metadata": {},
   "outputs": [
    {
     "name": "stdout",
     "output_type": "stream",
     "text": [
      "Model: \"sequential_11\"\n",
      "_________________________________________________________________\n",
      " Layer (type)                Output Shape              Param #   \n",
      "=================================================================\n",
      " lstm_10 (LSTM)              (None, 60, 100)           40800     \n",
      "                                                                 \n",
      " lstm_11 (LSTM)              (None, 100)               80400     \n",
      "                                                                 \n",
      " dense_14 (Dense)            (None, 25)                2525      \n",
      "                                                                 \n",
      " dense_15 (Dense)            (None, 1)                 26        \n",
      "                                                                 \n",
      "=================================================================\n",
      "Total params: 123,751\n",
      "Trainable params: 123,751\n",
      "Non-trainable params: 0\n",
      "_________________________________________________________________\n"
     ]
    }
   ],
   "source": [
    "model = Sequential()\n",
    "model.add(LSTM(100, return_sequences=True, input_shape=(x_train.shape[1], 1)))\n",
    "model.add(LSTM(100, return_sequences=False))\n",
    "model.add(Dense(25))\n",
    "model.add(Dense(1))\n",
    "model.summary()"
   ]
  },
  {
   "cell_type": "code",
   "execution_count": 151,
   "id": "f4cd8706",
   "metadata": {},
   "outputs": [
    {
     "name": "stdout",
     "output_type": "stream",
     "text": [
      "Epoch 1/3\n",
      "98/98 [==============================] - 18s 134ms/step - loss: 0.0018\n",
      "Epoch 2/3\n",
      "98/98 [==============================] - 12s 126ms/step - loss: 2.6552e-04\n",
      "Epoch 3/3\n",
      "98/98 [==============================] - 12s 127ms/step - loss: 2.2085e-04\n"
     ]
    },
    {
     "data": {
      "text/plain": [
       "<keras.callbacks.History at 0x7f4c22b4b700>"
      ]
     },
     "execution_count": 151,
     "metadata": {},
     "output_type": "execute_result"
    }
   ],
   "source": [
    "model.compile(optimizer='adam', loss='mean_squared_error')\n",
    "model.fit(x_train, y_train, batch_size= 32, epochs=3)"
   ]
  },
  {
   "cell_type": "code",
   "execution_count": 152,
   "id": "5b7e21f2",
   "metadata": {},
   "outputs": [
    {
     "data": {
      "text/plain": [
       "0.3129399439125013"
      ]
     },
     "execution_count": 152,
     "metadata": {},
     "output_type": "execute_result"
    }
   ],
   "source": [
    "predictions = model.predict(x_test)\n",
    "predictions = scaler.inverse_transform(predictions)\n",
    "rmse = np.sqrt(np.mean(predictions - y_test)**2)\n",
    "rmse"
   ]
  },
  {
   "cell_type": "code",
   "execution_count": 153,
   "id": "044ac366",
   "metadata": {},
   "outputs": [
    {
     "name": "stderr",
     "output_type": "stream",
     "text": [
      "/tmp/ipykernel_5656/2686380006.py:6: SettingWithCopyWarning: \n",
      "A value is trying to be set on a copy of a slice from a DataFrame.\n",
      "Try using .loc[row_indexer,col_indexer] = value instead\n",
      "\n",
      "See the caveats in the documentation: https://pandas.pydata.org/pandas-docs/stable/user_guide/indexing.html#returning-a-view-versus-a-copy\n",
      "  validation['Predictions'] = predictions\n"
     ]
    },
    {
     "data": {
      "image/png": "[encoded data removed]",
      "text/plain": [
       "<Figure size 1152x576 with 1 Axes>"
      ]
     },
     "metadata": {
      "needs_background": "light"
     },
     "output_type": "display_data"
    }
   ],
   "source": [
    "import matplotlib.pyplot as plt\n",
    "\n",
    "data = dados.filter(['Close'])\n",
    "train = data[:training_data_len]\n",
    "validation = data[training_data_len:]\n",
    "validation['Predictions'] = predictions\n",
    "plt.figure(figsize=(16,8))\n",
    "plt.title('Model')\n",
    "plt.xlabel('Date')\n",
    "plt.ylabel('Close Price USD ($)')\n",
    "plt.plot(train)\n",
    "plt.plot(validation[['Close', 'Predictions']])\n",
    "plt.legend(['Train', 'Val', 'Predictions'], loc='lower right')\n",
    "plt.show()"
   ]
  },
  {
   "cell_type": "code",
   "execution_count": 155,
   "id": "6c44f601",
   "metadata": {},
   "outputs": [
    {
     "name": "stderr",
     "output_type": "stream",
     "text": [
      "/tmp/ipykernel_5656/1626216995.py:4: SettingWithCopyWarning: \n",
      "A value is trying to be set on a copy of a slice from a DataFrame.\n",
      "Try using .loc[row_indexer,col_indexer] = value instead\n",
      "\n",
      "See the caveats in the documentation: https://pandas.pydata.org/pandas-docs/stable/user_guide/indexing.html#returning-a-view-versus-a-copy\n",
      "  validation['Predictions'] = predictions\n"
     ]
    },
    {
     "data": {
      "image/png": "[encoded data removed]",
      "text/plain": [
       "<Figure size 1152x576 with 1 Axes>"
      ]
     },
     "metadata": {
      "needs_background": "light"
     },
     "output_type": "display_data"
    }
   ],
   "source": [
    "data = dados.filter(['Close'])\n",
    "#train = data[:training_data_len]\n",
    "validation = data[training_data_len:]\n",
    "validation['Predictions'] = predictions\n",
    "plt.figure(figsize=(16,8))\n",
    "plt.title('Model')\n",
    "plt.xlabel('Date')\n",
    "plt.ylabel('Close Price USD ($)')\n",
    "#plt.plot(train)\n",
    "plt.plot(validation[['Close', 'Predictions']])\n",
    "plt.legend(['Val', 'Predictions'], loc='lower right')\n",
    "plt.show()"
   ]
  },
  {
   "cell_type": "code",
   "execution_count": 62,
   "id": "a23470d1",
   "metadata": {},
   "outputs": [],
   "source": [
    "#there is something wrong in here. There is no way it predicts with this much accuracy data it has never seen.\n",
    "#there is data leakage somewhere"
   ]
  },
  {
   "cell_type": "code",
   "execution_count": 70,
   "id": "723eec1d",
   "metadata": {},
   "outputs": [],
   "source": [
    "#um cara falou que da merda no scaling. E se eu tirar o scaling?"
   ]
  },
  {
   "cell_type": "code",
   "execution_count": 71,
   "id": "c394030d",
   "metadata": {},
   "outputs": [],
   "source": [
    "#ele também só preve a proxima data, eu quero prever mais coisas, tipo 1 semana ou a data de 60 dias"
   ]
  },
  {
   "cell_type": "code",
   "execution_count": 74,
   "id": "da11913f",
   "metadata": {},
   "outputs": [
    {
     "data": {
      "text/plain": [
       "(3966,)"
      ]
     },
     "execution_count": 74,
     "metadata": {},
     "output_type": "execute_result"
    }
   ],
   "source": [
    "values.shape"
   ]
  },
  {
   "cell_type": "code",
   "execution_count": 75,
   "id": "3506c734",
   "metadata": {},
   "outputs": [
    {
     "data": {
      "text/plain": [
       "(3966, 1)"
      ]
     },
     "execution_count": 75,
     "metadata": {},
     "output_type": "execute_result"
    }
   ],
   "source": [
    "values.reshape(-1,1).shape"
   ]
  },
  {
   "cell_type": "code",
   "execution_count": 77,
   "id": "a3b0e699",
   "metadata": {},
   "outputs": [
    {
     "data": {
      "text/plain": [
       "(3173,)"
      ]
     },
     "execution_count": 77,
     "metadata": {},
     "output_type": "execute_result"
    }
   ],
   "source": [
    "values[0: training_data_len].shape"
   ]
  },
  {
   "cell_type": "code",
   "execution_count": 112,
   "id": "e2149781",
   "metadata": {},
   "outputs": [],
   "source": [
    "import math\n",
    "from sklearn.preprocessing import MinMaxScaler \n",
    "import numpy as np\n",
    "\n",
    "close_prices = dados['Close']\n",
    "values = close_prices.values\n",
    "training_data_len = math.ceil(len(values)* 0.8)\n",
    "\n",
    "values=values.reshape(-1,1)\n",
    "train_values=values[0: training_data_len]\n",
    "\n",
    "scaler = MinMaxScaler(feature_range=(0,1))\n",
    "train_data = scaler.fit_transform(train_values)\n",
    "\n",
    "x_train = []\n",
    "y_train = []\n",
    "\n",
    "for i in range(60, len(train_data)):\n",
    "    x_train.append(train_data[i-60:i, 0])\n",
    "    y_train.append(train_data[i, 0])\n",
    "    \n",
    "x_train, y_train = np.array(x_train), np.array(y_train)\n",
    "x_train = np.reshape(x_train, (x_train.shape[0], x_train.shape[1], 1))"
   ]
  },
  {
   "cell_type": "code",
   "execution_count": 137,
   "id": "10eea329",
   "metadata": {},
   "outputs": [],
   "source": [
    "test_values=values[training_data_len-60:]\n",
    "\n",
    "test_data = scaler.transform(test_values)\n",
    "x_test = []\n",
    "y_test = values[training_data_len:]\n",
    "\n",
    "for i in range(60, len(test_data)):\n",
    "  x_test.append(test_data[i-60:i, 0])\n",
    "\n",
    "x_test = np.array(x_test)\n",
    "x_test = np.reshape(x_test, (x_test.shape[0], x_test.shape[1], 1))"
   ]
  },
  {
   "cell_type": "code",
   "execution_count": 138,
   "id": "3ca9893f",
   "metadata": {},
   "outputs": [
    {
     "data": {
      "text/plain": [
       "(793, 60, 1)"
      ]
     },
     "execution_count": 138,
     "metadata": {},
     "output_type": "execute_result"
    }
   ],
   "source": [
    "x_test.shape"
   ]
  },
  {
   "cell_type": "code",
   "execution_count": 139,
   "id": "120cda90",
   "metadata": {},
   "outputs": [
    {
     "data": {
      "text/plain": [
       "(793, 1)"
      ]
     },
     "execution_count": 139,
     "metadata": {},
     "output_type": "execute_result"
    }
   ],
   "source": [
    "y_test.shape"
   ]
  },
  {
   "cell_type": "code",
   "execution_count": 140,
   "id": "f563b083",
   "metadata": {},
   "outputs": [
    {
     "name": "stdout",
     "output_type": "stream",
     "text": [
      "Epoch 1/3\n",
      "98/98 [==============================] - 17s 125ms/step - loss: 0.0066\n",
      "Epoch 2/3\n",
      "98/98 [==============================] - 12s 124ms/step - loss: 9.2320e-04\n",
      "Epoch 3/3\n",
      "98/98 [==============================] - 12s 123ms/step - loss: 8.7381e-04\n"
     ]
    },
    {
     "data": {
      "text/plain": [
       "<keras.callbacks.History at 0x7f4c235b13a0>"
      ]
     },
     "execution_count": 140,
     "metadata": {},
     "output_type": "execute_result"
    }
   ],
   "source": [
    "model = Sequential()\n",
    "model.add(LSTM(100, return_sequences=True, input_shape=(x_train.shape[1], 1)))\n",
    "model.add(LSTM(100, return_sequences=False))\n",
    "model.add(Dense(25))\n",
    "model.add(Dense(1))\n",
    "\n",
    "model.compile(optimizer='adam', loss='mean_squared_error')\n",
    "model.fit(x_train, y_train, batch_size= 32, epochs=3)"
   ]
  },
  {
   "cell_type": "code",
   "execution_count": 141,
   "id": "f2985bec",
   "metadata": {},
   "outputs": [
    {
     "data": {
      "text/plain": [
       "0.05908948205608738"
      ]
     },
     "execution_count": 141,
     "metadata": {},
     "output_type": "execute_result"
    }
   ],
   "source": [
    "predictions = model.predict(x_test)\n",
    "predictions = scaler.inverse_transform(predictions)\n",
    "rmse = np.sqrt(np.mean(predictions - y_test)**2)\n",
    "rmse"
   ]
  },
  {
   "cell_type": "code",
   "execution_count": 126,
   "id": "6794225b",
   "metadata": {},
   "outputs": [
    {
     "data": {
      "text/plain": [
       "(852, 1)"
      ]
     },
     "execution_count": 126,
     "metadata": {},
     "output_type": "execute_result"
    }
   ],
   "source": [
    "y_test.shape"
   ]
  },
  {
   "cell_type": "code",
   "execution_count": 97,
   "id": "4be85271",
   "metadata": {},
   "outputs": [
    {
     "data": {
      "text/plain": [
       "(732, 60, 1)"
      ]
     },
     "execution_count": 97,
     "metadata": {},
     "output_type": "execute_result"
    }
   ],
   "source": [
    "x_test.shape"
   ]
  },
  {
   "cell_type": "code",
   "execution_count": 92,
   "id": "77d0aa67",
   "metadata": {},
   "outputs": [
    {
     "data": {
      "text/plain": [
       "(792, 1)"
      ]
     },
     "execution_count": 92,
     "metadata": {},
     "output_type": "execute_result"
    }
   ],
   "source": [
    "values.shape"
   ]
  },
  {
   "cell_type": "code",
   "execution_count": 142,
   "id": "c1d22c6d",
   "metadata": {},
   "outputs": [
    {
     "name": "stderr",
     "output_type": "stream",
     "text": [
      "/tmp/ipykernel_5656/4044787029.py:4: SettingWithCopyWarning: \n",
      "A value is trying to be set on a copy of a slice from a DataFrame.\n",
      "Try using .loc[row_indexer,col_indexer] = value instead\n",
      "\n",
      "See the caveats in the documentation: https://pandas.pydata.org/pandas-docs/stable/user_guide/indexing.html#returning-a-view-versus-a-copy\n",
      "  validation['Predictions'] = predictions\n"
     ]
    },
    {
     "data": {
      "image/png": "[encoded data removed]",
      "text/plain": [
       "<Figure size 1152x576 with 1 Axes>"
      ]
     },
     "metadata": {
      "needs_background": "light"
     },
     "output_type": "display_data"
    }
   ],
   "source": [
    "data = dados.filter(['Close'])\n",
    "train = data[:training_data_len]\n",
    "validation = data[training_data_len:]\n",
    "validation['Predictions'] = predictions\n",
    "plt.figure(figsize=(16,8))\n",
    "plt.title('Model')\n",
    "plt.xlabel('Date')\n",
    "plt.ylabel('Close Price USD ($)')\n",
    "plt.plot(train)\n",
    "plt.plot(validation[['Close', 'Predictions']])\n",
    "plt.legend(['Train', 'Val', 'Predictions'], loc='lower right')\n",
    "plt.show()"
   ]
  },
  {
   "cell_type": "code",
   "execution_count": 146,
   "id": "484fedf4",
   "metadata": {},
   "outputs": [
    {
     "name": "stderr",
     "output_type": "stream",
     "text": [
      "/tmp/ipykernel_5656/1626216995.py:4: SettingWithCopyWarning: \n",
      "A value is trying to be set on a copy of a slice from a DataFrame.\n",
      "Try using .loc[row_indexer,col_indexer] = value instead\n",
      "\n",
      "See the caveats in the documentation: https://pandas.pydata.org/pandas-docs/stable/user_guide/indexing.html#returning-a-view-versus-a-copy\n",
      "  validation['Predictions'] = predictions\n"
     ]
    },
    {
     "data": {
      "image/png": "[encoded data removed]",
      "text/plain": [
       "<Figure size 1152x576 with 1 Axes>"
      ]
     },
     "metadata": {
      "needs_background": "light"
     },
     "output_type": "display_data"
    }
   ],
   "source": [
    "data = dados.filter(['Close'])\n",
    "#train = data[:training_data_len]\n",
    "validation = data[training_data_len:]\n",
    "validation['Predictions'] = predictions\n",
    "plt.figure(figsize=(16,8))\n",
    "plt.title('Model')\n",
    "plt.xlabel('Date')\n",
    "plt.ylabel('Close Price USD ($)')\n",
    "#plt.plot(train)\n",
    "plt.plot(validation[['Close', 'Predictions']])\n",
    "plt.legend(['Val', 'Predictions'], loc='lower right')\n",
    "plt.show()"
   ]
  },
  {
   "cell_type": "code",
   "execution_count": 156,
   "id": "a4e0a451",
   "metadata": {},
   "outputs": [],
   "source": [
    "#looks the same to me. But I'd say its better to not leak data."
   ]
  },
  {
   "cell_type": "code",
   "execution_count": null,
   "id": "2a6f4aa3",
   "metadata": {},
   "outputs": [],
   "source": []
  }
 ],
 "metadata": {
  "kernelspec": {
   "display_name": "Python 3 (ipykernel)",
   "language": "python",
   "name": "python3"
  },
  "language_info": {
   "codemirror_mode": {
    "name": "ipython",
    "version": 3
   },
   "file_extension": ".py",
   "mimetype": "text/x-python",
   "name": "python",
   "nbconvert_exporter": "python",
   "pygments_lexer": "ipython3",
   "version": "3.8.12"
  },
  "toc": {
   "base_numbering": 1,
   "nav_menu": {},
   "number_sections": true,
   "sideBar": true,
   "skip_h1_title": false,
   "title_cell": "Table of Contents",
   "title_sidebar": "Contents",
   "toc_cell": false,
   "toc_position": {},
   "toc_section_display": true,
   "toc_window_display": false
  }
 },
 "nbformat": 4,
 "nbformat_minor": 5
}
